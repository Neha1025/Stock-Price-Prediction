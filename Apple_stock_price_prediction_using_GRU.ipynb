{
  "nbformat": 4,
  "nbformat_minor": 0,
  "metadata": {
    "colab": {
      "name": "Apple stock price prediction using GRU.ipynb",
      "provenance": [],
      "collapsed_sections": [],
      "authorship_tag": "ABX9TyMN6/08yGL2NCpv2rRPVAYT",
      "include_colab_link": true
    },
    "kernelspec": {
      "name": "python3",
      "display_name": "Python 3"
    },
    "language_info": {
      "name": "python"
    }
  },
  "cells": [
    {
      "cell_type": "markdown",
      "metadata": {
        "id": "view-in-github",
        "colab_type": "text"
      },
      "source": [
        "<a href=\"https://colab.research.google.com/github/Neha1025/Stock-Price-Prediction/blob/main/Apple_stock_price_prediction_using_GRU.ipynb\" target=\"_parent\"><img src=\"https://colab.research.google.com/assets/colab-badge.svg\" alt=\"Open In Colab\"/></a>"
      ]
    },
    {
      "cell_type": "code",
      "metadata": {
        "id": "K241FKslRIl0"
      },
      "source": [
        "#Importing all the required libraries\n",
        "\n",
        "import numpy as np\n",
        "import pandas as pd\n",
        "import matplotlib.pyplot as plt\n",
        "import seaborn as sns\n",
        "import plotly.graph_objects as go\n",
        "from itertools import cycle\n",
        "import plotly.express as px\n",
        "from plotly.subplots import make_subplots\n",
        "import os\n",
        "import datetime as dt\n",
        "\n",
        "\n",
        "from sklearn.metrics import mean_squared_error, mean_absolute_error, explained_variance_score, r2_score \n",
        "from sklearn.metrics import mean_poisson_deviance, mean_gamma_deviance, accuracy_score\n",
        "from sklearn.preprocessing import MinMaxScaler\n",
        "\n",
        "import tensorflow as tf\n",
        "from tensorflow.keras.models import Sequential\n",
        "from tensorflow.keras.layers import Dense, Dropout\n",
        "from tensorflow.keras.layers import LSTM, GRU\n"
      ],
      "execution_count": null,
      "outputs": []
    },
    {
      "cell_type": "code",
      "metadata": {
        "id": "3gCU8iJ9Sl8l"
      },
      "source": [
        "# Importing dataset\n",
        "\n",
        "#data = pd.read_csv(\"/Users/neha/Downloads/AAPL.csv\")\n",
        "#df = pd.DataFrame(data)"
      ],
      "execution_count": null,
      "outputs": []
    },
    {
      "cell_type": "code",
      "metadata": {
        "colab": {
          "resources": {
            "http://localhost:8080/nbextensions/google.colab/files.js": {
              "data": "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",
              "ok": true,
              "headers": [
                [
                  "content-type",
                  "application/javascript"
                ]
              ],
              "status": 200,
              "status_text": ""
            }
          },
          "base_uri": "https://localhost:8080/",
          "height": 72
        },
        "id": "neZ6wWsqT13u",
        "outputId": "5d689e5f-026c-4426-c1b5-85bfe41646b3"
      },
      "source": [
        "from google.colab import files\n",
        "uploaded = files.upload()"
      ],
      "execution_count": null,
      "outputs": [
        {
          "output_type": "display_data",
          "data": {
            "text/html": [
              "\n",
              "     <input type=\"file\" id=\"files-516353a2-0ba3-42b3-be33-d91bdb5c8c73\" name=\"files[]\" multiple disabled\n",
              "        style=\"border:none\" />\n",
              "     <output id=\"result-516353a2-0ba3-42b3-be33-d91bdb5c8c73\">\n",
              "      Upload widget is only available when the cell has been executed in the\n",
              "      current browser session. Please rerun this cell to enable.\n",
              "      </output>\n",
              "      <script src=\"/nbextensions/google.colab/files.js\"></script> "
            ],
            "text/plain": [
              "<IPython.core.display.HTML object>"
            ]
          },
          "metadata": {}
        },
        {
          "output_type": "stream",
          "name": "stdout",
          "text": [
            "Saving AAPL.csv to AAPL (2).csv\n"
          ]
        }
      ]
    },
    {
      "cell_type": "code",
      "metadata": {
        "id": "EQx35ijI6uc-"
      },
      "source": [
        ""
      ],
      "execution_count": null,
      "outputs": []
    },
    {
      "cell_type": "code",
      "metadata": {
        "id": "rSkYETvnUCRM"
      },
      "source": [
        "import io\n",
        "df = pd.read_csv(io.BytesIO(uploaded['AAPL.csv']))"
      ],
      "execution_count": null,
      "outputs": []
    },
    {
      "cell_type": "code",
      "metadata": {
        "colab": {
          "base_uri": "https://localhost:8080/",
          "height": 297
        },
        "id": "qp7d3xW4UIhz",
        "outputId": "60dc290b-9278-4998-c7ce-25647d9815e6"
      },
      "source": [
        "df.describe()"
      ],
      "execution_count": null,
      "outputs": [
        {
          "output_type": "execute_result",
          "data": {
            "text/html": [
              "<div>\n",
              "<style scoped>\n",
              "    .dataframe tbody tr th:only-of-type {\n",
              "        vertical-align: middle;\n",
              "    }\n",
              "\n",
              "    .dataframe tbody tr th {\n",
              "        vertical-align: top;\n",
              "    }\n",
              "\n",
              "    .dataframe thead th {\n",
              "        text-align: right;\n",
              "    }\n",
              "</style>\n",
              "<table border=\"1\" class=\"dataframe\">\n",
              "  <thead>\n",
              "    <tr style=\"text-align: right;\">\n",
              "      <th></th>\n",
              "      <th>Open</th>\n",
              "      <th>High</th>\n",
              "      <th>Low</th>\n",
              "      <th>Close</th>\n",
              "      <th>Adj Close</th>\n",
              "      <th>Volume</th>\n",
              "    </tr>\n",
              "  </thead>\n",
              "  <tbody>\n",
              "    <tr>\n",
              "      <th>count</th>\n",
              "      <td>1254.000000</td>\n",
              "      <td>1254.000000</td>\n",
              "      <td>1254.000000</td>\n",
              "      <td>1254.000000</td>\n",
              "      <td>1254.000000</td>\n",
              "      <td>1.254000e+03</td>\n",
              "    </tr>\n",
              "    <tr>\n",
              "      <th>mean</th>\n",
              "      <td>67.888786</td>\n",
              "      <td>68.617373</td>\n",
              "      <td>67.174354</td>\n",
              "      <td>67.928622</td>\n",
              "      <td>66.759659</td>\n",
              "      <td>1.230865e+08</td>\n",
              "    </tr>\n",
              "    <tr>\n",
              "      <th>std</th>\n",
              "      <td>36.691447</td>\n",
              "      <td>37.123432</td>\n",
              "      <td>36.194865</td>\n",
              "      <td>36.670378</td>\n",
              "      <td>37.154673</td>\n",
              "      <td>5.620835e+07</td>\n",
              "    </tr>\n",
              "    <tr>\n",
              "      <th>min</th>\n",
              "      <td>26.642500</td>\n",
              "      <td>26.920000</td>\n",
              "      <td>26.020000</td>\n",
              "      <td>26.427500</td>\n",
              "      <td>24.912027</td>\n",
              "      <td>4.544800e+07</td>\n",
              "    </tr>\n",
              "    <tr>\n",
              "      <th>25%</th>\n",
              "      <td>41.349376</td>\n",
              "      <td>41.867499</td>\n",
              "      <td>40.879374</td>\n",
              "      <td>41.313125</td>\n",
              "      <td>39.788848</td>\n",
              "      <td>8.600860e+07</td>\n",
              "    </tr>\n",
              "    <tr>\n",
              "      <th>50%</th>\n",
              "      <td>50.851252</td>\n",
              "      <td>51.309999</td>\n",
              "      <td>50.539999</td>\n",
              "      <td>50.953750</td>\n",
              "      <td>49.844178</td>\n",
              "      <td>1.081781e+08</td>\n",
              "    </tr>\n",
              "    <tr>\n",
              "      <th>75%</th>\n",
              "      <td>90.996876</td>\n",
              "      <td>91.753748</td>\n",
              "      <td>89.570623</td>\n",
              "      <td>91.027496</td>\n",
              "      <td>90.282982</td>\n",
              "      <td>1.430536e+08</td>\n",
              "    </tr>\n",
              "    <tr>\n",
              "      <th>max</th>\n",
              "      <td>156.979996</td>\n",
              "      <td>157.259995</td>\n",
              "      <td>154.389999</td>\n",
              "      <td>156.690002</td>\n",
              "      <td>156.690002</td>\n",
              "      <td>4.479400e+08</td>\n",
              "    </tr>\n",
              "  </tbody>\n",
              "</table>\n",
              "</div>"
            ],
            "text/plain": [
              "              Open         High  ...    Adj Close        Volume\n",
              "count  1254.000000  1254.000000  ...  1254.000000  1.254000e+03\n",
              "mean     67.888786    68.617373  ...    66.759659  1.230865e+08\n",
              "std      36.691447    37.123432  ...    37.154673  5.620835e+07\n",
              "min      26.642500    26.920000  ...    24.912027  4.544800e+07\n",
              "25%      41.349376    41.867499  ...    39.788848  8.600860e+07\n",
              "50%      50.851252    51.309999  ...    49.844178  1.081781e+08\n",
              "75%      90.996876    91.753748  ...    90.282982  1.430536e+08\n",
              "max     156.979996   157.259995  ...   156.690002  4.479400e+08\n",
              "\n",
              "[8 rows x 6 columns]"
            ]
          },
          "metadata": {},
          "execution_count": 5
        }
      ]
    },
    {
      "cell_type": "code",
      "metadata": {
        "colab": {
          "base_uri": "https://localhost:8080/",
          "height": 204
        },
        "id": "nd4VpO-qULf2",
        "outputId": "478db578-bf61-4008-fee9-87edeb3c7b08"
      },
      "source": [
        "df.head(5)"
      ],
      "execution_count": null,
      "outputs": [
        {
          "output_type": "execute_result",
          "data": {
            "text/html": [
              "<div>\n",
              "<style scoped>\n",
              "    .dataframe tbody tr th:only-of-type {\n",
              "        vertical-align: middle;\n",
              "    }\n",
              "\n",
              "    .dataframe tbody tr th {\n",
              "        vertical-align: top;\n",
              "    }\n",
              "\n",
              "    .dataframe thead th {\n",
              "        text-align: right;\n",
              "    }\n",
              "</style>\n",
              "<table border=\"1\" class=\"dataframe\">\n",
              "  <thead>\n",
              "    <tr style=\"text-align: right;\">\n",
              "      <th></th>\n",
              "      <th>Date</th>\n",
              "      <th>Open</th>\n",
              "      <th>High</th>\n",
              "      <th>Low</th>\n",
              "      <th>Close</th>\n",
              "      <th>Adj Close</th>\n",
              "      <th>Volume</th>\n",
              "    </tr>\n",
              "  </thead>\n",
              "  <tbody>\n",
              "    <tr>\n",
              "      <th>0</th>\n",
              "      <td>2016-10-03</td>\n",
              "      <td>28.177500</td>\n",
              "      <td>28.262501</td>\n",
              "      <td>28.070000</td>\n",
              "      <td>28.129999</td>\n",
              "      <td>26.381451</td>\n",
              "      <td>86807200</td>\n",
              "    </tr>\n",
              "    <tr>\n",
              "      <th>1</th>\n",
              "      <td>2016-10-04</td>\n",
              "      <td>28.264999</td>\n",
              "      <td>28.577499</td>\n",
              "      <td>28.157499</td>\n",
              "      <td>28.250000</td>\n",
              "      <td>26.493996</td>\n",
              "      <td>118947200</td>\n",
              "    </tr>\n",
              "    <tr>\n",
              "      <th>2</th>\n",
              "      <td>2016-10-05</td>\n",
              "      <td>28.350000</td>\n",
              "      <td>28.415001</td>\n",
              "      <td>28.172501</td>\n",
              "      <td>28.262501</td>\n",
              "      <td>26.505718</td>\n",
              "      <td>85812400</td>\n",
              "    </tr>\n",
              "    <tr>\n",
              "      <th>3</th>\n",
              "      <td>2016-10-06</td>\n",
              "      <td>28.424999</td>\n",
              "      <td>28.584999</td>\n",
              "      <td>28.282499</td>\n",
              "      <td>28.472500</td>\n",
              "      <td>26.702663</td>\n",
              "      <td>115117200</td>\n",
              "    </tr>\n",
              "    <tr>\n",
              "      <th>4</th>\n",
              "      <td>2016-10-07</td>\n",
              "      <td>28.577499</td>\n",
              "      <td>28.639999</td>\n",
              "      <td>28.377501</td>\n",
              "      <td>28.514999</td>\n",
              "      <td>26.742521</td>\n",
              "      <td>97433600</td>\n",
              "    </tr>\n",
              "  </tbody>\n",
              "</table>\n",
              "</div>"
            ],
            "text/plain": [
              "         Date       Open       High        Low      Close  Adj Close     Volume\n",
              "0  2016-10-03  28.177500  28.262501  28.070000  28.129999  26.381451   86807200\n",
              "1  2016-10-04  28.264999  28.577499  28.157499  28.250000  26.493996  118947200\n",
              "2  2016-10-05  28.350000  28.415001  28.172501  28.262501  26.505718   85812400\n",
              "3  2016-10-06  28.424999  28.584999  28.282499  28.472500  26.702663  115117200\n",
              "4  2016-10-07  28.577499  28.639999  28.377501  28.514999  26.742521   97433600"
            ]
          },
          "metadata": {},
          "execution_count": 6
        }
      ]
    },
    {
      "cell_type": "code",
      "metadata": {
        "colab": {
          "base_uri": "https://localhost:8080/"
        },
        "id": "LtQWy8vNUPYA",
        "outputId": "09744766-7da6-4533-9b84-45642e0423f9"
      },
      "source": [
        "# showing column wise %ge of NaN values they contains \n",
        "\n",
        "for i in df.columns:\n",
        "  print(i,\"\\t-\\t\", df[i].isna().mean()*100)"
      ],
      "execution_count": null,
      "outputs": [
        {
          "output_type": "stream",
          "name": "stdout",
          "text": [
            "Date \t-\t 0.0\n",
            "Open \t-\t 0.0\n",
            "High \t-\t 0.0\n",
            "Low \t-\t 0.0\n",
            "Close \t-\t 0.0\n",
            "Adj Close \t-\t 0.0\n",
            "Volume \t-\t 0.0\n"
          ]
        }
      ]
    },
    {
      "cell_type": "code",
      "metadata": {
        "id": "T7wIOGiXUX6_"
      },
      "source": [
        "#df = df[df['symbol']=='AAPL']   # Choosin stock values for any company \n",
        "\n",
        "#cormap = df.corr()\n",
        "#fig, ax = plt.subplots(figsize=(5,5))\n",
        "#sns.heatmap(cormap, annot = True)"
      ],
      "execution_count": null,
      "outputs": []
    },
    {
      "cell_type": "code",
      "metadata": {
        "id": "6Yxh6C466wKq"
      },
      "source": [
        "df = df.rename(columns={'Date': 'date','Open':'open','High':'high','Low':'low','Close':'close',\n",
        "                                'Adj Close':'adj_close','Volume':'volume'})"
      ],
      "execution_count": null,
      "outputs": []
    },
    {
      "cell_type": "code",
      "metadata": {
        "colab": {
          "base_uri": "https://localhost:8080/",
          "height": 204
        },
        "id": "h-W2Smh166Rd",
        "outputId": "6bda2826-8b42-4acd-8ce9-c812281a8642"
      },
      "source": [
        "df.head()"
      ],
      "execution_count": null,
      "outputs": [
        {
          "output_type": "execute_result",
          "data": {
            "text/html": [
              "<div>\n",
              "<style scoped>\n",
              "    .dataframe tbody tr th:only-of-type {\n",
              "        vertical-align: middle;\n",
              "    }\n",
              "\n",
              "    .dataframe tbody tr th {\n",
              "        vertical-align: top;\n",
              "    }\n",
              "\n",
              "    .dataframe thead th {\n",
              "        text-align: right;\n",
              "    }\n",
              "</style>\n",
              "<table border=\"1\" class=\"dataframe\">\n",
              "  <thead>\n",
              "    <tr style=\"text-align: right;\">\n",
              "      <th></th>\n",
              "      <th>date</th>\n",
              "      <th>open</th>\n",
              "      <th>high</th>\n",
              "      <th>low</th>\n",
              "      <th>close</th>\n",
              "      <th>adj_close</th>\n",
              "      <th>volume</th>\n",
              "    </tr>\n",
              "  </thead>\n",
              "  <tbody>\n",
              "    <tr>\n",
              "      <th>0</th>\n",
              "      <td>2016-10-03</td>\n",
              "      <td>28.177500</td>\n",
              "      <td>28.262501</td>\n",
              "      <td>28.070000</td>\n",
              "      <td>28.129999</td>\n",
              "      <td>26.381451</td>\n",
              "      <td>86807200</td>\n",
              "    </tr>\n",
              "    <tr>\n",
              "      <th>1</th>\n",
              "      <td>2016-10-04</td>\n",
              "      <td>28.264999</td>\n",
              "      <td>28.577499</td>\n",
              "      <td>28.157499</td>\n",
              "      <td>28.250000</td>\n",
              "      <td>26.493996</td>\n",
              "      <td>118947200</td>\n",
              "    </tr>\n",
              "    <tr>\n",
              "      <th>2</th>\n",
              "      <td>2016-10-05</td>\n",
              "      <td>28.350000</td>\n",
              "      <td>28.415001</td>\n",
              "      <td>28.172501</td>\n",
              "      <td>28.262501</td>\n",
              "      <td>26.505718</td>\n",
              "      <td>85812400</td>\n",
              "    </tr>\n",
              "    <tr>\n",
              "      <th>3</th>\n",
              "      <td>2016-10-06</td>\n",
              "      <td>28.424999</td>\n",
              "      <td>28.584999</td>\n",
              "      <td>28.282499</td>\n",
              "      <td>28.472500</td>\n",
              "      <td>26.702663</td>\n",
              "      <td>115117200</td>\n",
              "    </tr>\n",
              "    <tr>\n",
              "      <th>4</th>\n",
              "      <td>2016-10-07</td>\n",
              "      <td>28.577499</td>\n",
              "      <td>28.639999</td>\n",
              "      <td>28.377501</td>\n",
              "      <td>28.514999</td>\n",
              "      <td>26.742521</td>\n",
              "      <td>97433600</td>\n",
              "    </tr>\n",
              "  </tbody>\n",
              "</table>\n",
              "</div>"
            ],
            "text/plain": [
              "         date       open       high        low      close  adj_close     volume\n",
              "0  2016-10-03  28.177500  28.262501  28.070000  28.129999  26.381451   86807200\n",
              "1  2016-10-04  28.264999  28.577499  28.157499  28.250000  26.493996  118947200\n",
              "2  2016-10-05  28.350000  28.415001  28.172501  28.262501  26.505718   85812400\n",
              "3  2016-10-06  28.424999  28.584999  28.282499  28.472500  26.702663  115117200\n",
              "4  2016-10-07  28.577499  28.639999  28.377501  28.514999  26.742521   97433600"
            ]
          },
          "metadata": {},
          "execution_count": 10
        }
      ]
    },
    {
      "cell_type": "code",
      "metadata": {
        "colab": {
          "base_uri": "https://localhost:8080/"
        },
        "id": "z5YLKtdm69wu",
        "outputId": "78aebf32-7604-43a9-c09a-f6464a6af0b7"
      },
      "source": [
        "print(\"Total number of days: \",df.shape[0])\n",
        "print(\"Total number of fields: \",df.shape[1])"
      ],
      "execution_count": null,
      "outputs": [
        {
          "output_type": "stream",
          "name": "stdout",
          "text": [
            "Total number of days:  1254\n",
            "Total number of fields:  7\n"
          ]
        }
      ]
    },
    {
      "cell_type": "code",
      "metadata": {
        "colab": {
          "base_uri": "https://localhost:8080/",
          "height": 204
        },
        "id": "DZODodyJ7IeN",
        "outputId": "ded63347-6383-4e23-d010-9a01f3319cdc"
      },
      "source": [
        "# convert date field from string to Date format \n",
        "df['date'] = pd.to_datetime(df.date)\n",
        "df.head()"
      ],
      "execution_count": null,
      "outputs": [
        {
          "output_type": "execute_result",
          "data": {
            "text/html": [
              "<div>\n",
              "<style scoped>\n",
              "    .dataframe tbody tr th:only-of-type {\n",
              "        vertical-align: middle;\n",
              "    }\n",
              "\n",
              "    .dataframe tbody tr th {\n",
              "        vertical-align: top;\n",
              "    }\n",
              "\n",
              "    .dataframe thead th {\n",
              "        text-align: right;\n",
              "    }\n",
              "</style>\n",
              "<table border=\"1\" class=\"dataframe\">\n",
              "  <thead>\n",
              "    <tr style=\"text-align: right;\">\n",
              "      <th></th>\n",
              "      <th>date</th>\n",
              "      <th>open</th>\n",
              "      <th>high</th>\n",
              "      <th>low</th>\n",
              "      <th>close</th>\n",
              "      <th>adj_close</th>\n",
              "      <th>volume</th>\n",
              "    </tr>\n",
              "  </thead>\n",
              "  <tbody>\n",
              "    <tr>\n",
              "      <th>0</th>\n",
              "      <td>2016-10-03</td>\n",
              "      <td>28.177500</td>\n",
              "      <td>28.262501</td>\n",
              "      <td>28.070000</td>\n",
              "      <td>28.129999</td>\n",
              "      <td>26.381451</td>\n",
              "      <td>86807200</td>\n",
              "    </tr>\n",
              "    <tr>\n",
              "      <th>1</th>\n",
              "      <td>2016-10-04</td>\n",
              "      <td>28.264999</td>\n",
              "      <td>28.577499</td>\n",
              "      <td>28.157499</td>\n",
              "      <td>28.250000</td>\n",
              "      <td>26.493996</td>\n",
              "      <td>118947200</td>\n",
              "    </tr>\n",
              "    <tr>\n",
              "      <th>2</th>\n",
              "      <td>2016-10-05</td>\n",
              "      <td>28.350000</td>\n",
              "      <td>28.415001</td>\n",
              "      <td>28.172501</td>\n",
              "      <td>28.262501</td>\n",
              "      <td>26.505718</td>\n",
              "      <td>85812400</td>\n",
              "    </tr>\n",
              "    <tr>\n",
              "      <th>3</th>\n",
              "      <td>2016-10-06</td>\n",
              "      <td>28.424999</td>\n",
              "      <td>28.584999</td>\n",
              "      <td>28.282499</td>\n",
              "      <td>28.472500</td>\n",
              "      <td>26.702663</td>\n",
              "      <td>115117200</td>\n",
              "    </tr>\n",
              "    <tr>\n",
              "      <th>4</th>\n",
              "      <td>2016-10-07</td>\n",
              "      <td>28.577499</td>\n",
              "      <td>28.639999</td>\n",
              "      <td>28.377501</td>\n",
              "      <td>28.514999</td>\n",
              "      <td>26.742521</td>\n",
              "      <td>97433600</td>\n",
              "    </tr>\n",
              "  </tbody>\n",
              "</table>\n",
              "</div>"
            ],
            "text/plain": [
              "        date       open       high        low      close  adj_close     volume\n",
              "0 2016-10-03  28.177500  28.262501  28.070000  28.129999  26.381451   86807200\n",
              "1 2016-10-04  28.264999  28.577499  28.157499  28.250000  26.493996  118947200\n",
              "2 2016-10-05  28.350000  28.415001  28.172501  28.262501  26.505718   85812400\n",
              "3 2016-10-06  28.424999  28.584999  28.282499  28.472500  26.702663  115117200\n",
              "4 2016-10-07  28.577499  28.639999  28.377501  28.514999  26.742521   97433600"
            ]
          },
          "metadata": {},
          "execution_count": 12
        }
      ]
    },
    {
      "cell_type": "code",
      "metadata": {
        "colab": {
          "base_uri": "https://localhost:8080/"
        },
        "id": "H80f2bMP7MzU",
        "outputId": "487cb76a-d670-4844-9a8a-e63b39f1c10f"
      },
      "source": [
        "print(\"Starting date: \",df.iloc[0][0])\n",
        "print(\"Ending date: \", df.iloc[-1][0])\n",
        "print(\"Duration: \", df.iloc[-1][0]-df.iloc[0][0])"
      ],
      "execution_count": null,
      "outputs": [
        {
          "output_type": "stream",
          "name": "stdout",
          "text": [
            "Starting date:  2016-10-03 00:00:00\n",
            "Ending date:  2021-09-24 00:00:00\n",
            "Duration:  1817 days 00:00:00\n"
          ]
        }
      ]
    },
    {
      "cell_type": "code",
      "metadata": {
        "colab": {
          "base_uri": "https://localhost:8080/",
          "height": 452
        },
        "id": "flWU2Dfm7VAg",
        "outputId": "aa41f7bd-99f2-4fd4-ad4b-2051c9878698"
      },
      "source": [
        "#Monthwise comparision between Stock open and close price\n",
        "monthwise= df.groupby(df['date'].dt.strftime('%B'))[['open','close']].mean()\n",
        "new_order = ['January', 'February', 'March', 'April', 'May', 'June', 'July', 'August', \n",
        "             'September', 'October', 'November', 'December']\n",
        "monthwise = monthwise.reindex(new_order, axis=0)\n",
        "monthwise"
      ],
      "execution_count": null,
      "outputs": [
        {
          "output_type": "execute_result",
          "data": {
            "text/html": [
              "<div>\n",
              "<style scoped>\n",
              "    .dataframe tbody tr th:only-of-type {\n",
              "        vertical-align: middle;\n",
              "    }\n",
              "\n",
              "    .dataframe tbody tr th {\n",
              "        vertical-align: top;\n",
              "    }\n",
              "\n",
              "    .dataframe thead th {\n",
              "        text-align: right;\n",
              "    }\n",
              "</style>\n",
              "<table border=\"1\" class=\"dataframe\">\n",
              "  <thead>\n",
              "    <tr style=\"text-align: right;\">\n",
              "      <th></th>\n",
              "      <th>open</th>\n",
              "      <th>close</th>\n",
              "    </tr>\n",
              "    <tr>\n",
              "      <th>date</th>\n",
              "      <th></th>\n",
              "      <th></th>\n",
              "    </tr>\n",
              "  </thead>\n",
              "  <tbody>\n",
              "    <tr>\n",
              "      <th>January</th>\n",
              "      <td>63.510711</td>\n",
              "      <td>63.588333</td>\n",
              "    </tr>\n",
              "    <tr>\n",
              "      <th>February</th>\n",
              "      <td>65.515369</td>\n",
              "      <td>65.523894</td>\n",
              "    </tr>\n",
              "    <tr>\n",
              "      <th>March</th>\n",
              "      <td>63.017455</td>\n",
              "      <td>63.031205</td>\n",
              "    </tr>\n",
              "    <tr>\n",
              "      <th>April</th>\n",
              "      <td>66.136796</td>\n",
              "      <td>66.224757</td>\n",
              "    </tr>\n",
              "    <tr>\n",
              "      <th>May</th>\n",
              "      <td>65.927948</td>\n",
              "      <td>65.993561</td>\n",
              "    </tr>\n",
              "    <tr>\n",
              "      <th>June</th>\n",
              "      <td>70.215281</td>\n",
              "      <td>70.366402</td>\n",
              "    </tr>\n",
              "    <tr>\n",
              "      <th>July</th>\n",
              "      <td>75.490213</td>\n",
              "      <td>75.657642</td>\n",
              "    </tr>\n",
              "    <tr>\n",
              "      <th>August</th>\n",
              "      <td>80.844820</td>\n",
              "      <td>81.005270</td>\n",
              "    </tr>\n",
              "    <tr>\n",
              "      <th>September</th>\n",
              "      <td>81.722732</td>\n",
              "      <td>81.374407</td>\n",
              "    </tr>\n",
              "    <tr>\n",
              "      <th>October</th>\n",
              "      <td>60.028175</td>\n",
              "      <td>59.993761</td>\n",
              "    </tr>\n",
              "    <tr>\n",
              "      <th>November</th>\n",
              "      <td>59.553398</td>\n",
              "      <td>59.578180</td>\n",
              "    </tr>\n",
              "    <tr>\n",
              "      <th>December</th>\n",
              "      <td>62.962209</td>\n",
              "      <td>63.030437</td>\n",
              "    </tr>\n",
              "  </tbody>\n",
              "</table>\n",
              "</div>"
            ],
            "text/plain": [
              "                open      close\n",
              "date                           \n",
              "January    63.510711  63.588333\n",
              "February   65.515369  65.523894\n",
              "March      63.017455  63.031205\n",
              "April      66.136796  66.224757\n",
              "May        65.927948  65.993561\n",
              "June       70.215281  70.366402\n",
              "July       75.490213  75.657642\n",
              "August     80.844820  81.005270\n",
              "September  81.722732  81.374407\n",
              "October    60.028175  59.993761\n",
              "November   59.553398  59.578180\n",
              "December   62.962209  63.030437"
            ]
          },
          "metadata": {},
          "execution_count": 14
        }
      ]
    },
    {
      "cell_type": "code",
      "metadata": {
        "colab": {
          "base_uri": "https://localhost:8080/",
          "height": 542
        },
        "id": "Obk3luCG7p-4",
        "outputId": "6a3e0f13-958e-4638-d791-0f0ee3348aab"
      },
      "source": [
        "fig = go.Figure()\n",
        "\n",
        "fig.add_trace(go.Bar(\n",
        "    x=monthwise.index,\n",
        "    y=monthwise['open'],\n",
        "    name='Stock Open Price',\n",
        "    marker_color='crimson'\n",
        "))\n",
        "fig.add_trace(go.Bar(\n",
        "    x=monthwise.index,\n",
        "    y=monthwise['close'],\n",
        "    name='Stock Close Price',\n",
        "    marker_color='lightsalmon'\n",
        "))\n",
        "\n",
        "fig.update_layout(barmode='group', xaxis_tickangle=-45, \n",
        "                  title='Monthwise comparision between Stock open and close price')\n",
        "fig.show()"
      ],
      "execution_count": null,
      "outputs": [
        {
          "output_type": "display_data",
          "data": {
            "text/html": [
              "<html>\n",
              "<head><meta charset=\"utf-8\" /></head>\n",
              "<body>\n",
              "    <div>            <script src=\"https://cdnjs.cloudflare.com/ajax/libs/mathjax/2.7.5/MathJax.js?config=TeX-AMS-MML_SVG\"></script><script type=\"text/javascript\">if (window.MathJax) {MathJax.Hub.Config({SVG: {font: \"STIX-Web\"}});}</script>                <script type=\"text/javascript\">window.PlotlyConfig = {MathJaxConfig: 'local'};</script>\n",
              "        <script src=\"https://cdn.plot.ly/plotly-2.4.2.min.js\"></script>                <div id=\"f31d1fba-4cb3-45e9-b721-67f1ccf64f2f\" class=\"plotly-graph-div\" style=\"height:525px; width:100%;\"></div>            <script type=\"text/javascript\">                                    window.PLOTLYENV=window.PLOTLYENV || {};                                    if (document.getElementById(\"f31d1fba-4cb3-45e9-b721-67f1ccf64f2f\")) {                    Plotly.newPlot(                        \"f31d1fba-4cb3-45e9-b721-67f1ccf64f2f\",                        [{\"marker\":{\"color\":\"crimson\"},\"name\":\"Stock Open Price\",\"type\":\"bar\",\"x\":[\"January\",\"February\",\"March\",\"April\",\"May\",\"June\",\"July\",\"August\",\"September\",\"October\",\"November\",\"December\"],\"y\":[63.51071088235295,65.51536852631578,63.01745492727273,66.13679619417478,65.92794833018866,70.215280682243,75.49021260377359,80.84481994594596,81.72273212371137,60.02817544144144,59.55339790291263,62.96220878640778]},{\"marker\":{\"color\":\"lightsalmon\"},\"name\":\"Stock Close Price\",\"type\":\"bar\",\"x\":[\"January\",\"February\",\"March\",\"April\",\"May\",\"June\",\"July\",\"August\",\"September\",\"October\",\"November\",\"December\"],\"y\":[63.58833339215687,65.52389435789475,63.03120459090909,66.224757407767,65.99356136792451,70.36640155140186,75.65764151886792,81.00527045945944,81.37440683505154,59.99376132432434,59.578179621359226,63.03043686407768]}],                        {\"barmode\":\"group\",\"template\":{\"data\":{\"bar\":[{\"error_x\":{\"color\":\"#2a3f5f\"},\"error_y\":{\"color\":\"#2a3f5f\"},\"marker\":{\"line\":{\"color\":\"#E5ECF6\",\"width\":0.5},\"pattern\":{\"fillmode\":\"overlay\",\"size\":10,\"solidity\":0.2}},\"type\":\"bar\"}],\"barpolar\":[{\"marker\":{\"line\":{\"color\":\"#E5ECF6\",\"width\":0.5},\"pattern\":{\"fillmode\":\"overlay\",\"size\":10,\"solidity\":0.2}},\"type\":\"barpolar\"}],\"carpet\":[{\"aaxis\":{\"endlinecolor\":\"#2a3f5f\",\"gridcolor\":\"white\",\"linecolor\":\"white\",\"minorgridcolor\":\"white\",\"startlinecolor\":\"#2a3f5f\"},\"baxis\":{\"endlinecolor\":\"#2a3f5f\",\"gridcolor\":\"white\",\"linecolor\":\"white\",\"minorgridcolor\":\"white\",\"startlinecolor\":\"#2a3f5f\"},\"type\":\"carpet\"}],\"choropleth\":[{\"colorbar\":{\"outlinewidth\":0,\"ticks\":\"\"},\"type\":\"choropleth\"}],\"contour\":[{\"colorbar\":{\"outlinewidth\":0,\"ticks\":\"\"},\"colorscale\":[[0.0,\"#0d0887\"],[0.1111111111111111,\"#46039f\"],[0.2222222222222222,\"#7201a8\"],[0.3333333333333333,\"#9c179e\"],[0.4444444444444444,\"#bd3786\"],[0.5555555555555556,\"#d8576b\"],[0.6666666666666666,\"#ed7953\"],[0.7777777777777778,\"#fb9f3a\"],[0.8888888888888888,\"#fdca26\"],[1.0,\"#f0f921\"]],\"type\":\"contour\"}],\"contourcarpet\":[{\"colorbar\":{\"outlinewidth\":0,\"ticks\":\"\"},\"type\":\"contourcarpet\"}],\"heatmap\":[{\"colorbar\":{\"outlinewidth\":0,\"ticks\":\"\"},\"colorscale\":[[0.0,\"#0d0887\"],[0.1111111111111111,\"#46039f\"],[0.2222222222222222,\"#7201a8\"],[0.3333333333333333,\"#9c179e\"],[0.4444444444444444,\"#bd3786\"],[0.5555555555555556,\"#d8576b\"],[0.6666666666666666,\"#ed7953\"],[0.7777777777777778,\"#fb9f3a\"],[0.8888888888888888,\"#fdca26\"],[1.0,\"#f0f921\"]],\"type\":\"heatmap\"}],\"heatmapgl\":[{\"colorbar\":{\"outlinewidth\":0,\"ticks\":\"\"},\"colorscale\":[[0.0,\"#0d0887\"],[0.1111111111111111,\"#46039f\"],[0.2222222222222222,\"#7201a8\"],[0.3333333333333333,\"#9c179e\"],[0.4444444444444444,\"#bd3786\"],[0.5555555555555556,\"#d8576b\"],[0.6666666666666666,\"#ed7953\"],[0.7777777777777778,\"#fb9f3a\"],[0.8888888888888888,\"#fdca26\"],[1.0,\"#f0f921\"]],\"type\":\"heatmapgl\"}],\"histogram\":[{\"marker\":{\"pattern\":{\"fillmode\":\"overlay\",\"size\":10,\"solidity\":0.2}},\"type\":\"histogram\"}],\"histogram2d\":[{\"colorbar\":{\"outlinewidth\":0,\"ticks\":\"\"},\"colorscale\":[[0.0,\"#0d0887\"],[0.1111111111111111,\"#46039f\"],[0.2222222222222222,\"#7201a8\"],[0.3333333333333333,\"#9c179e\"],[0.4444444444444444,\"#bd3786\"],[0.5555555555555556,\"#d8576b\"],[0.6666666666666666,\"#ed7953\"],[0.7777777777777778,\"#fb9f3a\"],[0.8888888888888888,\"#fdca26\"],[1.0,\"#f0f921\"]],\"type\":\"histogram2d\"}],\"histogram2dcontour\":[{\"colorbar\":{\"outlinewidth\":0,\"ticks\":\"\"},\"colorscale\":[[0.0,\"#0d0887\"],[0.1111111111111111,\"#46039f\"],[0.2222222222222222,\"#7201a8\"],[0.3333333333333333,\"#9c179e\"],[0.4444444444444444,\"#bd3786\"],[0.5555555555555556,\"#d8576b\"],[0.6666666666666666,\"#ed7953\"],[0.7777777777777778,\"#fb9f3a\"],[0.8888888888888888,\"#fdca26\"],[1.0,\"#f0f921\"]],\"type\":\"histogram2dcontour\"}],\"mesh3d\":[{\"colorbar\":{\"outlinewidth\":0,\"ticks\":\"\"},\"type\":\"mesh3d\"}],\"parcoords\":[{\"line\":{\"colorbar\":{\"outlinewidth\":0,\"ticks\":\"\"}},\"type\":\"parcoords\"}],\"pie\":[{\"automargin\":true,\"type\":\"pie\"}],\"scatter\":[{\"marker\":{\"colorbar\":{\"outlinewidth\":0,\"ticks\":\"\"}},\"type\":\"scatter\"}],\"scatter3d\":[{\"line\":{\"colorbar\":{\"outlinewidth\":0,\"ticks\":\"\"}},\"marker\":{\"colorbar\":{\"outlinewidth\":0,\"ticks\":\"\"}},\"type\":\"scatter3d\"}],\"scattercarpet\":[{\"marker\":{\"colorbar\":{\"outlinewidth\":0,\"ticks\":\"\"}},\"type\":\"scattercarpet\"}],\"scattergeo\":[{\"marker\":{\"colorbar\":{\"outlinewidth\":0,\"ticks\":\"\"}},\"type\":\"scattergeo\"}],\"scattergl\":[{\"marker\":{\"colorbar\":{\"outlinewidth\":0,\"ticks\":\"\"}},\"type\":\"scattergl\"}],\"scattermapbox\":[{\"marker\":{\"colorbar\":{\"outlinewidth\":0,\"ticks\":\"\"}},\"type\":\"scattermapbox\"}],\"scatterpolar\":[{\"marker\":{\"colorbar\":{\"outlinewidth\":0,\"ticks\":\"\"}},\"type\":\"scatterpolar\"}],\"scatterpolargl\":[{\"marker\":{\"colorbar\":{\"outlinewidth\":0,\"ticks\":\"\"}},\"type\":\"scatterpolargl\"}],\"scatterternary\":[{\"marker\":{\"colorbar\":{\"outlinewidth\":0,\"ticks\":\"\"}},\"type\":\"scatterternary\"}],\"surface\":[{\"colorbar\":{\"outlinewidth\":0,\"ticks\":\"\"},\"colorscale\":[[0.0,\"#0d0887\"],[0.1111111111111111,\"#46039f\"],[0.2222222222222222,\"#7201a8\"],[0.3333333333333333,\"#9c179e\"],[0.4444444444444444,\"#bd3786\"],[0.5555555555555556,\"#d8576b\"],[0.6666666666666666,\"#ed7953\"],[0.7777777777777778,\"#fb9f3a\"],[0.8888888888888888,\"#fdca26\"],[1.0,\"#f0f921\"]],\"type\":\"surface\"}],\"table\":[{\"cells\":{\"fill\":{\"color\":\"#EBF0F8\"},\"line\":{\"color\":\"white\"}},\"header\":{\"fill\":{\"color\":\"#C8D4E3\"},\"line\":{\"color\":\"white\"}},\"type\":\"table\"}]},\"layout\":{\"annotationdefaults\":{\"arrowcolor\":\"#2a3f5f\",\"arrowhead\":0,\"arrowwidth\":1},\"autotypenumbers\":\"strict\",\"coloraxis\":{\"colorbar\":{\"outlinewidth\":0,\"ticks\":\"\"}},\"colorscale\":{\"diverging\":[[0,\"#8e0152\"],[0.1,\"#c51b7d\"],[0.2,\"#de77ae\"],[0.3,\"#f1b6da\"],[0.4,\"#fde0ef\"],[0.5,\"#f7f7f7\"],[0.6,\"#e6f5d0\"],[0.7,\"#b8e186\"],[0.8,\"#7fbc41\"],[0.9,\"#4d9221\"],[1,\"#276419\"]],\"sequential\":[[0.0,\"#0d0887\"],[0.1111111111111111,\"#46039f\"],[0.2222222222222222,\"#7201a8\"],[0.3333333333333333,\"#9c179e\"],[0.4444444444444444,\"#bd3786\"],[0.5555555555555556,\"#d8576b\"],[0.6666666666666666,\"#ed7953\"],[0.7777777777777778,\"#fb9f3a\"],[0.8888888888888888,\"#fdca26\"],[1.0,\"#f0f921\"]],\"sequentialminus\":[[0.0,\"#0d0887\"],[0.1111111111111111,\"#46039f\"],[0.2222222222222222,\"#7201a8\"],[0.3333333333333333,\"#9c179e\"],[0.4444444444444444,\"#bd3786\"],[0.5555555555555556,\"#d8576b\"],[0.6666666666666666,\"#ed7953\"],[0.7777777777777778,\"#fb9f3a\"],[0.8888888888888888,\"#fdca26\"],[1.0,\"#f0f921\"]]},\"colorway\":[\"#636efa\",\"#EF553B\",\"#00cc96\",\"#ab63fa\",\"#FFA15A\",\"#19d3f3\",\"#FF6692\",\"#B6E880\",\"#FF97FF\",\"#FECB52\"],\"font\":{\"color\":\"#2a3f5f\"},\"geo\":{\"bgcolor\":\"white\",\"lakecolor\":\"white\",\"landcolor\":\"#E5ECF6\",\"showlakes\":true,\"showland\":true,\"subunitcolor\":\"white\"},\"hoverlabel\":{\"align\":\"left\"},\"hovermode\":\"closest\",\"mapbox\":{\"style\":\"light\"},\"paper_bgcolor\":\"white\",\"plot_bgcolor\":\"#E5ECF6\",\"polar\":{\"angularaxis\":{\"gridcolor\":\"white\",\"linecolor\":\"white\",\"ticks\":\"\"},\"bgcolor\":\"#E5ECF6\",\"radialaxis\":{\"gridcolor\":\"white\",\"linecolor\":\"white\",\"ticks\":\"\"}},\"scene\":{\"xaxis\":{\"backgroundcolor\":\"#E5ECF6\",\"gridcolor\":\"white\",\"gridwidth\":2,\"linecolor\":\"white\",\"showbackground\":true,\"ticks\":\"\",\"zerolinecolor\":\"white\"},\"yaxis\":{\"backgroundcolor\":\"#E5ECF6\",\"gridcolor\":\"white\",\"gridwidth\":2,\"linecolor\":\"white\",\"showbackground\":true,\"ticks\":\"\",\"zerolinecolor\":\"white\"},\"zaxis\":{\"backgroundcolor\":\"#E5ECF6\",\"gridcolor\":\"white\",\"gridwidth\":2,\"linecolor\":\"white\",\"showbackground\":true,\"ticks\":\"\",\"zerolinecolor\":\"white\"}},\"shapedefaults\":{\"line\":{\"color\":\"#2a3f5f\"}},\"ternary\":{\"aaxis\":{\"gridcolor\":\"white\",\"linecolor\":\"white\",\"ticks\":\"\"},\"baxis\":{\"gridcolor\":\"white\",\"linecolor\":\"white\",\"ticks\":\"\"},\"bgcolor\":\"#E5ECF6\",\"caxis\":{\"gridcolor\":\"white\",\"linecolor\":\"white\",\"ticks\":\"\"}},\"title\":{\"x\":0.05},\"xaxis\":{\"automargin\":true,\"gridcolor\":\"white\",\"linecolor\":\"white\",\"ticks\":\"\",\"title\":{\"standoff\":15},\"zerolinecolor\":\"white\",\"zerolinewidth\":2},\"yaxis\":{\"automargin\":true,\"gridcolor\":\"white\",\"linecolor\":\"white\",\"ticks\":\"\",\"title\":{\"standoff\":15},\"zerolinecolor\":\"white\",\"zerolinewidth\":2}}},\"title\":{\"text\":\"Monthwise comparision between Stock open and close price\"},\"xaxis\":{\"tickangle\":-45}},                        {\"responsive\": true}                    ).then(function(){\n",
              "                            \n",
              "var gd = document.getElementById('f31d1fba-4cb3-45e9-b721-67f1ccf64f2f');\n",
              "var x = new MutationObserver(function (mutations, observer) {{\n",
              "        var display = window.getComputedStyle(gd).display;\n",
              "        if (!display || display === 'none') {{\n",
              "            console.log([gd, 'removed!']);\n",
              "            Plotly.purge(gd);\n",
              "            observer.disconnect();\n",
              "        }}\n",
              "}});\n",
              "\n",
              "// Listen for the removal of the full notebook cells\n",
              "var notebookContainer = gd.closest('#notebook-container');\n",
              "if (notebookContainer) {{\n",
              "    x.observe(notebookContainer, {childList: true});\n",
              "}}\n",
              "\n",
              "// Listen for the clearing of the current output cell\n",
              "var outputEl = gd.closest('.output');\n",
              "if (outputEl) {{\n",
              "    x.observe(outputEl, {childList: true});\n",
              "}}\n",
              "\n",
              "                        })                };                            </script>        </div>\n",
              "</body>\n",
              "</html>"
            ]
          },
          "metadata": {}
        }
      ]
    },
    {
      "cell_type": "code",
      "metadata": {
        "colab": {
          "base_uri": "https://localhost:8080/",
          "height": 542
        },
        "id": "B4PwMWWu8DZS",
        "outputId": "cadf71a2-435c-4575-a5d5-ec6e8cdfa904"
      },
      "source": [
        "#Monthwise high and low stock price\n",
        "df.groupby(df['date'].dt.strftime('%B'))['low'].min()\n",
        "monthwise_high = df.groupby(df['date'].dt.strftime('%B'))['high'].max()\n",
        "monthwise_high = monthwise_high.reindex(new_order, axis=0)\n",
        "\n",
        "monthwise_low = df.groupby(df['date'].dt.strftime('%B'))['low'].min()\n",
        "monthwise_low = monthwise_low.reindex(new_order, axis=0)\n",
        "\n",
        "fig = go.Figure()\n",
        "fig.add_trace(go.Bar(\n",
        "    x=monthwise_high.index,\n",
        "    y=monthwise_high,\n",
        "    name='Stock high Price',\n",
        "    marker_color='rgb(0, 153, 204)'\n",
        "))\n",
        "fig.add_trace(go.Bar(\n",
        "    x=monthwise_low.index,\n",
        "    y=monthwise_low,\n",
        "    name='Stock low Price',\n",
        "    marker_color='rgb(255, 128, 0)'\n",
        "))\n",
        "\n",
        "fig.update_layout(barmode='group', \n",
        "                  title=' Monthwise High and Low stock price')\n",
        "fig.show()\n"
      ],
      "execution_count": null,
      "outputs": [
        {
          "output_type": "display_data",
          "data": {
            "text/html": [
              "<html>\n",
              "<head><meta charset=\"utf-8\" /></head>\n",
              "<body>\n",
              "    <div>            <script src=\"https://cdnjs.cloudflare.com/ajax/libs/mathjax/2.7.5/MathJax.js?config=TeX-AMS-MML_SVG\"></script><script type=\"text/javascript\">if (window.MathJax) {MathJax.Hub.Config({SVG: {font: \"STIX-Web\"}});}</script>                <script type=\"text/javascript\">window.PlotlyConfig = {MathJaxConfig: 'local'};</script>\n",
              "        <script src=\"https://cdn.plot.ly/plotly-2.4.2.min.js\"></script>                <div id=\"a3175e31-382e-46f7-bf0e-a408c491cf0a\" class=\"plotly-graph-div\" style=\"height:525px; width:100%;\"></div>            <script type=\"text/javascript\">                                    window.PLOTLYENV=window.PLOTLYENV || {};                                    if (document.getElementById(\"a3175e31-382e-46f7-bf0e-a408c491cf0a\")) {                    Plotly.newPlot(                        \"a3175e31-382e-46f7-bf0e-a408c491cf0a\",                        [{\"marker\":{\"color\":\"rgb(0, 153, 204)\"},\"name\":\"Stock high Price\",\"type\":\"bar\",\"x\":[\"January\",\"February\",\"March\",\"April\",\"May\",\"June\",\"July\",\"August\",\"September\",\"October\",\"November\",\"December\"],\"y\":[145.08999599999999,137.880005,128.720001,137.070007,134.070007,137.41000400000001,150.0,153.490005,157.259995,125.389999,121.989998,138.78999299999998]},{\"marker\":{\"color\":\"rgb(255, 128, 0)\"},\"name\":\"Stock low Price\",\"type\":\"bar\",\"x\":[\"January\",\"February\",\"March\",\"April\",\"May\",\"June\",\"July\",\"August\",\"September\",\"October\",\"November\",\"December\"],\"y\":[28.690001000000002,31.752501000000002,34.262501,35.014998999999996,36.067501,35.549999,35.602501000000004,37.102501000000004,37.290001000000004,28.07,26.02,27.0625]}],                        {\"barmode\":\"group\",\"template\":{\"data\":{\"bar\":[{\"error_x\":{\"color\":\"#2a3f5f\"},\"error_y\":{\"color\":\"#2a3f5f\"},\"marker\":{\"line\":{\"color\":\"#E5ECF6\",\"width\":0.5},\"pattern\":{\"fillmode\":\"overlay\",\"size\":10,\"solidity\":0.2}},\"type\":\"bar\"}],\"barpolar\":[{\"marker\":{\"line\":{\"color\":\"#E5ECF6\",\"width\":0.5},\"pattern\":{\"fillmode\":\"overlay\",\"size\":10,\"solidity\":0.2}},\"type\":\"barpolar\"}],\"carpet\":[{\"aaxis\":{\"endlinecolor\":\"#2a3f5f\",\"gridcolor\":\"white\",\"linecolor\":\"white\",\"minorgridcolor\":\"white\",\"startlinecolor\":\"#2a3f5f\"},\"baxis\":{\"endlinecolor\":\"#2a3f5f\",\"gridcolor\":\"white\",\"linecolor\":\"white\",\"minorgridcolor\":\"white\",\"startlinecolor\":\"#2a3f5f\"},\"type\":\"carpet\"}],\"choropleth\":[{\"colorbar\":{\"outlinewidth\":0,\"ticks\":\"\"},\"type\":\"choropleth\"}],\"contour\":[{\"colorbar\":{\"outlinewidth\":0,\"ticks\":\"\"},\"colorscale\":[[0.0,\"#0d0887\"],[0.1111111111111111,\"#46039f\"],[0.2222222222222222,\"#7201a8\"],[0.3333333333333333,\"#9c179e\"],[0.4444444444444444,\"#bd3786\"],[0.5555555555555556,\"#d8576b\"],[0.6666666666666666,\"#ed7953\"],[0.7777777777777778,\"#fb9f3a\"],[0.8888888888888888,\"#fdca26\"],[1.0,\"#f0f921\"]],\"type\":\"contour\"}],\"contourcarpet\":[{\"colorbar\":{\"outlinewidth\":0,\"ticks\":\"\"},\"type\":\"contourcarpet\"}],\"heatmap\":[{\"colorbar\":{\"outlinewidth\":0,\"ticks\":\"\"},\"colorscale\":[[0.0,\"#0d0887\"],[0.1111111111111111,\"#46039f\"],[0.2222222222222222,\"#7201a8\"],[0.3333333333333333,\"#9c179e\"],[0.4444444444444444,\"#bd3786\"],[0.5555555555555556,\"#d8576b\"],[0.6666666666666666,\"#ed7953\"],[0.7777777777777778,\"#fb9f3a\"],[0.8888888888888888,\"#fdca26\"],[1.0,\"#f0f921\"]],\"type\":\"heatmap\"}],\"heatmapgl\":[{\"colorbar\":{\"outlinewidth\":0,\"ticks\":\"\"},\"colorscale\":[[0.0,\"#0d0887\"],[0.1111111111111111,\"#46039f\"],[0.2222222222222222,\"#7201a8\"],[0.3333333333333333,\"#9c179e\"],[0.4444444444444444,\"#bd3786\"],[0.5555555555555556,\"#d8576b\"],[0.6666666666666666,\"#ed7953\"],[0.7777777777777778,\"#fb9f3a\"],[0.8888888888888888,\"#fdca26\"],[1.0,\"#f0f921\"]],\"type\":\"heatmapgl\"}],\"histogram\":[{\"marker\":{\"pattern\":{\"fillmode\":\"overlay\",\"size\":10,\"solidity\":0.2}},\"type\":\"histogram\"}],\"histogram2d\":[{\"colorbar\":{\"outlinewidth\":0,\"ticks\":\"\"},\"colorscale\":[[0.0,\"#0d0887\"],[0.1111111111111111,\"#46039f\"],[0.2222222222222222,\"#7201a8\"],[0.3333333333333333,\"#9c179e\"],[0.4444444444444444,\"#bd3786\"],[0.5555555555555556,\"#d8576b\"],[0.6666666666666666,\"#ed7953\"],[0.7777777777777778,\"#fb9f3a\"],[0.8888888888888888,\"#fdca26\"],[1.0,\"#f0f921\"]],\"type\":\"histogram2d\"}],\"histogram2dcontour\":[{\"colorbar\":{\"outlinewidth\":0,\"ticks\":\"\"},\"colorscale\":[[0.0,\"#0d0887\"],[0.1111111111111111,\"#46039f\"],[0.2222222222222222,\"#7201a8\"],[0.3333333333333333,\"#9c179e\"],[0.4444444444444444,\"#bd3786\"],[0.5555555555555556,\"#d8576b\"],[0.6666666666666666,\"#ed7953\"],[0.7777777777777778,\"#fb9f3a\"],[0.8888888888888888,\"#fdca26\"],[1.0,\"#f0f921\"]],\"type\":\"histogram2dcontour\"}],\"mesh3d\":[{\"colorbar\":{\"outlinewidth\":0,\"ticks\":\"\"},\"type\":\"mesh3d\"}],\"parcoords\":[{\"line\":{\"colorbar\":{\"outlinewidth\":0,\"ticks\":\"\"}},\"type\":\"parcoords\"}],\"pie\":[{\"automargin\":true,\"type\":\"pie\"}],\"scatter\":[{\"marker\":{\"colorbar\":{\"outlinewidth\":0,\"ticks\":\"\"}},\"type\":\"scatter\"}],\"scatter3d\":[{\"line\":{\"colorbar\":{\"outlinewidth\":0,\"ticks\":\"\"}},\"marker\":{\"colorbar\":{\"outlinewidth\":0,\"ticks\":\"\"}},\"type\":\"scatter3d\"}],\"scattercarpet\":[{\"marker\":{\"colorbar\":{\"outlinewidth\":0,\"ticks\":\"\"}},\"type\":\"scattercarpet\"}],\"scattergeo\":[{\"marker\":{\"colorbar\":{\"outlinewidth\":0,\"ticks\":\"\"}},\"type\":\"scattergeo\"}],\"scattergl\":[{\"marker\":{\"colorbar\":{\"outlinewidth\":0,\"ticks\":\"\"}},\"type\":\"scattergl\"}],\"scattermapbox\":[{\"marker\":{\"colorbar\":{\"outlinewidth\":0,\"ticks\":\"\"}},\"type\":\"scattermapbox\"}],\"scatterpolar\":[{\"marker\":{\"colorbar\":{\"outlinewidth\":0,\"ticks\":\"\"}},\"type\":\"scatterpolar\"}],\"scatterpolargl\":[{\"marker\":{\"colorbar\":{\"outlinewidth\":0,\"ticks\":\"\"}},\"type\":\"scatterpolargl\"}],\"scatterternary\":[{\"marker\":{\"colorbar\":{\"outlinewidth\":0,\"ticks\":\"\"}},\"type\":\"scatterternary\"}],\"surface\":[{\"colorbar\":{\"outlinewidth\":0,\"ticks\":\"\"},\"colorscale\":[[0.0,\"#0d0887\"],[0.1111111111111111,\"#46039f\"],[0.2222222222222222,\"#7201a8\"],[0.3333333333333333,\"#9c179e\"],[0.4444444444444444,\"#bd3786\"],[0.5555555555555556,\"#d8576b\"],[0.6666666666666666,\"#ed7953\"],[0.7777777777777778,\"#fb9f3a\"],[0.8888888888888888,\"#fdca26\"],[1.0,\"#f0f921\"]],\"type\":\"surface\"}],\"table\":[{\"cells\":{\"fill\":{\"color\":\"#EBF0F8\"},\"line\":{\"color\":\"white\"}},\"header\":{\"fill\":{\"color\":\"#C8D4E3\"},\"line\":{\"color\":\"white\"}},\"type\":\"table\"}]},\"layout\":{\"annotationdefaults\":{\"arrowcolor\":\"#2a3f5f\",\"arrowhead\":0,\"arrowwidth\":1},\"autotypenumbers\":\"strict\",\"coloraxis\":{\"colorbar\":{\"outlinewidth\":0,\"ticks\":\"\"}},\"colorscale\":{\"diverging\":[[0,\"#8e0152\"],[0.1,\"#c51b7d\"],[0.2,\"#de77ae\"],[0.3,\"#f1b6da\"],[0.4,\"#fde0ef\"],[0.5,\"#f7f7f7\"],[0.6,\"#e6f5d0\"],[0.7,\"#b8e186\"],[0.8,\"#7fbc41\"],[0.9,\"#4d9221\"],[1,\"#276419\"]],\"sequential\":[[0.0,\"#0d0887\"],[0.1111111111111111,\"#46039f\"],[0.2222222222222222,\"#7201a8\"],[0.3333333333333333,\"#9c179e\"],[0.4444444444444444,\"#bd3786\"],[0.5555555555555556,\"#d8576b\"],[0.6666666666666666,\"#ed7953\"],[0.7777777777777778,\"#fb9f3a\"],[0.8888888888888888,\"#fdca26\"],[1.0,\"#f0f921\"]],\"sequentialminus\":[[0.0,\"#0d0887\"],[0.1111111111111111,\"#46039f\"],[0.2222222222222222,\"#7201a8\"],[0.3333333333333333,\"#9c179e\"],[0.4444444444444444,\"#bd3786\"],[0.5555555555555556,\"#d8576b\"],[0.6666666666666666,\"#ed7953\"],[0.7777777777777778,\"#fb9f3a\"],[0.8888888888888888,\"#fdca26\"],[1.0,\"#f0f921\"]]},\"colorway\":[\"#636efa\",\"#EF553B\",\"#00cc96\",\"#ab63fa\",\"#FFA15A\",\"#19d3f3\",\"#FF6692\",\"#B6E880\",\"#FF97FF\",\"#FECB52\"],\"font\":{\"color\":\"#2a3f5f\"},\"geo\":{\"bgcolor\":\"white\",\"lakecolor\":\"white\",\"landcolor\":\"#E5ECF6\",\"showlakes\":true,\"showland\":true,\"subunitcolor\":\"white\"},\"hoverlabel\":{\"align\":\"left\"},\"hovermode\":\"closest\",\"mapbox\":{\"style\":\"light\"},\"paper_bgcolor\":\"white\",\"plot_bgcolor\":\"#E5ECF6\",\"polar\":{\"angularaxis\":{\"gridcolor\":\"white\",\"linecolor\":\"white\",\"ticks\":\"\"},\"bgcolor\":\"#E5ECF6\",\"radialaxis\":{\"gridcolor\":\"white\",\"linecolor\":\"white\",\"ticks\":\"\"}},\"scene\":{\"xaxis\":{\"backgroundcolor\":\"#E5ECF6\",\"gridcolor\":\"white\",\"gridwidth\":2,\"linecolor\":\"white\",\"showbackground\":true,\"ticks\":\"\",\"zerolinecolor\":\"white\"},\"yaxis\":{\"backgroundcolor\":\"#E5ECF6\",\"gridcolor\":\"white\",\"gridwidth\":2,\"linecolor\":\"white\",\"showbackground\":true,\"ticks\":\"\",\"zerolinecolor\":\"white\"},\"zaxis\":{\"backgroundcolor\":\"#E5ECF6\",\"gridcolor\":\"white\",\"gridwidth\":2,\"linecolor\":\"white\",\"showbackground\":true,\"ticks\":\"\",\"zerolinecolor\":\"white\"}},\"shapedefaults\":{\"line\":{\"color\":\"#2a3f5f\"}},\"ternary\":{\"aaxis\":{\"gridcolor\":\"white\",\"linecolor\":\"white\",\"ticks\":\"\"},\"baxis\":{\"gridcolor\":\"white\",\"linecolor\":\"white\",\"ticks\":\"\"},\"bgcolor\":\"#E5ECF6\",\"caxis\":{\"gridcolor\":\"white\",\"linecolor\":\"white\",\"ticks\":\"\"}},\"title\":{\"x\":0.05},\"xaxis\":{\"automargin\":true,\"gridcolor\":\"white\",\"linecolor\":\"white\",\"ticks\":\"\",\"title\":{\"standoff\":15},\"zerolinecolor\":\"white\",\"zerolinewidth\":2},\"yaxis\":{\"automargin\":true,\"gridcolor\":\"white\",\"linecolor\":\"white\",\"ticks\":\"\",\"title\":{\"standoff\":15},\"zerolinecolor\":\"white\",\"zerolinewidth\":2}}},\"title\":{\"text\":\" Monthwise High and Low stock price\"}},                        {\"responsive\": true}                    ).then(function(){\n",
              "                            \n",
              "var gd = document.getElementById('a3175e31-382e-46f7-bf0e-a408c491cf0a');\n",
              "var x = new MutationObserver(function (mutations, observer) {{\n",
              "        var display = window.getComputedStyle(gd).display;\n",
              "        if (!display || display === 'none') {{\n",
              "            console.log([gd, 'removed!']);\n",
              "            Plotly.purge(gd);\n",
              "            observer.disconnect();\n",
              "        }}\n",
              "}});\n",
              "\n",
              "// Listen for the removal of the full notebook cells\n",
              "var notebookContainer = gd.closest('#notebook-container');\n",
              "if (notebookContainer) {{\n",
              "    x.observe(notebookContainer, {childList: true});\n",
              "}}\n",
              "\n",
              "// Listen for the clearing of the current output cell\n",
              "var outputEl = gd.closest('.output');\n",
              "if (outputEl) {{\n",
              "    x.observe(outputEl, {childList: true});\n",
              "}}\n",
              "\n",
              "                        })                };                            </script>        </div>\n",
              "</body>\n",
              "</html>"
            ]
          },
          "metadata": {}
        }
      ]
    },
    {
      "cell_type": "code",
      "metadata": {
        "colab": {
          "base_uri": "https://localhost:8080/",
          "height": 35
        },
        "id": "HL9t9kre3Pm7",
        "outputId": "160ccaa3-549e-45bb-9147-ea30b0544cb7"
      },
      "source": [
        "import plotly\n",
        "plotly.__version__ "
      ],
      "execution_count": null,
      "outputs": [
        {
          "output_type": "execute_result",
          "data": {
            "application/vnd.google.colaboratory.intrinsic+json": {
              "type": "string"
            },
            "text/plain": [
              "'5.3.1'"
            ]
          },
          "metadata": {},
          "execution_count": 17
        }
      ]
    },
    {
      "cell_type": "code",
      "metadata": {
        "id": "WfUZzUyJ30Nl"
      },
      "source": [
        "#!pip install plotly\n",
        "#!pip install plotly --upgrade"
      ],
      "execution_count": null,
      "outputs": []
    },
    {
      "cell_type": "code",
      "metadata": {
        "colab": {
          "base_uri": "https://localhost:8080/",
          "height": 542
        },
        "id": "4AuEq9MOkpOx",
        "outputId": "8ea5931c-3472-4722-baf5-521f264ef22d"
      },
      "source": [
        "#Trend comparision between stock open price, close price, high price, low price\n",
        "names = cycle(['Stock Open Price','Stock Close Price','Stock High Price','Stock Low Price'])\n",
        "\n",
        "fig = px.line(df, x=df.date, y=[df['open'], df['close'], \n",
        "                                          df['high'], df['low']],\n",
        "             labels={'date': 'Date','value':'Stock value'})\n",
        "fig.update_layout(title_text='Stock analysis chart', font_size=15, font_color='black',legend_title_text='Stock Parameters')\n",
        "fig.for_each_trace(lambda t:  t.update(name = next(names)))\n",
        "fig.update_xaxes(showgrid=False)\n",
        "fig.update_yaxes(showgrid=False)\n",
        "\n",
        "fig.show()"
      ],
      "execution_count": null,
      "outputs": [
        {
          "output_type": "display_data",
          "data": {
            "text/html": [
              "<html>\n",
              "<head><meta charset=\"utf-8\" /></head>\n",
              "<body>\n",
              "    <div>            <script src=\"https://cdnjs.cloudflare.com/ajax/libs/mathjax/2.7.5/MathJax.js?config=TeX-AMS-MML_SVG\"></script><script type=\"text/javascript\">if (window.MathJax) {MathJax.Hub.Config({SVG: {font: \"STIX-Web\"}});}</script>                <script type=\"text/javascript\">window.PlotlyConfig = {MathJaxConfig: 'local'};</script>\n",
              "        <script src=\"https://cdn.plot.ly/plotly-2.4.2.min.js\"></script>                <div id=\"806d9948-2eca-46e4-b5b5-9b1707b71108\" class=\"plotly-graph-div\" style=\"height:525px; width:100%;\"></div>            <script type=\"text/javascript\">                                    window.PLOTLYENV=window.PLOTLYENV || {};                                    if (document.getElementById(\"806d9948-2eca-46e4-b5b5-9b1707b71108\")) {                    Plotly.newPlot(                        \"806d9948-2eca-46e4-b5b5-9b1707b71108\",                        [{\"hovertemplate\":\"variable=open<br>Date=%{x}<br>Stock value=%{y}<extra></extra>\",\"legendgroup\":\"open\",\"line\":{\"color\":\"#636efa\",\"dash\":\"solid\"},\"marker\":{\"symbol\":\"circle\"},\"mode\":\"lines\",\"name\":\"Stock Open Price\",\"showlegend\":true,\"type\":\"scattergl\",\"x\":[\"2016-10-03T00:00:00\",\"2016-10-04T00:00:00\",\"2016-10-05T00:00:00\",\"2016-10-06T00:00:00\",\"2016-10-07T00:00:00\",\"2016-10-10T00:00:00\",\"2016-10-11T00:00:00\",\"2016-10-12T00:00:00\",\"2016-10-13T00:00:00\",\"2016-10-14T00:00:00\",\"2016-10-17T00:00:00\",\"2016-10-18T00:00:00\",\"2016-10-19T00:00:00\",\"2016-10-20T00:00:00\",\"2016-10-21T00:00:00\",\"2016-10-24T00:00:00\",\"2016-10-25T00:00:00\",\"2016-10-26T00:00:00\",\"2016-10-27T00:00:00\",\"2016-10-28T00:00:00\",\"2016-10-31T00:00:00\",\"2016-11-01T00:00:00\",\"2016-11-02T00:00:00\",\"2016-11-03T00:00:00\",\"2016-11-04T00:00:00\",\"2016-11-07T00:00:00\",\"2016-11-08T00:00:00\",\"2016-11-09T00:00:00\",\"2016-11-10T00:00:00\",\"2016-11-11T00:00:00\",\"2016-11-14T00:00:00\",\"2016-11-15T00:00:00\",\"2016-11-16T00:00:00\",\"2016-11-17T00:00:00\",\"2016-11-18T00:00:00\",\"2016-11-21T00:00:00\",\"2016-11-22T00:00:00\",\"2016-11-23T00:00:00\",\"2016-11-25T00:00:00\",\"2016-11-28T00:00:00\",\"2016-11-29T00:00:00\",\"2016-11-30T00:00:00\",\"2016-12-01T00:00:00\",\"2016-12-02T00:00:00\",\"2016-12-05T00:00:00\",\"2016-12-06T00:00:00\",\"2016-12-07T00:00:00\",\"2016-12-08T00:00:00\",\"2016-12-09T00:00:00\",\"2016-12-12T00:00:00\",\"2016-12-13T00:00:00\",\"2016-12-14T00:00:00\",\"2016-12-15T00:00:00\",\"2016-12-16T00:00:00\",\"2016-12-19T00:00:00\",\"2016-12-20T00:00:00\",\"2016-12-21T00:00:00\",\"2016-12-22T00:00:00\",\"2016-12-23T00:00:00\",\"2016-12-27T00:00:00\",\"2016-12-28T00:00:00\",\"2016-12-29T00:00:00\",\"2016-12-30T00:00:00\",\"2017-01-03T00:00:00\",\"2017-01-04T00:00:00\",\"2017-01-05T00:00:00\",\"2017-01-06T00:00:00\",\"2017-01-09T00:00:00\",\"2017-01-10T00:00:00\",\"2017-01-11T00:00:00\",\"2017-01-12T00:00:00\",\"2017-01-13T00:00:00\",\"2017-01-17T00:00:00\",\"2017-01-18T00:00:00\",\"2017-01-19T00:00:00\",\"2017-01-20T00:00:00\",\"2017-01-23T00:00:00\",\"2017-01-24T00:00:00\",\"2017-01-25T00:00:00\",\"2017-01-26T00:00:00\",\"2017-01-27T00:00:00\",\"2017-01-30T00:00:00\",\"2017-01-31T00:00:00\",\"2017-02-01T00:00:00\",\"2017-02-02T00:00:00\",\"2017-02-03T00:00:00\",\"2017-02-06T00:00:00\",\"2017-02-07T00:00:00\",\"2017-02-08T00:00:00\",\"2017-02-09T00:00:00\",\"2017-02-10T00:00:00\",\"2017-02-13T00:00:00\",\"2017-02-14T00:00:00\",\"2017-02-15T00:00:00\",\"2017-02-16T00:00:00\",\"2017-02-17T00:00:00\",\"2017-02-21T00:00:00\",\"2017-02-22T00:00:00\",\"2017-02-23T00:00:00\",\"2017-02-24T00:00:00\",\"2017-02-27T00:00:00\",\"2017-02-28T00:00:00\",\"2017-03-01T00:00:00\",\"2017-03-02T00:00:00\",\"2017-03-03T00:00:00\",\"2017-03-06T00:00:00\",\"2017-03-07T00:00:00\",\"2017-03-08T00:00:00\",\"2017-03-09T00:00:00\",\"2017-03-10T00:00:00\",\"2017-03-13T00:00:00\",\"2017-03-14T00:00:00\",\"2017-03-15T00:00:00\",\"2017-03-16T00:00:00\",\"2017-03-17T00:00:00\",\"2017-03-20T00:00:00\",\"2017-03-21T00:00:00\",\"2017-03-22T00:00:00\",\"2017-03-23T00:00:00\",\"2017-03-24T00:00:00\",\"2017-03-27T00:00:00\",\"2017-03-28T00:00:00\",\"2017-03-29T00:00:00\",\"2017-03-30T00:00:00\",\"2017-03-31T00:00:00\",\"2017-04-03T00:00:00\",\"2017-04-04T00:00:00\",\"2017-04-05T00:00:00\",\"2017-04-06T00:00:00\",\"2017-04-07T00:00:00\",\"2017-04-10T00:00:00\",\"2017-04-11T00:00:00\",\"2017-04-12T00:00:00\",\"2017-04-13T00:00:00\",\"2017-04-17T00:00:00\",\"2017-04-18T00:00:00\",\"2017-04-19T00:00:00\",\"2017-04-20T00:00:00\",\"2017-04-21T00:00:00\",\"2017-04-24T00:00:00\",\"2017-04-25T00:00:00\",\"2017-04-26T00:00:00\",\"2017-04-27T00:00:00\",\"2017-04-28T00:00:00\",\"2017-05-01T00:00:00\",\"2017-05-02T00:00:00\",\"2017-05-03T00:00:00\",\"2017-05-04T00:00:00\",\"2017-05-05T00:00:00\",\"2017-05-08T00:00:00\",\"2017-05-09T00:00:00\",\"2017-05-10T00:00:00\",\"2017-05-11T00:00:00\",\"2017-05-12T00:00:00\",\"2017-05-15T00:00:00\",\"2017-05-16T00:00:00\",\"2017-05-17T00:00:00\",\"2017-05-18T00:00:00\",\"2017-05-19T00:00:00\",\"2017-05-22T00:00:00\",\"2017-05-23T00:00:00\",\"2017-05-24T00:00:00\",\"2017-05-25T00:00:00\",\"2017-05-26T00:00:00\",\"2017-05-30T00:00:00\",\"2017-05-31T00:00:00\",\"2017-06-01T00:00:00\",\"2017-06-02T00:00:00\",\"2017-06-05T00:00:00\",\"2017-06-06T00:00:00\",\"2017-06-07T00:00:00\",\"2017-06-08T00:00:00\",\"2017-06-09T00:00:00\",\"2017-06-12T00:00:00\",\"2017-06-13T00:00:00\",\"2017-06-14T00:00:00\",\"2017-06-15T00:00:00\",\"2017-06-16T00:00:00\",\"2017-06-19T00:00:00\",\"2017-06-20T00:00:00\",\"2017-06-21T00:00:00\",\"2017-06-22T00:00:00\",\"2017-06-23T00:00:00\",\"2017-06-26T00:00:00\",\"2017-06-27T00:00:00\",\"2017-06-28T00:00:00\",\"2017-06-29T00:00:00\",\"2017-06-30T00:00:00\",\"2017-07-03T00:00:00\",\"2017-07-05T00:00:00\",\"2017-07-06T00:00:00\",\"2017-07-07T00:00:00\",\"2017-07-10T00:00:00\",\"2017-07-11T00:00:00\",\"2017-07-12T00:00:00\",\"2017-07-13T00:00:00\",\"2017-07-14T00:00:00\",\"2017-07-17T00:00:00\",\"2017-07-18T00:00:00\",\"2017-07-19T00:00:00\",\"2017-07-20T00:00:00\",\"2017-07-21T00:00:00\",\"2017-07-24T00:00:00\",\"2017-07-25T00:00:00\",\"2017-07-26T00:00:00\",\"2017-07-27T00:00:00\",\"2017-07-28T00:00:00\",\"2017-07-31T00:00:00\",\"2017-08-01T00:00:00\",\"2017-08-02T00:00:00\",\"2017-08-03T00:00:00\",\"2017-08-04T00:00:00\",\"2017-08-07T00:00:00\",\"2017-08-08T00:00:00\",\"2017-08-09T00:00:00\",\"2017-08-10T00:00:00\",\"2017-08-11T00:00:00\",\"2017-08-14T00:00:00\",\"2017-08-15T00:00:00\",\"2017-08-16T00:00:00\",\"2017-08-17T00:00:00\",\"2017-08-18T00:00:00\",\"2017-08-21T00:00:00\",\"2017-08-22T00:00:00\",\"2017-08-23T00:00:00\",\"2017-08-24T00:00:00\",\"2017-08-25T00:00:00\",\"2017-08-28T00:00:00\",\"2017-08-29T00:00:00\",\"2017-08-30T00:00:00\",\"2017-08-31T00:00:00\",\"2017-09-01T00:00:00\",\"2017-09-05T00:00:00\",\"2017-09-06T00:00:00\",\"2017-09-07T00:00:00\",\"2017-09-08T00:00:00\",\"2017-09-11T00:00:00\",\"2017-09-12T00:00:00\",\"2017-09-13T00:00:00\",\"2017-09-14T00:00:00\",\"2017-09-15T00:00:00\",\"2017-09-18T00:00:00\",\"2017-09-19T00:00:00\",\"2017-09-20T00:00:00\",\"2017-09-21T00:00:00\",\"2017-09-22T00:00:00\",\"2017-09-25T00:00:00\",\"2017-09-26T00:00:00\",\"2017-09-27T00:00:00\",\"2017-09-28T00:00:00\",\"2017-09-29T00:00:00\",\"2017-10-02T00:00:00\",\"2017-10-03T00:00:00\",\"2017-10-04T00:00:00\",\"2017-10-05T00:00:00\",\"2017-10-06T00:00:00\",\"2017-10-09T00:00:00\",\"2017-10-10T00:00:00\",\"2017-10-11T00:00:00\",\"2017-10-12T00:00:00\",\"2017-10-13T00:00:00\",\"2017-10-16T00:00:00\",\"2017-10-17T00:00:00\",\"2017-10-18T00:00:00\",\"2017-10-19T00:00:00\",\"2017-10-20T00:00:00\",\"2017-10-23T00:00:00\",\"2017-10-24T00:00:00\",\"2017-10-25T00:00:00\",\"2017-10-26T00:00:00\",\"2017-10-27T00:00:00\",\"2017-10-30T00:00:00\",\"2017-10-31T00:00:00\",\"2017-11-01T00:00:00\",\"2017-11-02T00:00:00\",\"2017-11-03T00:00:00\",\"2017-11-06T00:00:00\",\"2017-11-07T00:00:00\",\"2017-11-08T00:00:00\",\"2017-11-09T00:00:00\",\"2017-11-10T00:00:00\",\"2017-11-13T00:00:00\",\"2017-11-14T00:00:00\",\"2017-11-15T00:00:00\",\"2017-11-16T00:00:00\",\"2017-11-17T00:00:00\",\"2017-11-20T00:00:00\",\"2017-11-21T00:00:00\",\"2017-11-22T00:00:00\",\"2017-11-24T00:00:00\",\"2017-11-27T00:00:00\",\"2017-11-28T00:00:00\",\"2017-11-29T00:00:00\",\"2017-11-30T00:00:00\",\"2017-12-01T00:00:00\",\"2017-12-04T00:00:00\",\"2017-12-05T00:00:00\",\"2017-12-06T00:00:00\",\"2017-12-07T00:00:00\",\"2017-12-08T00:00:00\",\"2017-12-11T00:00:00\",\"2017-12-12T00:00:00\",\"2017-12-13T00:00:00\",\"2017-12-14T00:00:00\",\"2017-12-15T00:00:00\",\"2017-12-18T00:00:00\",\"2017-12-19T00:00:00\",\"2017-12-20T00:00:00\",\"2017-12-21T00:00:00\",\"2017-12-22T00:00:00\",\"2017-12-26T00:00:00\",\"2017-12-27T00:00:00\",\"2017-12-28T00:00:00\",\"2017-12-29T00:00:00\",\"2018-01-02T00:00:00\",\"2018-01-03T00:00:00\",\"2018-01-04T00:00:00\",\"2018-01-05T00:00:00\",\"2018-01-08T00:00:00\",\"2018-01-09T00:00:00\",\"2018-01-10T00:00:00\",\"2018-01-11T00:00:00\",\"2018-01-12T00:00:00\",\"2018-01-16T00:00:00\",\"2018-01-17T00:00:00\",\"2018-01-18T00:00:00\",\"2018-01-19T00:00:00\",\"2018-01-22T00:00:00\",\"2018-01-23T00:00:00\",\"2018-01-24T00:00:00\",\"2018-01-25T00:00:00\",\"2018-01-26T00:00:00\",\"2018-01-29T00:00:00\",\"2018-01-30T00:00:00\",\"2018-01-31T00:00:00\",\"2018-02-01T00:00:00\",\"2018-02-02T00:00:00\",\"2018-02-05T00:00:00\",\"2018-02-06T00:00:00\",\"2018-02-07T00:00:00\",\"2018-02-08T00:00:00\",\"2018-02-09T00:00:00\",\"2018-02-12T00:00:00\",\"2018-02-13T00:00:00\",\"2018-02-14T00:00:00\",\"2018-02-15T00:00:00\",\"2018-02-16T00:00:00\",\"2018-02-20T00:00:00\",\"2018-02-21T00:00:00\",\"2018-02-22T00:00:00\",\"2018-02-23T00:00:00\",\"2018-02-26T00:00:00\",\"2018-02-27T00:00:00\",\"2018-02-28T00:00:00\",\"2018-03-01T00:00:00\",\"2018-03-02T00:00:00\",\"2018-03-05T00:00:00\",\"2018-03-06T00:00:00\",\"2018-03-07T00:00:00\",\"2018-03-08T00:00:00\",\"2018-03-09T00:00:00\",\"2018-03-12T00:00:00\",\"2018-03-13T00:00:00\",\"2018-03-14T00:00:00\",\"2018-03-15T00:00:00\",\"2018-03-16T00:00:00\",\"2018-03-19T00:00:00\",\"2018-03-20T00:00:00\",\"2018-03-21T00:00:00\",\"2018-03-22T00:00:00\",\"2018-03-23T00:00:00\",\"2018-03-26T00:00:00\",\"2018-03-27T00:00:00\",\"2018-03-28T00:00:00\",\"2018-03-29T00:00:00\",\"2018-04-02T00:00:00\",\"2018-04-03T00:00:00\",\"2018-04-04T00:00:00\",\"2018-04-05T00:00:00\",\"2018-04-06T00:00:00\",\"2018-04-09T00:00:00\",\"2018-04-10T00:00:00\",\"2018-04-11T00:00:00\",\"2018-04-12T00:00:00\",\"2018-04-13T00:00:00\",\"2018-04-16T00:00:00\",\"2018-04-17T00:00:00\",\"2018-04-18T00:00:00\",\"2018-04-19T00:00:00\",\"2018-04-20T00:00:00\",\"2018-04-23T00:00:00\",\"2018-04-24T00:00:00\",\"2018-04-25T00:00:00\",\"2018-04-26T00:00:00\",\"2018-04-27T00:00:00\",\"2018-04-30T00:00:00\",\"2018-05-01T00:00:00\",\"2018-05-02T00:00:00\",\"2018-05-03T00:00:00\",\"2018-05-04T00:00:00\",\"2018-05-07T00:00:00\",\"2018-05-08T00:00:00\",\"2018-05-09T00:00:00\",\"2018-05-10T00:00:00\",\"2018-05-11T00:00:00\",\"2018-05-14T00:00:00\",\"2018-05-15T00:00:00\",\"2018-05-16T00:00:00\",\"2018-05-17T00:00:00\",\"2018-05-18T00:00:00\",\"2018-05-21T00:00:00\",\"2018-05-22T00:00:00\",\"2018-05-23T00:00:00\",\"2018-05-24T00:00:00\",\"2018-05-25T00:00:00\",\"2018-05-29T00:00:00\",\"2018-05-30T00:00:00\",\"2018-05-31T00:00:00\",\"2018-06-01T00:00:00\",\"2018-06-04T00:00:00\",\"2018-06-05T00:00:00\",\"2018-06-06T00:00:00\",\"2018-06-07T00:00:00\",\"2018-06-08T00:00:00\",\"2018-06-11T00:00:00\",\"2018-06-12T00:00:00\",\"2018-06-13T00:00:00\",\"2018-06-14T00:00:00\",\"2018-06-15T00:00:00\",\"2018-06-18T00:00:00\",\"2018-06-19T00:00:00\",\"2018-06-20T00:00:00\",\"2018-06-21T00:00:00\",\"2018-06-22T00:00:00\",\"2018-06-25T00:00:00\",\"2018-06-26T00:00:00\",\"2018-06-27T00:00:00\",\"2018-06-28T00:00:00\",\"2018-06-29T00:00:00\",\"2018-07-02T00:00:00\",\"2018-07-03T00:00:00\",\"2018-07-05T00:00:00\",\"2018-07-06T00:00:00\",\"2018-07-09T00:00:00\",\"2018-07-10T00:00:00\",\"2018-07-11T00:00:00\",\"2018-07-12T00:00:00\",\"2018-07-13T00:00:00\",\"2018-07-16T00:00:00\",\"2018-07-17T00:00:00\",\"2018-07-18T00:00:00\",\"2018-07-19T00:00:00\",\"2018-07-20T00:00:00\",\"2018-07-23T00:00:00\",\"2018-07-24T00:00:00\",\"2018-07-25T00:00:00\",\"2018-07-26T00:00:00\",\"2018-07-27T00:00:00\",\"2018-07-30T00:00:00\",\"2018-07-31T00:00:00\",\"2018-08-01T00:00:00\",\"2018-08-02T00:00:00\",\"2018-08-03T00:00:00\",\"2018-08-06T00:00:00\",\"2018-08-07T00:00:00\",\"2018-08-08T00:00:00\",\"2018-08-09T00:00:00\",\"2018-08-10T00:00:00\",\"2018-08-13T00:00:00\",\"2018-08-14T00:00:00\",\"2018-08-15T00:00:00\",\"2018-08-16T00:00:00\",\"2018-08-17T00:00:00\",\"2018-08-20T00:00:00\",\"2018-08-21T00:00:00\",\"2018-08-22T00:00:00\",\"2018-08-23T00:00:00\",\"2018-08-24T00:00:00\",\"2018-08-27T00:00:00\",\"2018-08-28T00:00:00\",\"2018-08-29T00:00:00\",\"2018-08-30T00:00:00\",\"2018-08-31T00:00:00\",\"2018-09-04T00:00:00\",\"2018-09-05T00:00:00\",\"2018-09-06T00:00:00\",\"2018-09-07T00:00:00\",\"2018-09-10T00:00:00\",\"2018-09-11T00:00:00\",\"2018-09-12T00:00:00\",\"2018-09-13T00:00:00\",\"2018-09-14T00:00:00\",\"2018-09-17T00:00:00\",\"2018-09-18T00:00:00\",\"2018-09-19T00:00:00\",\"2018-09-20T00:00:00\",\"2018-09-21T00:00:00\",\"2018-09-24T00:00:00\",\"2018-09-25T00:00:00\",\"2018-09-26T00:00:00\",\"2018-09-27T00:00:00\",\"2018-09-28T00:00:00\",\"2018-10-01T00:00:00\",\"2018-10-02T00:00:00\",\"2018-10-03T00:00:00\",\"2018-10-04T00:00:00\",\"2018-10-05T00:00:00\",\"2018-10-08T00:00:00\",\"2018-10-09T00:00:00\",\"2018-10-10T00:00:00\",\"2018-10-11T00:00:00\",\"2018-10-12T00:00:00\",\"2018-10-15T00:00:00\",\"2018-10-16T00:00:00\",\"2018-10-17T00:00:00\",\"2018-10-18T00:00:00\",\"2018-10-19T00:00:00\",\"2018-10-22T00:00:00\",\"2018-10-23T00:00:00\",\"2018-10-24T00:00:00\",\"2018-10-25T00:00:00\",\"2018-10-26T00:00:00\",\"2018-10-29T00:00:00\",\"2018-10-30T00:00:00\",\"2018-10-31T00:00:00\",\"2018-11-01T00:00:00\",\"2018-11-02T00:00:00\",\"2018-11-05T00:00:00\",\"2018-11-06T00:00:00\",\"2018-11-07T00:00:00\",\"2018-11-08T00:00:00\",\"2018-11-09T00:00:00\",\"2018-11-12T00:00:00\",\"2018-11-13T00:00:00\",\"2018-11-14T00:00:00\",\"2018-11-15T00:00:00\",\"2018-11-16T00:00:00\",\"2018-11-19T00:00:00\",\"2018-11-20T00:00:00\",\"2018-11-21T00:00:00\",\"2018-11-23T00:00:00\",\"2018-11-26T00:00:00\",\"2018-11-27T00:00:00\",\"2018-11-28T00:00:00\",\"2018-11-29T00:00:00\",\"2018-11-30T00:00:00\",\"2018-12-03T00:00:00\",\"2018-12-04T00:00:00\",\"2018-12-06T00:00:00\",\"2018-12-07T00:00:00\",\"2018-12-10T00:00:00\",\"2018-12-11T00:00:00\",\"2018-12-12T00:00:00\",\"2018-12-13T00:00:00\",\"2018-12-14T00:00:00\",\"2018-12-17T00:00:00\",\"2018-12-18T00:00:00\",\"2018-12-19T00:00:00\",\"2018-12-20T00:00:00\",\"2018-12-21T00:00:00\",\"2018-12-24T00:00:00\",\"2018-12-26T00:00:00\",\"2018-12-27T00:00:00\",\"2018-12-28T00:00:00\",\"2018-12-31T00:00:00\",\"2019-01-02T00:00:00\",\"2019-01-03T00:00:00\",\"2019-01-04T00:00:00\",\"2019-01-07T00:00:00\",\"2019-01-08T00:00:00\",\"2019-01-09T00:00:00\",\"2019-01-10T00:00:00\",\"2019-01-11T00:00:00\",\"2019-01-14T00:00:00\",\"2019-01-15T00:00:00\",\"2019-01-16T00:00:00\",\"2019-01-17T00:00:00\",\"2019-01-18T00:00:00\",\"2019-01-22T00:00:00\",\"2019-01-23T00:00:00\",\"2019-01-24T00:00:00\",\"2019-01-25T00:00:00\",\"2019-01-28T00:00:00\",\"2019-01-29T00:00:00\",\"2019-01-30T00:00:00\",\"2019-01-31T00:00:00\",\"2019-02-01T00:00:00\",\"2019-02-04T00:00:00\",\"2019-02-05T00:00:00\",\"2019-02-06T00:00:00\",\"2019-02-07T00:00:00\",\"2019-02-08T00:00:00\",\"2019-02-11T00:00:00\",\"2019-02-12T00:00:00\",\"2019-02-13T00:00:00\",\"2019-02-14T00:00:00\",\"2019-02-15T00:00:00\",\"2019-02-19T00:00:00\",\"2019-02-20T00:00:00\",\"2019-02-21T00:00:00\",\"2019-02-22T00:00:00\",\"2019-02-25T00:00:00\",\"2019-02-26T00:00:00\",\"2019-02-27T00:00:00\",\"2019-02-28T00:00:00\",\"2019-03-01T00:00:00\",\"2019-03-04T00:00:00\",\"2019-03-05T00:00:00\",\"2019-03-06T00:00:00\",\"2019-03-07T00:00:00\",\"2019-03-08T00:00:00\",\"2019-03-11T00:00:00\",\"2019-03-12T00:00:00\",\"2019-03-13T00:00:00\",\"2019-03-14T00:00:00\",\"2019-03-15T00:00:00\",\"2019-03-18T00:00:00\",\"2019-03-19T00:00:00\",\"2019-03-20T00:00:00\",\"2019-03-21T00:00:00\",\"2019-03-22T00:00:00\",\"2019-03-25T00:00:00\",\"2019-03-26T00:00:00\",\"2019-03-27T00:00:00\",\"2019-03-28T00:00:00\",\"2019-03-29T00:00:00\",\"2019-04-01T00:00:00\",\"2019-04-02T00:00:00\",\"2019-04-03T00:00:00\",\"2019-04-04T00:00:00\",\"2019-04-05T00:00:00\",\"2019-04-08T00:00:00\",\"2019-04-09T00:00:00\",\"2019-04-10T00:00:00\",\"2019-04-11T00:00:00\",\"2019-04-12T00:00:00\",\"2019-04-15T00:00:00\",\"2019-04-16T00:00:00\",\"2019-04-17T00:00:00\",\"2019-04-18T00:00:00\",\"2019-04-22T00:00:00\",\"2019-04-23T00:00:00\",\"2019-04-24T00:00:00\",\"2019-04-25T00:00:00\",\"2019-04-26T00:00:00\",\"2019-04-29T00:00:00\",\"2019-04-30T00:00:00\",\"2019-05-01T00:00:00\",\"2019-05-02T00:00:00\",\"2019-05-03T00:00:00\",\"2019-05-06T00:00:00\",\"2019-05-07T00:00:00\",\"2019-05-08T00:00:00\",\"2019-05-09T00:00:00\",\"2019-05-10T00:00:00\",\"2019-05-13T00:00:00\",\"2019-05-14T00:00:00\",\"2019-05-15T00:00:00\",\"2019-05-16T00:00:00\",\"2019-05-17T00:00:00\",\"2019-05-20T00:00:00\",\"2019-05-21T00:00:00\",\"2019-05-22T00:00:00\",\"2019-05-23T00:00:00\",\"2019-05-24T00:00:00\",\"2019-05-28T00:00:00\",\"2019-05-29T00:00:00\",\"2019-05-30T00:00:00\",\"2019-05-31T00:00:00\",\"2019-06-03T00:00:00\",\"2019-06-04T00:00:00\",\"2019-06-05T00:00:00\",\"2019-06-06T00:00:00\",\"2019-06-07T00:00:00\",\"2019-06-10T00:00:00\",\"2019-06-11T00:00:00\",\"2019-06-12T00:00:00\",\"2019-06-13T00:00:00\",\"2019-06-14T00:00:00\",\"2019-06-17T00:00:00\",\"2019-06-18T00:00:00\",\"2019-06-19T00:00:00\",\"2019-06-20T00:00:00\",\"2019-06-21T00:00:00\",\"2019-06-24T00:00:00\",\"2019-06-25T00:00:00\",\"2019-06-26T00:00:00\",\"2019-06-27T00:00:00\",\"2019-06-28T00:00:00\",\"2019-07-01T00:00:00\",\"2019-07-02T00:00:00\",\"2019-07-03T00:00:00\",\"2019-07-05T00:00:00\",\"2019-07-08T00:00:00\",\"2019-07-09T00:00:00\",\"2019-07-10T00:00:00\",\"2019-07-11T00:00:00\",\"2019-07-12T00:00:00\",\"2019-07-15T00:00:00\",\"2019-07-16T00:00:00\",\"2019-07-17T00:00:00\",\"2019-07-18T00:00:00\",\"2019-07-19T00:00:00\",\"2019-07-22T00:00:00\",\"2019-07-23T00:00:00\",\"2019-07-24T00:00:00\",\"2019-07-25T00:00:00\",\"2019-07-26T00:00:00\",\"2019-07-29T00:00:00\",\"2019-07-30T00:00:00\",\"2019-07-31T00:00:00\",\"2019-08-01T00:00:00\",\"2019-08-02T00:00:00\",\"2019-08-05T00:00:00\",\"2019-08-06T00:00:00\",\"2019-08-07T00:00:00\",\"2019-08-08T00:00:00\",\"2019-08-09T00:00:00\",\"2019-08-12T00:00:00\",\"2019-08-13T00:00:00\",\"2019-08-14T00:00:00\",\"2019-08-15T00:00:00\",\"2019-08-16T00:00:00\",\"2019-08-19T00:00:00\",\"2019-08-20T00:00:00\",\"2019-08-21T00:00:00\",\"2019-08-22T00:00:00\",\"2019-08-23T00:00:00\",\"2019-08-26T00:00:00\",\"2019-08-27T00:00:00\",\"2019-08-28T00:00:00\",\"2019-08-29T00:00:00\",\"2019-08-30T00:00:00\",\"2019-09-03T00:00:00\",\"2019-09-04T00:00:00\",\"2019-09-05T00:00:00\",\"2019-09-06T00:00:00\",\"2019-09-09T00:00:00\",\"2019-09-10T00:00:00\",\"2019-09-11T00:00:00\",\"2019-09-12T00:00:00\",\"2019-09-13T00:00:00\",\"2019-09-16T00:00:00\",\"2019-09-17T00:00:00\",\"2019-09-18T00:00:00\",\"2019-09-19T00:00:00\",\"2019-09-20T00:00:00\",\"2019-09-23T00:00:00\",\"2019-09-24T00:00:00\",\"2019-09-25T00:00:00\",\"2019-09-26T00:00:00\",\"2019-09-27T00:00:00\",\"2019-09-30T00:00:00\",\"2019-10-01T00:00:00\",\"2019-10-02T00:00:00\",\"2019-10-03T00:00:00\",\"2019-10-04T00:00:00\",\"2019-10-07T00:00:00\",\"2019-10-08T00:00:00\",\"2019-10-09T00:00:00\",\"2019-10-10T00:00:00\",\"2019-10-11T00:00:00\",\"2019-10-14T00:00:00\",\"2019-10-15T00:00:00\",\"2019-10-16T00:00:00\",\"2019-10-17T00:00:00\",\"2019-10-18T00:00:00\",\"2019-10-21T00:00:00\",\"2019-10-22T00:00:00\",\"2019-10-23T00:00:00\",\"2019-10-24T00:00:00\",\"2019-10-25T00:00:00\",\"2019-10-28T00:00:00\",\"2019-10-29T00:00:00\",\"2019-10-30T00:00:00\",\"2019-10-31T00:00:00\",\"2019-11-01T00:00:00\",\"2019-11-04T00:00:00\",\"2019-11-05T00:00:00\",\"2019-11-06T00:00:00\",\"2019-11-07T00:00:00\",\"2019-11-08T00:00:00\",\"2019-11-11T00:00:00\",\"2019-11-12T00:00:00\",\"2019-11-13T00:00:00\",\"2019-11-14T00:00:00\",\"2019-11-15T00:00:00\",\"2019-11-18T00:00:00\",\"2019-11-19T00:00:00\",\"2019-11-20T00:00:00\",\"2019-11-21T00:00:00\",\"2019-11-22T00:00:00\",\"2019-11-25T00:00:00\",\"2019-11-26T00:00:00\",\"2019-11-27T00:00:00\",\"2019-11-29T00:00:00\",\"2019-12-02T00:00:00\",\"2019-12-03T00:00:00\",\"2019-12-04T00:00:00\",\"2019-12-05T00:00:00\",\"2019-12-06T00:00:00\",\"2019-12-09T00:00:00\",\"2019-12-10T00:00:00\",\"2019-12-11T00:00:00\",\"2019-12-12T00:00:00\",\"2019-12-13T00:00:00\",\"2019-12-16T00:00:00\",\"2019-12-17T00:00:00\",\"2019-12-18T00:00:00\",\"2019-12-19T00:00:00\",\"2019-12-20T00:00:00\",\"2019-12-23T00:00:00\",\"2019-12-24T00:00:00\",\"2019-12-26T00:00:00\",\"2019-12-27T00:00:00\",\"2019-12-30T00:00:00\",\"2019-12-31T00:00:00\",\"2020-01-02T00:00:00\",\"2020-01-03T00:00:00\",\"2020-01-06T00:00:00\",\"2020-01-07T00:00:00\",\"2020-01-08T00:00:00\",\"2020-01-09T00:00:00\",\"2020-01-10T00:00:00\",\"2020-01-13T00:00:00\",\"2020-01-14T00:00:00\",\"2020-01-15T00:00:00\",\"2020-01-16T00:00:00\",\"2020-01-17T00:00:00\",\"2020-01-21T00:00:00\",\"2020-01-22T00:00:00\",\"2020-01-23T00:00:00\",\"2020-01-24T00:00:00\",\"2020-01-27T00:00:00\",\"2020-01-28T00:00:00\",\"2020-01-29T00:00:00\",\"2020-01-30T00:00:00\",\"2020-01-31T00:00:00\",\"2020-02-03T00:00:00\",\"2020-02-04T00:00:00\",\"2020-02-05T00:00:00\",\"2020-02-06T00:00:00\",\"2020-02-07T00:00:00\",\"2020-02-10T00:00:00\",\"2020-02-11T00:00:00\",\"2020-02-12T00:00:00\",\"2020-02-13T00:00:00\",\"2020-02-14T00:00:00\",\"2020-02-18T00:00:00\",\"2020-02-19T00:00:00\",\"2020-02-20T00:00:00\",\"2020-02-21T00:00:00\",\"2020-02-24T00:00:00\",\"2020-02-25T00:00:00\",\"2020-02-26T00:00:00\",\"2020-02-27T00:00:00\",\"2020-02-28T00:00:00\",\"2020-03-02T00:00:00\",\"2020-03-03T00:00:00\",\"2020-03-04T00:00:00\",\"2020-03-05T00:00:00\",\"2020-03-06T00:00:00\",\"2020-03-09T00:00:00\",\"2020-03-10T00:00:00\",\"2020-03-11T00:00:00\",\"2020-03-12T00:00:00\",\"2020-03-13T00:00:00\",\"2020-03-16T00:00:00\",\"2020-03-17T00:00:00\",\"2020-03-18T00:00:00\",\"2020-03-19T00:00:00\",\"2020-03-20T00:00:00\",\"2020-03-23T00:00:00\",\"2020-03-24T00:00:00\",\"2020-03-25T00:00:00\",\"2020-03-26T00:00:00\",\"2020-03-27T00:00:00\",\"2020-03-30T00:00:00\",\"2020-03-31T00:00:00\",\"2020-04-01T00:00:00\",\"2020-04-02T00:00:00\",\"2020-04-03T00:00:00\",\"2020-04-06T00:00:00\",\"2020-04-07T00:00:00\",\"2020-04-08T00:00:00\",\"2020-04-09T00:00:00\",\"2020-04-13T00:00:00\",\"2020-04-14T00:00:00\",\"2020-04-15T00:00:00\",\"2020-04-16T00:00:00\",\"2020-04-17T00:00:00\",\"2020-04-20T00:00:00\",\"2020-04-21T00:00:00\",\"2020-04-22T00:00:00\",\"2020-04-23T00:00:00\",\"2020-04-24T00:00:00\",\"2020-04-27T00:00:00\",\"2020-04-28T00:00:00\",\"2020-04-29T00:00:00\",\"2020-04-30T00:00:00\",\"2020-05-01T00:00:00\",\"2020-05-04T00:00:00\",\"2020-05-05T00:00:00\",\"2020-05-06T00:00:00\",\"2020-05-07T00:00:00\",\"2020-05-08T00:00:00\",\"2020-05-11T00:00:00\",\"2020-05-12T00:00:00\",\"2020-05-13T00:00:00\",\"2020-05-14T00:00:00\",\"2020-05-15T00:00:00\",\"2020-05-18T00:00:00\",\"2020-05-19T00:00:00\",\"2020-05-20T00:00:00\",\"2020-05-21T00:00:00\",\"2020-05-22T00:00:00\",\"2020-05-26T00:00:00\",\"2020-05-27T00:00:00\",\"2020-05-28T00:00:00\",\"2020-05-29T00:00:00\",\"2020-06-01T00:00:00\",\"2020-06-02T00:00:00\",\"2020-06-03T00:00:00\",\"2020-06-04T00:00:00\",\"2020-06-05T00:00:00\",\"2020-06-08T00:00:00\",\"2020-06-09T00:00:00\",\"2020-06-10T00:00:00\",\"2020-06-11T00:00:00\",\"2020-06-12T00:00:00\",\"2020-06-15T00:00:00\",\"2020-06-16T00:00:00\",\"2020-06-17T00:00:00\",\"2020-06-18T00:00:00\",\"2020-06-19T00:00:00\",\"2020-06-22T00:00:00\",\"2020-06-23T00:00:00\",\"2020-06-24T00:00:00\",\"2020-06-25T00:00:00\",\"2020-06-26T00:00:00\",\"2020-06-29T00:00:00\",\"2020-06-30T00:00:00\",\"2020-07-01T00:00:00\",\"2020-07-02T00:00:00\",\"2020-07-06T00:00:00\",\"2020-07-07T00:00:00\",\"2020-07-08T00:00:00\",\"2020-07-09T00:00:00\",\"2020-07-10T00:00:00\",\"2020-07-13T00:00:00\",\"2020-07-14T00:00:00\",\"2020-07-15T00:00:00\",\"2020-07-16T00:00:00\",\"2020-07-17T00:00:00\",\"2020-07-20T00:00:00\",\"2020-07-21T00:00:00\",\"2020-07-22T00:00:00\",\"2020-07-23T00:00:00\",\"2020-07-24T00:00:00\",\"2020-07-27T00:00:00\",\"2020-07-28T00:00:00\",\"2020-07-29T00:00:00\",\"2020-07-30T00:00:00\",\"2020-07-31T00:00:00\",\"2020-08-03T00:00:00\",\"2020-08-04T00:00:00\",\"2020-08-05T00:00:00\",\"2020-08-06T00:00:00\",\"2020-08-07T00:00:00\",\"2020-08-10T00:00:00\",\"2020-08-11T00:00:00\",\"2020-08-12T00:00:00\",\"2020-08-13T00:00:00\",\"2020-08-14T00:00:00\",\"2020-08-17T00:00:00\",\"2020-08-18T00:00:00\",\"2020-08-19T00:00:00\",\"2020-08-20T00:00:00\",\"2020-08-21T00:00:00\",\"2020-08-24T00:00:00\",\"2020-08-25T00:00:00\",\"2020-08-26T00:00:00\",\"2020-08-27T00:00:00\",\"2020-08-28T00:00:00\",\"2020-08-31T00:00:00\",\"2020-09-01T00:00:00\",\"2020-09-02T00:00:00\",\"2020-09-03T00:00:00\",\"2020-09-04T00:00:00\",\"2020-09-08T00:00:00\",\"2020-09-09T00:00:00\",\"2020-09-10T00:00:00\",\"2020-09-11T00:00:00\",\"2020-09-14T00:00:00\",\"2020-09-15T00:00:00\",\"2020-09-16T00:00:00\",\"2020-09-17T00:00:00\",\"2020-09-18T00:00:00\",\"2020-09-21T00:00:00\",\"2020-09-22T00:00:00\",\"2020-09-23T00:00:00\",\"2020-09-24T00:00:00\",\"2020-09-25T00:00:00\",\"2020-09-28T00:00:00\",\"2020-09-29T00:00:00\",\"2020-09-30T00:00:00\",\"2020-10-01T00:00:00\",\"2020-10-02T00:00:00\",\"2020-10-05T00:00:00\",\"2020-10-06T00:00:00\",\"2020-10-07T00:00:00\",\"2020-10-08T00:00:00\",\"2020-10-09T00:00:00\",\"2020-10-12T00:00:00\",\"2020-10-13T00:00:00\",\"2020-10-14T00:00:00\",\"2020-10-15T00:00:00\",\"2020-10-16T00:00:00\",\"2020-10-19T00:00:00\",\"2020-10-20T00:00:00\",\"2020-10-21T00:00:00\",\"2020-10-22T00:00:00\",\"2020-10-23T00:00:00\",\"2020-10-26T00:00:00\",\"2020-10-27T00:00:00\",\"2020-10-28T00:00:00\",\"2020-10-29T00:00:00\",\"2020-10-30T00:00:00\",\"2020-11-02T00:00:00\",\"2020-11-03T00:00:00\",\"2020-11-04T00:00:00\",\"2020-11-05T00:00:00\",\"2020-11-06T00:00:00\",\"2020-11-09T00:00:00\",\"2020-11-10T00:00:00\",\"2020-11-11T00:00:00\",\"2020-11-12T00:00:00\",\"2020-11-13T00:00:00\",\"2020-11-16T00:00:00\",\"2020-11-17T00:00:00\",\"2020-11-18T00:00:00\",\"2020-11-19T00:00:00\",\"2020-11-20T00:00:00\",\"2020-11-23T00:00:00\",\"2020-11-24T00:00:00\",\"2020-11-25T00:00:00\",\"2020-11-27T00:00:00\",\"2020-11-30T00:00:00\",\"2020-12-01T00:00:00\",\"2020-12-02T00:00:00\",\"2020-12-03T00:00:00\",\"2020-12-04T00:00:00\",\"2020-12-07T00:00:00\",\"2020-12-08T00:00:00\",\"2020-12-09T00:00:00\",\"2020-12-10T00:00:00\",\"2020-12-11T00:00:00\",\"2020-12-14T00:00:00\",\"2020-12-15T00:00:00\",\"2020-12-16T00:00:00\",\"2020-12-17T00:00:00\",\"2020-12-18T00:00:00\",\"2020-12-21T00:00:00\",\"2020-12-22T00:00:00\",\"2020-12-23T00:00:00\",\"2020-12-24T00:00:00\",\"2020-12-28T00:00:00\",\"2020-12-29T00:00:00\",\"2020-12-30T00:00:00\",\"2020-12-31T00:00:00\",\"2021-01-04T00:00:00\",\"2021-01-05T00:00:00\",\"2021-01-06T00:00:00\",\"2021-01-07T00:00:00\",\"2021-01-08T00:00:00\",\"2021-01-11T00:00:00\",\"2021-01-12T00:00:00\",\"2021-01-13T00:00:00\",\"2021-01-14T00:00:00\",\"2021-01-15T00:00:00\",\"2021-01-19T00:00:00\",\"2021-01-20T00:00:00\",\"2021-01-21T00:00:00\",\"2021-01-22T00:00:00\",\"2021-01-25T00:00:00\",\"2021-01-26T00:00:00\",\"2021-01-27T00:00:00\",\"2021-01-28T00:00:00\",\"2021-01-29T00:00:00\",\"2021-02-01T00:00:00\",\"2021-02-02T00:00:00\",\"2021-02-03T00:00:00\",\"2021-02-04T00:00:00\",\"2021-02-05T00:00:00\",\"2021-02-08T00:00:00\",\"2021-02-09T00:00:00\",\"2021-02-10T00:00:00\",\"2021-02-11T00:00:00\",\"2021-02-12T00:00:00\",\"2021-02-16T00:00:00\",\"2021-02-17T00:00:00\",\"2021-02-18T00:00:00\",\"2021-02-19T00:00:00\",\"2021-02-22T00:00:00\",\"2021-02-23T00:00:00\",\"2021-02-24T00:00:00\",\"2021-02-25T00:00:00\",\"2021-02-26T00:00:00\",\"2021-03-01T00:00:00\",\"2021-03-02T00:00:00\",\"2021-03-03T00:00:00\",\"2021-03-04T00:00:00\",\"2021-03-05T00:00:00\",\"2021-03-08T00:00:00\",\"2021-03-09T00:00:00\",\"2021-03-10T00:00:00\",\"2021-03-11T00:00:00\",\"2021-03-12T00:00:00\",\"2021-03-15T00:00:00\",\"2021-03-16T00:00:00\",\"2021-03-17T00:00:00\",\"2021-03-18T00:00:00\",\"2021-03-19T00:00:00\",\"2021-03-22T00:00:00\",\"2021-03-23T00:00:00\",\"2021-03-24T00:00:00\",\"2021-03-25T00:00:00\",\"2021-03-26T00:00:00\",\"2021-03-29T00:00:00\",\"2021-03-30T00:00:00\",\"2021-03-31T00:00:00\",\"2021-04-01T00:00:00\",\"2021-04-05T00:00:00\",\"2021-04-06T00:00:00\",\"2021-04-07T00:00:00\",\"2021-04-08T00:00:00\",\"2021-04-09T00:00:00\",\"2021-04-12T00:00:00\",\"2021-04-13T00:00:00\",\"2021-04-14T00:00:00\",\"2021-04-15T00:00:00\",\"2021-04-16T00:00:00\",\"2021-04-19T00:00:00\",\"2021-04-20T00:00:00\",\"2021-04-21T00:00:00\",\"2021-04-22T00:00:00\",\"2021-04-23T00:00:00\",\"2021-04-26T00:00:00\",\"2021-04-27T00:00:00\",\"2021-04-28T00:00:00\",\"2021-04-29T00:00:00\",\"2021-04-30T00:00:00\",\"2021-05-03T00:00:00\",\"2021-05-04T00:00:00\",\"2021-05-05T00:00:00\",\"2021-05-06T00:00:00\",\"2021-05-07T00:00:00\",\"2021-05-10T00:00:00\",\"2021-05-11T00:00:00\",\"2021-05-12T00:00:00\",\"2021-05-13T00:00:00\",\"2021-05-14T00:00:00\",\"2021-05-17T00:00:00\",\"2021-05-18T00:00:00\",\"2021-05-19T00:00:00\",\"2021-05-20T00:00:00\",\"2021-05-21T00:00:00\",\"2021-05-24T00:00:00\",\"2021-05-25T00:00:00\",\"2021-05-26T00:00:00\",\"2021-05-27T00:00:00\",\"2021-05-28T00:00:00\",\"2021-06-01T00:00:00\",\"2021-06-02T00:00:00\",\"2021-06-03T00:00:00\",\"2021-06-04T00:00:00\",\"2021-06-07T00:00:00\",\"2021-06-08T00:00:00\",\"2021-06-09T00:00:00\",\"2021-06-10T00:00:00\",\"2021-06-11T00:00:00\",\"2021-06-14T00:00:00\",\"2021-06-15T00:00:00\",\"2021-06-16T00:00:00\",\"2021-06-17T00:00:00\",\"2021-06-18T00:00:00\",\"2021-06-21T00:00:00\",\"2021-06-22T00:00:00\",\"2021-06-23T00:00:00\",\"2021-06-24T00:00:00\",\"2021-06-25T00:00:00\",\"2021-06-28T00:00:00\",\"2021-06-29T00:00:00\",\"2021-06-30T00:00:00\",\"2021-07-01T00:00:00\",\"2021-07-02T00:00:00\",\"2021-07-06T00:00:00\",\"2021-07-07T00:00:00\",\"2021-07-08T00:00:00\",\"2021-07-09T00:00:00\",\"2021-07-12T00:00:00\",\"2021-07-13T00:00:00\",\"2021-07-14T00:00:00\",\"2021-07-15T00:00:00\",\"2021-07-16T00:00:00\",\"2021-07-19T00:00:00\",\"2021-07-20T00:00:00\",\"2021-07-21T00:00:00\",\"2021-07-22T00:00:00\",\"2021-07-23T00:00:00\",\"2021-07-26T00:00:00\",\"2021-07-27T00:00:00\",\"2021-07-28T00:00:00\",\"2021-07-29T00:00:00\",\"2021-07-30T00:00:00\",\"2021-08-02T00:00:00\",\"2021-08-03T00:00:00\",\"2021-08-04T00:00:00\",\"2021-08-05T00:00:00\",\"2021-08-06T00:00:00\",\"2021-08-09T00:00:00\",\"2021-08-10T00:00:00\",\"2021-08-11T00:00:00\",\"2021-08-12T00:00:00\",\"2021-08-13T00:00:00\",\"2021-08-16T00:00:00\",\"2021-08-17T00:00:00\",\"2021-08-18T00:00:00\",\"2021-08-19T00:00:00\",\"2021-08-20T00:00:00\",\"2021-08-23T00:00:00\",\"2021-08-24T00:00:00\",\"2021-08-25T00:00:00\",\"2021-08-26T00:00:00\",\"2021-08-27T00:00:00\",\"2021-08-30T00:00:00\",\"2021-08-31T00:00:00\",\"2021-09-01T00:00:00\",\"2021-09-02T00:00:00\",\"2021-09-03T00:00:00\",\"2021-09-07T00:00:00\",\"2021-09-08T00:00:00\",\"2021-09-09T00:00:00\",\"2021-09-10T00:00:00\",\"2021-09-13T00:00:00\",\"2021-09-14T00:00:00\",\"2021-09-15T00:00:00\",\"2021-09-16T00:00:00\",\"2021-09-17T00:00:00\",\"2021-09-20T00:00:00\",\"2021-09-21T00:00:00\",\"2021-09-22T00:00:00\",\"2021-09-23T00:00:00\",\"2021-09-24T00:00:00\"],\"xaxis\":\"x\",\"y\":[28.1775,28.264999,28.35,28.424999,28.577499,28.754998999999998,29.424999,29.3375,29.1975,29.469998999999998,29.3325,29.545,29.3125,29.215,29.202499,29.275,29.487499,28.577499,28.8475,28.467501000000002,28.4125,28.365,27.85,27.745001000000002,27.1325,27.52,27.577499,27.469998999999998,27.772499,26.780001000000002,26.9275,26.6425,26.674999,27.452499,27.43,27.530001000000002,27.987499,27.84,27.782498999999998,27.8575,27.695,27.9,27.592501000000002,27.2925,27.5,27.375,27.315001000000002,27.715,28.077499,28.3225,28.459999,28.76,28.844998999999998,29.1175,28.950001,29.184998999999998,29.200001,29.0875,28.897499,29.129998999999998,29.379998999999998,29.112499,29.1625,28.950001,28.9625,28.98,29.195,29.487499,29.692498999999998,29.684998999999998,29.725,29.7775,29.584999,30.0,29.85,30.112499,30.0,29.887501,30.105,30.4175,30.535,30.2325,30.2875,31.7575,31.995001000000002,32.077498999999996,32.282501,32.634997999999996,32.837502,32.912498,33.115002000000004,33.27,33.3675,33.880001,33.9175,33.775002,34.057499,34.107498,34.345001,33.977501000000004,34.285,34.27,34.4725,35.0,34.695,34.842499,34.764998999999996,34.737499,34.685001,34.8125,34.712502,34.825001,34.852501000000004,35.18,35.25,35.099998,35.5275,34.962502,35.314999,35.375,34.8475,35.227501000000004,35.919998,36.047501000000004,35.93,35.927502000000004,35.8125,36.055,36.072497999999996,35.932499,35.900002,35.735001000000004,35.400002,35.477501000000004,35.369999,35.352501000000004,35.470001,35.305,35.610001000000004,35.875,35.977501000000004,36.1175,35.98,36.022498999999996,36.275002,36.884997999999996,36.397498999999996,36.630001,36.689999,37.2575,38.467499,38.407501,38.112499,38.674999,39.002499,38.985001000000004,38.400002,37.817501,38.345001,38.5,38.724998,38.459998999999996,38.432499,38.5,38.355,38.4925,38.2925,38.395,38.584998999999996,38.474998,38.755001,38.8125,38.797501000000004,36.435001,36.790001000000004,36.875,35.830002,35.945,35.915001000000004,36.717499,36.380001,36.442501,36.282501,36.7925,36.252499,36.122501,36.177502000000004,36.112499,36.220001,35.922501000000004,35.755001,35.724998,36.0275,36.182499,36.467499,36.375,36.9925,37.205002,37.299999,37.619999,37.875,37.497501,37.645,37.950001,38.337502,38.4375,37.4725,37.474998,37.275002,39.82,39.262501,39.017502,39.264998999999996,39.650002,39.814999,39.974998,39.150002,39.830002,40.165001000000004,40.485001000000004,40.130001,39.465,39.375,39.557499,39.767502,40.107498,39.912498,40.035,40.025002,40.950001,40.91,41.200001,40.9375,40.677502000000004,40.522498999999996,40.215,40.125,40.6525,39.967499,39.747501,39.6175,40.0275,39.877499,39.474998,38.950001,37.884997999999996,37.497501,37.945,38.450001,38.4725,38.302502000000004,38.564999,38.502499,38.407501,38.544998,38.7425,38.952498999999996,39.014998999999996,38.9925,39.087502,39.182499,39.474998,39.945,40.105,39.1875,39.1525,39.2225,39.072497999999996,39.227501000000004,39.307499,39.822497999999996,40.9725,41.974998,42.467499,41.650002,43.5,43.092499,43.477501000000004,43.665001000000004,43.7775,43.7775,43.375,43.259997999999996,42.4925,42.794998,42.759997999999996,42.572497999999996,42.695,43.34,43.775002,43.762501,43.575001,43.157501,42.607498,42.487499,43.119999,42.264998999999996,41.875,42.2575,42.622501,42.299999,43.037498,43.125,43.099998,43.407501,43.720001,43.7575,43.717499,43.5425,43.669998,42.700001,42.525002,42.75,42.630001,42.540001000000004,43.1325,43.134997999999996,43.360001000000004,43.587502,43.637501,43.290001000000004,43.647498999999996,44.044998,44.474998,44.037498,44.842499,44.6525,44.325001,44.325001,44.3125,43.627499,43.0,42.540001000000004,41.3825,41.717499,41.7925,41.5,39.775002,38.7075,40.772498999999996,40.072497999999996,39.267502,39.625,40.487499,40.759997999999996,42.447497999999996,43.09,43.012501,43.2075,42.950001,43.4175,44.087502,44.775002,44.814999,44.634997999999996,43.200001,43.802502000000004,44.477501000000004,43.735001000000004,43.869999,44.490002000000004,45.072497999999996,45.647498999999996,45.080002,44.625,44.662498,44.330002,43.810001,43.759997999999996,42.5,42.0975,42.017502,43.419998,41.8125,41.952498999999996,41.66,41.91,41.220001,43.145,42.7425,42.470001,43.25,43.057499,43.352501000000004,43.695,43.7575,44.122501,44.452498999999996,43.439999,42.650002,41.7075,41.4175,40.654999,41.029999,41.0,40.532501,41.602501000000004,43.807499,43.970001,44.5625,46.294998,46.247501,46.637501,46.935001,47.372501,47.252499,46.695,46.517502,47.0,46.797501000000004,47.0,47.095001,46.587502,47.192501,47.057499,46.900002,46.93,46.805,46.997501,47.91,48.267502,48.407501,48.535,47.7925,47.837502,47.8475,48.105,47.887501,47.5075,46.970001,46.285,46.587502,46.8125,46.529999,45.849998,45.747501,46.307499,46.025002,46.572497999999996,45.955002,46.947497999999996,46.314999,46.355,47.375,47.677502000000004,47.125,47.3825,47.77,47.880001,47.4375,47.945,47.422501000000004,47.945,47.669998,48.112499,48.264998999999996,48.6525,48.747501,47.974998,47.575001,49.782501,50.145,51.7575,52.0,52.330002,51.512501,52.3825,51.84,52.327498999999996,52.540001000000004,52.305,52.9375,53.360001000000004,54.525002,54.200001,53.525002,53.662498,54.150002,54.287498,54.752499,55.037498,55.8125,56.627499,57.102501000000004,57.247501,56.557499,55.462502,55.237499,54.502499,56.235001000000004,55.880001,56.4375,55.537498,54.447497999999996,54.625,55.060001,55.195,54.205002,54.9375,55.25,55.955002,56.197497999999996,56.987499,56.8125,57.512501,57.695,56.990002000000004,55.552502000000004,55.91,56.365002000000004,53.630001,55.105,55.290001000000004,54.732498,55.575001,54.465,54.514998999999996,54.947497999999996,53.9575,55.650002,54.427502000000004,53.974998,54.797501000000004,52.787498,54.220001,54.762501,52.387501,51.075001,50.48,51.4925,52.494999,51.387501,49.75,47.907501,48.474998,47.0975,47.625,47.5,44.592499,44.932499,43.735001000000004,43.560001,42.877499,44.182499,45.665001000000004,45.072497999999996,46.115002000000004,45.237499,42.939999,43.372501,41.25,42.915001000000004,42.599998,42.622501,42.25,41.362499,41.345001,41.5,40.099998,39.215,37.037498,37.075001,38.959998999999996,39.375,39.6325,38.7225,35.994999,36.1325,37.174999,37.389998999999996,37.822497999999996,38.125,38.220001,37.712502,37.567501,38.27,38.549999,39.375,39.102501000000004,38.537498,38.5275,38.869999,38.947497999999996,39.0625,40.8125,41.5275,41.740002000000004,41.852501000000004,43.215,43.662498,43.099998,42.247501,42.762501,42.525002,42.8475,42.427502000000004,42.8125,42.427502000000004,42.797501000000004,42.950001,42.895,43.540001000000004,43.427502000000004,43.302502000000004,43.580002,43.57,43.922501000000004,43.985001000000004,43.6675,43.467499,42.580002,43.872501,45.0,45.5625,45.974998,46.212502,46.450001,47.087502,46.557499,47.505001,48.834998999999996,47.877499,47.915001000000004,47.1875,47.237499,47.4575,47.91,47.772498999999996,48.3125,48.697497999999996,49.112499,49.105,50.080002,49.669998,50.212502,49.799999,49.645,49.865002000000004,49.884997999999996,50.779999,50.7075,51.107498,51.84,51.7075,51.224998,51.099998,50.764998999999996,52.470001,52.459998999999996,52.7225,51.072497999999996,51.470001,50.474998,50.099998,49.355,46.927502000000004,46.602501000000004,46.567501,47.477501000000004,46.732498,45.880001,46.305,46.165001000000004,44.950001,45.049999,44.73,44.105,44.487499,44.057499,43.900002,43.860001000000004,46.07,45.77,46.627499,47.952498999999996,48.715,48.487499,48.674999,47.887501,48.224998,49.012501,49.919998,50.092499,49.700001,49.634997999999996,49.607498,49.442501,50.072497999999996,49.669998,50.7925,50.352501000000004,50.82,50.837502,50.202498999999996,49.799999,50.462502,50.827498999999996,50.612499,51.022498999999996,51.147498999999996,51.012501,51.0,51.447497999999996,50.912498,52.115002000000004,51.9175,52.2225,51.869999,52.115002000000004,52.189999,54.105,53.474998,51.3825,49.497501,49.077498999999996,48.852501000000004,50.049999,50.325001,49.904999,50.255001,50.790001000000004,50.865002000000004,51.07,52.654999,52.720001,53.247501,53.297501000000004,52.357498,51.465,51.965,51.025002,52.125,52.540001000000004,51.607498,52.0975,53.0,53.512501,53.709998999999996,53.465,54.517502,56.200001,55.0,54.432499,54.990002000000004,55.264998999999996,55.502499,55.345001,54.737499,55.2575,54.637501,55.0,55.134997999999996,55.224998,56.267502,55.764998999999996,54.607498,56.41,56.567501,56.455002,56.7575,56.982498,58.237499,58.724998,59.0975,58.342499,58.772498999999996,58.647498999999996,59.380001,60.290001000000004,60.525002,61.127499,60.790001000000004,61.855,62.2425,61.189999,61.810001,62.384997999999996,64.332497,64.262497,64.192497,64.684998,64.672501,64.574997,65.387497,65.282501,65.9375,65.91999799999999,66.449997,66.974998,66.385002,65.922501,65.647499,65.677498,66.735001,66.394997,66.650002,66.817497,64.577499,65.26750200000001,65.947502,66.870003,67.5,67.150002,67.202499,66.945,67.864998,69.25,69.89250200000001,69.949997,69.875,70.557503,70.1325,71.172501,71.20500200000001,72.779999,72.364998,72.48249799999999,74.059998,74.287498,73.447502,74.959999,74.290001,76.809998,77.650002,77.910004,79.175003,77.962502,78.397499,79.067497,79.297501,79.644997,79.480003,80.0625,77.514999,78.150002,81.112503,80.135002,80.23249799999999,76.074997,78.827499,80.879997,80.64250200000001,80.592499,78.54499799999999,80.900002,80.3675,81.047501,81.184998,78.839996,80.0,80.657501,79.654999,74.315002,75.237503,71.6325,70.275002,64.315002,70.57,75.917503,74.110001,73.879997,70.5,65.9375,69.285004,69.347504,63.985001000000004,66.222504,60.487499,61.877499,59.942501,61.8475,61.794998,57.02,59.09,62.6875,61.630001,63.1875,62.685001,63.900002,61.625,60.084998999999996,60.700001,62.724998,67.699997,65.684998,67.175003,67.077499,70.0,70.599998,71.845001,71.172501,69.487503,69.07,68.402496,68.967499,69.300003,70.449997,71.269997,71.182503,72.489998,71.5625,72.292503,73.764999,75.114998,75.805,76.410004,77.025002,79.457497,78.037498,76.127502,75.087502,78.292503,78.7575,79.16999799999999,79.665001,78.942497,80.875,79.035004,79.192497,79.8125,79.4375,80.1875,81.165001,81.097504,80.837502,82.5625,83.035004,86.974998,87.327499,86.18,83.3125,87.864998,88.787498,87.852501,88.660004,87.834999,91.0,91.25,90.175003,91.102501,88.3125,90.019997,91.279999,91.962502,92.5,93.852501,94.18,96.262497,95.334999,97.264999,94.839996,98.989998,96.5625,96.987503,96.417503,99.172501,96.692497,96.997498,90.987503,93.709999,94.3675,93.75,94.1875,102.885002,108.199997,109.1325,109.377502,110.404999,113.20500200000001,112.599998,111.970001,110.497498,114.43,114.83000200000001,116.0625,114.352501,115.98249799999999,115.75,119.262497,128.697495,124.697502,126.18,127.14250200000001,126.012497,127.58000200000001,132.759995,137.58999599999999,126.910004,120.07,113.949997,117.260002,120.360001,114.57,114.720001,118.33000200000001,115.230003,109.720001,110.400002,104.540001,112.68,111.620003,105.16999799999999,108.43,115.010002,114.550003,113.790001,117.639999,112.889999,113.910004,115.699997,114.620003,116.25,115.279999,120.059998,125.269997,121.0,118.720001,121.279999,119.959999,116.199997,116.66999799999999,117.449997,116.389999,114.010002,115.489998,115.050003,112.370003,111.059998,109.110001,109.660004,114.139999,117.949997,118.32,120.5,115.550003,117.190002,119.620003,119.440002,118.91999799999999,119.550003,118.610001,117.589996,118.639999,117.18,113.910004,115.550003,116.57,116.970001,121.010002,122.019997,123.519997,122.599998,122.309998,124.370003,124.529999,120.5,122.43,122.599998,124.339996,127.410004,128.899994,128.96000700000002,125.019997,131.610001,132.16000400000001,131.320007,133.990005,138.050003,135.580002,134.080002,133.520004,128.889999,127.720001,128.360001,132.429993,129.190002,128.5,128.759995,130.800003,128.779999,127.779999,128.66000400000001,133.800003,136.279999,143.070007,143.600006,143.429993,139.520004,135.830002,133.75,135.729996,135.759995,136.300003,137.350006,136.029999,136.619995,136.479996,135.899994,134.350006,135.490005,131.25,129.199997,130.240005,128.009995,123.760002,124.940002,124.68,122.589996,123.75,128.41000400000001,124.809998,121.75,120.980003,120.93,119.029999,121.690002,122.540001,120.400002,121.410004,125.699997,124.050003,122.879997,119.900002,120.33000200000001,123.33000200000001,122.82,119.540001,120.349998,121.650002,120.110001,121.650002,123.660004,123.870003,126.5,125.83000200000001,128.949997,129.800003,132.520004,132.440002,134.940002,133.820007,134.300003,133.509995,135.020004,132.360001,133.03999299999998,132.16000400000001,134.830002,135.009995,134.309998,136.470001,131.779999,132.03999299999998,131.190002,129.199997,127.889999,130.850006,129.41000400000001,123.5,123.400002,124.58000200000001,126.25,126.82,126.559998,123.160004,125.230003,127.82,126.010002,127.82,126.959999,126.440002,125.57,125.08000200000001,124.279999,124.68,124.07,126.16999799999999,126.599998,127.209999,127.019997,126.529999,127.82,129.940002,130.369995,129.800003,130.71000700000002,130.300003,132.130005,133.770004,134.449997,133.46000700000002,133.41000400000001,134.800003,136.169998,136.600006,137.899994,140.070007,143.53999299999998,141.580002,142.75,146.21000700000002,144.029999,148.100006,149.240005,148.46000700000002,143.75,143.46000700000002,145.529999,145.940002,147.550003,148.270004,149.119995,144.809998,144.690002,144.380005,146.360001,145.809998,147.270004,146.979996,146.350006,146.199997,146.440002,146.050003,146.190002,148.970001,148.53999299999998,150.229996,149.800003,145.029999,147.440002,148.309998,149.449997,149.809998,148.350006,147.479996,149.0,152.66000400000001,152.830002,153.869995,153.759995,154.970001,156.979996,155.490005,155.0,150.630005,150.350006,148.559998,148.440002,148.820007,143.800003,143.929993,144.449997,146.649994,145.66000400000001],\"yaxis\":\"y\"},{\"hovertemplate\":\"variable=close<br>Date=%{x}<br>Stock value=%{y}<extra></extra>\",\"legendgroup\":\"close\",\"line\":{\"color\":\"#EF553B\",\"dash\":\"solid\"},\"marker\":{\"symbol\":\"circle\"},\"mode\":\"lines\",\"name\":\"Stock Close Price\",\"showlegend\":true,\"type\":\"scattergl\",\"x\":[\"2016-10-03T00:00:00\",\"2016-10-04T00:00:00\",\"2016-10-05T00:00:00\",\"2016-10-06T00:00:00\",\"2016-10-07T00:00:00\",\"2016-10-10T00:00:00\",\"2016-10-11T00:00:00\",\"2016-10-12T00:00:00\",\"2016-10-13T00:00:00\",\"2016-10-14T00:00:00\",\"2016-10-17T00:00:00\",\"2016-10-18T00:00:00\",\"2016-10-19T00:00:00\",\"2016-10-20T00:00:00\",\"2016-10-21T00:00:00\",\"2016-10-24T00:00:00\",\"2016-10-25T00:00:00\",\"2016-10-26T00:00:00\",\"2016-10-27T00:00:00\",\"2016-10-28T00:00:00\",\"2016-10-31T00:00:00\",\"2016-11-01T00:00:00\",\"2016-11-02T00:00:00\",\"2016-11-03T00:00:00\",\"2016-11-04T00:00:00\",\"2016-11-07T00:00:00\",\"2016-11-08T00:00:00\",\"2016-11-09T00:00:00\",\"2016-11-10T00:00:00\",\"2016-11-11T00:00:00\",\"2016-11-14T00:00:00\",\"2016-11-15T00:00:00\",\"2016-11-16T00:00:00\",\"2016-11-17T00:00:00\",\"2016-11-18T00:00:00\",\"2016-11-21T00:00:00\",\"2016-11-22T00:00:00\",\"2016-11-23T00:00:00\",\"2016-11-25T00:00:00\",\"2016-11-28T00:00:00\",\"2016-11-29T00:00:00\",\"2016-11-30T00:00:00\",\"2016-12-01T00:00:00\",\"2016-12-02T00:00:00\",\"2016-12-05T00:00:00\",\"2016-12-06T00:00:00\",\"2016-12-07T00:00:00\",\"2016-12-08T00:00:00\",\"2016-12-09T00:00:00\",\"2016-12-12T00:00:00\",\"2016-12-13T00:00:00\",\"2016-12-14T00:00:00\",\"2016-12-15T00:00:00\",\"2016-12-16T00:00:00\",\"2016-12-19T00:00:00\",\"2016-12-20T00:00:00\",\"2016-12-21T00:00:00\",\"2016-12-22T00:00:00\",\"2016-12-23T00:00:00\",\"2016-12-27T00:00:00\",\"2016-12-28T00:00:00\",\"2016-12-29T00:00:00\",\"2016-12-30T00:00:00\",\"2017-01-03T00:00:00\",\"2017-01-04T00:00:00\",\"2017-01-05T00:00:00\",\"2017-01-06T00:00:00\",\"2017-01-09T00:00:00\",\"2017-01-10T00:00:00\",\"2017-01-11T00:00:00\",\"2017-01-12T00:00:00\",\"2017-01-13T00:00:00\",\"2017-01-17T00:00:00\",\"2017-01-18T00:00:00\",\"2017-01-19T00:00:00\",\"2017-01-20T00:00:00\",\"2017-01-23T00:00:00\",\"2017-01-24T00:00:00\",\"2017-01-25T00:00:00\",\"2017-01-26T00:00:00\",\"2017-01-27T00:00:00\",\"2017-01-30T00:00:00\",\"2017-01-31T00:00:00\",\"2017-02-01T00:00:00\",\"2017-02-02T00:00:00\",\"2017-02-03T00:00:00\",\"2017-02-06T00:00:00\",\"2017-02-07T00:00:00\",\"2017-02-08T00:00:00\",\"2017-02-09T00:00:00\",\"2017-02-10T00:00:00\",\"2017-02-13T00:00:00\",\"2017-02-14T00:00:00\",\"2017-02-15T00:00:00\",\"2017-02-16T00:00:00\",\"2017-02-17T00:00:00\",\"2017-02-21T00:00:00\",\"2017-02-22T00:00:00\",\"2017-02-23T00:00:00\",\"2017-02-24T00:00:00\",\"2017-02-27T00:00:00\",\"2017-02-28T00:00:00\",\"2017-03-01T00:00:00\",\"2017-03-02T00:00:00\",\"2017-03-03T00:00:00\",\"2017-03-06T00:00:00\",\"2017-03-07T00:00:00\",\"2017-03-08T00:00:00\",\"2017-03-09T00:00:00\",\"2017-03-10T00:00:00\",\"2017-03-13T00:00:00\",\"2017-03-14T00:00:00\",\"2017-03-15T00:00:00\",\"2017-03-16T00:00:00\",\"2017-03-17T00:00:00\",\"2017-03-20T00:00:00\",\"2017-03-21T00:00:00\",\"2017-03-22T00:00:00\",\"2017-03-23T00:00:00\",\"2017-03-24T00:00:00\",\"2017-03-27T00:00:00\",\"2017-03-28T00:00:00\",\"2017-03-29T00:00:00\",\"2017-03-30T00:00:00\",\"2017-03-31T00:00:00\",\"2017-04-03T00:00:00\",\"2017-04-04T00:00:00\",\"2017-04-05T00:00:00\",\"2017-04-06T00:00:00\",\"2017-04-07T00:00:00\",\"2017-04-10T00:00:00\",\"2017-04-11T00:00:00\",\"2017-04-12T00:00:00\",\"2017-04-13T00:00:00\",\"2017-04-17T00:00:00\",\"2017-04-18T00:00:00\",\"2017-04-19T00:00:00\",\"2017-04-20T00:00:00\",\"2017-04-21T00:00:00\",\"2017-04-24T00:00:00\",\"2017-04-25T00:00:00\",\"2017-04-26T00:00:00\",\"2017-04-27T00:00:00\",\"2017-04-28T00:00:00\",\"2017-05-01T00:00:00\",\"2017-05-02T00:00:00\",\"2017-05-03T00:00:00\",\"2017-05-04T00:00:00\",\"2017-05-05T00:00:00\",\"2017-05-08T00:00:00\",\"2017-05-09T00:00:00\",\"2017-05-10T00:00:00\",\"2017-05-11T00:00:00\",\"2017-05-12T00:00:00\",\"2017-05-15T00:00:00\",\"2017-05-16T00:00:00\",\"2017-05-17T00:00:00\",\"2017-05-18T00:00:00\",\"2017-05-19T00:00:00\",\"2017-05-22T00:00:00\",\"2017-05-23T00:00:00\",\"2017-05-24T00:00:00\",\"2017-05-25T00:00:00\",\"2017-05-26T00:00:00\",\"2017-05-30T00:00:00\",\"2017-05-31T00:00:00\",\"2017-06-01T00:00:00\",\"2017-06-02T00:00:00\",\"2017-06-05T00:00:00\",\"2017-06-06T00:00:00\",\"2017-06-07T00:00:00\",\"2017-06-08T00:00:00\",\"2017-06-09T00:00:00\",\"2017-06-12T00:00:00\",\"2017-06-13T00:00:00\",\"2017-06-14T00:00:00\",\"2017-06-15T00:00:00\",\"2017-06-16T00:00:00\",\"2017-06-19T00:00:00\",\"2017-06-20T00:00:00\",\"2017-06-21T00:00:00\",\"2017-06-22T00:00:00\",\"2017-06-23T00:00:00\",\"2017-06-26T00:00:00\",\"2017-06-27T00:00:00\",\"2017-06-28T00:00:00\",\"2017-06-29T00:00:00\",\"2017-06-30T00:00:00\",\"2017-07-03T00:00:00\",\"2017-07-05T00:00:00\",\"2017-07-06T00:00:00\",\"2017-07-07T00:00:00\",\"2017-07-10T00:00:00\",\"2017-07-11T00:00:00\",\"2017-07-12T00:00:00\",\"2017-07-13T00:00:00\",\"2017-07-14T00:00:00\",\"2017-07-17T00:00:00\",\"2017-07-18T00:00:00\",\"2017-07-19T00:00:00\",\"2017-07-20T00:00:00\",\"2017-07-21T00:00:00\",\"2017-07-24T00:00:00\",\"2017-07-25T00:00:00\",\"2017-07-26T00:00:00\",\"2017-07-27T00:00:00\",\"2017-07-28T00:00:00\",\"2017-07-31T00:00:00\",\"2017-08-01T00:00:00\",\"2017-08-02T00:00:00\",\"2017-08-03T00:00:00\",\"2017-08-04T00:00:00\",\"2017-08-07T00:00:00\",\"2017-08-08T00:00:00\",\"2017-08-09T00:00:00\",\"2017-08-10T00:00:00\",\"2017-08-11T00:00:00\",\"2017-08-14T00:00:00\",\"2017-08-15T00:00:00\",\"2017-08-16T00:00:00\",\"2017-08-17T00:00:00\",\"2017-08-18T00:00:00\",\"2017-08-21T00:00:00\",\"2017-08-22T00:00:00\",\"2017-08-23T00:00:00\",\"2017-08-24T00:00:00\",\"2017-08-25T00:00:00\",\"2017-08-28T00:00:00\",\"2017-08-29T00:00:00\",\"2017-08-30T00:00:00\",\"2017-08-31T00:00:00\",\"2017-09-01T00:00:00\",\"2017-09-05T00:00:00\",\"2017-09-06T00:00:00\",\"2017-09-07T00:00:00\",\"2017-09-08T00:00:00\",\"2017-09-11T00:00:00\",\"2017-09-12T00:00:00\",\"2017-09-13T00:00:00\",\"2017-09-14T00:00:00\",\"2017-09-15T00:00:00\",\"2017-09-18T00:00:00\",\"2017-09-19T00:00:00\",\"2017-09-20T00:00:00\",\"2017-09-21T00:00:00\",\"2017-09-22T00:00:00\",\"2017-09-25T00:00:00\",\"2017-09-26T00:00:00\",\"2017-09-27T00:00:00\",\"2017-09-28T00:00:00\",\"2017-09-29T00:00:00\",\"2017-10-02T00:00:00\",\"2017-10-03T00:00:00\",\"2017-10-04T00:00:00\",\"2017-10-05T00:00:00\",\"2017-10-06T00:00:00\",\"2017-10-09T00:00:00\",\"2017-10-10T00:00:00\",\"2017-10-11T00:00:00\",\"2017-10-12T00:00:00\",\"2017-10-13T00:00:00\",\"2017-10-16T00:00:00\",\"2017-10-17T00:00:00\",\"2017-10-18T00:00:00\",\"2017-10-19T00:00:00\",\"2017-10-20T00:00:00\",\"2017-10-23T00:00:00\",\"2017-10-24T00:00:00\",\"2017-10-25T00:00:00\",\"2017-10-26T00:00:00\",\"2017-10-27T00:00:00\",\"2017-10-30T00:00:00\",\"2017-10-31T00:00:00\",\"2017-11-01T00:00:00\",\"2017-11-02T00:00:00\",\"2017-11-03T00:00:00\",\"2017-11-06T00:00:00\",\"2017-11-07T00:00:00\",\"2017-11-08T00:00:00\",\"2017-11-09T00:00:00\",\"2017-11-10T00:00:00\",\"2017-11-13T00:00:00\",\"2017-11-14T00:00:00\",\"2017-11-15T00:00:00\",\"2017-11-16T00:00:00\",\"2017-11-17T00:00:00\",\"2017-11-20T00:00:00\",\"2017-11-21T00:00:00\",\"2017-11-22T00:00:00\",\"2017-11-24T00:00:00\",\"2017-11-27T00:00:00\",\"2017-11-28T00:00:00\",\"2017-11-29T00:00:00\",\"2017-11-30T00:00:00\",\"2017-12-01T00:00:00\",\"2017-12-04T00:00:00\",\"2017-12-05T00:00:00\",\"2017-12-06T00:00:00\",\"2017-12-07T00:00:00\",\"2017-12-08T00:00:00\",\"2017-12-11T00:00:00\",\"2017-12-12T00:00:00\",\"2017-12-13T00:00:00\",\"2017-12-14T00:00:00\",\"2017-12-15T00:00:00\",\"2017-12-18T00:00:00\",\"2017-12-19T00:00:00\",\"2017-12-20T00:00:00\",\"2017-12-21T00:00:00\",\"2017-12-22T00:00:00\",\"2017-12-26T00:00:00\",\"2017-12-27T00:00:00\",\"2017-12-28T00:00:00\",\"2017-12-29T00:00:00\",\"2018-01-02T00:00:00\",\"2018-01-03T00:00:00\",\"2018-01-04T00:00:00\",\"2018-01-05T00:00:00\",\"2018-01-08T00:00:00\",\"2018-01-09T00:00:00\",\"2018-01-10T00:00:00\",\"2018-01-11T00:00:00\",\"2018-01-12T00:00:00\",\"2018-01-16T00:00:00\",\"2018-01-17T00:00:00\",\"2018-01-18T00:00:00\",\"2018-01-19T00:00:00\",\"2018-01-22T00:00:00\",\"2018-01-23T00:00:00\",\"2018-01-24T00:00:00\",\"2018-01-25T00:00:00\",\"2018-01-26T00:00:00\",\"2018-01-29T00:00:00\",\"2018-01-30T00:00:00\",\"2018-01-31T00:00:00\",\"2018-02-01T00:00:00\",\"2018-02-02T00:00:00\",\"2018-02-05T00:00:00\",\"2018-02-06T00:00:00\",\"2018-02-07T00:00:00\",\"2018-02-08T00:00:00\",\"2018-02-09T00:00:00\",\"2018-02-12T00:00:00\",\"2018-02-13T00:00:00\",\"2018-02-14T00:00:00\",\"2018-02-15T00:00:00\",\"2018-02-16T00:00:00\",\"2018-02-20T00:00:00\",\"2018-02-21T00:00:00\",\"2018-02-22T00:00:00\",\"2018-02-23T00:00:00\",\"2018-02-26T00:00:00\",\"2018-02-27T00:00:00\",\"2018-02-28T00:00:00\",\"2018-03-01T00:00:00\",\"2018-03-02T00:00:00\",\"2018-03-05T00:00:00\",\"2018-03-06T00:00:00\",\"2018-03-07T00:00:00\",\"2018-03-08T00:00:00\",\"2018-03-09T00:00:00\",\"2018-03-12T00:00:00\",\"2018-03-13T00:00:00\",\"2018-03-14T00:00:00\",\"2018-03-15T00:00:00\",\"2018-03-16T00:00:00\",\"2018-03-19T00:00:00\",\"2018-03-20T00:00:00\",\"2018-03-21T00:00:00\",\"2018-03-22T00:00:00\",\"2018-03-23T00:00:00\",\"2018-03-26T00:00:00\",\"2018-03-27T00:00:00\",\"2018-03-28T00:00:00\",\"2018-03-29T00:00:00\",\"2018-04-02T00:00:00\",\"2018-04-03T00:00:00\",\"2018-04-04T00:00:00\",\"2018-04-05T00:00:00\",\"2018-04-06T00:00:00\",\"2018-04-09T00:00:00\",\"2018-04-10T00:00:00\",\"2018-04-11T00:00:00\",\"2018-04-12T00:00:00\",\"2018-04-13T00:00:00\",\"2018-04-16T00:00:00\",\"2018-04-17T00:00:00\",\"2018-04-18T00:00:00\",\"2018-04-19T00:00:00\",\"2018-04-20T00:00:00\",\"2018-04-23T00:00:00\",\"2018-04-24T00:00:00\",\"2018-04-25T00:00:00\",\"2018-04-26T00:00:00\",\"2018-04-27T00:00:00\",\"2018-04-30T00:00:00\",\"2018-05-01T00:00:00\",\"2018-05-02T00:00:00\",\"2018-05-03T00:00:00\",\"2018-05-04T00:00:00\",\"2018-05-07T00:00:00\",\"2018-05-08T00:00:00\",\"2018-05-09T00:00:00\",\"2018-05-10T00:00:00\",\"2018-05-11T00:00:00\",\"2018-05-14T00:00:00\",\"2018-05-15T00:00:00\",\"2018-05-16T00:00:00\",\"2018-05-17T00:00:00\",\"2018-05-18T00:00:00\",\"2018-05-21T00:00:00\",\"2018-05-22T00:00:00\",\"2018-05-23T00:00:00\",\"2018-05-24T00:00:00\",\"2018-05-25T00:00:00\",\"2018-05-29T00:00:00\",\"2018-05-30T00:00:00\",\"2018-05-31T00:00:00\",\"2018-06-01T00:00:00\",\"2018-06-04T00:00:00\",\"2018-06-05T00:00:00\",\"2018-06-06T00:00:00\",\"2018-06-07T00:00:00\",\"2018-06-08T00:00:00\",\"2018-06-11T00:00:00\",\"2018-06-12T00:00:00\",\"2018-06-13T00:00:00\",\"2018-06-14T00:00:00\",\"2018-06-15T00:00:00\",\"2018-06-18T00:00:00\",\"2018-06-19T00:00:00\",\"2018-06-20T00:00:00\",\"2018-06-21T00:00:00\",\"2018-06-22T00:00:00\",\"2018-06-25T00:00:00\",\"2018-06-26T00:00:00\",\"2018-06-27T00:00:00\",\"2018-06-28T00:00:00\",\"2018-06-29T00:00:00\",\"2018-07-02T00:00:00\",\"2018-07-03T00:00:00\",\"2018-07-05T00:00:00\",\"2018-07-06T00:00:00\",\"2018-07-09T00:00:00\",\"2018-07-10T00:00:00\",\"2018-07-11T00:00:00\",\"2018-07-12T00:00:00\",\"2018-07-13T00:00:00\",\"2018-07-16T00:00:00\",\"2018-07-17T00:00:00\",\"2018-07-18T00:00:00\",\"2018-07-19T00:00:00\",\"2018-07-20T00:00:00\",\"2018-07-23T00:00:00\",\"2018-07-24T00:00:00\",\"2018-07-25T00:00:00\",\"2018-07-26T00:00:00\",\"2018-07-27T00:00:00\",\"2018-07-30T00:00:00\",\"2018-07-31T00:00:00\",\"2018-08-01T00:00:00\",\"2018-08-02T00:00:00\",\"2018-08-03T00:00:00\",\"2018-08-06T00:00:00\",\"2018-08-07T00:00:00\",\"2018-08-08T00:00:00\",\"2018-08-09T00:00:00\",\"2018-08-10T00:00:00\",\"2018-08-13T00:00:00\",\"2018-08-14T00:00:00\",\"2018-08-15T00:00:00\",\"2018-08-16T00:00:00\",\"2018-08-17T00:00:00\",\"2018-08-20T00:00:00\",\"2018-08-21T00:00:00\",\"2018-08-22T00:00:00\",\"2018-08-23T00:00:00\",\"2018-08-24T00:00:00\",\"2018-08-27T00:00:00\",\"2018-08-28T00:00:00\",\"2018-08-29T00:00:00\",\"2018-08-30T00:00:00\",\"2018-08-31T00:00:00\",\"2018-09-04T00:00:00\",\"2018-09-05T00:00:00\",\"2018-09-06T00:00:00\",\"2018-09-07T00:00:00\",\"2018-09-10T00:00:00\",\"2018-09-11T00:00:00\",\"2018-09-12T00:00:00\",\"2018-09-13T00:00:00\",\"2018-09-14T00:00:00\",\"2018-09-17T00:00:00\",\"2018-09-18T00:00:00\",\"2018-09-19T00:00:00\",\"2018-09-20T00:00:00\",\"2018-09-21T00:00:00\",\"2018-09-24T00:00:00\",\"2018-09-25T00:00:00\",\"2018-09-26T00:00:00\",\"2018-09-27T00:00:00\",\"2018-09-28T00:00:00\",\"2018-10-01T00:00:00\",\"2018-10-02T00:00:00\",\"2018-10-03T00:00:00\",\"2018-10-04T00:00:00\",\"2018-10-05T00:00:00\",\"2018-10-08T00:00:00\",\"2018-10-09T00:00:00\",\"2018-10-10T00:00:00\",\"2018-10-11T00:00:00\",\"2018-10-12T00:00:00\",\"2018-10-15T00:00:00\",\"2018-10-16T00:00:00\",\"2018-10-17T00:00:00\",\"2018-10-18T00:00:00\",\"2018-10-19T00:00:00\",\"2018-10-22T00:00:00\",\"2018-10-23T00:00:00\",\"2018-10-24T00:00:00\",\"2018-10-25T00:00:00\",\"2018-10-26T00:00:00\",\"2018-10-29T00:00:00\",\"2018-10-30T00:00:00\",\"2018-10-31T00:00:00\",\"2018-11-01T00:00:00\",\"2018-11-02T00:00:00\",\"2018-11-05T00:00:00\",\"2018-11-06T00:00:00\",\"2018-11-07T00:00:00\",\"2018-11-08T00:00:00\",\"2018-11-09T00:00:00\",\"2018-11-12T00:00:00\",\"2018-11-13T00:00:00\",\"2018-11-14T00:00:00\",\"2018-11-15T00:00:00\",\"2018-11-16T00:00:00\",\"2018-11-19T00:00:00\",\"2018-11-20T00:00:00\",\"2018-11-21T00:00:00\",\"2018-11-23T00:00:00\",\"2018-11-26T00:00:00\",\"2018-11-27T00:00:00\",\"2018-11-28T00:00:00\",\"2018-11-29T00:00:00\",\"2018-11-30T00:00:00\",\"2018-12-03T00:00:00\",\"2018-12-04T00:00:00\",\"2018-12-06T00:00:00\",\"2018-12-07T00:00:00\",\"2018-12-10T00:00:00\",\"2018-12-11T00:00:00\",\"2018-12-12T00:00:00\",\"2018-12-13T00:00:00\",\"2018-12-14T00:00:00\",\"2018-12-17T00:00:00\",\"2018-12-18T00:00:00\",\"2018-12-19T00:00:00\",\"2018-12-20T00:00:00\",\"2018-12-21T00:00:00\",\"2018-12-24T00:00:00\",\"2018-12-26T00:00:00\",\"2018-12-27T00:00:00\",\"2018-12-28T00:00:00\",\"2018-12-31T00:00:00\",\"2019-01-02T00:00:00\",\"2019-01-03T00:00:00\",\"2019-01-04T00:00:00\",\"2019-01-07T00:00:00\",\"2019-01-08T00:00:00\",\"2019-01-09T00:00:00\",\"2019-01-10T00:00:00\",\"2019-01-11T00:00:00\",\"2019-01-14T00:00:00\",\"2019-01-15T00:00:00\",\"2019-01-16T00:00:00\",\"2019-01-17T00:00:00\",\"2019-01-18T00:00:00\",\"2019-01-22T00:00:00\",\"2019-01-23T00:00:00\",\"2019-01-24T00:00:00\",\"2019-01-25T00:00:00\",\"2019-01-28T00:00:00\",\"2019-01-29T00:00:00\",\"2019-01-30T00:00:00\",\"2019-01-31T00:00:00\",\"2019-02-01T00:00:00\",\"2019-02-04T00:00:00\",\"2019-02-05T00:00:00\",\"2019-02-06T00:00:00\",\"2019-02-07T00:00:00\",\"2019-02-08T00:00:00\",\"2019-02-11T00:00:00\",\"2019-02-12T00:00:00\",\"2019-02-13T00:00:00\",\"2019-02-14T00:00:00\",\"2019-02-15T00:00:00\",\"2019-02-19T00:00:00\",\"2019-02-20T00:00:00\",\"2019-02-21T00:00:00\",\"2019-02-22T00:00:00\",\"2019-02-25T00:00:00\",\"2019-02-26T00:00:00\",\"2019-02-27T00:00:00\",\"2019-02-28T00:00:00\",\"2019-03-01T00:00:00\",\"2019-03-04T00:00:00\",\"2019-03-05T00:00:00\",\"2019-03-06T00:00:00\",\"2019-03-07T00:00:00\",\"2019-03-08T00:00:00\",\"2019-03-11T00:00:00\",\"2019-03-12T00:00:00\",\"2019-03-13T00:00:00\",\"2019-03-14T00:00:00\",\"2019-03-15T00:00:00\",\"2019-03-18T00:00:00\",\"2019-03-19T00:00:00\",\"2019-03-20T00:00:00\",\"2019-03-21T00:00:00\",\"2019-03-22T00:00:00\",\"2019-03-25T00:00:00\",\"2019-03-26T00:00:00\",\"2019-03-27T00:00:00\",\"2019-03-28T00:00:00\",\"2019-03-29T00:00:00\",\"2019-04-01T00:00:00\",\"2019-04-02T00:00:00\",\"2019-04-03T00:00:00\",\"2019-04-04T00:00:00\",\"2019-04-05T00:00:00\",\"2019-04-08T00:00:00\",\"2019-04-09T00:00:00\",\"2019-04-10T00:00:00\",\"2019-04-11T00:00:00\",\"2019-04-12T00:00:00\",\"2019-04-15T00:00:00\",\"2019-04-16T00:00:00\",\"2019-04-17T00:00:00\",\"2019-04-18T00:00:00\",\"2019-04-22T00:00:00\",\"2019-04-23T00:00:00\",\"2019-04-24T00:00:00\",\"2019-04-25T00:00:00\",\"2019-04-26T00:00:00\",\"2019-04-29T00:00:00\",\"2019-04-30T00:00:00\",\"2019-05-01T00:00:00\",\"2019-05-02T00:00:00\",\"2019-05-03T00:00:00\",\"2019-05-06T00:00:00\",\"2019-05-07T00:00:00\",\"2019-05-08T00:00:00\",\"2019-05-09T00:00:00\",\"2019-05-10T00:00:00\",\"2019-05-13T00:00:00\",\"2019-05-14T00:00:00\",\"2019-05-15T00:00:00\",\"2019-05-16T00:00:00\",\"2019-05-17T00:00:00\",\"2019-05-20T00:00:00\",\"2019-05-21T00:00:00\",\"2019-05-22T00:00:00\",\"2019-05-23T00:00:00\",\"2019-05-24T00:00:00\",\"2019-05-28T00:00:00\",\"2019-05-29T00:00:00\",\"2019-05-30T00:00:00\",\"2019-05-31T00:00:00\",\"2019-06-03T00:00:00\",\"2019-06-04T00:00:00\",\"2019-06-05T00:00:00\",\"2019-06-06T00:00:00\",\"2019-06-07T00:00:00\",\"2019-06-10T00:00:00\",\"2019-06-11T00:00:00\",\"2019-06-12T00:00:00\",\"2019-06-13T00:00:00\",\"2019-06-14T00:00:00\",\"2019-06-17T00:00:00\",\"2019-06-18T00:00:00\",\"2019-06-19T00:00:00\",\"2019-06-20T00:00:00\",\"2019-06-21T00:00:00\",\"2019-06-24T00:00:00\",\"2019-06-25T00:00:00\",\"2019-06-26T00:00:00\",\"2019-06-27T00:00:00\",\"2019-06-28T00:00:00\",\"2019-07-01T00:00:00\",\"2019-07-02T00:00:00\",\"2019-07-03T00:00:00\",\"2019-07-05T00:00:00\",\"2019-07-08T00:00:00\",\"2019-07-09T00:00:00\",\"2019-07-10T00:00:00\",\"2019-07-11T00:00:00\",\"2019-07-12T00:00:00\",\"2019-07-15T00:00:00\",\"2019-07-16T00:00:00\",\"2019-07-17T00:00:00\",\"2019-07-18T00:00:00\",\"2019-07-19T00:00:00\",\"2019-07-22T00:00:00\",\"2019-07-23T00:00:00\",\"2019-07-24T00:00:00\",\"2019-07-25T00:00:00\",\"2019-07-26T00:00:00\",\"2019-07-29T00:00:00\",\"2019-07-30T00:00:00\",\"2019-07-31T00:00:00\",\"2019-08-01T00:00:00\",\"2019-08-02T00:00:00\",\"2019-08-05T00:00:00\",\"2019-08-06T00:00:00\",\"2019-08-07T00:00:00\",\"2019-08-08T00:00:00\",\"2019-08-09T00:00:00\",\"2019-08-12T00:00:00\",\"2019-08-13T00:00:00\",\"2019-08-14T00:00:00\",\"2019-08-15T00:00:00\",\"2019-08-16T00:00:00\",\"2019-08-19T00:00:00\",\"2019-08-20T00:00:00\",\"2019-08-21T00:00:00\",\"2019-08-22T00:00:00\",\"2019-08-23T00:00:00\",\"2019-08-26T00:00:00\",\"2019-08-27T00:00:00\",\"2019-08-28T00:00:00\",\"2019-08-29T00:00:00\",\"2019-08-30T00:00:00\",\"2019-09-03T00:00:00\",\"2019-09-04T00:00:00\",\"2019-09-05T00:00:00\",\"2019-09-06T00:00:00\",\"2019-09-09T00:00:00\",\"2019-09-10T00:00:00\",\"2019-09-11T00:00:00\",\"2019-09-12T00:00:00\",\"2019-09-13T00:00:00\",\"2019-09-16T00:00:00\",\"2019-09-17T00:00:00\",\"2019-09-18T00:00:00\",\"2019-09-19T00:00:00\",\"2019-09-20T00:00:00\",\"2019-09-23T00:00:00\",\"2019-09-24T00:00:00\",\"2019-09-25T00:00:00\",\"2019-09-26T00:00:00\",\"2019-09-27T00:00:00\",\"2019-09-30T00:00:00\",\"2019-10-01T00:00:00\",\"2019-10-02T00:00:00\",\"2019-10-03T00:00:00\",\"2019-10-04T00:00:00\",\"2019-10-07T00:00:00\",\"2019-10-08T00:00:00\",\"2019-10-09T00:00:00\",\"2019-10-10T00:00:00\",\"2019-10-11T00:00:00\",\"2019-10-14T00:00:00\",\"2019-10-15T00:00:00\",\"2019-10-16T00:00:00\",\"2019-10-17T00:00:00\",\"2019-10-18T00:00:00\",\"2019-10-21T00:00:00\",\"2019-10-22T00:00:00\",\"2019-10-23T00:00:00\",\"2019-10-24T00:00:00\",\"2019-10-25T00:00:00\",\"2019-10-28T00:00:00\",\"2019-10-29T00:00:00\",\"2019-10-30T00:00:00\",\"2019-10-31T00:00:00\",\"2019-11-01T00:00:00\",\"2019-11-04T00:00:00\",\"2019-11-05T00:00:00\",\"2019-11-06T00:00:00\",\"2019-11-07T00:00:00\",\"2019-11-08T00:00:00\",\"2019-11-11T00:00:00\",\"2019-11-12T00:00:00\",\"2019-11-13T00:00:00\",\"2019-11-14T00:00:00\",\"2019-11-15T00:00:00\",\"2019-11-18T00:00:00\",\"2019-11-19T00:00:00\",\"2019-11-20T00:00:00\",\"2019-11-21T00:00:00\",\"2019-11-22T00:00:00\",\"2019-11-25T00:00:00\",\"2019-11-26T00:00:00\",\"2019-11-27T00:00:00\",\"2019-11-29T00:00:00\",\"2019-12-02T00:00:00\",\"2019-12-03T00:00:00\",\"2019-12-04T00:00:00\",\"2019-12-05T00:00:00\",\"2019-12-06T00:00:00\",\"2019-12-09T00:00:00\",\"2019-12-10T00:00:00\",\"2019-12-11T00:00:00\",\"2019-12-12T00:00:00\",\"2019-12-13T00:00:00\",\"2019-12-16T00:00:00\",\"2019-12-17T00:00:00\",\"2019-12-18T00:00:00\",\"2019-12-19T00:00:00\",\"2019-12-20T00:00:00\",\"2019-12-23T00:00:00\",\"2019-12-24T00:00:00\",\"2019-12-26T00:00:00\",\"2019-12-27T00:00:00\",\"2019-12-30T00:00:00\",\"2019-12-31T00:00:00\",\"2020-01-02T00:00:00\",\"2020-01-03T00:00:00\",\"2020-01-06T00:00:00\",\"2020-01-07T00:00:00\",\"2020-01-08T00:00:00\",\"2020-01-09T00:00:00\",\"2020-01-10T00:00:00\",\"2020-01-13T00:00:00\",\"2020-01-14T00:00:00\",\"2020-01-15T00:00:00\",\"2020-01-16T00:00:00\",\"2020-01-17T00:00:00\",\"2020-01-21T00:00:00\",\"2020-01-22T00:00:00\",\"2020-01-23T00:00:00\",\"2020-01-24T00:00:00\",\"2020-01-27T00:00:00\",\"2020-01-28T00:00:00\",\"2020-01-29T00:00:00\",\"2020-01-30T00:00:00\",\"2020-01-31T00:00:00\",\"2020-02-03T00:00:00\",\"2020-02-04T00:00:00\",\"2020-02-05T00:00:00\",\"2020-02-06T00:00:00\",\"2020-02-07T00:00:00\",\"2020-02-10T00:00:00\",\"2020-02-11T00:00:00\",\"2020-02-12T00:00:00\",\"2020-02-13T00:00:00\",\"2020-02-14T00:00:00\",\"2020-02-18T00:00:00\",\"2020-02-19T00:00:00\",\"2020-02-20T00:00:00\",\"2020-02-21T00:00:00\",\"2020-02-24T00:00:00\",\"2020-02-25T00:00:00\",\"2020-02-26T00:00:00\",\"2020-02-27T00:00:00\",\"2020-02-28T00:00:00\",\"2020-03-02T00:00:00\",\"2020-03-03T00:00:00\",\"2020-03-04T00:00:00\",\"2020-03-05T00:00:00\",\"2020-03-06T00:00:00\",\"2020-03-09T00:00:00\",\"2020-03-10T00:00:00\",\"2020-03-11T00:00:00\",\"2020-03-12T00:00:00\",\"2020-03-13T00:00:00\",\"2020-03-16T00:00:00\",\"2020-03-17T00:00:00\",\"2020-03-18T00:00:00\",\"2020-03-19T00:00:00\",\"2020-03-20T00:00:00\",\"2020-03-23T00:00:00\",\"2020-03-24T00:00:00\",\"2020-03-25T00:00:00\",\"2020-03-26T00:00:00\",\"2020-03-27T00:00:00\",\"2020-03-30T00:00:00\",\"2020-03-31T00:00:00\",\"2020-04-01T00:00:00\",\"2020-04-02T00:00:00\",\"2020-04-03T00:00:00\",\"2020-04-06T00:00:00\",\"2020-04-07T00:00:00\",\"2020-04-08T00:00:00\",\"2020-04-09T00:00:00\",\"2020-04-13T00:00:00\",\"2020-04-14T00:00:00\",\"2020-04-15T00:00:00\",\"2020-04-16T00:00:00\",\"2020-04-17T00:00:00\",\"2020-04-20T00:00:00\",\"2020-04-21T00:00:00\",\"2020-04-22T00:00:00\",\"2020-04-23T00:00:00\",\"2020-04-24T00:00:00\",\"2020-04-27T00:00:00\",\"2020-04-28T00:00:00\",\"2020-04-29T00:00:00\",\"2020-04-30T00:00:00\",\"2020-05-01T00:00:00\",\"2020-05-04T00:00:00\",\"2020-05-05T00:00:00\",\"2020-05-06T00:00:00\",\"2020-05-07T00:00:00\",\"2020-05-08T00:00:00\",\"2020-05-11T00:00:00\",\"2020-05-12T00:00:00\",\"2020-05-13T00:00:00\",\"2020-05-14T00:00:00\",\"2020-05-15T00:00:00\",\"2020-05-18T00:00:00\",\"2020-05-19T00:00:00\",\"2020-05-20T00:00:00\",\"2020-05-21T00:00:00\",\"2020-05-22T00:00:00\",\"2020-05-26T00:00:00\",\"2020-05-27T00:00:00\",\"2020-05-28T00:00:00\",\"2020-05-29T00:00:00\",\"2020-06-01T00:00:00\",\"2020-06-02T00:00:00\",\"2020-06-03T00:00:00\",\"2020-06-04T00:00:00\",\"2020-06-05T00:00:00\",\"2020-06-08T00:00:00\",\"2020-06-09T00:00:00\",\"2020-06-10T00:00:00\",\"2020-06-11T00:00:00\",\"2020-06-12T00:00:00\",\"2020-06-15T00:00:00\",\"2020-06-16T00:00:00\",\"2020-06-17T00:00:00\",\"2020-06-18T00:00:00\",\"2020-06-19T00:00:00\",\"2020-06-22T00:00:00\",\"2020-06-23T00:00:00\",\"2020-06-24T00:00:00\",\"2020-06-25T00:00:00\",\"2020-06-26T00:00:00\",\"2020-06-29T00:00:00\",\"2020-06-30T00:00:00\",\"2020-07-01T00:00:00\",\"2020-07-02T00:00:00\",\"2020-07-06T00:00:00\",\"2020-07-07T00:00:00\",\"2020-07-08T00:00:00\",\"2020-07-09T00:00:00\",\"2020-07-10T00:00:00\",\"2020-07-13T00:00:00\",\"2020-07-14T00:00:00\",\"2020-07-15T00:00:00\",\"2020-07-16T00:00:00\",\"2020-07-17T00:00:00\",\"2020-07-20T00:00:00\",\"2020-07-21T00:00:00\",\"2020-07-22T00:00:00\",\"2020-07-23T00:00:00\",\"2020-07-24T00:00:00\",\"2020-07-27T00:00:00\",\"2020-07-28T00:00:00\",\"2020-07-29T00:00:00\",\"2020-07-30T00:00:00\",\"2020-07-31T00:00:00\",\"2020-08-03T00:00:00\",\"2020-08-04T00:00:00\",\"2020-08-05T00:00:00\",\"2020-08-06T00:00:00\",\"2020-08-07T00:00:00\",\"2020-08-10T00:00:00\",\"2020-08-11T00:00:00\",\"2020-08-12T00:00:00\",\"2020-08-13T00:00:00\",\"2020-08-14T00:00:00\",\"2020-08-17T00:00:00\",\"2020-08-18T00:00:00\",\"2020-08-19T00:00:00\",\"2020-08-20T00:00:00\",\"2020-08-21T00:00:00\",\"2020-08-24T00:00:00\",\"2020-08-25T00:00:00\",\"2020-08-26T00:00:00\",\"2020-08-27T00:00:00\",\"2020-08-28T00:00:00\",\"2020-08-31T00:00:00\",\"2020-09-01T00:00:00\",\"2020-09-02T00:00:00\",\"2020-09-03T00:00:00\",\"2020-09-04T00:00:00\",\"2020-09-08T00:00:00\",\"2020-09-09T00:00:00\",\"2020-09-10T00:00:00\",\"2020-09-11T00:00:00\",\"2020-09-14T00:00:00\",\"2020-09-15T00:00:00\",\"2020-09-16T00:00:00\",\"2020-09-17T00:00:00\",\"2020-09-18T00:00:00\",\"2020-09-21T00:00:00\",\"2020-09-22T00:00:00\",\"2020-09-23T00:00:00\",\"2020-09-24T00:00:00\",\"2020-09-25T00:00:00\",\"2020-09-28T00:00:00\",\"2020-09-29T00:00:00\",\"2020-09-30T00:00:00\",\"2020-10-01T00:00:00\",\"2020-10-02T00:00:00\",\"2020-10-05T00:00:00\",\"2020-10-06T00:00:00\",\"2020-10-07T00:00:00\",\"2020-10-08T00:00:00\",\"2020-10-09T00:00:00\",\"2020-10-12T00:00:00\",\"2020-10-13T00:00:00\",\"2020-10-14T00:00:00\",\"2020-10-15T00:00:00\",\"2020-10-16T00:00:00\",\"2020-10-19T00:00:00\",\"2020-10-20T00:00:00\",\"2020-10-21T00:00:00\",\"2020-10-22T00:00:00\",\"2020-10-23T00:00:00\",\"2020-10-26T00:00:00\",\"2020-10-27T00:00:00\",\"2020-10-28T00:00:00\",\"2020-10-29T00:00:00\",\"2020-10-30T00:00:00\",\"2020-11-02T00:00:00\",\"2020-11-03T00:00:00\",\"2020-11-04T00:00:00\",\"2020-11-05T00:00:00\",\"2020-11-06T00:00:00\",\"2020-11-09T00:00:00\",\"2020-11-10T00:00:00\",\"2020-11-11T00:00:00\",\"2020-11-12T00:00:00\",\"2020-11-13T00:00:00\",\"2020-11-16T00:00:00\",\"2020-11-17T00:00:00\",\"2020-11-18T00:00:00\",\"2020-11-19T00:00:00\",\"2020-11-20T00:00:00\",\"2020-11-23T00:00:00\",\"2020-11-24T00:00:00\",\"2020-11-25T00:00:00\",\"2020-11-27T00:00:00\",\"2020-11-30T00:00:00\",\"2020-12-01T00:00:00\",\"2020-12-02T00:00:00\",\"2020-12-03T00:00:00\",\"2020-12-04T00:00:00\",\"2020-12-07T00:00:00\",\"2020-12-08T00:00:00\",\"2020-12-09T00:00:00\",\"2020-12-10T00:00:00\",\"2020-12-11T00:00:00\",\"2020-12-14T00:00:00\",\"2020-12-15T00:00:00\",\"2020-12-16T00:00:00\",\"2020-12-17T00:00:00\",\"2020-12-18T00:00:00\",\"2020-12-21T00:00:00\",\"2020-12-22T00:00:00\",\"2020-12-23T00:00:00\",\"2020-12-24T00:00:00\",\"2020-12-28T00:00:00\",\"2020-12-29T00:00:00\",\"2020-12-30T00:00:00\",\"2020-12-31T00:00:00\",\"2021-01-04T00:00:00\",\"2021-01-05T00:00:00\",\"2021-01-06T00:00:00\",\"2021-01-07T00:00:00\",\"2021-01-08T00:00:00\",\"2021-01-11T00:00:00\",\"2021-01-12T00:00:00\",\"2021-01-13T00:00:00\",\"2021-01-14T00:00:00\",\"2021-01-15T00:00:00\",\"2021-01-19T00:00:00\",\"2021-01-20T00:00:00\",\"2021-01-21T00:00:00\",\"2021-01-22T00:00:00\",\"2021-01-25T00:00:00\",\"2021-01-26T00:00:00\",\"2021-01-27T00:00:00\",\"2021-01-28T00:00:00\",\"2021-01-29T00:00:00\",\"2021-02-01T00:00:00\",\"2021-02-02T00:00:00\",\"2021-02-03T00:00:00\",\"2021-02-04T00:00:00\",\"2021-02-05T00:00:00\",\"2021-02-08T00:00:00\",\"2021-02-09T00:00:00\",\"2021-02-10T00:00:00\",\"2021-02-11T00:00:00\",\"2021-02-12T00:00:00\",\"2021-02-16T00:00:00\",\"2021-02-17T00:00:00\",\"2021-02-18T00:00:00\",\"2021-02-19T00:00:00\",\"2021-02-22T00:00:00\",\"2021-02-23T00:00:00\",\"2021-02-24T00:00:00\",\"2021-02-25T00:00:00\",\"2021-02-26T00:00:00\",\"2021-03-01T00:00:00\",\"2021-03-02T00:00:00\",\"2021-03-03T00:00:00\",\"2021-03-04T00:00:00\",\"2021-03-05T00:00:00\",\"2021-03-08T00:00:00\",\"2021-03-09T00:00:00\",\"2021-03-10T00:00:00\",\"2021-03-11T00:00:00\",\"2021-03-12T00:00:00\",\"2021-03-15T00:00:00\",\"2021-03-16T00:00:00\",\"2021-03-17T00:00:00\",\"2021-03-18T00:00:00\",\"2021-03-19T00:00:00\",\"2021-03-22T00:00:00\",\"2021-03-23T00:00:00\",\"2021-03-24T00:00:00\",\"2021-03-25T00:00:00\",\"2021-03-26T00:00:00\",\"2021-03-29T00:00:00\",\"2021-03-30T00:00:00\",\"2021-03-31T00:00:00\",\"2021-04-01T00:00:00\",\"2021-04-05T00:00:00\",\"2021-04-06T00:00:00\",\"2021-04-07T00:00:00\",\"2021-04-08T00:00:00\",\"2021-04-09T00:00:00\",\"2021-04-12T00:00:00\",\"2021-04-13T00:00:00\",\"2021-04-14T00:00:00\",\"2021-04-15T00:00:00\",\"2021-04-16T00:00:00\",\"2021-04-19T00:00:00\",\"2021-04-20T00:00:00\",\"2021-04-21T00:00:00\",\"2021-04-22T00:00:00\",\"2021-04-23T00:00:00\",\"2021-04-26T00:00:00\",\"2021-04-27T00:00:00\",\"2021-04-28T00:00:00\",\"2021-04-29T00:00:00\",\"2021-04-30T00:00:00\",\"2021-05-03T00:00:00\",\"2021-05-04T00:00:00\",\"2021-05-05T00:00:00\",\"2021-05-06T00:00:00\",\"2021-05-07T00:00:00\",\"2021-05-10T00:00:00\",\"2021-05-11T00:00:00\",\"2021-05-12T00:00:00\",\"2021-05-13T00:00:00\",\"2021-05-14T00:00:00\",\"2021-05-17T00:00:00\",\"2021-05-18T00:00:00\",\"2021-05-19T00:00:00\",\"2021-05-20T00:00:00\",\"2021-05-21T00:00:00\",\"2021-05-24T00:00:00\",\"2021-05-25T00:00:00\",\"2021-05-26T00:00:00\",\"2021-05-27T00:00:00\",\"2021-05-28T00:00:00\",\"2021-06-01T00:00:00\",\"2021-06-02T00:00:00\",\"2021-06-03T00:00:00\",\"2021-06-04T00:00:00\",\"2021-06-07T00:00:00\",\"2021-06-08T00:00:00\",\"2021-06-09T00:00:00\",\"2021-06-10T00:00:00\",\"2021-06-11T00:00:00\",\"2021-06-14T00:00:00\",\"2021-06-15T00:00:00\",\"2021-06-16T00:00:00\",\"2021-06-17T00:00:00\",\"2021-06-18T00:00:00\",\"2021-06-21T00:00:00\",\"2021-06-22T00:00:00\",\"2021-06-23T00:00:00\",\"2021-06-24T00:00:00\",\"2021-06-25T00:00:00\",\"2021-06-28T00:00:00\",\"2021-06-29T00:00:00\",\"2021-06-30T00:00:00\",\"2021-07-01T00:00:00\",\"2021-07-02T00:00:00\",\"2021-07-06T00:00:00\",\"2021-07-07T00:00:00\",\"2021-07-08T00:00:00\",\"2021-07-09T00:00:00\",\"2021-07-12T00:00:00\",\"2021-07-13T00:00:00\",\"2021-07-14T00:00:00\",\"2021-07-15T00:00:00\",\"2021-07-16T00:00:00\",\"2021-07-19T00:00:00\",\"2021-07-20T00:00:00\",\"2021-07-21T00:00:00\",\"2021-07-22T00:00:00\",\"2021-07-23T00:00:00\",\"2021-07-26T00:00:00\",\"2021-07-27T00:00:00\",\"2021-07-28T00:00:00\",\"2021-07-29T00:00:00\",\"2021-07-30T00:00:00\",\"2021-08-02T00:00:00\",\"2021-08-03T00:00:00\",\"2021-08-04T00:00:00\",\"2021-08-05T00:00:00\",\"2021-08-06T00:00:00\",\"2021-08-09T00:00:00\",\"2021-08-10T00:00:00\",\"2021-08-11T00:00:00\",\"2021-08-12T00:00:00\",\"2021-08-13T00:00:00\",\"2021-08-16T00:00:00\",\"2021-08-17T00:00:00\",\"2021-08-18T00:00:00\",\"2021-08-19T00:00:00\",\"2021-08-20T00:00:00\",\"2021-08-23T00:00:00\",\"2021-08-24T00:00:00\",\"2021-08-25T00:00:00\",\"2021-08-26T00:00:00\",\"2021-08-27T00:00:00\",\"2021-08-30T00:00:00\",\"2021-08-31T00:00:00\",\"2021-09-01T00:00:00\",\"2021-09-02T00:00:00\",\"2021-09-03T00:00:00\",\"2021-09-07T00:00:00\",\"2021-09-08T00:00:00\",\"2021-09-09T00:00:00\",\"2021-09-10T00:00:00\",\"2021-09-13T00:00:00\",\"2021-09-14T00:00:00\",\"2021-09-15T00:00:00\",\"2021-09-16T00:00:00\",\"2021-09-17T00:00:00\",\"2021-09-20T00:00:00\",\"2021-09-21T00:00:00\",\"2021-09-22T00:00:00\",\"2021-09-23T00:00:00\",\"2021-09-24T00:00:00\"],\"xaxis\":\"x\",\"y\":[28.129998999999998,28.25,28.262501,28.4725,28.514999,29.012501,29.075001,29.334999,29.245001000000002,29.407498999999998,29.387501,29.3675,29.280001000000002,29.264999,29.15,29.4125,29.5625,28.897499,28.620001000000002,28.43,28.385,27.872498999999998,27.897499,27.4575,27.209999,27.602501,27.764999,27.719998999999998,26.9475,27.1075,26.4275,26.7775,27.497498999999998,27.487499,27.514999,27.932501000000002,27.950001,27.807501000000002,27.9475,27.8925,27.865,27.629998999999998,27.372498999999998,27.475,27.2775,27.487499,27.7575,28.030001000000002,28.487499,28.325001,28.797501,28.797501,28.955,28.9925,29.16,29.237499,29.264999,29.0725,29.129998999999998,29.315001000000002,29.190001000000002,29.182501000000002,28.955,29.0375,29.004998999999998,29.1525,29.477501,29.747498999999998,29.7775,29.9375,29.8125,29.76,30.0,29.997498999999998,29.945,30.0,30.02,29.9925,30.469998999999998,30.485001,30.487499,30.407498999999998,30.3375,32.1875,32.1325,32.27,32.572497999999996,32.8825,33.009997999999996,33.105,33.029999,33.322497999999996,33.755001,33.877499,33.837502,33.93,34.174999,34.2775,34.1325,34.165001000000004,34.232498,34.247501,34.947497999999996,34.740002000000004,34.945,34.834998999999996,34.880001,34.75,34.669998,34.785,34.799999,34.747501,35.115002000000004,35.172501000000004,34.997501,35.365002000000004,34.959998999999996,35.355,35.23,35.16,35.220001,35.950001,36.029999,35.982498,35.915001000000004,35.924999,36.192501,36.005001,35.915001000000004,35.834998999999996,35.7925,35.407501,35.450001,35.262501,35.4575,35.299999,35.169998,35.610001000000004,35.567501,35.91,36.1325,35.919998,35.947497999999996,35.912498,36.645,36.877499,36.764998999999996,36.6325,37.240002000000004,38.252499,38.497501,38.314999,38.487499,39.025002,38.924999,38.8675,37.5625,38.134997999999996,38.264998999999996,38.497501,38.450001,38.334998999999996,38.467499,38.4025,38.4175,38.189999,38.294998,38.862499,38.482498,38.612499,38.842499,38.747501,37.244999,36.355,36.647498999999996,36.290001000000004,36.072497999999996,35.567501,36.584998999999996,36.252499,36.467499,36.407501,36.57,36.455002,35.932499,36.4575,35.919998,36.005001,35.875,36.022498999999996,35.682499,36.044998,36.264998999999996,36.3825,36.435001,36.942501,37.259997999999996,37.389998999999996,37.52,37.755001,37.584998999999996,37.567501,38.022498999999996,38.185001,38.365002000000004,37.639998999999996,37.375,37.182499,37.512501,39.285,38.892502,39.0975,39.702498999999996,40.02,40.264998999999996,38.830002,39.369999,39.962502,40.400002,40.237499,39.465,39.375,39.302502000000004,39.945,39.994999,39.817501,39.965,40.3675,40.727501000000004,40.837502,41.0,41.012501,40.52,40.477501000000004,40.314999,39.657501,40.375,40.215,39.912498,39.57,39.970001,39.6675,39.682499,39.017502,38.3475,37.9725,37.637501,38.285,38.557499,38.32,38.529999,38.452498999999996,38.619999,38.369999,38.8475,38.825001,38.959998999999996,38.974998,39.137501,39.0,39.247501,39.970001,40.1175,39.939999,38.994999,39.0625,39.0425,39.275002,39.102501000000004,39.352501000000004,40.762501,41.68,42.259997999999996,41.7225,42.0275,43.125,43.5625,43.702498999999996,44.060001,43.970001,43.6675,43.4925,42.834998999999996,42.27,42.775002,42.537498,42.494999,43.285,43.740002000000004,43.7425,43.522498999999996,43.267502,42.369999,42.962502,42.762501,42.450001,42.41,42.252499,42.330002,42.342499,43.1675,42.924999,43.067501,43.055,43.4925,44.105,43.634997999999996,43.587502,43.752499,43.752499,42.642502,42.650002,42.77,42.307499,43.064999,43.057499,43.2575,43.75,43.587502,43.5825,43.572497999999996,43.82,44.272498999999996,44.047501000000004,44.775002,44.814999,44.615002000000004,44.25,44.259997999999996,43.555,42.7775,42.877499,41.990002000000004,41.7425,41.857498,41.945,40.125,39.122501,40.7575,39.884997999999996,38.787498,39.102501000000004,40.677502000000004,41.084998999999996,41.842499,43.247501,43.107498,42.962502,42.767502,43.125,43.875,44.7425,44.5975,44.529999,43.75,44.052502000000004,44.205002,44.1675,43.7575,44.235001000000004,44.994999,45.43,44.9925,44.610001000000004,44.662498,44.505001,43.825001,43.810001,42.817501,42.212502,41.235001000000004,43.192501,42.084998999999996,41.619999,41.945,41.669998,42.0975,42.9025,43.200001,42.095001,42.512501,43.3125,43.110001000000004,43.535,43.682499,43.955002,44.560001,44.459998999999996,43.200001,41.43,41.310001,40.735001000000004,40.912498,41.055,40.580002,41.314999,42.275002,44.142502,44.2225,45.9575,46.290001000000004,46.512501,46.84,47.509997999999996,47.147498999999996,47.037498,46.610001000000004,47.044998,46.747501,46.577498999999996,46.907501,46.790001000000004,47.09,47.037498,47.145,46.974998,46.875,46.717499,47.560001,47.9575,48.327498999999996,48.494999,48.365002000000004,47.924999,47.807499,48.07,47.674999,47.700001,47.209998999999996,47.185001,46.422501000000004,46.625,46.365002000000004,46.23,45.5425,46.107498,46.040001000000004,46.375,46.2775,46.794998,45.98,46.349998,46.9925,47.645,47.587502,46.970001,47.7575,47.8325,47.727501000000004,47.862499,47.599998,47.970001,47.860001000000004,47.9025,48.25,48.705002,48.552502000000004,47.744999,47.477501000000004,47.572497999999996,50.375,51.8475,51.997501,52.267502,51.7775,51.8125,52.220001,51.8825,52.217499,52.4375,52.560001,53.330002,54.395,53.865002000000004,53.759997999999996,53.762501,53.872501,54.040001000000004,54.485001000000004,54.924999,55.744999,56.2575,56.907501,57.09,56.717499,55.775002,55.325001,54.5825,55.962502,55.267502,56.602501000000004,55.959998999999996,54.470001,54.560001,54.592499,55.0075,54.415001000000004,55.197497999999996,55.547501000000004,55.105,56.237499,56.435001,56.814999,57.32,58.017502,56.997501,56.072497999999996,55.942501,56.717499,54.09,53.612499,55.5275,54.34,55.537498,55.297501000000004,54.005001,54.827498999999996,55.162498,55.682499,53.772498999999996,54.950001,54.075001,53.060001,53.325001,54.715,55.555,51.869999,50.397498999999996,50.942501,52.487499,52.122501,51.1175,48.5425,48.057499,46.700001,47.852501000000004,48.3825,46.465,44.244999,44.195,43.072497999999996,43.654999,43.560001,45.235001000000004,44.887501,44.645,46.205002,44.172501000000004,43.68,42.122501,42.400002,42.157501,42.275002,42.737499,41.369999,40.985001000000004,41.517502,40.2225,39.2075,37.682499,36.7075,39.2925,39.037498,39.057499,39.435001,39.48,35.547501000000004,37.064999,36.982498,37.6875,38.327498999999996,38.450001,38.072497999999996,37.5,38.267502,38.735001000000004,38.965,39.205002,38.325001,38.48,38.174999,39.439999,39.075001,38.669998,41.3125,41.610001000000004,41.630001,42.8125,43.544998,43.560001,42.735001000000004,42.602501000000004,42.357498,42.7225,42.544998,42.700001,42.605,42.732498,43.0075,42.764998999999996,43.2425,43.557499,43.5825,43.717499,43.287498,43.7425,43.962502,43.8825,43.630001,43.125,43.227501000000004,44.724998,45.227501000000004,45.427502000000004,45.932499,46.529999,47.005001,46.6325,47.040001000000004,48.772498999999996,47.762501,47.185001,46.697497999999996,47.1175,47.18,47.487499,47.810001,48.505001,48.837502,48.922501000000004,49.25,50.025002,49.875,50.154999,49.737499,49.717499,49.807499,49.8125,50.782501,50.965,51.1325,51.869999,51.790001000000004,51.32,51.075001,51.1525,50.1675,52.630001,52.287498,52.9375,52.119999,50.715,50.724998,50.18,49.294998,46.43,47.165001000000004,47.73,47.52,47.25,45.772498999999996,46.650002,45.695,44.915001000000004,44.7425,44.557499,44.345001,44.575001,43.767502,43.325001,44.91,45.634997999999996,46.305,47.537498,48.145,48.702498999999996,48.547501000000004,48.537498,48.185001,48.4725,49.612499,49.467499,49.865002000000004,49.695,49.645,48.892502,49.950001,49.935001,49.48,50.387501,50.682499,51.102501000000004,51.057499,50.005001,50.310001,50.807499,50.4375,50.825001,51.302502000000004,51.125,50.837502,51.415001000000004,50.647498999999996,51.805,52.209998999999996,52.1675,51.755001,51.935001,52.419998,52.195,53.259997999999996,52.107498,51.005001,48.334998999999996,49.25,49.759997999999996,50.857498,50.247501,50.119999,52.2425,50.6875,50.435001,51.625,52.587502,52.59,53.16,53.115002000000004,50.66,51.622501,51.040001000000004,51.3825,52.252499,52.185001,51.424999,52.297501000000004,53.32,53.314999,53.5425,54.174999,55.897498999999996,55.772498999999996,54.6875,54.974998,55.174999,55.692501,55.240002000000004,54.432499,54.68,54.419998,55.2575,54.9725,54.705002,55.9925,56.147498999999996,54.740002000000004,55.205002,56.752499,56.764998999999996,56.099998,56.7575,57.522498999999996,59.052502000000004,58.967499,58.830002,58.592499,58.82,59.102501000000004,60.127499,59.990002000000004,60.794998,60.895,61.645,62.262501,60.822497999999996,60.814999,62.189999,63.955002,64.375,64.282501,64.309998,64.85749799999999,65.035004,65.550003,65.489998,66.1175,65.660004,66.440002,66.775002,66.572502,65.797501,65.502502,65.445,66.592499,66.072502,66.959999,66.8125,66.040001,64.862503,65.434998,66.394997,67.677498,66.730003,67.120003,67.692497,67.864998,68.787498,69.964996,70.102501,69.934998,70.004997,69.860001,71.0,71.067497,72.477501,72.449997,72.879997,73.412498,75.087502,74.35749799999999,74.949997,74.597504,75.797501,77.407501,77.582497,79.239998,78.16999799999999,77.834999,78.809998,79.682503,79.14250200000001,79.425003,79.807503,79.577499,77.237503,79.422501,81.084999,80.967499,77.377502,77.165001,79.712502,80.362503,81.302498,80.0075,80.387497,79.902496,81.800003,81.217499,81.237503,79.75,80.904999,80.074997,78.262497,74.54499799999999,72.019997,73.162498,68.379997,68.339996,74.702499,72.33000200000001,75.684998,73.230003,72.2575,66.542503,71.334999,68.85749799999999,62.057499,69.4925,60.552502000000004,63.215,61.6675,61.195,57.310001,56.092499,61.720001,61.380001,64.610001,61.935001,63.702498999999996,63.572497999999996,60.227501000000004,61.232498,60.352501000000004,65.6175,64.85749799999999,66.51750200000001,66.997498,68.3125,71.762497,71.10749799999999,71.672501,70.699997,69.23249799999999,67.092499,69.025002,68.7575,70.7425,70.792503,69.644997,71.932503,73.449997,72.26750200000001,73.290001,74.389999,75.157501,75.934998,77.532501,78.752502,77.852501,76.912498,77.385002,76.927498,78.739998,78.285004,79.807503,79.212502,79.722504,79.182503,79.527496,79.5625,79.485001,80.462502,80.834999,81.279999,80.58000200000001,82.875,83.364998,85.997498,88.209999,83.974998,84.699997,85.747498,88.019997,87.897499,87.932503,87.43,89.717499,91.6325,90.014999,91.209999,88.407501,90.445,91.199997,91.027496,91.027496,93.462502,93.172501,95.342499,95.752502,95.91999799999999,95.477501,97.057503,97.724998,96.522499,96.327499,98.35749799999999,97.0,97.272499,92.845001,92.614998,94.809998,93.252502,95.040001,96.190002,106.260002,108.9375,109.665001,110.0625,113.902496,111.112503,112.727501,109.375,113.010002,115.010002,114.907501,114.60749799999999,115.5625,115.707497,118.275002,124.370003,125.85749799999999,124.824997,126.522499,125.010002,124.807503,129.03999299999998,134.179993,131.399994,120.879997,120.959999,112.82,117.32,113.489998,112.0,115.360001,115.540001,112.129997,110.339996,106.839996,110.08000200000001,111.809998,107.120003,108.220001,112.279999,114.959999,114.089996,115.809998,116.790001,113.019997,116.5,113.160004,115.08000200000001,114.970001,116.970001,124.400002,121.099998,121.190002,120.709999,119.019997,115.980003,117.510002,116.870003,115.75,115.040001,115.050003,116.599998,111.199997,115.32,108.860001,108.769997,110.440002,114.949997,119.029999,118.690002,116.32,115.970001,119.489998,119.209999,119.260002,120.300003,119.389999,118.029999,118.639999,117.339996,113.849998,115.16999799999999,116.029999,116.589996,119.050003,122.720001,123.08000200000001,122.940002,122.25,123.75,124.379997,121.779999,123.239998,122.410004,121.779999,127.879997,127.809998,128.699997,126.660004,128.229996,131.880005,130.96000700000002,131.970001,136.690002,134.869995,133.720001,132.690002,129.41000400000001,131.009995,126.599998,130.919998,132.050003,128.979996,128.800003,130.889999,128.91000400000001,127.139999,127.83000200000001,132.029999,136.869995,139.070007,142.919998,143.16000400000001,142.059998,137.08999599999999,131.96000700000002,134.139999,134.990005,133.940002,137.389999,136.759995,136.91000400000001,136.009995,135.389999,135.130005,135.369995,133.190002,130.83999599999999,129.71000700000002,129.869995,126.0,125.860001,125.349998,120.989998,121.260002,127.790001,125.120003,122.059998,120.129997,121.41999799999999,116.360001,121.089996,119.980003,121.959999,121.029999,123.989998,125.57,124.760002,120.529999,119.989998,123.389999,122.540001,120.089996,120.589996,121.209999,121.389999,119.900002,122.150002,123.0,125.900002,126.209999,127.900002,130.360001,133.0,131.240005,134.429993,132.029999,134.5,134.16000400000001,134.83999599999999,133.110001,133.5,131.940002,134.320007,134.720001,134.389999,133.580002,133.479996,131.46000700000002,132.53999299999998,127.849998,128.100006,129.740005,130.21000700000002,126.849998,125.910004,122.769997,124.970001,127.449997,126.269997,124.849998,124.690002,127.309998,125.43,127.099998,126.900002,126.849998,125.279999,124.610001,124.279999,125.059998,123.540001,125.889999,125.900002,126.739998,127.129997,126.110001,127.349998,130.479996,129.639999,130.149994,131.78999299999998,130.46000700000002,132.300003,133.979996,133.699997,133.41000400000001,133.110001,134.779999,136.330002,136.96000700000002,137.270004,139.96000700000002,142.020004,144.570007,143.240005,145.110001,144.5,145.639999,149.149994,148.479996,146.389999,142.449997,146.149994,145.399994,146.800003,148.559998,148.990005,146.770004,144.979996,145.639999,145.860001,145.520004,147.360001,146.949997,147.059998,146.139999,146.08999599999999,145.600006,145.860001,148.889999,149.100006,151.119995,150.190002,146.360001,146.699997,148.190002,149.71000700000002,149.619995,148.360001,147.53999299999998,148.600006,153.119995,151.830002,152.509995,153.649994,154.300003,156.690002,155.110001,154.070007,148.970001,149.550003,148.119995,149.029999,148.78999299999998,146.059998,142.940002,143.429993,145.850006,146.830002,146.919998],\"yaxis\":\"y\"},{\"hovertemplate\":\"variable=high<br>Date=%{x}<br>Stock value=%{y}<extra></extra>\",\"legendgroup\":\"high\",\"line\":{\"color\":\"#00cc96\",\"dash\":\"solid\"},\"marker\":{\"symbol\":\"circle\"},\"mode\":\"lines\",\"name\":\"Stock High Price\",\"showlegend\":true,\"type\":\"scattergl\",\"x\":[\"2016-10-03T00:00:00\",\"2016-10-04T00:00:00\",\"2016-10-05T00:00:00\",\"2016-10-06T00:00:00\",\"2016-10-07T00:00:00\",\"2016-10-10T00:00:00\",\"2016-10-11T00:00:00\",\"2016-10-12T00:00:00\",\"2016-10-13T00:00:00\",\"2016-10-14T00:00:00\",\"2016-10-17T00:00:00\",\"2016-10-18T00:00:00\",\"2016-10-19T00:00:00\",\"2016-10-20T00:00:00\",\"2016-10-21T00:00:00\",\"2016-10-24T00:00:00\",\"2016-10-25T00:00:00\",\"2016-10-26T00:00:00\",\"2016-10-27T00:00:00\",\"2016-10-28T00:00:00\",\"2016-10-31T00:00:00\",\"2016-11-01T00:00:00\",\"2016-11-02T00:00:00\",\"2016-11-03T00:00:00\",\"2016-11-04T00:00:00\",\"2016-11-07T00:00:00\",\"2016-11-08T00:00:00\",\"2016-11-09T00:00:00\",\"2016-11-10T00:00:00\",\"2016-11-11T00:00:00\",\"2016-11-14T00:00:00\",\"2016-11-15T00:00:00\",\"2016-11-16T00:00:00\",\"2016-11-17T00:00:00\",\"2016-11-18T00:00:00\",\"2016-11-21T00:00:00\",\"2016-11-22T00:00:00\",\"2016-11-23T00:00:00\",\"2016-11-25T00:00:00\",\"2016-11-28T00:00:00\",\"2016-11-29T00:00:00\",\"2016-11-30T00:00:00\",\"2016-12-01T00:00:00\",\"2016-12-02T00:00:00\",\"2016-12-05T00:00:00\",\"2016-12-06T00:00:00\",\"2016-12-07T00:00:00\",\"2016-12-08T00:00:00\",\"2016-12-09T00:00:00\",\"2016-12-12T00:00:00\",\"2016-12-13T00:00:00\",\"2016-12-14T00:00:00\",\"2016-12-15T00:00:00\",\"2016-12-16T00:00:00\",\"2016-12-19T00:00:00\",\"2016-12-20T00:00:00\",\"2016-12-21T00:00:00\",\"2016-12-22T00:00:00\",\"2016-12-23T00:00:00\",\"2016-12-27T00:00:00\",\"2016-12-28T00:00:00\",\"2016-12-29T00:00:00\",\"2016-12-30T00:00:00\",\"2017-01-03T00:00:00\",\"2017-01-04T00:00:00\",\"2017-01-05T00:00:00\",\"2017-01-06T00:00:00\",\"2017-01-09T00:00:00\",\"2017-01-10T00:00:00\",\"2017-01-11T00:00:00\",\"2017-01-12T00:00:00\",\"2017-01-13T00:00:00\",\"2017-01-17T00:00:00\",\"2017-01-18T00:00:00\",\"2017-01-19T00:00:00\",\"2017-01-20T00:00:00\",\"2017-01-23T00:00:00\",\"2017-01-24T00:00:00\",\"2017-01-25T00:00:00\",\"2017-01-26T00:00:00\",\"2017-01-27T00:00:00\",\"2017-01-30T00:00:00\",\"2017-01-31T00:00:00\",\"2017-02-01T00:00:00\",\"2017-02-02T00:00:00\",\"2017-02-03T00:00:00\",\"2017-02-06T00:00:00\",\"2017-02-07T00:00:00\",\"2017-02-08T00:00:00\",\"2017-02-09T00:00:00\",\"2017-02-10T00:00:00\",\"2017-02-13T00:00:00\",\"2017-02-14T00:00:00\",\"2017-02-15T00:00:00\",\"2017-02-16T00:00:00\",\"2017-02-17T00:00:00\",\"2017-02-21T00:00:00\",\"2017-02-22T00:00:00\",\"2017-02-23T00:00:00\",\"2017-02-24T00:00:00\",\"2017-02-27T00:00:00\",\"2017-02-28T00:00:00\",\"2017-03-01T00:00:00\",\"2017-03-02T00:00:00\",\"2017-03-03T00:00:00\",\"2017-03-06T00:00:00\",\"2017-03-07T00:00:00\",\"2017-03-08T00:00:00\",\"2017-03-09T00:00:00\",\"2017-03-10T00:00:00\",\"2017-03-13T00:00:00\",\"2017-03-14T00:00:00\",\"2017-03-15T00:00:00\",\"2017-03-16T00:00:00\",\"2017-03-17T00:00:00\",\"2017-03-20T00:00:00\",\"2017-03-21T00:00:00\",\"2017-03-22T00:00:00\",\"2017-03-23T00:00:00\",\"2017-03-24T00:00:00\",\"2017-03-27T00:00:00\",\"2017-03-28T00:00:00\",\"2017-03-29T00:00:00\",\"2017-03-30T00:00:00\",\"2017-03-31T00:00:00\",\"2017-04-03T00:00:00\",\"2017-04-04T00:00:00\",\"2017-04-05T00:00:00\",\"2017-04-06T00:00:00\",\"2017-04-07T00:00:00\",\"2017-04-10T00:00:00\",\"2017-04-11T00:00:00\",\"2017-04-12T00:00:00\",\"2017-04-13T00:00:00\",\"2017-04-17T00:00:00\",\"2017-04-18T00:00:00\",\"2017-04-19T00:00:00\",\"2017-04-20T00:00:00\",\"2017-04-21T00:00:00\",\"2017-04-24T00:00:00\",\"2017-04-25T00:00:00\",\"2017-04-26T00:00:00\",\"2017-04-27T00:00:00\",\"2017-04-28T00:00:00\",\"2017-05-01T00:00:00\",\"2017-05-02T00:00:00\",\"2017-05-03T00:00:00\",\"2017-05-04T00:00:00\",\"2017-05-05T00:00:00\",\"2017-05-08T00:00:00\",\"2017-05-09T00:00:00\",\"2017-05-10T00:00:00\",\"2017-05-11T00:00:00\",\"2017-05-12T00:00:00\",\"2017-05-15T00:00:00\",\"2017-05-16T00:00:00\",\"2017-05-17T00:00:00\",\"2017-05-18T00:00:00\",\"2017-05-19T00:00:00\",\"2017-05-22T00:00:00\",\"2017-05-23T00:00:00\",\"2017-05-24T00:00:00\",\"2017-05-25T00:00:00\",\"2017-05-26T00:00:00\",\"2017-05-30T00:00:00\",\"2017-05-31T00:00:00\",\"2017-06-01T00:00:00\",\"2017-06-02T00:00:00\",\"2017-06-05T00:00:00\",\"2017-06-06T00:00:00\",\"2017-06-07T00:00:00\",\"2017-06-08T00:00:00\",\"2017-06-09T00:00:00\",\"2017-06-12T00:00:00\",\"2017-06-13T00:00:00\",\"2017-06-14T00:00:00\",\"2017-06-15T00:00:00\",\"2017-06-16T00:00:00\",\"2017-06-19T00:00:00\",\"2017-06-20T00:00:00\",\"2017-06-21T00:00:00\",\"2017-06-22T00:00:00\",\"2017-06-23T00:00:00\",\"2017-06-26T00:00:00\",\"2017-06-27T00:00:00\",\"2017-06-28T00:00:00\",\"2017-06-29T00:00:00\",\"2017-06-30T00:00:00\",\"2017-07-03T00:00:00\",\"2017-07-05T00:00:00\",\"2017-07-06T00:00:00\",\"2017-07-07T00:00:00\",\"2017-07-10T00:00:00\",\"2017-07-11T00:00:00\",\"2017-07-12T00:00:00\",\"2017-07-13T00:00:00\",\"2017-07-14T00:00:00\",\"2017-07-17T00:00:00\",\"2017-07-18T00:00:00\",\"2017-07-19T00:00:00\",\"2017-07-20T00:00:00\",\"2017-07-21T00:00:00\",\"2017-07-24T00:00:00\",\"2017-07-25T00:00:00\",\"2017-07-26T00:00:00\",\"2017-07-27T00:00:00\",\"2017-07-28T00:00:00\",\"2017-07-31T00:00:00\",\"2017-08-01T00:00:00\",\"2017-08-02T00:00:00\",\"2017-08-03T00:00:00\",\"2017-08-04T00:00:00\",\"2017-08-07T00:00:00\",\"2017-08-08T00:00:00\",\"2017-08-09T00:00:00\",\"2017-08-10T00:00:00\",\"2017-08-11T00:00:00\",\"2017-08-14T00:00:00\",\"2017-08-15T00:00:00\",\"2017-08-16T00:00:00\",\"2017-08-17T00:00:00\",\"2017-08-18T00:00:00\",\"2017-08-21T00:00:00\",\"2017-08-22T00:00:00\",\"2017-08-23T00:00:00\",\"2017-08-24T00:00:00\",\"2017-08-25T00:00:00\",\"2017-08-28T00:00:00\",\"2017-08-29T00:00:00\",\"2017-08-30T00:00:00\",\"2017-08-31T00:00:00\",\"2017-09-01T00:00:00\",\"2017-09-05T00:00:00\",\"2017-09-06T00:00:00\",\"2017-09-07T00:00:00\",\"2017-09-08T00:00:00\",\"2017-09-11T00:00:00\",\"2017-09-12T00:00:00\",\"2017-09-13T00:00:00\",\"2017-09-14T00:00:00\",\"2017-09-15T00:00:00\",\"2017-09-18T00:00:00\",\"2017-09-19T00:00:00\",\"2017-09-20T00:00:00\",\"2017-09-21T00:00:00\",\"2017-09-22T00:00:00\",\"2017-09-25T00:00:00\",\"2017-09-26T00:00:00\",\"2017-09-27T00:00:00\",\"2017-09-28T00:00:00\",\"2017-09-29T00:00:00\",\"2017-10-02T00:00:00\",\"2017-10-03T00:00:00\",\"2017-10-04T00:00:00\",\"2017-10-05T00:00:00\",\"2017-10-06T00:00:00\",\"2017-10-09T00:00:00\",\"2017-10-10T00:00:00\",\"2017-10-11T00:00:00\",\"2017-10-12T00:00:00\",\"2017-10-13T00:00:00\",\"2017-10-16T00:00:00\",\"2017-10-17T00:00:00\",\"2017-10-18T00:00:00\",\"2017-10-19T00:00:00\",\"2017-10-20T00:00:00\",\"2017-10-23T00:00:00\",\"2017-10-24T00:00:00\",\"2017-10-25T00:00:00\",\"2017-10-26T00:00:00\",\"2017-10-27T00:00:00\",\"2017-10-30T00:00:00\",\"2017-10-31T00:00:00\",\"2017-11-01T00:00:00\",\"2017-11-02T00:00:00\",\"2017-11-03T00:00:00\",\"2017-11-06T00:00:00\",\"2017-11-07T00:00:00\",\"2017-11-08T00:00:00\",\"2017-11-09T00:00:00\",\"2017-11-10T00:00:00\",\"2017-11-13T00:00:00\",\"2017-11-14T00:00:00\",\"2017-11-15T00:00:00\",\"2017-11-16T00:00:00\",\"2017-11-17T00:00:00\",\"2017-11-20T00:00:00\",\"2017-11-21T00:00:00\",\"2017-11-22T00:00:00\",\"2017-11-24T00:00:00\",\"2017-11-27T00:00:00\",\"2017-11-28T00:00:00\",\"2017-11-29T00:00:00\",\"2017-11-30T00:00:00\",\"2017-12-01T00:00:00\",\"2017-12-04T00:00:00\",\"2017-12-05T00:00:00\",\"2017-12-06T00:00:00\",\"2017-12-07T00:00:00\",\"2017-12-08T00:00:00\",\"2017-12-11T00:00:00\",\"2017-12-12T00:00:00\",\"2017-12-13T00:00:00\",\"2017-12-14T00:00:00\",\"2017-12-15T00:00:00\",\"2017-12-18T00:00:00\",\"2017-12-19T00:00:00\",\"2017-12-20T00:00:00\",\"2017-12-21T00:00:00\",\"2017-12-22T00:00:00\",\"2017-12-26T00:00:00\",\"2017-12-27T00:00:00\",\"2017-12-28T00:00:00\",\"2017-12-29T00:00:00\",\"2018-01-02T00:00:00\",\"2018-01-03T00:00:00\",\"2018-01-04T00:00:00\",\"2018-01-05T00:00:00\",\"2018-01-08T00:00:00\",\"2018-01-09T00:00:00\",\"2018-01-10T00:00:00\",\"2018-01-11T00:00:00\",\"2018-01-12T00:00:00\",\"2018-01-16T00:00:00\",\"2018-01-17T00:00:00\",\"2018-01-18T00:00:00\",\"2018-01-19T00:00:00\",\"2018-01-22T00:00:00\",\"2018-01-23T00:00:00\",\"2018-01-24T00:00:00\",\"2018-01-25T00:00:00\",\"2018-01-26T00:00:00\",\"2018-01-29T00:00:00\",\"2018-01-30T00:00:00\",\"2018-01-31T00:00:00\",\"2018-02-01T00:00:00\",\"2018-02-02T00:00:00\",\"2018-02-05T00:00:00\",\"2018-02-06T00:00:00\",\"2018-02-07T00:00:00\",\"2018-02-08T00:00:00\",\"2018-02-09T00:00:00\",\"2018-02-12T00:00:00\",\"2018-02-13T00:00:00\",\"2018-02-14T00:00:00\",\"2018-02-15T00:00:00\",\"2018-02-16T00:00:00\",\"2018-02-20T00:00:00\",\"2018-02-21T00:00:00\",\"2018-02-22T00:00:00\",\"2018-02-23T00:00:00\",\"2018-02-26T00:00:00\",\"2018-02-27T00:00:00\",\"2018-02-28T00:00:00\",\"2018-03-01T00:00:00\",\"2018-03-02T00:00:00\",\"2018-03-05T00:00:00\",\"2018-03-06T00:00:00\",\"2018-03-07T00:00:00\",\"2018-03-08T00:00:00\",\"2018-03-09T00:00:00\",\"2018-03-12T00:00:00\",\"2018-03-13T00:00:00\",\"2018-03-14T00:00:00\",\"2018-03-15T00:00:00\",\"2018-03-16T00:00:00\",\"2018-03-19T00:00:00\",\"2018-03-20T00:00:00\",\"2018-03-21T00:00:00\",\"2018-03-22T00:00:00\",\"2018-03-23T00:00:00\",\"2018-03-26T00:00:00\",\"2018-03-27T00:00:00\",\"2018-03-28T00:00:00\",\"2018-03-29T00:00:00\",\"2018-04-02T00:00:00\",\"2018-04-03T00:00:00\",\"2018-04-04T00:00:00\",\"2018-04-05T00:00:00\",\"2018-04-06T00:00:00\",\"2018-04-09T00:00:00\",\"2018-04-10T00:00:00\",\"2018-04-11T00:00:00\",\"2018-04-12T00:00:00\",\"2018-04-13T00:00:00\",\"2018-04-16T00:00:00\",\"2018-04-17T00:00:00\",\"2018-04-18T00:00:00\",\"2018-04-19T00:00:00\",\"2018-04-20T00:00:00\",\"2018-04-23T00:00:00\",\"2018-04-24T00:00:00\",\"2018-04-25T00:00:00\",\"2018-04-26T00:00:00\",\"2018-04-27T00:00:00\",\"2018-04-30T00:00:00\",\"2018-05-01T00:00:00\",\"2018-05-02T00:00:00\",\"2018-05-03T00:00:00\",\"2018-05-04T00:00:00\",\"2018-05-07T00:00:00\",\"2018-05-08T00:00:00\",\"2018-05-09T00:00:00\",\"2018-05-10T00:00:00\",\"2018-05-11T00:00:00\",\"2018-05-14T00:00:00\",\"2018-05-15T00:00:00\",\"2018-05-16T00:00:00\",\"2018-05-17T00:00:00\",\"2018-05-18T00:00:00\",\"2018-05-21T00:00:00\",\"2018-05-22T00:00:00\",\"2018-05-23T00:00:00\",\"2018-05-24T00:00:00\",\"2018-05-25T00:00:00\",\"2018-05-29T00:00:00\",\"2018-05-30T00:00:00\",\"2018-05-31T00:00:00\",\"2018-06-01T00:00:00\",\"2018-06-04T00:00:00\",\"2018-06-05T00:00:00\",\"2018-06-06T00:00:00\",\"2018-06-07T00:00:00\",\"2018-06-08T00:00:00\",\"2018-06-11T00:00:00\",\"2018-06-12T00:00:00\",\"2018-06-13T00:00:00\",\"2018-06-14T00:00:00\",\"2018-06-15T00:00:00\",\"2018-06-18T00:00:00\",\"2018-06-19T00:00:00\",\"2018-06-20T00:00:00\",\"2018-06-21T00:00:00\",\"2018-06-22T00:00:00\",\"2018-06-25T00:00:00\",\"2018-06-26T00:00:00\",\"2018-06-27T00:00:00\",\"2018-06-28T00:00:00\",\"2018-06-29T00:00:00\",\"2018-07-02T00:00:00\",\"2018-07-03T00:00:00\",\"2018-07-05T00:00:00\",\"2018-07-06T00:00:00\",\"2018-07-09T00:00:00\",\"2018-07-10T00:00:00\",\"2018-07-11T00:00:00\",\"2018-07-12T00:00:00\",\"2018-07-13T00:00:00\",\"2018-07-16T00:00:00\",\"2018-07-17T00:00:00\",\"2018-07-18T00:00:00\",\"2018-07-19T00:00:00\",\"2018-07-20T00:00:00\",\"2018-07-23T00:00:00\",\"2018-07-24T00:00:00\",\"2018-07-25T00:00:00\",\"2018-07-26T00:00:00\",\"2018-07-27T00:00:00\",\"2018-07-30T00:00:00\",\"2018-07-31T00:00:00\",\"2018-08-01T00:00:00\",\"2018-08-02T00:00:00\",\"2018-08-03T00:00:00\",\"2018-08-06T00:00:00\",\"2018-08-07T00:00:00\",\"2018-08-08T00:00:00\",\"2018-08-09T00:00:00\",\"2018-08-10T00:00:00\",\"2018-08-13T00:00:00\",\"2018-08-14T00:00:00\",\"2018-08-15T00:00:00\",\"2018-08-16T00:00:00\",\"2018-08-17T00:00:00\",\"2018-08-20T00:00:00\",\"2018-08-21T00:00:00\",\"2018-08-22T00:00:00\",\"2018-08-23T00:00:00\",\"2018-08-24T00:00:00\",\"2018-08-27T00:00:00\",\"2018-08-28T00:00:00\",\"2018-08-29T00:00:00\",\"2018-08-30T00:00:00\",\"2018-08-31T00:00:00\",\"2018-09-04T00:00:00\",\"2018-09-05T00:00:00\",\"2018-09-06T00:00:00\",\"2018-09-07T00:00:00\",\"2018-09-10T00:00:00\",\"2018-09-11T00:00:00\",\"2018-09-12T00:00:00\",\"2018-09-13T00:00:00\",\"2018-09-14T00:00:00\",\"2018-09-17T00:00:00\",\"2018-09-18T00:00:00\",\"2018-09-19T00:00:00\",\"2018-09-20T00:00:00\",\"2018-09-21T00:00:00\",\"2018-09-24T00:00:00\",\"2018-09-25T00:00:00\",\"2018-09-26T00:00:00\",\"2018-09-27T00:00:00\",\"2018-09-28T00:00:00\",\"2018-10-01T00:00:00\",\"2018-10-02T00:00:00\",\"2018-10-03T00:00:00\",\"2018-10-04T00:00:00\",\"2018-10-05T00:00:00\",\"2018-10-08T00:00:00\",\"2018-10-09T00:00:00\",\"2018-10-10T00:00:00\",\"2018-10-11T00:00:00\",\"2018-10-12T00:00:00\",\"2018-10-15T00:00:00\",\"2018-10-16T00:00:00\",\"2018-10-17T00:00:00\",\"2018-10-18T00:00:00\",\"2018-10-19T00:00:00\",\"2018-10-22T00:00:00\",\"2018-10-23T00:00:00\",\"2018-10-24T00:00:00\",\"2018-10-25T00:00:00\",\"2018-10-26T00:00:00\",\"2018-10-29T00:00:00\",\"2018-10-30T00:00:00\",\"2018-10-31T00:00:00\",\"2018-11-01T00:00:00\",\"2018-11-02T00:00:00\",\"2018-11-05T00:00:00\",\"2018-11-06T00:00:00\",\"2018-11-07T00:00:00\",\"2018-11-08T00:00:00\",\"2018-11-09T00:00:00\",\"2018-11-12T00:00:00\",\"2018-11-13T00:00:00\",\"2018-11-14T00:00:00\",\"2018-11-15T00:00:00\",\"2018-11-16T00:00:00\",\"2018-11-19T00:00:00\",\"2018-11-20T00:00:00\",\"2018-11-21T00:00:00\",\"2018-11-23T00:00:00\",\"2018-11-26T00:00:00\",\"2018-11-27T00:00:00\",\"2018-11-28T00:00:00\",\"2018-11-29T00:00:00\",\"2018-11-30T00:00:00\",\"2018-12-03T00:00:00\",\"2018-12-04T00:00:00\",\"2018-12-06T00:00:00\",\"2018-12-07T00:00:00\",\"2018-12-10T00:00:00\",\"2018-12-11T00:00:00\",\"2018-12-12T00:00:00\",\"2018-12-13T00:00:00\",\"2018-12-14T00:00:00\",\"2018-12-17T00:00:00\",\"2018-12-18T00:00:00\",\"2018-12-19T00:00:00\",\"2018-12-20T00:00:00\",\"2018-12-21T00:00:00\",\"2018-12-24T00:00:00\",\"2018-12-26T00:00:00\",\"2018-12-27T00:00:00\",\"2018-12-28T00:00:00\",\"2018-12-31T00:00:00\",\"2019-01-02T00:00:00\",\"2019-01-03T00:00:00\",\"2019-01-04T00:00:00\",\"2019-01-07T00:00:00\",\"2019-01-08T00:00:00\",\"2019-01-09T00:00:00\",\"2019-01-10T00:00:00\",\"2019-01-11T00:00:00\",\"2019-01-14T00:00:00\",\"2019-01-15T00:00:00\",\"2019-01-16T00:00:00\",\"2019-01-17T00:00:00\",\"2019-01-18T00:00:00\",\"2019-01-22T00:00:00\",\"2019-01-23T00:00:00\",\"2019-01-24T00:00:00\",\"2019-01-25T00:00:00\",\"2019-01-28T00:00:00\",\"2019-01-29T00:00:00\",\"2019-01-30T00:00:00\",\"2019-01-31T00:00:00\",\"2019-02-01T00:00:00\",\"2019-02-04T00:00:00\",\"2019-02-05T00:00:00\",\"2019-02-06T00:00:00\",\"2019-02-07T00:00:00\",\"2019-02-08T00:00:00\",\"2019-02-11T00:00:00\",\"2019-02-12T00:00:00\",\"2019-02-13T00:00:00\",\"2019-02-14T00:00:00\",\"2019-02-15T00:00:00\",\"2019-02-19T00:00:00\",\"2019-02-20T00:00:00\",\"2019-02-21T00:00:00\",\"2019-02-22T00:00:00\",\"2019-02-25T00:00:00\",\"2019-02-26T00:00:00\",\"2019-02-27T00:00:00\",\"2019-02-28T00:00:00\",\"2019-03-01T00:00:00\",\"2019-03-04T00:00:00\",\"2019-03-05T00:00:00\",\"2019-03-06T00:00:00\",\"2019-03-07T00:00:00\",\"2019-03-08T00:00:00\",\"2019-03-11T00:00:00\",\"2019-03-12T00:00:00\",\"2019-03-13T00:00:00\",\"2019-03-14T00:00:00\",\"2019-03-15T00:00:00\",\"2019-03-18T00:00:00\",\"2019-03-19T00:00:00\",\"2019-03-20T00:00:00\",\"2019-03-21T00:00:00\",\"2019-03-22T00:00:00\",\"2019-03-25T00:00:00\",\"2019-03-26T00:00:00\",\"2019-03-27T00:00:00\",\"2019-03-28T00:00:00\",\"2019-03-29T00:00:00\",\"2019-04-01T00:00:00\",\"2019-04-02T00:00:00\",\"2019-04-03T00:00:00\",\"2019-04-04T00:00:00\",\"2019-04-05T00:00:00\",\"2019-04-08T00:00:00\",\"2019-04-09T00:00:00\",\"2019-04-10T00:00:00\",\"2019-04-11T00:00:00\",\"2019-04-12T00:00:00\",\"2019-04-15T00:00:00\",\"2019-04-16T00:00:00\",\"2019-04-17T00:00:00\",\"2019-04-18T00:00:00\",\"2019-04-22T00:00:00\",\"2019-04-23T00:00:00\",\"2019-04-24T00:00:00\",\"2019-04-25T00:00:00\",\"2019-04-26T00:00:00\",\"2019-04-29T00:00:00\",\"2019-04-30T00:00:00\",\"2019-05-01T00:00:00\",\"2019-05-02T00:00:00\",\"2019-05-03T00:00:00\",\"2019-05-06T00:00:00\",\"2019-05-07T00:00:00\",\"2019-05-08T00:00:00\",\"2019-05-09T00:00:00\",\"2019-05-10T00:00:00\",\"2019-05-13T00:00:00\",\"2019-05-14T00:00:00\",\"2019-05-15T00:00:00\",\"2019-05-16T00:00:00\",\"2019-05-17T00:00:00\",\"2019-05-20T00:00:00\",\"2019-05-21T00:00:00\",\"2019-05-22T00:00:00\",\"2019-05-23T00:00:00\",\"2019-05-24T00:00:00\",\"2019-05-28T00:00:00\",\"2019-05-29T00:00:00\",\"2019-05-30T00:00:00\",\"2019-05-31T00:00:00\",\"2019-06-03T00:00:00\",\"2019-06-04T00:00:00\",\"2019-06-05T00:00:00\",\"2019-06-06T00:00:00\",\"2019-06-07T00:00:00\",\"2019-06-10T00:00:00\",\"2019-06-11T00:00:00\",\"2019-06-12T00:00:00\",\"2019-06-13T00:00:00\",\"2019-06-14T00:00:00\",\"2019-06-17T00:00:00\",\"2019-06-18T00:00:00\",\"2019-06-19T00:00:00\",\"2019-06-20T00:00:00\",\"2019-06-21T00:00:00\",\"2019-06-24T00:00:00\",\"2019-06-25T00:00:00\",\"2019-06-26T00:00:00\",\"2019-06-27T00:00:00\",\"2019-06-28T00:00:00\",\"2019-07-01T00:00:00\",\"2019-07-02T00:00:00\",\"2019-07-03T00:00:00\",\"2019-07-05T00:00:00\",\"2019-07-08T00:00:00\",\"2019-07-09T00:00:00\",\"2019-07-10T00:00:00\",\"2019-07-11T00:00:00\",\"2019-07-12T00:00:00\",\"2019-07-15T00:00:00\",\"2019-07-16T00:00:00\",\"2019-07-17T00:00:00\",\"2019-07-18T00:00:00\",\"2019-07-19T00:00:00\",\"2019-07-22T00:00:00\",\"2019-07-23T00:00:00\",\"2019-07-24T00:00:00\",\"2019-07-25T00:00:00\",\"2019-07-26T00:00:00\",\"2019-07-29T00:00:00\",\"2019-07-30T00:00:00\",\"2019-07-31T00:00:00\",\"2019-08-01T00:00:00\",\"2019-08-02T00:00:00\",\"2019-08-05T00:00:00\",\"2019-08-06T00:00:00\",\"2019-08-07T00:00:00\",\"2019-08-08T00:00:00\",\"2019-08-09T00:00:00\",\"2019-08-12T00:00:00\",\"2019-08-13T00:00:00\",\"2019-08-14T00:00:00\",\"2019-08-15T00:00:00\",\"2019-08-16T00:00:00\",\"2019-08-19T00:00:00\",\"2019-08-20T00:00:00\",\"2019-08-21T00:00:00\",\"2019-08-22T00:00:00\",\"2019-08-23T00:00:00\",\"2019-08-26T00:00:00\",\"2019-08-27T00:00:00\",\"2019-08-28T00:00:00\",\"2019-08-29T00:00:00\",\"2019-08-30T00:00:00\",\"2019-09-03T00:00:00\",\"2019-09-04T00:00:00\",\"2019-09-05T00:00:00\",\"2019-09-06T00:00:00\",\"2019-09-09T00:00:00\",\"2019-09-10T00:00:00\",\"2019-09-11T00:00:00\",\"2019-09-12T00:00:00\",\"2019-09-13T00:00:00\",\"2019-09-16T00:00:00\",\"2019-09-17T00:00:00\",\"2019-09-18T00:00:00\",\"2019-09-19T00:00:00\",\"2019-09-20T00:00:00\",\"2019-09-23T00:00:00\",\"2019-09-24T00:00:00\",\"2019-09-25T00:00:00\",\"2019-09-26T00:00:00\",\"2019-09-27T00:00:00\",\"2019-09-30T00:00:00\",\"2019-10-01T00:00:00\",\"2019-10-02T00:00:00\",\"2019-10-03T00:00:00\",\"2019-10-04T00:00:00\",\"2019-10-07T00:00:00\",\"2019-10-08T00:00:00\",\"2019-10-09T00:00:00\",\"2019-10-10T00:00:00\",\"2019-10-11T00:00:00\",\"2019-10-14T00:00:00\",\"2019-10-15T00:00:00\",\"2019-10-16T00:00:00\",\"2019-10-17T00:00:00\",\"2019-10-18T00:00:00\",\"2019-10-21T00:00:00\",\"2019-10-22T00:00:00\",\"2019-10-23T00:00:00\",\"2019-10-24T00:00:00\",\"2019-10-25T00:00:00\",\"2019-10-28T00:00:00\",\"2019-10-29T00:00:00\",\"2019-10-30T00:00:00\",\"2019-10-31T00:00:00\",\"2019-11-01T00:00:00\",\"2019-11-04T00:00:00\",\"2019-11-05T00:00:00\",\"2019-11-06T00:00:00\",\"2019-11-07T00:00:00\",\"2019-11-08T00:00:00\",\"2019-11-11T00:00:00\",\"2019-11-12T00:00:00\",\"2019-11-13T00:00:00\",\"2019-11-14T00:00:00\",\"2019-11-15T00:00:00\",\"2019-11-18T00:00:00\",\"2019-11-19T00:00:00\",\"2019-11-20T00:00:00\",\"2019-11-21T00:00:00\",\"2019-11-22T00:00:00\",\"2019-11-25T00:00:00\",\"2019-11-26T00:00:00\",\"2019-11-27T00:00:00\",\"2019-11-29T00:00:00\",\"2019-12-02T00:00:00\",\"2019-12-03T00:00:00\",\"2019-12-04T00:00:00\",\"2019-12-05T00:00:00\",\"2019-12-06T00:00:00\",\"2019-12-09T00:00:00\",\"2019-12-10T00:00:00\",\"2019-12-11T00:00:00\",\"2019-12-12T00:00:00\",\"2019-12-13T00:00:00\",\"2019-12-16T00:00:00\",\"2019-12-17T00:00:00\",\"2019-12-18T00:00:00\",\"2019-12-19T00:00:00\",\"2019-12-20T00:00:00\",\"2019-12-23T00:00:00\",\"2019-12-24T00:00:00\",\"2019-12-26T00:00:00\",\"2019-12-27T00:00:00\",\"2019-12-30T00:00:00\",\"2019-12-31T00:00:00\",\"2020-01-02T00:00:00\",\"2020-01-03T00:00:00\",\"2020-01-06T00:00:00\",\"2020-01-07T00:00:00\",\"2020-01-08T00:00:00\",\"2020-01-09T00:00:00\",\"2020-01-10T00:00:00\",\"2020-01-13T00:00:00\",\"2020-01-14T00:00:00\",\"2020-01-15T00:00:00\",\"2020-01-16T00:00:00\",\"2020-01-17T00:00:00\",\"2020-01-21T00:00:00\",\"2020-01-22T00:00:00\",\"2020-01-23T00:00:00\",\"2020-01-24T00:00:00\",\"2020-01-27T00:00:00\",\"2020-01-28T00:00:00\",\"2020-01-29T00:00:00\",\"2020-01-30T00:00:00\",\"2020-01-31T00:00:00\",\"2020-02-03T00:00:00\",\"2020-02-04T00:00:00\",\"2020-02-05T00:00:00\",\"2020-02-06T00:00:00\",\"2020-02-07T00:00:00\",\"2020-02-10T00:00:00\",\"2020-02-11T00:00:00\",\"2020-02-12T00:00:00\",\"2020-02-13T00:00:00\",\"2020-02-14T00:00:00\",\"2020-02-18T00:00:00\",\"2020-02-19T00:00:00\",\"2020-02-20T00:00:00\",\"2020-02-21T00:00:00\",\"2020-02-24T00:00:00\",\"2020-02-25T00:00:00\",\"2020-02-26T00:00:00\",\"2020-02-27T00:00:00\",\"2020-02-28T00:00:00\",\"2020-03-02T00:00:00\",\"2020-03-03T00:00:00\",\"2020-03-04T00:00:00\",\"2020-03-05T00:00:00\",\"2020-03-06T00:00:00\",\"2020-03-09T00:00:00\",\"2020-03-10T00:00:00\",\"2020-03-11T00:00:00\",\"2020-03-12T00:00:00\",\"2020-03-13T00:00:00\",\"2020-03-16T00:00:00\",\"2020-03-17T00:00:00\",\"2020-03-18T00:00:00\",\"2020-03-19T00:00:00\",\"2020-03-20T00:00:00\",\"2020-03-23T00:00:00\",\"2020-03-24T00:00:00\",\"2020-03-25T00:00:00\",\"2020-03-26T00:00:00\",\"2020-03-27T00:00:00\",\"2020-03-30T00:00:00\",\"2020-03-31T00:00:00\",\"2020-04-01T00:00:00\",\"2020-04-02T00:00:00\",\"2020-04-03T00:00:00\",\"2020-04-06T00:00:00\",\"2020-04-07T00:00:00\",\"2020-04-08T00:00:00\",\"2020-04-09T00:00:00\",\"2020-04-13T00:00:00\",\"2020-04-14T00:00:00\",\"2020-04-15T00:00:00\",\"2020-04-16T00:00:00\",\"2020-04-17T00:00:00\",\"2020-04-20T00:00:00\",\"2020-04-21T00:00:00\",\"2020-04-22T00:00:00\",\"2020-04-23T00:00:00\",\"2020-04-24T00:00:00\",\"2020-04-27T00:00:00\",\"2020-04-28T00:00:00\",\"2020-04-29T00:00:00\",\"2020-04-30T00:00:00\",\"2020-05-01T00:00:00\",\"2020-05-04T00:00:00\",\"2020-05-05T00:00:00\",\"2020-05-06T00:00:00\",\"2020-05-07T00:00:00\",\"2020-05-08T00:00:00\",\"2020-05-11T00:00:00\",\"2020-05-12T00:00:00\",\"2020-05-13T00:00:00\",\"2020-05-14T00:00:00\",\"2020-05-15T00:00:00\",\"2020-05-18T00:00:00\",\"2020-05-19T00:00:00\",\"2020-05-20T00:00:00\",\"2020-05-21T00:00:00\",\"2020-05-22T00:00:00\",\"2020-05-26T00:00:00\",\"2020-05-27T00:00:00\",\"2020-05-28T00:00:00\",\"2020-05-29T00:00:00\",\"2020-06-01T00:00:00\",\"2020-06-02T00:00:00\",\"2020-06-03T00:00:00\",\"2020-06-04T00:00:00\",\"2020-06-05T00:00:00\",\"2020-06-08T00:00:00\",\"2020-06-09T00:00:00\",\"2020-06-10T00:00:00\",\"2020-06-11T00:00:00\",\"2020-06-12T00:00:00\",\"2020-06-15T00:00:00\",\"2020-06-16T00:00:00\",\"2020-06-17T00:00:00\",\"2020-06-18T00:00:00\",\"2020-06-19T00:00:00\",\"2020-06-22T00:00:00\",\"2020-06-23T00:00:00\",\"2020-06-24T00:00:00\",\"2020-06-25T00:00:00\",\"2020-06-26T00:00:00\",\"2020-06-29T00:00:00\",\"2020-06-30T00:00:00\",\"2020-07-01T00:00:00\",\"2020-07-02T00:00:00\",\"2020-07-06T00:00:00\",\"2020-07-07T00:00:00\",\"2020-07-08T00:00:00\",\"2020-07-09T00:00:00\",\"2020-07-10T00:00:00\",\"2020-07-13T00:00:00\",\"2020-07-14T00:00:00\",\"2020-07-15T00:00:00\",\"2020-07-16T00:00:00\",\"2020-07-17T00:00:00\",\"2020-07-20T00:00:00\",\"2020-07-21T00:00:00\",\"2020-07-22T00:00:00\",\"2020-07-23T00:00:00\",\"2020-07-24T00:00:00\",\"2020-07-27T00:00:00\",\"2020-07-28T00:00:00\",\"2020-07-29T00:00:00\",\"2020-07-30T00:00:00\",\"2020-07-31T00:00:00\",\"2020-08-03T00:00:00\",\"2020-08-04T00:00:00\",\"2020-08-05T00:00:00\",\"2020-08-06T00:00:00\",\"2020-08-07T00:00:00\",\"2020-08-10T00:00:00\",\"2020-08-11T00:00:00\",\"2020-08-12T00:00:00\",\"2020-08-13T00:00:00\",\"2020-08-14T00:00:00\",\"2020-08-17T00:00:00\",\"2020-08-18T00:00:00\",\"2020-08-19T00:00:00\",\"2020-08-20T00:00:00\",\"2020-08-21T00:00:00\",\"2020-08-24T00:00:00\",\"2020-08-25T00:00:00\",\"2020-08-26T00:00:00\",\"2020-08-27T00:00:00\",\"2020-08-28T00:00:00\",\"2020-08-31T00:00:00\",\"2020-09-01T00:00:00\",\"2020-09-02T00:00:00\",\"2020-09-03T00:00:00\",\"2020-09-04T00:00:00\",\"2020-09-08T00:00:00\",\"2020-09-09T00:00:00\",\"2020-09-10T00:00:00\",\"2020-09-11T00:00:00\",\"2020-09-14T00:00:00\",\"2020-09-15T00:00:00\",\"2020-09-16T00:00:00\",\"2020-09-17T00:00:00\",\"2020-09-18T00:00:00\",\"2020-09-21T00:00:00\",\"2020-09-22T00:00:00\",\"2020-09-23T00:00:00\",\"2020-09-24T00:00:00\",\"2020-09-25T00:00:00\",\"2020-09-28T00:00:00\",\"2020-09-29T00:00:00\",\"2020-09-30T00:00:00\",\"2020-10-01T00:00:00\",\"2020-10-02T00:00:00\",\"2020-10-05T00:00:00\",\"2020-10-06T00:00:00\",\"2020-10-07T00:00:00\",\"2020-10-08T00:00:00\",\"2020-10-09T00:00:00\",\"2020-10-12T00:00:00\",\"2020-10-13T00:00:00\",\"2020-10-14T00:00:00\",\"2020-10-15T00:00:00\",\"2020-10-16T00:00:00\",\"2020-10-19T00:00:00\",\"2020-10-20T00:00:00\",\"2020-10-21T00:00:00\",\"2020-10-22T00:00:00\",\"2020-10-23T00:00:00\",\"2020-10-26T00:00:00\",\"2020-10-27T00:00:00\",\"2020-10-28T00:00:00\",\"2020-10-29T00:00:00\",\"2020-10-30T00:00:00\",\"2020-11-02T00:00:00\",\"2020-11-03T00:00:00\",\"2020-11-04T00:00:00\",\"2020-11-05T00:00:00\",\"2020-11-06T00:00:00\",\"2020-11-09T00:00:00\",\"2020-11-10T00:00:00\",\"2020-11-11T00:00:00\",\"2020-11-12T00:00:00\",\"2020-11-13T00:00:00\",\"2020-11-16T00:00:00\",\"2020-11-17T00:00:00\",\"2020-11-18T00:00:00\",\"2020-11-19T00:00:00\",\"2020-11-20T00:00:00\",\"2020-11-23T00:00:00\",\"2020-11-24T00:00:00\",\"2020-11-25T00:00:00\",\"2020-11-27T00:00:00\",\"2020-11-30T00:00:00\",\"2020-12-01T00:00:00\",\"2020-12-02T00:00:00\",\"2020-12-03T00:00:00\",\"2020-12-04T00:00:00\",\"2020-12-07T00:00:00\",\"2020-12-08T00:00:00\",\"2020-12-09T00:00:00\",\"2020-12-10T00:00:00\",\"2020-12-11T00:00:00\",\"2020-12-14T00:00:00\",\"2020-12-15T00:00:00\",\"2020-12-16T00:00:00\",\"2020-12-17T00:00:00\",\"2020-12-18T00:00:00\",\"2020-12-21T00:00:00\",\"2020-12-22T00:00:00\",\"2020-12-23T00:00:00\",\"2020-12-24T00:00:00\",\"2020-12-28T00:00:00\",\"2020-12-29T00:00:00\",\"2020-12-30T00:00:00\",\"2020-12-31T00:00:00\",\"2021-01-04T00:00:00\",\"2021-01-05T00:00:00\",\"2021-01-06T00:00:00\",\"2021-01-07T00:00:00\",\"2021-01-08T00:00:00\",\"2021-01-11T00:00:00\",\"2021-01-12T00:00:00\",\"2021-01-13T00:00:00\",\"2021-01-14T00:00:00\",\"2021-01-15T00:00:00\",\"2021-01-19T00:00:00\",\"2021-01-20T00:00:00\",\"2021-01-21T00:00:00\",\"2021-01-22T00:00:00\",\"2021-01-25T00:00:00\",\"2021-01-26T00:00:00\",\"2021-01-27T00:00:00\",\"2021-01-28T00:00:00\",\"2021-01-29T00:00:00\",\"2021-02-01T00:00:00\",\"2021-02-02T00:00:00\",\"2021-02-03T00:00:00\",\"2021-02-04T00:00:00\",\"2021-02-05T00:00:00\",\"2021-02-08T00:00:00\",\"2021-02-09T00:00:00\",\"2021-02-10T00:00:00\",\"2021-02-11T00:00:00\",\"2021-02-12T00:00:00\",\"2021-02-16T00:00:00\",\"2021-02-17T00:00:00\",\"2021-02-18T00:00:00\",\"2021-02-19T00:00:00\",\"2021-02-22T00:00:00\",\"2021-02-23T00:00:00\",\"2021-02-24T00:00:00\",\"2021-02-25T00:00:00\",\"2021-02-26T00:00:00\",\"2021-03-01T00:00:00\",\"2021-03-02T00:00:00\",\"2021-03-03T00:00:00\",\"2021-03-04T00:00:00\",\"2021-03-05T00:00:00\",\"2021-03-08T00:00:00\",\"2021-03-09T00:00:00\",\"2021-03-10T00:00:00\",\"2021-03-11T00:00:00\",\"2021-03-12T00:00:00\",\"2021-03-15T00:00:00\",\"2021-03-16T00:00:00\",\"2021-03-17T00:00:00\",\"2021-03-18T00:00:00\",\"2021-03-19T00:00:00\",\"2021-03-22T00:00:00\",\"2021-03-23T00:00:00\",\"2021-03-24T00:00:00\",\"2021-03-25T00:00:00\",\"2021-03-26T00:00:00\",\"2021-03-29T00:00:00\",\"2021-03-30T00:00:00\",\"2021-03-31T00:00:00\",\"2021-04-01T00:00:00\",\"2021-04-05T00:00:00\",\"2021-04-06T00:00:00\",\"2021-04-07T00:00:00\",\"2021-04-08T00:00:00\",\"2021-04-09T00:00:00\",\"2021-04-12T00:00:00\",\"2021-04-13T00:00:00\",\"2021-04-14T00:00:00\",\"2021-04-15T00:00:00\",\"2021-04-16T00:00:00\",\"2021-04-19T00:00:00\",\"2021-04-20T00:00:00\",\"2021-04-21T00:00:00\",\"2021-04-22T00:00:00\",\"2021-04-23T00:00:00\",\"2021-04-26T00:00:00\",\"2021-04-27T00:00:00\",\"2021-04-28T00:00:00\",\"2021-04-29T00:00:00\",\"2021-04-30T00:00:00\",\"2021-05-03T00:00:00\",\"2021-05-04T00:00:00\",\"2021-05-05T00:00:00\",\"2021-05-06T00:00:00\",\"2021-05-07T00:00:00\",\"2021-05-10T00:00:00\",\"2021-05-11T00:00:00\",\"2021-05-12T00:00:00\",\"2021-05-13T00:00:00\",\"2021-05-14T00:00:00\",\"2021-05-17T00:00:00\",\"2021-05-18T00:00:00\",\"2021-05-19T00:00:00\",\"2021-05-20T00:00:00\",\"2021-05-21T00:00:00\",\"2021-05-24T00:00:00\",\"2021-05-25T00:00:00\",\"2021-05-26T00:00:00\",\"2021-05-27T00:00:00\",\"2021-05-28T00:00:00\",\"2021-06-01T00:00:00\",\"2021-06-02T00:00:00\",\"2021-06-03T00:00:00\",\"2021-06-04T00:00:00\",\"2021-06-07T00:00:00\",\"2021-06-08T00:00:00\",\"2021-06-09T00:00:00\",\"2021-06-10T00:00:00\",\"2021-06-11T00:00:00\",\"2021-06-14T00:00:00\",\"2021-06-15T00:00:00\",\"2021-06-16T00:00:00\",\"2021-06-17T00:00:00\",\"2021-06-18T00:00:00\",\"2021-06-21T00:00:00\",\"2021-06-22T00:00:00\",\"2021-06-23T00:00:00\",\"2021-06-24T00:00:00\",\"2021-06-25T00:00:00\",\"2021-06-28T00:00:00\",\"2021-06-29T00:00:00\",\"2021-06-30T00:00:00\",\"2021-07-01T00:00:00\",\"2021-07-02T00:00:00\",\"2021-07-06T00:00:00\",\"2021-07-07T00:00:00\",\"2021-07-08T00:00:00\",\"2021-07-09T00:00:00\",\"2021-07-12T00:00:00\",\"2021-07-13T00:00:00\",\"2021-07-14T00:00:00\",\"2021-07-15T00:00:00\",\"2021-07-16T00:00:00\",\"2021-07-19T00:00:00\",\"2021-07-20T00:00:00\",\"2021-07-21T00:00:00\",\"2021-07-22T00:00:00\",\"2021-07-23T00:00:00\",\"2021-07-26T00:00:00\",\"2021-07-27T00:00:00\",\"2021-07-28T00:00:00\",\"2021-07-29T00:00:00\",\"2021-07-30T00:00:00\",\"2021-08-02T00:00:00\",\"2021-08-03T00:00:00\",\"2021-08-04T00:00:00\",\"2021-08-05T00:00:00\",\"2021-08-06T00:00:00\",\"2021-08-09T00:00:00\",\"2021-08-10T00:00:00\",\"2021-08-11T00:00:00\",\"2021-08-12T00:00:00\",\"2021-08-13T00:00:00\",\"2021-08-16T00:00:00\",\"2021-08-17T00:00:00\",\"2021-08-18T00:00:00\",\"2021-08-19T00:00:00\",\"2021-08-20T00:00:00\",\"2021-08-23T00:00:00\",\"2021-08-24T00:00:00\",\"2021-08-25T00:00:00\",\"2021-08-26T00:00:00\",\"2021-08-27T00:00:00\",\"2021-08-30T00:00:00\",\"2021-08-31T00:00:00\",\"2021-09-01T00:00:00\",\"2021-09-02T00:00:00\",\"2021-09-03T00:00:00\",\"2021-09-07T00:00:00\",\"2021-09-08T00:00:00\",\"2021-09-09T00:00:00\",\"2021-09-10T00:00:00\",\"2021-09-13T00:00:00\",\"2021-09-14T00:00:00\",\"2021-09-15T00:00:00\",\"2021-09-16T00:00:00\",\"2021-09-17T00:00:00\",\"2021-09-20T00:00:00\",\"2021-09-21T00:00:00\",\"2021-09-22T00:00:00\",\"2021-09-23T00:00:00\",\"2021-09-24T00:00:00\"],\"xaxis\":\"x\",\"y\":[28.262501,28.577499,28.415001,28.584999,28.639999,29.1875,29.672501,29.495001000000002,29.360001,29.5425,29.459999,29.5525,29.440001000000002,29.344998999999998,29.227501,29.434998999999998,29.59,28.924999,28.965,28.8025,28.557501000000002,28.442498999999998,28.0875,27.865,27.5625,27.627501000000002,27.93,27.83,27.772499,27.217501000000002,26.952499,26.92,27.557501000000002,27.5875,27.635,27.997498999999998,28.105,27.877501000000002,27.967501000000002,28.1175,28.0075,28.049999,27.735001,27.522499,27.5075,27.59,27.797501,28.1075,28.674999,28.75,28.98,29.049999,29.182501000000002,29.125,29.344998999999998,29.375,29.35,29.127501000000002,29.129998999999998,29.450001,29.504998999999998,29.2775,29.299999,29.0825,29.127501000000002,29.215,29.540001,29.8575,29.844998999999998,29.9825,29.825001,29.905001000000002,30.059998999999998,30.125,30.022499,30.112499,30.202499,30.025,30.525,30.610001,30.5875,30.407498999999998,30.3475,32.622501,32.3475,32.297501000000004,32.625,33.022498999999996,33.055,33.112499,33.235001000000004,33.455002,33.772498999999996,34.067501,33.974998,33.9575,34.1875,34.279999,34.369999,34.165001000000004,34.360001000000004,34.360001000000004,35.037498,35.07,34.9575,34.942501,34.994999,34.950001,34.697497999999996,34.84,34.857498,34.912498,35.1875,35.255001,35.25,35.375,35.700001,35.400002,35.395,35.435001,35.305,36.009997999999996,36.122501,36.125,36.067501,36.029999,36.2225,36.365002000000004,36.130001,36.044998,35.970001,35.837502,35.537498,35.595001,35.470001,35.509997999999996,35.5,35.73,35.669998,35.987499,36.224998,36.150002,36.040001000000004,36.075001,36.799999,37.022498999999996,36.872501,36.785,37.244999,38.424999,38.720001,38.485001000000004,38.517502,39.105,39.162498,39.014998999999996,38.642502,38.334998999999996,38.494999,38.645,38.724998,38.5425,38.587502,38.560001,38.607498,38.5425,38.3325,38.862499,38.612499,38.952498999999996,38.994999,38.884997999999996,38.797501000000004,36.522498999999996,36.862499,36.875,36.119999,36.125,36.685001,36.717499,36.517502,36.674999,36.790001000000004,37.07,36.540001000000004,36.5275,36.282501,36.240002000000004,36.325001,36.197497999999996,35.875,36.1875,36.487499,36.462502,36.544998,37.122501,37.3325,37.724998,37.532501,37.855,37.935001,37.610001000000004,38.110001000000004,38.459998999999996,38.482498,38.497501,37.557499,37.5825,37.555,39.9375,39.302502000000004,39.349998,39.73,40.4575,40.317501,40.0,39.642502,40.052502000000004,40.549999,40.627499,40.177502000000004,39.875,39.4725,40.0,40.1175,40.185001,40.139998999999996,40.5,40.779999,40.9725,41.130001,41.235001000000004,41.0625,40.747501,40.560001,40.287498,40.512501,40.990002000000004,39.990002000000004,39.849998,40.2425,40.125,39.942501,39.564999,38.950001,38.067501,37.9575,38.48,38.68,38.57,38.532501,38.612499,38.772498999999996,38.465,38.860001000000004,38.872501,39.182499,39.5,39.244999,39.342499,39.32,40.0,40.217499,40.177502000000004,39.27,39.4375,39.422501000000004,39.355,39.387501,39.4575,40.900002,42.017502,42.412498,42.485001000000004,42.125,43.564999,43.747501,43.8125,44.060001,44.025002,43.845001,43.625,43.369999,42.580002,42.967499,42.8475,42.639998999999996,43.424999,43.75,43.875,43.77,43.717499,43.23,43.035,42.9175,43.154999,42.880001,42.549999,42.610001000000004,42.75,43.2225,43.0975,43.384997999999996,43.282501,43.5425,44.299999,43.8475,43.855,44.005001,43.855,42.8675,42.695,42.962502,42.647498999999996,43.075001,43.637501,43.3675,43.842499,43.9025,43.764998999999996,43.575001,43.872501,44.34,44.8475,44.8125,45.025002,44.895,44.445,44.860001000000004,44.325001,43.737499,43.0,42.540001000000004,41.842499,42.110001000000004,42.154999,41.700001,40.970001,40.93,40.849998,40.25,39.4725,40.9725,41.1875,41.884997999999996,43.272498999999996,43.705002,43.564999,43.529999,43.487499,43.912498,44.8475,45.119999,45.154999,44.945,44.075001,44.435001,44.5625,43.962502,44.279999,45.0,45.5975,45.875,45.130001,45.060001,44.779999,44.3675,44.200001,43.772498999999996,43.169998,42.48,43.275002,43.787498,42.505001,42.9375,42.235001000000004,42.1875,43.002499,43.557499,43.119999,43.272498999999996,43.5,43.48,43.75,43.959998999999996,44.047501000000004,44.735001000000004,44.705002,43.8475,42.805,41.73,41.5825,41.355,41.432499,41.0825,41.814999,42.299999,44.4375,44.375,46.0625,46.9175,46.555,46.849998,47.592499,47.514998999999996,47.3825,46.767502,47.115002000000004,47.227501000000004,46.952498999999996,47.317501,47.220001,47.125,47.209998999999996,47.412498,47.1875,47.0,47.057499,47.564999,48.355,48.485001000000004,48.52,48.549999,48.0,47.9925,48.1525,48.220001,47.892502,47.540001000000004,47.305,46.5825,46.799999,47.087502,46.537498,46.23,46.6325,46.82,46.552502000000004,46.797501000000004,46.825001,46.987499,46.602501000000004,47.107498,47.669998,47.82,47.445,47.852501000000004,47.959998999999996,48.162498,47.967499,47.950001,48.137501,48.107498,47.990002000000004,48.415001000000004,48.712502,48.990002000000004,48.797501000000004,48.049999,48.035,50.439999,52.095001,52.185001,52.3125,52.375,51.952498999999996,52.445,52.275002,52.737499,52.639998999999996,52.685001,53.452498999999996,54.487499,54.794998,54.297501000000004,54.09,54.262501,54.224998,54.685001,55.134997999999996,55.872501,57.064999,57.217499,57.294998,57.4175,56.837502,56.342499,55.462502,56.075001,56.25,57.087502,56.709998999999996,55.737499,55.462502,54.904999,55.57,55.34,55.314999,55.705002,55.9375,56.610001000000004,56.459998999999996,57.355,57.5,58.3675,58.087502,57.102501000000004,56.200001,56.817501,56.587502,54.875,55.720001,55.4575,55.747501,55.66,54.935001,55.314999,55.84,55.8125,56.057499,55.345001,55.047501000000004,54.922501000000004,53.794998,55.112499,55.59,53.412498,51.0975,51.18,52.514998999999996,52.529999,51.502499,49.962502,49.294998,48.619999,47.9925,48.7425,47.674999,45.3675,45.067501,44.150002,43.737499,43.692501,45.322497999999996,45.700001,45.0825,46.235001000000004,45.5975,43.695,43.622501,42.522498999999996,42.947497999999996,42.98,43.142502,42.27,42.087502,41.8825,41.862499,40.5275,39.540001000000004,37.887501,39.307499,39.192501,39.630001,39.84,39.712502,36.43,37.137501,37.2075,37.955002,38.6325,38.4925,38.424999,37.817501,38.3475,38.970001,39.415001000000004,39.470001,39.182499,38.785,38.619999,39.532501,39.0825,39.532501,41.537498,42.25,42.244999,42.915001000000004,43.77,43.892502,43.485001000000004,42.665001000000004,42.802502000000004,42.75,43.119999,42.814999,42.924999,42.860001000000004,43.330002,43.092499,43.25,43.967499,43.825001,43.75,43.727501000000004,43.787498,44.4375,44.0,43.872501,43.610001000000004,43.267502,44.779999,45.6675,45.825001,46.025002,46.8325,47.0975,47.247501,47.372501,49.0825,49.422501000000004,47.994999,48.220001,47.439999,47.389998999999996,47.52,47.919998,48.615002000000004,49.125,49.092499,49.275002,50.057499,50.712502,50.185001,50.25,50.035,49.962502,50.342499,50.845001,51.037498,51.235001000000004,51.9375,52.119999,51.939999,51.25,51.4925,50.849998,53.827498999999996,53.162498,52.959998999999996,52.209998999999996,51.855,51.334998999999996,50.419998,49.712502,47.369999,47.424999,47.9375,48.1175,47.724998,46.087502,47.0,46.427502000000004,45.134997999999996,45.535,45.147498999999996,44.837502,44.807499,44.497501,44.48,44.9575,46.247501,46.3675,47.98,48.842499,49.0,48.9925,49.197497999999996,48.397498999999996,48.740002000000004,50.072497999999996,49.970001,50.1525,50.212502,50.040001000000004,49.814999,50.247501,50.392502,49.875,51.122501,50.782501,51.110001000000004,51.27,50.349998,50.377499,50.932499,51.0975,51.0,51.467499,51.5275,51.272498999999996,51.470001,51.625,51.807499,52.227501000000004,52.287498,52.310001,52.432499,52.66,52.540001000000004,55.342499,54.5075,51.607498,49.662498,49.517502,49.889998999999996,50.8825,50.689999,50.512501,53.035,51.610001000000004,51.285,51.790001000000004,53.182499,53.337502,53.412498,53.610001000000004,53.012501,51.797501000000004,52.137501,51.43,52.330002,52.612499,51.744999,52.369999,53.4925,53.605,54.110001000000004,54.195,55.927502000000004,56.605,55.197497999999996,55.032501,55.205002,55.712502,55.939999,55.639998999999996,54.959998999999996,55.622501,55.375,55.235001000000004,55.240002000000004,56.145,57.055,55.895,55.240002000000004,56.872501,57.482498,57.014998999999996,56.947497999999996,57.610001000000004,59.41,59.532501,59.412498,58.810001,59.037498,59.395,60.247501,60.549999,60.810001,61.200001,61.682499,62.3125,62.4375,61.325001,62.2925,63.982498,64.462502,64.547501,64.372498,65.087502,65.110001,65.6175,65.697502,66.195,66.220001,66.445,66.85749799999999,67.0,66.519997,66.002502,65.79499799999999,66.610001,66.790001,66.995003,67.0,67.0625,64.8825,65.827499,66.472504,67.75,67.699997,67.51750200000001,67.775002,68.139999,68.824997,70.197502,70.442497,70.474998,70.29499799999999,70.662498,71.0625,71.222504,72.495003,73.4925,73.172501,73.41999799999999,75.150002,75.144997,74.989998,75.224998,76.110001,77.60749799999999,78.167503,79.26750200000001,79.39250200000001,78.875,78.925003,79.684998,79.754997,79.997498,79.889999,80.832497,77.942497,79.599998,81.962502,81.022499,80.66999799999999,78.372498,79.910004,81.190002,81.305,80.849998,80.387497,80.974998,81.805,81.555,81.495003,79.9375,81.14250200000001,81.162498,80.112503,76.04499799999999,75.6325,74.470001,71.5,69.602501,75.360001,76.0,75.849998,74.887497,72.70500200000001,69.522499,71.610001,70.305,67.5,69.980003,64.769997,64.402496,62.5,63.209998999999996,62.9575,57.125,61.922501000000004,64.5625,64.66999799999999,63.967499,63.880001,65.622498,62.18,61.287498,61.424999,65.777496,67.925003,66.842499,67.51750200000001,68.425003,72.0625,71.582497,72.050003,71.737503,70.41999799999999,69.3125,69.474998,70.4375,70.752502,71.135002,71.457497,72.417503,73.6325,74.75,73.422501,75.25,75.809998,76.292503,77.587502,79.262497,79.922501,78.987503,77.447502,76.974998,79.125,79.629997,79.879997,80.222504,79.807503,81.059998,79.677498,80.860001,80.287498,80.587502,80.860001,81.550003,81.404999,82.9375,83.400002,86.402496,88.692497,87.764999,86.949997,86.41999799999999,88.300003,88.849998,88.362503,89.139999,89.864998,93.095001,92.197502,91.25,91.33000200000001,90.542503,91.495003,91.839996,92.6175,93.945,94.654999,95.375,96.317497,95.980003,99.95500200000001,97.254997,99.247498,97.404999,97.147499,98.5,99.25,97.974998,97.077499,92.970001,94.904999,94.550003,95.230003,96.297501,106.415001,111.637497,110.790001,110.39250200000001,114.412498,113.675003,113.775002,112.48249799999999,113.275002,116.042503,115.0,116.087502,116.0,117.162498,118.39250200000001,124.8675,128.78500400000001,125.18,126.9925,127.485001,126.442497,131.0,134.800003,137.979996,128.83999599999999,123.699997,118.989998,119.139999,120.5,115.230003,115.93,118.83000200000001,116.0,112.199997,110.879997,110.190002,112.860001,112.110001,110.25,112.440002,115.32,115.309998,117.260002,117.720001,115.370003,116.650002,116.120003,115.550003,116.400002,117.0,125.18,125.389999,123.029999,121.199997,121.550003,120.41999799999999,118.980003,118.709999,118.040001,116.550003,116.550003,117.279999,115.43,116.93,111.989998,110.68,111.489998,115.589996,119.620003,119.199997,121.989998,117.589996,119.629997,120.529999,119.66999799999999,120.989998,120.66999799999999,119.82,119.059998,118.769997,117.620003,115.849998,116.75,117.489998,120.970001,123.470001,123.370003,123.779999,122.860001,124.57,124.980003,125.949997,123.870003,122.760002,123.349998,127.900002,128.369995,129.580002,129.100006,128.309998,134.41000400000001,132.429993,133.46000700000002,137.33999599999999,138.78999299999998,135.990005,134.740005,133.610001,131.740005,131.050003,131.630005,132.630005,130.169998,129.690002,131.449997,131.0,130.220001,128.71000700000002,132.490005,139.669998,139.850006,145.08999599999999,144.300003,144.300003,141.990005,136.740005,135.380005,136.309998,135.770004,137.399994,137.419998,136.96000700000002,137.880005,136.990005,136.389999,135.529999,136.009995,132.220001,130.0,130.71000700000002,129.720001,126.709999,125.559998,126.459999,124.849998,127.93,128.720001,125.709999,123.599998,121.940002,121.0,122.059998,122.16999799999999,123.209999,121.16999799999999,124.0,127.220001,125.860001,123.18,121.43,123.870003,124.239998,122.900002,121.660004,121.480003,122.58000200000001,120.400002,123.519997,124.18,126.160004,127.129997,127.91999799999999,130.389999,133.03999299999998,132.850006,134.66000400000001,135.0,135.0,134.669998,135.470001,135.529999,133.75,134.149994,135.119995,135.059998,135.41000400000001,135.020004,137.070007,133.559998,134.070007,131.490005,130.449997,129.75,131.259995,129.53999299999998,126.269997,124.639999,126.150002,127.889999,126.93,126.989998,124.91999799999999,127.720001,128.0,127.940002,128.320007,127.389999,127.639999,125.800003,125.349998,125.239998,124.849998,126.160004,126.32,128.46000700000002,127.75,128.190002,127.440002,130.53999299999998,130.600006,130.889999,132.550003,131.509995,132.41000400000001,134.080002,134.320007,134.639999,133.889999,135.25,136.490005,137.41000400000001,137.330002,140.0,143.149994,144.889999,144.059998,145.649994,146.320007,147.46000700000002,149.570007,150.0,149.759995,144.070007,147.100006,146.130005,148.199997,148.720001,149.830002,149.21000700000002,146.970001,146.550003,146.330002,146.949997,148.03999299999998,147.78999299999998,147.83999599999999,147.110001,146.699997,147.71000700000002,146.720001,149.050003,149.440002,151.190002,151.679993,150.720001,148.0,148.5,150.190002,150.860001,150.320007,149.119995,148.75,153.490005,152.800003,154.979996,154.720001,154.630005,157.259995,157.03999299999998,156.110001,155.479996,151.419998,151.070007,149.440002,148.970001,148.820007,144.83999599999999,144.600006,146.429993,147.080002,147.470001],\"yaxis\":\"y\"},{\"hovertemplate\":\"variable=low<br>Date=%{x}<br>Stock value=%{y}<extra></extra>\",\"legendgroup\":\"low\",\"line\":{\"color\":\"#ab63fa\",\"dash\":\"solid\"},\"marker\":{\"symbol\":\"circle\"},\"mode\":\"lines\",\"name\":\"Stock Low Price\",\"showlegend\":true,\"type\":\"scattergl\",\"x\":[\"2016-10-03T00:00:00\",\"2016-10-04T00:00:00\",\"2016-10-05T00:00:00\",\"2016-10-06T00:00:00\",\"2016-10-07T00:00:00\",\"2016-10-10T00:00:00\",\"2016-10-11T00:00:00\",\"2016-10-12T00:00:00\",\"2016-10-13T00:00:00\",\"2016-10-14T00:00:00\",\"2016-10-17T00:00:00\",\"2016-10-18T00:00:00\",\"2016-10-19T00:00:00\",\"2016-10-20T00:00:00\",\"2016-10-21T00:00:00\",\"2016-10-24T00:00:00\",\"2016-10-25T00:00:00\",\"2016-10-26T00:00:00\",\"2016-10-27T00:00:00\",\"2016-10-28T00:00:00\",\"2016-10-31T00:00:00\",\"2016-11-01T00:00:00\",\"2016-11-02T00:00:00\",\"2016-11-03T00:00:00\",\"2016-11-04T00:00:00\",\"2016-11-07T00:00:00\",\"2016-11-08T00:00:00\",\"2016-11-09T00:00:00\",\"2016-11-10T00:00:00\",\"2016-11-11T00:00:00\",\"2016-11-14T00:00:00\",\"2016-11-15T00:00:00\",\"2016-11-16T00:00:00\",\"2016-11-17T00:00:00\",\"2016-11-18T00:00:00\",\"2016-11-21T00:00:00\",\"2016-11-22T00:00:00\",\"2016-11-23T00:00:00\",\"2016-11-25T00:00:00\",\"2016-11-28T00:00:00\",\"2016-11-29T00:00:00\",\"2016-11-30T00:00:00\",\"2016-12-01T00:00:00\",\"2016-12-02T00:00:00\",\"2016-12-05T00:00:00\",\"2016-12-06T00:00:00\",\"2016-12-07T00:00:00\",\"2016-12-08T00:00:00\",\"2016-12-09T00:00:00\",\"2016-12-12T00:00:00\",\"2016-12-13T00:00:00\",\"2016-12-14T00:00:00\",\"2016-12-15T00:00:00\",\"2016-12-16T00:00:00\",\"2016-12-19T00:00:00\",\"2016-12-20T00:00:00\",\"2016-12-21T00:00:00\",\"2016-12-22T00:00:00\",\"2016-12-23T00:00:00\",\"2016-12-27T00:00:00\",\"2016-12-28T00:00:00\",\"2016-12-29T00:00:00\",\"2016-12-30T00:00:00\",\"2017-01-03T00:00:00\",\"2017-01-04T00:00:00\",\"2017-01-05T00:00:00\",\"2017-01-06T00:00:00\",\"2017-01-09T00:00:00\",\"2017-01-10T00:00:00\",\"2017-01-11T00:00:00\",\"2017-01-12T00:00:00\",\"2017-01-13T00:00:00\",\"2017-01-17T00:00:00\",\"2017-01-18T00:00:00\",\"2017-01-19T00:00:00\",\"2017-01-20T00:00:00\",\"2017-01-23T00:00:00\",\"2017-01-24T00:00:00\",\"2017-01-25T00:00:00\",\"2017-01-26T00:00:00\",\"2017-01-27T00:00:00\",\"2017-01-30T00:00:00\",\"2017-01-31T00:00:00\",\"2017-02-01T00:00:00\",\"2017-02-02T00:00:00\",\"2017-02-03T00:00:00\",\"2017-02-06T00:00:00\",\"2017-02-07T00:00:00\",\"2017-02-08T00:00:00\",\"2017-02-09T00:00:00\",\"2017-02-10T00:00:00\",\"2017-02-13T00:00:00\",\"2017-02-14T00:00:00\",\"2017-02-15T00:00:00\",\"2017-02-16T00:00:00\",\"2017-02-17T00:00:00\",\"2017-02-21T00:00:00\",\"2017-02-22T00:00:00\",\"2017-02-23T00:00:00\",\"2017-02-24T00:00:00\",\"2017-02-27T00:00:00\",\"2017-02-28T00:00:00\",\"2017-03-01T00:00:00\",\"2017-03-02T00:00:00\",\"2017-03-03T00:00:00\",\"2017-03-06T00:00:00\",\"2017-03-07T00:00:00\",\"2017-03-08T00:00:00\",\"2017-03-09T00:00:00\",\"2017-03-10T00:00:00\",\"2017-03-13T00:00:00\",\"2017-03-14T00:00:00\",\"2017-03-15T00:00:00\",\"2017-03-16T00:00:00\",\"2017-03-17T00:00:00\",\"2017-03-20T00:00:00\",\"2017-03-21T00:00:00\",\"2017-03-22T00:00:00\",\"2017-03-23T00:00:00\",\"2017-03-24T00:00:00\",\"2017-03-27T00:00:00\",\"2017-03-28T00:00:00\",\"2017-03-29T00:00:00\",\"2017-03-30T00:00:00\",\"2017-03-31T00:00:00\",\"2017-04-03T00:00:00\",\"2017-04-04T00:00:00\",\"2017-04-05T00:00:00\",\"2017-04-06T00:00:00\",\"2017-04-07T00:00:00\",\"2017-04-10T00:00:00\",\"2017-04-11T00:00:00\",\"2017-04-12T00:00:00\",\"2017-04-13T00:00:00\",\"2017-04-17T00:00:00\",\"2017-04-18T00:00:00\",\"2017-04-19T00:00:00\",\"2017-04-20T00:00:00\",\"2017-04-21T00:00:00\",\"2017-04-24T00:00:00\",\"2017-04-25T00:00:00\",\"2017-04-26T00:00:00\",\"2017-04-27T00:00:00\",\"2017-04-28T00:00:00\",\"2017-05-01T00:00:00\",\"2017-05-02T00:00:00\",\"2017-05-03T00:00:00\",\"2017-05-04T00:00:00\",\"2017-05-05T00:00:00\",\"2017-05-08T00:00:00\",\"2017-05-09T00:00:00\",\"2017-05-10T00:00:00\",\"2017-05-11T00:00:00\",\"2017-05-12T00:00:00\",\"2017-05-15T00:00:00\",\"2017-05-16T00:00:00\",\"2017-05-17T00:00:00\",\"2017-05-18T00:00:00\",\"2017-05-19T00:00:00\",\"2017-05-22T00:00:00\",\"2017-05-23T00:00:00\",\"2017-05-24T00:00:00\",\"2017-05-25T00:00:00\",\"2017-05-26T00:00:00\",\"2017-05-30T00:00:00\",\"2017-05-31T00:00:00\",\"2017-06-01T00:00:00\",\"2017-06-02T00:00:00\",\"2017-06-05T00:00:00\",\"2017-06-06T00:00:00\",\"2017-06-07T00:00:00\",\"2017-06-08T00:00:00\",\"2017-06-09T00:00:00\",\"2017-06-12T00:00:00\",\"2017-06-13T00:00:00\",\"2017-06-14T00:00:00\",\"2017-06-15T00:00:00\",\"2017-06-16T00:00:00\",\"2017-06-19T00:00:00\",\"2017-06-20T00:00:00\",\"2017-06-21T00:00:00\",\"2017-06-22T00:00:00\",\"2017-06-23T00:00:00\",\"2017-06-26T00:00:00\",\"2017-06-27T00:00:00\",\"2017-06-28T00:00:00\",\"2017-06-29T00:00:00\",\"2017-06-30T00:00:00\",\"2017-07-03T00:00:00\",\"2017-07-05T00:00:00\",\"2017-07-06T00:00:00\",\"2017-07-07T00:00:00\",\"2017-07-10T00:00:00\",\"2017-07-11T00:00:00\",\"2017-07-12T00:00:00\",\"2017-07-13T00:00:00\",\"2017-07-14T00:00:00\",\"2017-07-17T00:00:00\",\"2017-07-18T00:00:00\",\"2017-07-19T00:00:00\",\"2017-07-20T00:00:00\",\"2017-07-21T00:00:00\",\"2017-07-24T00:00:00\",\"2017-07-25T00:00:00\",\"2017-07-26T00:00:00\",\"2017-07-27T00:00:00\",\"2017-07-28T00:00:00\",\"2017-07-31T00:00:00\",\"2017-08-01T00:00:00\",\"2017-08-02T00:00:00\",\"2017-08-03T00:00:00\",\"2017-08-04T00:00:00\",\"2017-08-07T00:00:00\",\"2017-08-08T00:00:00\",\"2017-08-09T00:00:00\",\"2017-08-10T00:00:00\",\"2017-08-11T00:00:00\",\"2017-08-14T00:00:00\",\"2017-08-15T00:00:00\",\"2017-08-16T00:00:00\",\"2017-08-17T00:00:00\",\"2017-08-18T00:00:00\",\"2017-08-21T00:00:00\",\"2017-08-22T00:00:00\",\"2017-08-23T00:00:00\",\"2017-08-24T00:00:00\",\"2017-08-25T00:00:00\",\"2017-08-28T00:00:00\",\"2017-08-29T00:00:00\",\"2017-08-30T00:00:00\",\"2017-08-31T00:00:00\",\"2017-09-01T00:00:00\",\"2017-09-05T00:00:00\",\"2017-09-06T00:00:00\",\"2017-09-07T00:00:00\",\"2017-09-08T00:00:00\",\"2017-09-11T00:00:00\",\"2017-09-12T00:00:00\",\"2017-09-13T00:00:00\",\"2017-09-14T00:00:00\",\"2017-09-15T00:00:00\",\"2017-09-18T00:00:00\",\"2017-09-19T00:00:00\",\"2017-09-20T00:00:00\",\"2017-09-21T00:00:00\",\"2017-09-22T00:00:00\",\"2017-09-25T00:00:00\",\"2017-09-26T00:00:00\",\"2017-09-27T00:00:00\",\"2017-09-28T00:00:00\",\"2017-09-29T00:00:00\",\"2017-10-02T00:00:00\",\"2017-10-03T00:00:00\",\"2017-10-04T00:00:00\",\"2017-10-05T00:00:00\",\"2017-10-06T00:00:00\",\"2017-10-09T00:00:00\",\"2017-10-10T00:00:00\",\"2017-10-11T00:00:00\",\"2017-10-12T00:00:00\",\"2017-10-13T00:00:00\",\"2017-10-16T00:00:00\",\"2017-10-17T00:00:00\",\"2017-10-18T00:00:00\",\"2017-10-19T00:00:00\",\"2017-10-20T00:00:00\",\"2017-10-23T00:00:00\",\"2017-10-24T00:00:00\",\"2017-10-25T00:00:00\",\"2017-10-26T00:00:00\",\"2017-10-27T00:00:00\",\"2017-10-30T00:00:00\",\"2017-10-31T00:00:00\",\"2017-11-01T00:00:00\",\"2017-11-02T00:00:00\",\"2017-11-03T00:00:00\",\"2017-11-06T00:00:00\",\"2017-11-07T00:00:00\",\"2017-11-08T00:00:00\",\"2017-11-09T00:00:00\",\"2017-11-10T00:00:00\",\"2017-11-13T00:00:00\",\"2017-11-14T00:00:00\",\"2017-11-15T00:00:00\",\"2017-11-16T00:00:00\",\"2017-11-17T00:00:00\",\"2017-11-20T00:00:00\",\"2017-11-21T00:00:00\",\"2017-11-22T00:00:00\",\"2017-11-24T00:00:00\",\"2017-11-27T00:00:00\",\"2017-11-28T00:00:00\",\"2017-11-29T00:00:00\",\"2017-11-30T00:00:00\",\"2017-12-01T00:00:00\",\"2017-12-04T00:00:00\",\"2017-12-05T00:00:00\",\"2017-12-06T00:00:00\",\"2017-12-07T00:00:00\",\"2017-12-08T00:00:00\",\"2017-12-11T00:00:00\",\"2017-12-12T00:00:00\",\"2017-12-13T00:00:00\",\"2017-12-14T00:00:00\",\"2017-12-15T00:00:00\",\"2017-12-18T00:00:00\",\"2017-12-19T00:00:00\",\"2017-12-20T00:00:00\",\"2017-12-21T00:00:00\",\"2017-12-22T00:00:00\",\"2017-12-26T00:00:00\",\"2017-12-27T00:00:00\",\"2017-12-28T00:00:00\",\"2017-12-29T00:00:00\",\"2018-01-02T00:00:00\",\"2018-01-03T00:00:00\",\"2018-01-04T00:00:00\",\"2018-01-05T00:00:00\",\"2018-01-08T00:00:00\",\"2018-01-09T00:00:00\",\"2018-01-10T00:00:00\",\"2018-01-11T00:00:00\",\"2018-01-12T00:00:00\",\"2018-01-16T00:00:00\",\"2018-01-17T00:00:00\",\"2018-01-18T00:00:00\",\"2018-01-19T00:00:00\",\"2018-01-22T00:00:00\",\"2018-01-23T00:00:00\",\"2018-01-24T00:00:00\",\"2018-01-25T00:00:00\",\"2018-01-26T00:00:00\",\"2018-01-29T00:00:00\",\"2018-01-30T00:00:00\",\"2018-01-31T00:00:00\",\"2018-02-01T00:00:00\",\"2018-02-02T00:00:00\",\"2018-02-05T00:00:00\",\"2018-02-06T00:00:00\",\"2018-02-07T00:00:00\",\"2018-02-08T00:00:00\",\"2018-02-09T00:00:00\",\"2018-02-12T00:00:00\",\"2018-02-13T00:00:00\",\"2018-02-14T00:00:00\",\"2018-02-15T00:00:00\",\"2018-02-16T00:00:00\",\"2018-02-20T00:00:00\",\"2018-02-21T00:00:00\",\"2018-02-22T00:00:00\",\"2018-02-23T00:00:00\",\"2018-02-26T00:00:00\",\"2018-02-27T00:00:00\",\"2018-02-28T00:00:00\",\"2018-03-01T00:00:00\",\"2018-03-02T00:00:00\",\"2018-03-05T00:00:00\",\"2018-03-06T00:00:00\",\"2018-03-07T00:00:00\",\"2018-03-08T00:00:00\",\"2018-03-09T00:00:00\",\"2018-03-12T00:00:00\",\"2018-03-13T00:00:00\",\"2018-03-14T00:00:00\",\"2018-03-15T00:00:00\",\"2018-03-16T00:00:00\",\"2018-03-19T00:00:00\",\"2018-03-20T00:00:00\",\"2018-03-21T00:00:00\",\"2018-03-22T00:00:00\",\"2018-03-23T00:00:00\",\"2018-03-26T00:00:00\",\"2018-03-27T00:00:00\",\"2018-03-28T00:00:00\",\"2018-03-29T00:00:00\",\"2018-04-02T00:00:00\",\"2018-04-03T00:00:00\",\"2018-04-04T00:00:00\",\"2018-04-05T00:00:00\",\"2018-04-06T00:00:00\",\"2018-04-09T00:00:00\",\"2018-04-10T00:00:00\",\"2018-04-11T00:00:00\",\"2018-04-12T00:00:00\",\"2018-04-13T00:00:00\",\"2018-04-16T00:00:00\",\"2018-04-17T00:00:00\",\"2018-04-18T00:00:00\",\"2018-04-19T00:00:00\",\"2018-04-20T00:00:00\",\"2018-04-23T00:00:00\",\"2018-04-24T00:00:00\",\"2018-04-25T00:00:00\",\"2018-04-26T00:00:00\",\"2018-04-27T00:00:00\",\"2018-04-30T00:00:00\",\"2018-05-01T00:00:00\",\"2018-05-02T00:00:00\",\"2018-05-03T00:00:00\",\"2018-05-04T00:00:00\",\"2018-05-07T00:00:00\",\"2018-05-08T00:00:00\",\"2018-05-09T00:00:00\",\"2018-05-10T00:00:00\",\"2018-05-11T00:00:00\",\"2018-05-14T00:00:00\",\"2018-05-15T00:00:00\",\"2018-05-16T00:00:00\",\"2018-05-17T00:00:00\",\"2018-05-18T00:00:00\",\"2018-05-21T00:00:00\",\"2018-05-22T00:00:00\",\"2018-05-23T00:00:00\",\"2018-05-24T00:00:00\",\"2018-05-25T00:00:00\",\"2018-05-29T00:00:00\",\"2018-05-30T00:00:00\",\"2018-05-31T00:00:00\",\"2018-06-01T00:00:00\",\"2018-06-04T00:00:00\",\"2018-06-05T00:00:00\",\"2018-06-06T00:00:00\",\"2018-06-07T00:00:00\",\"2018-06-08T00:00:00\",\"2018-06-11T00:00:00\",\"2018-06-12T00:00:00\",\"2018-06-13T00:00:00\",\"2018-06-14T00:00:00\",\"2018-06-15T00:00:00\",\"2018-06-18T00:00:00\",\"2018-06-19T00:00:00\",\"2018-06-20T00:00:00\",\"2018-06-21T00:00:00\",\"2018-06-22T00:00:00\",\"2018-06-25T00:00:00\",\"2018-06-26T00:00:00\",\"2018-06-27T00:00:00\",\"2018-06-28T00:00:00\",\"2018-06-29T00:00:00\",\"2018-07-02T00:00:00\",\"2018-07-03T00:00:00\",\"2018-07-05T00:00:00\",\"2018-07-06T00:00:00\",\"2018-07-09T00:00:00\",\"2018-07-10T00:00:00\",\"2018-07-11T00:00:00\",\"2018-07-12T00:00:00\",\"2018-07-13T00:00:00\",\"2018-07-16T00:00:00\",\"2018-07-17T00:00:00\",\"2018-07-18T00:00:00\",\"2018-07-19T00:00:00\",\"2018-07-20T00:00:00\",\"2018-07-23T00:00:00\",\"2018-07-24T00:00:00\",\"2018-07-25T00:00:00\",\"2018-07-26T00:00:00\",\"2018-07-27T00:00:00\",\"2018-07-30T00:00:00\",\"2018-07-31T00:00:00\",\"2018-08-01T00:00:00\",\"2018-08-02T00:00:00\",\"2018-08-03T00:00:00\",\"2018-08-06T00:00:00\",\"2018-08-07T00:00:00\",\"2018-08-08T00:00:00\",\"2018-08-09T00:00:00\",\"2018-08-10T00:00:00\",\"2018-08-13T00:00:00\",\"2018-08-14T00:00:00\",\"2018-08-15T00:00:00\",\"2018-08-16T00:00:00\",\"2018-08-17T00:00:00\",\"2018-08-20T00:00:00\",\"2018-08-21T00:00:00\",\"2018-08-22T00:00:00\",\"2018-08-23T00:00:00\",\"2018-08-24T00:00:00\",\"2018-08-27T00:00:00\",\"2018-08-28T00:00:00\",\"2018-08-29T00:00:00\",\"2018-08-30T00:00:00\",\"2018-08-31T00:00:00\",\"2018-09-04T00:00:00\",\"2018-09-05T00:00:00\",\"2018-09-06T00:00:00\",\"2018-09-07T00:00:00\",\"2018-09-10T00:00:00\",\"2018-09-11T00:00:00\",\"2018-09-12T00:00:00\",\"2018-09-13T00:00:00\",\"2018-09-14T00:00:00\",\"2018-09-17T00:00:00\",\"2018-09-18T00:00:00\",\"2018-09-19T00:00:00\",\"2018-09-20T00:00:00\",\"2018-09-21T00:00:00\",\"2018-09-24T00:00:00\",\"2018-09-25T00:00:00\",\"2018-09-26T00:00:00\",\"2018-09-27T00:00:00\",\"2018-09-28T00:00:00\",\"2018-10-01T00:00:00\",\"2018-10-02T00:00:00\",\"2018-10-03T00:00:00\",\"2018-10-04T00:00:00\",\"2018-10-05T00:00:00\",\"2018-10-08T00:00:00\",\"2018-10-09T00:00:00\",\"2018-10-10T00:00:00\",\"2018-10-11T00:00:00\",\"2018-10-12T00:00:00\",\"2018-10-15T00:00:00\",\"2018-10-16T00:00:00\",\"2018-10-17T00:00:00\",\"2018-10-18T00:00:00\",\"2018-10-19T00:00:00\",\"2018-10-22T00:00:00\",\"2018-10-23T00:00:00\",\"2018-10-24T00:00:00\",\"2018-10-25T00:00:00\",\"2018-10-26T00:00:00\",\"2018-10-29T00:00:00\",\"2018-10-30T00:00:00\",\"2018-10-31T00:00:00\",\"2018-11-01T00:00:00\",\"2018-11-02T00:00:00\",\"2018-11-05T00:00:00\",\"2018-11-06T00:00:00\",\"2018-11-07T00:00:00\",\"2018-11-08T00:00:00\",\"2018-11-09T00:00:00\",\"2018-11-12T00:00:00\",\"2018-11-13T00:00:00\",\"2018-11-14T00:00:00\",\"2018-11-15T00:00:00\",\"2018-11-16T00:00:00\",\"2018-11-19T00:00:00\",\"2018-11-20T00:00:00\",\"2018-11-21T00:00:00\",\"2018-11-23T00:00:00\",\"2018-11-26T00:00:00\",\"2018-11-27T00:00:00\",\"2018-11-28T00:00:00\",\"2018-11-29T00:00:00\",\"2018-11-30T00:00:00\",\"2018-12-03T00:00:00\",\"2018-12-04T00:00:00\",\"2018-12-06T00:00:00\",\"2018-12-07T00:00:00\",\"2018-12-10T00:00:00\",\"2018-12-11T00:00:00\",\"2018-12-12T00:00:00\",\"2018-12-13T00:00:00\",\"2018-12-14T00:00:00\",\"2018-12-17T00:00:00\",\"2018-12-18T00:00:00\",\"2018-12-19T00:00:00\",\"2018-12-20T00:00:00\",\"2018-12-21T00:00:00\",\"2018-12-24T00:00:00\",\"2018-12-26T00:00:00\",\"2018-12-27T00:00:00\",\"2018-12-28T00:00:00\",\"2018-12-31T00:00:00\",\"2019-01-02T00:00:00\",\"2019-01-03T00:00:00\",\"2019-01-04T00:00:00\",\"2019-01-07T00:00:00\",\"2019-01-08T00:00:00\",\"2019-01-09T00:00:00\",\"2019-01-10T00:00:00\",\"2019-01-11T00:00:00\",\"2019-01-14T00:00:00\",\"2019-01-15T00:00:00\",\"2019-01-16T00:00:00\",\"2019-01-17T00:00:00\",\"2019-01-18T00:00:00\",\"2019-01-22T00:00:00\",\"2019-01-23T00:00:00\",\"2019-01-24T00:00:00\",\"2019-01-25T00:00:00\",\"2019-01-28T00:00:00\",\"2019-01-29T00:00:00\",\"2019-01-30T00:00:00\",\"2019-01-31T00:00:00\",\"2019-02-01T00:00:00\",\"2019-02-04T00:00:00\",\"2019-02-05T00:00:00\",\"2019-02-06T00:00:00\",\"2019-02-07T00:00:00\",\"2019-02-08T00:00:00\",\"2019-02-11T00:00:00\",\"2019-02-12T00:00:00\",\"2019-02-13T00:00:00\",\"2019-02-14T00:00:00\",\"2019-02-15T00:00:00\",\"2019-02-19T00:00:00\",\"2019-02-20T00:00:00\",\"2019-02-21T00:00:00\",\"2019-02-22T00:00:00\",\"2019-02-25T00:00:00\",\"2019-02-26T00:00:00\",\"2019-02-27T00:00:00\",\"2019-02-28T00:00:00\",\"2019-03-01T00:00:00\",\"2019-03-04T00:00:00\",\"2019-03-05T00:00:00\",\"2019-03-06T00:00:00\",\"2019-03-07T00:00:00\",\"2019-03-08T00:00:00\",\"2019-03-11T00:00:00\",\"2019-03-12T00:00:00\",\"2019-03-13T00:00:00\",\"2019-03-14T00:00:00\",\"2019-03-15T00:00:00\",\"2019-03-18T00:00:00\",\"2019-03-19T00:00:00\",\"2019-03-20T00:00:00\",\"2019-03-21T00:00:00\",\"2019-03-22T00:00:00\",\"2019-03-25T00:00:00\",\"2019-03-26T00:00:00\",\"2019-03-27T00:00:00\",\"2019-03-28T00:00:00\",\"2019-03-29T00:00:00\",\"2019-04-01T00:00:00\",\"2019-04-02T00:00:00\",\"2019-04-03T00:00:00\",\"2019-04-04T00:00:00\",\"2019-04-05T00:00:00\",\"2019-04-08T00:00:00\",\"2019-04-09T00:00:00\",\"2019-04-10T00:00:00\",\"2019-04-11T00:00:00\",\"2019-04-12T00:00:00\",\"2019-04-15T00:00:00\",\"2019-04-16T00:00:00\",\"2019-04-17T00:00:00\",\"2019-04-18T00:00:00\",\"2019-04-22T00:00:00\",\"2019-04-23T00:00:00\",\"2019-04-24T00:00:00\",\"2019-04-25T00:00:00\",\"2019-04-26T00:00:00\",\"2019-04-29T00:00:00\",\"2019-04-30T00:00:00\",\"2019-05-01T00:00:00\",\"2019-05-02T00:00:00\",\"2019-05-03T00:00:00\",\"2019-05-06T00:00:00\",\"2019-05-07T00:00:00\",\"2019-05-08T00:00:00\",\"2019-05-09T00:00:00\",\"2019-05-10T00:00:00\",\"2019-05-13T00:00:00\",\"2019-05-14T00:00:00\",\"2019-05-15T00:00:00\",\"2019-05-16T00:00:00\",\"2019-05-17T00:00:00\",\"2019-05-20T00:00:00\",\"2019-05-21T00:00:00\",\"2019-05-22T00:00:00\",\"2019-05-23T00:00:00\",\"2019-05-24T00:00:00\",\"2019-05-28T00:00:00\",\"2019-05-29T00:00:00\",\"2019-05-30T00:00:00\",\"2019-05-31T00:00:00\",\"2019-06-03T00:00:00\",\"2019-06-04T00:00:00\",\"2019-06-05T00:00:00\",\"2019-06-06T00:00:00\",\"2019-06-07T00:00:00\",\"2019-06-10T00:00:00\",\"2019-06-11T00:00:00\",\"2019-06-12T00:00:00\",\"2019-06-13T00:00:00\",\"2019-06-14T00:00:00\",\"2019-06-17T00:00:00\",\"2019-06-18T00:00:00\",\"2019-06-19T00:00:00\",\"2019-06-20T00:00:00\",\"2019-06-21T00:00:00\",\"2019-06-24T00:00:00\",\"2019-06-25T00:00:00\",\"2019-06-26T00:00:00\",\"2019-06-27T00:00:00\",\"2019-06-28T00:00:00\",\"2019-07-01T00:00:00\",\"2019-07-02T00:00:00\",\"2019-07-03T00:00:00\",\"2019-07-05T00:00:00\",\"2019-07-08T00:00:00\",\"2019-07-09T00:00:00\",\"2019-07-10T00:00:00\",\"2019-07-11T00:00:00\",\"2019-07-12T00:00:00\",\"2019-07-15T00:00:00\",\"2019-07-16T00:00:00\",\"2019-07-17T00:00:00\",\"2019-07-18T00:00:00\",\"2019-07-19T00:00:00\",\"2019-07-22T00:00:00\",\"2019-07-23T00:00:00\",\"2019-07-24T00:00:00\",\"2019-07-25T00:00:00\",\"2019-07-26T00:00:00\",\"2019-07-29T00:00:00\",\"2019-07-30T00:00:00\",\"2019-07-31T00:00:00\",\"2019-08-01T00:00:00\",\"2019-08-02T00:00:00\",\"2019-08-05T00:00:00\",\"2019-08-06T00:00:00\",\"2019-08-07T00:00:00\",\"2019-08-08T00:00:00\",\"2019-08-09T00:00:00\",\"2019-08-12T00:00:00\",\"2019-08-13T00:00:00\",\"2019-08-14T00:00:00\",\"2019-08-15T00:00:00\",\"2019-08-16T00:00:00\",\"2019-08-19T00:00:00\",\"2019-08-20T00:00:00\",\"2019-08-21T00:00:00\",\"2019-08-22T00:00:00\",\"2019-08-23T00:00:00\",\"2019-08-26T00:00:00\",\"2019-08-27T00:00:00\",\"2019-08-28T00:00:00\",\"2019-08-29T00:00:00\",\"2019-08-30T00:00:00\",\"2019-09-03T00:00:00\",\"2019-09-04T00:00:00\",\"2019-09-05T00:00:00\",\"2019-09-06T00:00:00\",\"2019-09-09T00:00:00\",\"2019-09-10T00:00:00\",\"2019-09-11T00:00:00\",\"2019-09-12T00:00:00\",\"2019-09-13T00:00:00\",\"2019-09-16T00:00:00\",\"2019-09-17T00:00:00\",\"2019-09-18T00:00:00\",\"2019-09-19T00:00:00\",\"2019-09-20T00:00:00\",\"2019-09-23T00:00:00\",\"2019-09-24T00:00:00\",\"2019-09-25T00:00:00\",\"2019-09-26T00:00:00\",\"2019-09-27T00:00:00\",\"2019-09-30T00:00:00\",\"2019-10-01T00:00:00\",\"2019-10-02T00:00:00\",\"2019-10-03T00:00:00\",\"2019-10-04T00:00:00\",\"2019-10-07T00:00:00\",\"2019-10-08T00:00:00\",\"2019-10-09T00:00:00\",\"2019-10-10T00:00:00\",\"2019-10-11T00:00:00\",\"2019-10-14T00:00:00\",\"2019-10-15T00:00:00\",\"2019-10-16T00:00:00\",\"2019-10-17T00:00:00\",\"2019-10-18T00:00:00\",\"2019-10-21T00:00:00\",\"2019-10-22T00:00:00\",\"2019-10-23T00:00:00\",\"2019-10-24T00:00:00\",\"2019-10-25T00:00:00\",\"2019-10-28T00:00:00\",\"2019-10-29T00:00:00\",\"2019-10-30T00:00:00\",\"2019-10-31T00:00:00\",\"2019-11-01T00:00:00\",\"2019-11-04T00:00:00\",\"2019-11-05T00:00:00\",\"2019-11-06T00:00:00\",\"2019-11-07T00:00:00\",\"2019-11-08T00:00:00\",\"2019-11-11T00:00:00\",\"2019-11-12T00:00:00\",\"2019-11-13T00:00:00\",\"2019-11-14T00:00:00\",\"2019-11-15T00:00:00\",\"2019-11-18T00:00:00\",\"2019-11-19T00:00:00\",\"2019-11-20T00:00:00\",\"2019-11-21T00:00:00\",\"2019-11-22T00:00:00\",\"2019-11-25T00:00:00\",\"2019-11-26T00:00:00\",\"2019-11-27T00:00:00\",\"2019-11-29T00:00:00\",\"2019-12-02T00:00:00\",\"2019-12-03T00:00:00\",\"2019-12-04T00:00:00\",\"2019-12-05T00:00:00\",\"2019-12-06T00:00:00\",\"2019-12-09T00:00:00\",\"2019-12-10T00:00:00\",\"2019-12-11T00:00:00\",\"2019-12-12T00:00:00\",\"2019-12-13T00:00:00\",\"2019-12-16T00:00:00\",\"2019-12-17T00:00:00\",\"2019-12-18T00:00:00\",\"2019-12-19T00:00:00\",\"2019-12-20T00:00:00\",\"2019-12-23T00:00:00\",\"2019-12-24T00:00:00\",\"2019-12-26T00:00:00\",\"2019-12-27T00:00:00\",\"2019-12-30T00:00:00\",\"2019-12-31T00:00:00\",\"2020-01-02T00:00:00\",\"2020-01-03T00:00:00\",\"2020-01-06T00:00:00\",\"2020-01-07T00:00:00\",\"2020-01-08T00:00:00\",\"2020-01-09T00:00:00\",\"2020-01-10T00:00:00\",\"2020-01-13T00:00:00\",\"2020-01-14T00:00:00\",\"2020-01-15T00:00:00\",\"2020-01-16T00:00:00\",\"2020-01-17T00:00:00\",\"2020-01-21T00:00:00\",\"2020-01-22T00:00:00\",\"2020-01-23T00:00:00\",\"2020-01-24T00:00:00\",\"2020-01-27T00:00:00\",\"2020-01-28T00:00:00\",\"2020-01-29T00:00:00\",\"2020-01-30T00:00:00\",\"2020-01-31T00:00:00\",\"2020-02-03T00:00:00\",\"2020-02-04T00:00:00\",\"2020-02-05T00:00:00\",\"2020-02-06T00:00:00\",\"2020-02-07T00:00:00\",\"2020-02-10T00:00:00\",\"2020-02-11T00:00:00\",\"2020-02-12T00:00:00\",\"2020-02-13T00:00:00\",\"2020-02-14T00:00:00\",\"2020-02-18T00:00:00\",\"2020-02-19T00:00:00\",\"2020-02-20T00:00:00\",\"2020-02-21T00:00:00\",\"2020-02-24T00:00:00\",\"2020-02-25T00:00:00\",\"2020-02-26T00:00:00\",\"2020-02-27T00:00:00\",\"2020-02-28T00:00:00\",\"2020-03-02T00:00:00\",\"2020-03-03T00:00:00\",\"2020-03-04T00:00:00\",\"2020-03-05T00:00:00\",\"2020-03-06T00:00:00\",\"2020-03-09T00:00:00\",\"2020-03-10T00:00:00\",\"2020-03-11T00:00:00\",\"2020-03-12T00:00:00\",\"2020-03-13T00:00:00\",\"2020-03-16T00:00:00\",\"2020-03-17T00:00:00\",\"2020-03-18T00:00:00\",\"2020-03-19T00:00:00\",\"2020-03-20T00:00:00\",\"2020-03-23T00:00:00\",\"2020-03-24T00:00:00\",\"2020-03-25T00:00:00\",\"2020-03-26T00:00:00\",\"2020-03-27T00:00:00\",\"2020-03-30T00:00:00\",\"2020-03-31T00:00:00\",\"2020-04-01T00:00:00\",\"2020-04-02T00:00:00\",\"2020-04-03T00:00:00\",\"2020-04-06T00:00:00\",\"2020-04-07T00:00:00\",\"2020-04-08T00:00:00\",\"2020-04-09T00:00:00\",\"2020-04-13T00:00:00\",\"2020-04-14T00:00:00\",\"2020-04-15T00:00:00\",\"2020-04-16T00:00:00\",\"2020-04-17T00:00:00\",\"2020-04-20T00:00:00\",\"2020-04-21T00:00:00\",\"2020-04-22T00:00:00\",\"2020-04-23T00:00:00\",\"2020-04-24T00:00:00\",\"2020-04-27T00:00:00\",\"2020-04-28T00:00:00\",\"2020-04-29T00:00:00\",\"2020-04-30T00:00:00\",\"2020-05-01T00:00:00\",\"2020-05-04T00:00:00\",\"2020-05-05T00:00:00\",\"2020-05-06T00:00:00\",\"2020-05-07T00:00:00\",\"2020-05-08T00:00:00\",\"2020-05-11T00:00:00\",\"2020-05-12T00:00:00\",\"2020-05-13T00:00:00\",\"2020-05-14T00:00:00\",\"2020-05-15T00:00:00\",\"2020-05-18T00:00:00\",\"2020-05-19T00:00:00\",\"2020-05-20T00:00:00\",\"2020-05-21T00:00:00\",\"2020-05-22T00:00:00\",\"2020-05-26T00:00:00\",\"2020-05-27T00:00:00\",\"2020-05-28T00:00:00\",\"2020-05-29T00:00:00\",\"2020-06-01T00:00:00\",\"2020-06-02T00:00:00\",\"2020-06-03T00:00:00\",\"2020-06-04T00:00:00\",\"2020-06-05T00:00:00\",\"2020-06-08T00:00:00\",\"2020-06-09T00:00:00\",\"2020-06-10T00:00:00\",\"2020-06-11T00:00:00\",\"2020-06-12T00:00:00\",\"2020-06-15T00:00:00\",\"2020-06-16T00:00:00\",\"2020-06-17T00:00:00\",\"2020-06-18T00:00:00\",\"2020-06-19T00:00:00\",\"2020-06-22T00:00:00\",\"2020-06-23T00:00:00\",\"2020-06-24T00:00:00\",\"2020-06-25T00:00:00\",\"2020-06-26T00:00:00\",\"2020-06-29T00:00:00\",\"2020-06-30T00:00:00\",\"2020-07-01T00:00:00\",\"2020-07-02T00:00:00\",\"2020-07-06T00:00:00\",\"2020-07-07T00:00:00\",\"2020-07-08T00:00:00\",\"2020-07-09T00:00:00\",\"2020-07-10T00:00:00\",\"2020-07-13T00:00:00\",\"2020-07-14T00:00:00\",\"2020-07-15T00:00:00\",\"2020-07-16T00:00:00\",\"2020-07-17T00:00:00\",\"2020-07-20T00:00:00\",\"2020-07-21T00:00:00\",\"2020-07-22T00:00:00\",\"2020-07-23T00:00:00\",\"2020-07-24T00:00:00\",\"2020-07-27T00:00:00\",\"2020-07-28T00:00:00\",\"2020-07-29T00:00:00\",\"2020-07-30T00:00:00\",\"2020-07-31T00:00:00\",\"2020-08-03T00:00:00\",\"2020-08-04T00:00:00\",\"2020-08-05T00:00:00\",\"2020-08-06T00:00:00\",\"2020-08-07T00:00:00\",\"2020-08-10T00:00:00\",\"2020-08-11T00:00:00\",\"2020-08-12T00:00:00\",\"2020-08-13T00:00:00\",\"2020-08-14T00:00:00\",\"2020-08-17T00:00:00\",\"2020-08-18T00:00:00\",\"2020-08-19T00:00:00\",\"2020-08-20T00:00:00\",\"2020-08-21T00:00:00\",\"2020-08-24T00:00:00\",\"2020-08-25T00:00:00\",\"2020-08-26T00:00:00\",\"2020-08-27T00:00:00\",\"2020-08-28T00:00:00\",\"2020-08-31T00:00:00\",\"2020-09-01T00:00:00\",\"2020-09-02T00:00:00\",\"2020-09-03T00:00:00\",\"2020-09-04T00:00:00\",\"2020-09-08T00:00:00\",\"2020-09-09T00:00:00\",\"2020-09-10T00:00:00\",\"2020-09-11T00:00:00\",\"2020-09-14T00:00:00\",\"2020-09-15T00:00:00\",\"2020-09-16T00:00:00\",\"2020-09-17T00:00:00\",\"2020-09-18T00:00:00\",\"2020-09-21T00:00:00\",\"2020-09-22T00:00:00\",\"2020-09-23T00:00:00\",\"2020-09-24T00:00:00\",\"2020-09-25T00:00:00\",\"2020-09-28T00:00:00\",\"2020-09-29T00:00:00\",\"2020-09-30T00:00:00\",\"2020-10-01T00:00:00\",\"2020-10-02T00:00:00\",\"2020-10-05T00:00:00\",\"2020-10-06T00:00:00\",\"2020-10-07T00:00:00\",\"2020-10-08T00:00:00\",\"2020-10-09T00:00:00\",\"2020-10-12T00:00:00\",\"2020-10-13T00:00:00\",\"2020-10-14T00:00:00\",\"2020-10-15T00:00:00\",\"2020-10-16T00:00:00\",\"2020-10-19T00:00:00\",\"2020-10-20T00:00:00\",\"2020-10-21T00:00:00\",\"2020-10-22T00:00:00\",\"2020-10-23T00:00:00\",\"2020-10-26T00:00:00\",\"2020-10-27T00:00:00\",\"2020-10-28T00:00:00\",\"2020-10-29T00:00:00\",\"2020-10-30T00:00:00\",\"2020-11-02T00:00:00\",\"2020-11-03T00:00:00\",\"2020-11-04T00:00:00\",\"2020-11-05T00:00:00\",\"2020-11-06T00:00:00\",\"2020-11-09T00:00:00\",\"2020-11-10T00:00:00\",\"2020-11-11T00:00:00\",\"2020-11-12T00:00:00\",\"2020-11-13T00:00:00\",\"2020-11-16T00:00:00\",\"2020-11-17T00:00:00\",\"2020-11-18T00:00:00\",\"2020-11-19T00:00:00\",\"2020-11-20T00:00:00\",\"2020-11-23T00:00:00\",\"2020-11-24T00:00:00\",\"2020-11-25T00:00:00\",\"2020-11-27T00:00:00\",\"2020-11-30T00:00:00\",\"2020-12-01T00:00:00\",\"2020-12-02T00:00:00\",\"2020-12-03T00:00:00\",\"2020-12-04T00:00:00\",\"2020-12-07T00:00:00\",\"2020-12-08T00:00:00\",\"2020-12-09T00:00:00\",\"2020-12-10T00:00:00\",\"2020-12-11T00:00:00\",\"2020-12-14T00:00:00\",\"2020-12-15T00:00:00\",\"2020-12-16T00:00:00\",\"2020-12-17T00:00:00\",\"2020-12-18T00:00:00\",\"2020-12-21T00:00:00\",\"2020-12-22T00:00:00\",\"2020-12-23T00:00:00\",\"2020-12-24T00:00:00\",\"2020-12-28T00:00:00\",\"2020-12-29T00:00:00\",\"2020-12-30T00:00:00\",\"2020-12-31T00:00:00\",\"2021-01-04T00:00:00\",\"2021-01-05T00:00:00\",\"2021-01-06T00:00:00\",\"2021-01-07T00:00:00\",\"2021-01-08T00:00:00\",\"2021-01-11T00:00:00\",\"2021-01-12T00:00:00\",\"2021-01-13T00:00:00\",\"2021-01-14T00:00:00\",\"2021-01-15T00:00:00\",\"2021-01-19T00:00:00\",\"2021-01-20T00:00:00\",\"2021-01-21T00:00:00\",\"2021-01-22T00:00:00\",\"2021-01-25T00:00:00\",\"2021-01-26T00:00:00\",\"2021-01-27T00:00:00\",\"2021-01-28T00:00:00\",\"2021-01-29T00:00:00\",\"2021-02-01T00:00:00\",\"2021-02-02T00:00:00\",\"2021-02-03T00:00:00\",\"2021-02-04T00:00:00\",\"2021-02-05T00:00:00\",\"2021-02-08T00:00:00\",\"2021-02-09T00:00:00\",\"2021-02-10T00:00:00\",\"2021-02-11T00:00:00\",\"2021-02-12T00:00:00\",\"2021-02-16T00:00:00\",\"2021-02-17T00:00:00\",\"2021-02-18T00:00:00\",\"2021-02-19T00:00:00\",\"2021-02-22T00:00:00\",\"2021-02-23T00:00:00\",\"2021-02-24T00:00:00\",\"2021-02-25T00:00:00\",\"2021-02-26T00:00:00\",\"2021-03-01T00:00:00\",\"2021-03-02T00:00:00\",\"2021-03-03T00:00:00\",\"2021-03-04T00:00:00\",\"2021-03-05T00:00:00\",\"2021-03-08T00:00:00\",\"2021-03-09T00:00:00\",\"2021-03-10T00:00:00\",\"2021-03-11T00:00:00\",\"2021-03-12T00:00:00\",\"2021-03-15T00:00:00\",\"2021-03-16T00:00:00\",\"2021-03-17T00:00:00\",\"2021-03-18T00:00:00\",\"2021-03-19T00:00:00\",\"2021-03-22T00:00:00\",\"2021-03-23T00:00:00\",\"2021-03-24T00:00:00\",\"2021-03-25T00:00:00\",\"2021-03-26T00:00:00\",\"2021-03-29T00:00:00\",\"2021-03-30T00:00:00\",\"2021-03-31T00:00:00\",\"2021-04-01T00:00:00\",\"2021-04-05T00:00:00\",\"2021-04-06T00:00:00\",\"2021-04-07T00:00:00\",\"2021-04-08T00:00:00\",\"2021-04-09T00:00:00\",\"2021-04-12T00:00:00\",\"2021-04-13T00:00:00\",\"2021-04-14T00:00:00\",\"2021-04-15T00:00:00\",\"2021-04-16T00:00:00\",\"2021-04-19T00:00:00\",\"2021-04-20T00:00:00\",\"2021-04-21T00:00:00\",\"2021-04-22T00:00:00\",\"2021-04-23T00:00:00\",\"2021-04-26T00:00:00\",\"2021-04-27T00:00:00\",\"2021-04-28T00:00:00\",\"2021-04-29T00:00:00\",\"2021-04-30T00:00:00\",\"2021-05-03T00:00:00\",\"2021-05-04T00:00:00\",\"2021-05-05T00:00:00\",\"2021-05-06T00:00:00\",\"2021-05-07T00:00:00\",\"2021-05-10T00:00:00\",\"2021-05-11T00:00:00\",\"2021-05-12T00:00:00\",\"2021-05-13T00:00:00\",\"2021-05-14T00:00:00\",\"2021-05-17T00:00:00\",\"2021-05-18T00:00:00\",\"2021-05-19T00:00:00\",\"2021-05-20T00:00:00\",\"2021-05-21T00:00:00\",\"2021-05-24T00:00:00\",\"2021-05-25T00:00:00\",\"2021-05-26T00:00:00\",\"2021-05-27T00:00:00\",\"2021-05-28T00:00:00\",\"2021-06-01T00:00:00\",\"2021-06-02T00:00:00\",\"2021-06-03T00:00:00\",\"2021-06-04T00:00:00\",\"2021-06-07T00:00:00\",\"2021-06-08T00:00:00\",\"2021-06-09T00:00:00\",\"2021-06-10T00:00:00\",\"2021-06-11T00:00:00\",\"2021-06-14T00:00:00\",\"2021-06-15T00:00:00\",\"2021-06-16T00:00:00\",\"2021-06-17T00:00:00\",\"2021-06-18T00:00:00\",\"2021-06-21T00:00:00\",\"2021-06-22T00:00:00\",\"2021-06-23T00:00:00\",\"2021-06-24T00:00:00\",\"2021-06-25T00:00:00\",\"2021-06-28T00:00:00\",\"2021-06-29T00:00:00\",\"2021-06-30T00:00:00\",\"2021-07-01T00:00:00\",\"2021-07-02T00:00:00\",\"2021-07-06T00:00:00\",\"2021-07-07T00:00:00\",\"2021-07-08T00:00:00\",\"2021-07-09T00:00:00\",\"2021-07-12T00:00:00\",\"2021-07-13T00:00:00\",\"2021-07-14T00:00:00\",\"2021-07-15T00:00:00\",\"2021-07-16T00:00:00\",\"2021-07-19T00:00:00\",\"2021-07-20T00:00:00\",\"2021-07-21T00:00:00\",\"2021-07-22T00:00:00\",\"2021-07-23T00:00:00\",\"2021-07-26T00:00:00\",\"2021-07-27T00:00:00\",\"2021-07-28T00:00:00\",\"2021-07-29T00:00:00\",\"2021-07-30T00:00:00\",\"2021-08-02T00:00:00\",\"2021-08-03T00:00:00\",\"2021-08-04T00:00:00\",\"2021-08-05T00:00:00\",\"2021-08-06T00:00:00\",\"2021-08-09T00:00:00\",\"2021-08-10T00:00:00\",\"2021-08-11T00:00:00\",\"2021-08-12T00:00:00\",\"2021-08-13T00:00:00\",\"2021-08-16T00:00:00\",\"2021-08-17T00:00:00\",\"2021-08-18T00:00:00\",\"2021-08-19T00:00:00\",\"2021-08-20T00:00:00\",\"2021-08-23T00:00:00\",\"2021-08-24T00:00:00\",\"2021-08-25T00:00:00\",\"2021-08-26T00:00:00\",\"2021-08-27T00:00:00\",\"2021-08-30T00:00:00\",\"2021-08-31T00:00:00\",\"2021-09-01T00:00:00\",\"2021-09-02T00:00:00\",\"2021-09-03T00:00:00\",\"2021-09-07T00:00:00\",\"2021-09-08T00:00:00\",\"2021-09-09T00:00:00\",\"2021-09-10T00:00:00\",\"2021-09-13T00:00:00\",\"2021-09-14T00:00:00\",\"2021-09-15T00:00:00\",\"2021-09-16T00:00:00\",\"2021-09-17T00:00:00\",\"2021-09-20T00:00:00\",\"2021-09-21T00:00:00\",\"2021-09-22T00:00:00\",\"2021-09-23T00:00:00\",\"2021-09-24T00:00:00\"],\"xaxis\":\"x\",\"y\":[28.07,28.157498999999998,28.172501,28.282498999999998,28.377501000000002,28.68,29.049999,29.1875,28.93,29.282498999999998,29.195,29.362499,28.450001,29.0825,29.07,29.25,29.327499,28.327499,28.525,28.362499,28.299999,27.6325,27.807501000000002,27.387501,27.0275,27.365,27.424999,27.012501,26.4575,26.637501,26.02,26.540001,26.65,27.2075,27.415001,27.502501000000002,27.85,27.5825,27.737499,27.8475,27.5175,27.567498999999998,27.2575,27.2125,27.0625,27.297501,27.290001,27.65,28.077499,28.122498999999998,28.4375,28.745001000000002,28.807501000000002,28.9125,28.9375,29.17,29.195,28.91,28.897499,29.122498999999998,29.049999,29.1,28.8575,28.690001000000002,28.9375,28.952499,29.1175,29.485001,29.575001,29.65,29.5525,29.702499,29.555,29.9275,29.842501000000002,29.932501000000002,29.942498999999998,29.875,30.07,30.4,30.4,30.165001,30.155001000000002,31.752501000000002,31.945,32.040001000000004,32.224998,32.612499,32.805,32.779999,33.012501,33.1875,33.3125,33.654999,33.709998999999996,33.775002,33.994999,34.0275,34.075001,33.82,34.07,34.174999,34.400002,34.689999,34.647498999999996,34.650002,34.697497999999996,34.705002,34.262501,34.66,34.705002,34.709998999999996,34.7575,35.064999,34.9725,35.057499,34.932499,34.939999,35.1525,35.087502,34.654999,35.154999,35.797501000000004,35.875,35.752499,35.762501,35.7925,35.952498999999996,35.862499,35.817501,35.724998,35.014998999999996,35.252499,35.262501,35.217499,35.2775,35.112499,35.290001000000004,35.462502,35.794998,35.967499,35.845001,35.827498999999996,35.817501,36.240002000000004,36.709998999999996,36.067501,36.452498999999996,36.689999,37.2575,38.362499,38.0275,38.077498999999996,38.6675,38.762501,38.68,37.427502000000004,37.782501,38.157501,38.227501000000004,38.327498999999996,38.1675,38.2575,38.327498999999996,38.3325,38.095001,38.055,38.2225,38.365002000000004,38.445,38.619999,38.599998,36.505001,35.627499,36.287498,35.959998999999996,35.552502000000004,35.549999,35.915001000000004,36.235001000000004,36.1525,36.279999,36.2775,36.345001,35.904999,35.790001000000004,35.57,35.945,35.775002,35.68,35.602501000000004,35.724998,35.842499,36.095001,36.205002,36.360001000000004,36.8325,37.142502,37.1675,37.487499,37.547501000000004,37.220001,37.474998,37.950001,38.264998999999996,36.825001,37.297501000000004,37.032501,37.102501000000004,39.040001000000004,38.755001,38.922501000000004,39.1675,39.567501,39.7775,38.657501,39.017502,39.6875,40.035,40.037498,39.459998999999996,39.18,38.7775,39.505001,39.720001,39.637501,39.817501,39.982498,40.0,40.6525,40.869999,40.907501,40.139998999999996,40.130001,40.09,39.6325,39.9725,39.692501,39.477501000000004,39.522498999999996,39.5,39.5,39.610001000000004,38.4575,38.1875,37.639998999999996,37.290001000000004,37.922501000000004,38.384997999999996,38.174999,38.0,38.18,38.477501000000004,38.115002000000004,38.512501,38.639998999999996,38.872501,38.775002,38.9375,38.932499,39.102501000000004,39.412498,39.807499,39.900002,38.755001,38.990002000000004,38.875,39.049999,38.817501,39.195,39.674999,40.93,41.735001000000004,41.4025,41.32,42.779999,42.93,43.400002,43.5825,43.285,43.567501,43.349998,42.794998,42.095001,42.575001,42.41,42.389998999999996,42.695,43.262501,43.662498,43.334998999999996,42.965,41.790001000000004,42.110001000000004,42.125,42.407501,42.099998,41.615002000000004,42.227501000000004,42.205002,42.197497999999996,42.865002000000004,43.0,42.912498,43.115002000000004,43.715,43.522498999999996,43.3125,43.525002,43.625,42.419998,42.427502000000004,42.619999,42.305,42.314999,42.990002000000004,43.02,43.262501,43.482498,43.352501000000004,43.25,43.622501,43.912498,44.035,43.767502,44.5625,44.352501000000004,44.150002,44.205002,43.299999,42.6325,42.514998999999996,41.767502,41.174999,41.625,41.689999,40.025002,39.0,38.5,39.767502,38.7575,37.560001,39.377499,40.412498,40.720001,42.25,42.942501,42.855,42.752499,42.927502000000004,43.384997999999996,44.052502000000004,44.540001000000004,44.512501,43.165001000000004,43.112499,43.630001,44.032501,43.567501,43.767502,44.3475,45.052502000000004,44.810001,44.452498999999996,44.517502,44.404999,43.415001000000004,43.735001000000004,42.814999,42.150002,41.235001000000004,41.610001000000004,41.73,41.297501000000004,41.724998,41.1175,41.220001,41.192501,43.02,42.049999,42.462502,42.8825,42.924999,43.259997999999996,43.462502,43.7075,44.102501000000004,44.220001,43.165001000000004,41.357498,41.022498999999996,40.305,40.602501000000004,40.842499,40.157501,40.459998999999996,41.317501,43.450001,43.610001000000004,44.5425,46.1875,45.9175,46.305,46.912498,46.862499,46.965,46.275002,46.5,46.59,46.532501,46.727501000000004,46.695,46.439999,46.552502000000004,46.912498,46.717499,46.695,46.535,46.9375,47.837502,48.09,47.98,48.084998999999996,47.442501,47.552502000000004,47.787498,47.610001000000004,47.555,47.064999,46.799999,45.862499,46.432499,46.235001000000004,46.174999,45.182499,45.634997999999996,46.0075,45.950001,45.727501000000004,45.855,45.884997999999996,46.07,46.299999,47.325001,47.544998,46.9025,47.327498999999996,47.724998,47.605,47.299999,47.482498,47.422501000000004,47.5425,47.389998999999996,48.012501,48.107498,48.4025,47.525002,47.267502,47.334998999999996,49.327498999999996,50.087502,51.369999,51.767502,51.689999,51.130001,51.799999,51.6675,51.924999,52.064999,52.0825,52.8675,53.290001000000004,53.7775,53.5075,53.459998999999996,53.650002,53.7775,54.0825,54.73,54.852501000000004,55.599998,56.5,56.657501,56.275002,55.325001,55.177502000000004,54.1175,54.139998999999996,54.959998999999996,55.642502,55.630001,54.317501,54.279999,53.825001,54.787498,54.322497999999996,54.157501,54.924999,54.939999,55.884997999999996,56.005001,56.587502,56.657501,57.445,56.682499,55.145,55.049999,55.5625,54.012501,53.080002,54.209998999999996,54.317501,54.189999,54.834998999999996,53.25,54.357498,54.735001000000004,53.674999,53.634997999999996,54.1875,53.1675,51.522498999999996,52.317501,54.154999,54.202498999999996,51.357498,49.5425,50.422501000000004,51.032501,51.6875,50.5625,48.447497999999996,47.862499,46.482498,46.724998,47.365002000000004,46.247501,43.877499,44.137501,43.025002,42.564999,42.720001,43.732498,44.424999,44.2575,45.302502000000004,44.067501,42.605,42.075001,40.8325,41.75,42.255001,42.387501,41.32,40.682499,41.0975,39.772498999999996,38.825001,37.407501,36.647498999999996,36.68,37.517502,38.637501,39.119999,38.557499,35.5,35.950001,36.474998,37.130001,37.407501,37.715,37.877499,37.305,37.512501,38.25,38.314999,38.994999,38.154999,37.924999,37.935001,38.580002,38.415001000000004,38.5275,40.057499,41.139998999999996,41.482498,41.82,43.087502,43.212502,42.584998999999996,42.105,42.3125,42.424999,42.48,42.345001,42.4375,42.372501,42.747501,42.575001,42.845001,43.487499,43.2925,43.182499,43.23,43.2225,43.4925,43.634997999999996,43.485001000000004,43.005001,42.375,43.837502,44.842499,45.23,45.639998999999996,45.935001,46.447497999999996,46.48,46.182499,47.452498999999996,47.695,46.650002,46.145,46.637501,46.8825,47.134997999999996,47.095001,47.762501,48.287498,48.285,48.982498,49.084998999999996,49.807499,49.544998,49.610001000000004,49.052502000000004,49.502499,49.639998999999996,49.6525,50.630001,50.584998999999996,50.974998,51.762501,51.279999,50.529999,50.965,49.7775,52.307499,52.032501,52.557499,50.875,50.2075,50.4375,49.165001000000004,48.192501,45.712502,46.352501000000004,46.505001,47.209998999999996,46.689999,45.07,46.174999,45.637501,44.452498999999996,44.654999,44.477501000000004,44.0,44.1675,43.747501,42.567501,43.630001,45.285,45.537498,46.442501,47.904999,48.400002,48.3475,48.400002,47.575001,48.0425,48.802502000000004,49.327498999999996,49.5075,49.537498,49.5425,48.822497999999996,49.337502,49.892502,49.262501,50.162498,50.34,50.672501000000004,50.724998,49.602501000000004,49.702498999999996,50.389998999999996,50.427502000000004,50.549999,51.0,50.875,50.817501,50.924999,50.59,50.9025,51.822497999999996,51.7925,51.682499,51.785,52.110001000000004,51.827498999999996,52.825001,51.685001,50.407501,48.145,48.509997999999996,48.455002,49.8475,49.822497999999996,49.787498,50.119999,50.647498999999996,49.9175,50.959998999999996,52.5075,52.580002,52.900002,52.6875,50.25,51.264998999999996,50.8825,50.830002,51.665001000000004,51.799999,51.055,51.830002,52.877499,53.127499,52.767502,52.927502000000004,54.432499,55.715,54.255001,54.389998999999996,54.779999,54.860001000000004,55.092499,54.3675,54.412498,54.297501000000004,54.285,54.7075,54.32,55.197497999999996,56.049999,54.482498,53.782501,55.9725,56.459998999999996,56.0825,56.41,56.825001,58.077498999999996,58.6675,58.720001,58.299999,58.380001,58.572497999999996,59.330002,59.904999,60.305,60.452498999999996,60.720001,61.68,60.642502,60.302502000000004,59.314999,62.290001000000004,63.845001,64.08000200000001,63.842499,64.527496,64.212502,64.57,65.230003,65.26750200000001,65.525002,65.752502,66.057503,66.347504,65.099998,65.29499799999999,65.209999,65.629997,65.625,66.327499,66.474998,65.862503,64.072502,65.16999799999999,65.682503,66.824997,66.227501,66.464996,67.125,66.83000200000001,67.73249799999999,69.245003,69.699997,69.779999,69.737503,69.639999,70.092499,70.730003,71.175003,72.029999,71.305,72.379997,73.797501,74.125,73.1875,74.370003,74.290001,76.550003,77.0625,77.787498,78.042503,77.387497,78.022499,78.75,79.0,79.327499,78.912498,79.379997,76.220001,78.047501,80.345001,79.6875,77.072502,75.555,78.407501,79.737503,80.065002,79.5,78.462502,79.677498,80.3675,80.837502,80.712502,78.652496,80.0,79.552498,77.625,72.307503,71.532501,71.625,68.239998,64.092499,69.43,71.449997,73.282501,72.852501,70.307503,65.75,67.342499,67.964996,62.0,63.237499,60.0,59.599998,59.279999,60.6525,57.0,53.1525,58.575001,61.075001,61.59,61.762501,62.349998,63.0,59.782501,59.224998,59.7425,62.345001,64.75,65.307503,66.175003,66.457497,69.512497,70.157501,70.587502,69.214996,69.212502,66.35749799999999,68.050003,68.717499,69.25,69.987503,69.550003,70.972504,72.087502,71.462502,71.58000200000001,73.614998,74.717499,75.4925,76.072502,76.809998,77.727501,75.802498,75.3825,75.052498,77.58000200000001,78.252502,79.129997,78.967499,78.837502,79.125,78.272499,78.907501,79.1175,79.302498,79.73249799999999,80.574997,80.195,80.807503,81.83000200000001,83.002502,86.522499,83.870003,83.555,83.144997,86.18,87.772499,87.305,86.287498,87.787498,90.567497,89.629997,89.39250200000001,88.254997,87.82,90.0,90.977501,90.910004,92.467499,93.057503,94.089996,94.672501,94.70500200000001,95.2575,93.877502,96.489998,95.904999,95.839996,96.0625,96.7425,96.602501,92.010002,89.144997,93.480003,93.247498,93.712502,93.76750200000001,100.824997,107.89250200000001,108.387497,108.897499,109.797501,110.292503,110.0,109.10749799999999,110.297501,113.927498,113.04499799999999,113.962502,114.0075,115.610001,115.73249799999999,119.25,123.9375,123.052498,125.082497,123.832497,124.577499,126.0,130.529999,127.0,120.5,110.889999,112.68,115.260002,112.5,110.0,112.800003,113.610001,112.040001,108.709999,106.089996,103.099998,109.160004,106.769997,105.0,107.66999799999999,112.779999,113.57,113.620003,115.83000200000001,112.220001,113.550003,112.25,114.129997,114.589996,114.91999799999999,119.279999,119.650002,119.620003,118.150002,118.809998,115.660004,115.629997,116.449997,114.589996,114.279999,112.879997,114.540001,111.099998,112.199997,107.720001,107.32,108.730003,112.349998,116.870003,116.129997,116.050003,114.129997,116.440002,118.57,117.870003,118.150002,118.959999,118.0,116.809998,117.290001,113.75,112.589996,115.16999799999999,116.220001,116.809998,120.010002,120.889999,122.209999,121.519997,122.25,123.089996,121.0,120.150002,120.550003,121.540001,124.129997,126.559998,128.03999299999998,126.120003,123.449997,129.649994,130.779999,131.100006,133.509995,134.33999599999999,133.399994,131.720001,126.760002,128.429993,126.379997,127.860001,130.229996,128.5,126.860001,128.490005,128.759995,127.0,126.940002,128.550003,133.58999599999999,135.020004,136.53999299999998,141.369995,140.41000400000001,136.699997,130.21000700000002,130.929993,134.610001,133.610001,134.58999599999999,135.860001,134.919998,135.850006,134.399994,133.770004,133.690002,132.78999299999998,129.470001,127.410004,128.800003,125.599998,118.389999,122.230003,120.540001,121.199997,122.790001,125.010002,121.839996,118.620003,117.57,116.209999,118.790001,119.449997,121.260002,119.160004,120.41999799999999,124.720001,122.339996,120.32,119.68,120.260002,122.139999,120.07,119.0,118.91999799999999,120.730003,118.860001,121.150002,122.489998,123.07,125.650002,125.139999,128.520004,129.470001,130.630005,131.929993,131.66000400000001,133.639999,133.279999,133.33999599999999,131.809998,131.300003,131.41000400000001,132.16000400000001,133.559998,134.110001,133.080002,132.449997,131.070007,131.830002,126.699997,127.970001,127.129997,129.479996,126.809998,122.769997,122.25,124.260002,125.849998,125.16999799999999,124.779999,122.860001,125.099998,125.209999,125.940002,126.32,126.41999799999999,125.08000200000001,124.550003,123.940002,124.050003,123.129997,123.849998,124.83000200000001,126.209999,126.519997,125.940002,126.099998,127.07,129.389999,128.46000700000002,129.649994,130.240005,129.21000700000002,131.619995,133.229996,132.929993,132.809998,133.350006,134.350006,135.869995,135.759995,137.75,140.070007,142.66000400000001,140.669998,142.649994,144.0,143.630005,147.679993,147.08999599999999,145.880005,141.669998,142.96000700000002,144.630005,145.809998,146.919998,147.699997,145.550003,142.53999299999998,144.580002,144.110001,145.25,145.179993,146.279999,146.169998,145.630005,145.520004,145.300003,145.529999,145.83999599999999,148.270004,146.470001,149.08999599999999,146.149994,144.5,146.779999,147.889999,149.149994,147.800003,147.509995,146.830002,148.610001,151.28999299999998,152.33999599999999,152.399994,153.08999599999999,154.389999,153.979996,153.949997,148.699997,148.75,146.91000400000001,146.369995,147.220001,145.759995,141.270004,142.779999,143.699997,145.639999,145.559998],\"yaxis\":\"y\"}],                        {\"font\":{\"color\":\"black\",\"size\":15},\"legend\":{\"title\":{\"text\":\"Stock Parameters\"},\"tracegroupgap\":0},\"margin\":{\"t\":60},\"template\":{\"data\":{\"bar\":[{\"error_x\":{\"color\":\"#2a3f5f\"},\"error_y\":{\"color\":\"#2a3f5f\"},\"marker\":{\"line\":{\"color\":\"#E5ECF6\",\"width\":0.5},\"pattern\":{\"fillmode\":\"overlay\",\"size\":10,\"solidity\":0.2}},\"type\":\"bar\"}],\"barpolar\":[{\"marker\":{\"line\":{\"color\":\"#E5ECF6\",\"width\":0.5},\"pattern\":{\"fillmode\":\"overlay\",\"size\":10,\"solidity\":0.2}},\"type\":\"barpolar\"}],\"carpet\":[{\"aaxis\":{\"endlinecolor\":\"#2a3f5f\",\"gridcolor\":\"white\",\"linecolor\":\"white\",\"minorgridcolor\":\"white\",\"startlinecolor\":\"#2a3f5f\"},\"baxis\":{\"endlinecolor\":\"#2a3f5f\",\"gridcolor\":\"white\",\"linecolor\":\"white\",\"minorgridcolor\":\"white\",\"startlinecolor\":\"#2a3f5f\"},\"type\":\"carpet\"}],\"choropleth\":[{\"colorbar\":{\"outlinewidth\":0,\"ticks\":\"\"},\"type\":\"choropleth\"}],\"contour\":[{\"colorbar\":{\"outlinewidth\":0,\"ticks\":\"\"},\"colorscale\":[[0.0,\"#0d0887\"],[0.1111111111111111,\"#46039f\"],[0.2222222222222222,\"#7201a8\"],[0.3333333333333333,\"#9c179e\"],[0.4444444444444444,\"#bd3786\"],[0.5555555555555556,\"#d8576b\"],[0.6666666666666666,\"#ed7953\"],[0.7777777777777778,\"#fb9f3a\"],[0.8888888888888888,\"#fdca26\"],[1.0,\"#f0f921\"]],\"type\":\"contour\"}],\"contourcarpet\":[{\"colorbar\":{\"outlinewidth\":0,\"ticks\":\"\"},\"type\":\"contourcarpet\"}],\"heatmap\":[{\"colorbar\":{\"outlinewidth\":0,\"ticks\":\"\"},\"colorscale\":[[0.0,\"#0d0887\"],[0.1111111111111111,\"#46039f\"],[0.2222222222222222,\"#7201a8\"],[0.3333333333333333,\"#9c179e\"],[0.4444444444444444,\"#bd3786\"],[0.5555555555555556,\"#d8576b\"],[0.6666666666666666,\"#ed7953\"],[0.7777777777777778,\"#fb9f3a\"],[0.8888888888888888,\"#fdca26\"],[1.0,\"#f0f921\"]],\"type\":\"heatmap\"}],\"heatmapgl\":[{\"colorbar\":{\"outlinewidth\":0,\"ticks\":\"\"},\"colorscale\":[[0.0,\"#0d0887\"],[0.1111111111111111,\"#46039f\"],[0.2222222222222222,\"#7201a8\"],[0.3333333333333333,\"#9c179e\"],[0.4444444444444444,\"#bd3786\"],[0.5555555555555556,\"#d8576b\"],[0.6666666666666666,\"#ed7953\"],[0.7777777777777778,\"#fb9f3a\"],[0.8888888888888888,\"#fdca26\"],[1.0,\"#f0f921\"]],\"type\":\"heatmapgl\"}],\"histogram\":[{\"marker\":{\"pattern\":{\"fillmode\":\"overlay\",\"size\":10,\"solidity\":0.2}},\"type\":\"histogram\"}],\"histogram2d\":[{\"colorbar\":{\"outlinewidth\":0,\"ticks\":\"\"},\"colorscale\":[[0.0,\"#0d0887\"],[0.1111111111111111,\"#46039f\"],[0.2222222222222222,\"#7201a8\"],[0.3333333333333333,\"#9c179e\"],[0.4444444444444444,\"#bd3786\"],[0.5555555555555556,\"#d8576b\"],[0.6666666666666666,\"#ed7953\"],[0.7777777777777778,\"#fb9f3a\"],[0.8888888888888888,\"#fdca26\"],[1.0,\"#f0f921\"]],\"type\":\"histogram2d\"}],\"histogram2dcontour\":[{\"colorbar\":{\"outlinewidth\":0,\"ticks\":\"\"},\"colorscale\":[[0.0,\"#0d0887\"],[0.1111111111111111,\"#46039f\"],[0.2222222222222222,\"#7201a8\"],[0.3333333333333333,\"#9c179e\"],[0.4444444444444444,\"#bd3786\"],[0.5555555555555556,\"#d8576b\"],[0.6666666666666666,\"#ed7953\"],[0.7777777777777778,\"#fb9f3a\"],[0.8888888888888888,\"#fdca26\"],[1.0,\"#f0f921\"]],\"type\":\"histogram2dcontour\"}],\"mesh3d\":[{\"colorbar\":{\"outlinewidth\":0,\"ticks\":\"\"},\"type\":\"mesh3d\"}],\"parcoords\":[{\"line\":{\"colorbar\":{\"outlinewidth\":0,\"ticks\":\"\"}},\"type\":\"parcoords\"}],\"pie\":[{\"automargin\":true,\"type\":\"pie\"}],\"scatter\":[{\"marker\":{\"colorbar\":{\"outlinewidth\":0,\"ticks\":\"\"}},\"type\":\"scatter\"}],\"scatter3d\":[{\"line\":{\"colorbar\":{\"outlinewidth\":0,\"ticks\":\"\"}},\"marker\":{\"colorbar\":{\"outlinewidth\":0,\"ticks\":\"\"}},\"type\":\"scatter3d\"}],\"scattercarpet\":[{\"marker\":{\"colorbar\":{\"outlinewidth\":0,\"ticks\":\"\"}},\"type\":\"scattercarpet\"}],\"scattergeo\":[{\"marker\":{\"colorbar\":{\"outlinewidth\":0,\"ticks\":\"\"}},\"type\":\"scattergeo\"}],\"scattergl\":[{\"marker\":{\"colorbar\":{\"outlinewidth\":0,\"ticks\":\"\"}},\"type\":\"scattergl\"}],\"scattermapbox\":[{\"marker\":{\"colorbar\":{\"outlinewidth\":0,\"ticks\":\"\"}},\"type\":\"scattermapbox\"}],\"scatterpolar\":[{\"marker\":{\"colorbar\":{\"outlinewidth\":0,\"ticks\":\"\"}},\"type\":\"scatterpolar\"}],\"scatterpolargl\":[{\"marker\":{\"colorbar\":{\"outlinewidth\":0,\"ticks\":\"\"}},\"type\":\"scatterpolargl\"}],\"scatterternary\":[{\"marker\":{\"colorbar\":{\"outlinewidth\":0,\"ticks\":\"\"}},\"type\":\"scatterternary\"}],\"surface\":[{\"colorbar\":{\"outlinewidth\":0,\"ticks\":\"\"},\"colorscale\":[[0.0,\"#0d0887\"],[0.1111111111111111,\"#46039f\"],[0.2222222222222222,\"#7201a8\"],[0.3333333333333333,\"#9c179e\"],[0.4444444444444444,\"#bd3786\"],[0.5555555555555556,\"#d8576b\"],[0.6666666666666666,\"#ed7953\"],[0.7777777777777778,\"#fb9f3a\"],[0.8888888888888888,\"#fdca26\"],[1.0,\"#f0f921\"]],\"type\":\"surface\"}],\"table\":[{\"cells\":{\"fill\":{\"color\":\"#EBF0F8\"},\"line\":{\"color\":\"white\"}},\"header\":{\"fill\":{\"color\":\"#C8D4E3\"},\"line\":{\"color\":\"white\"}},\"type\":\"table\"}]},\"layout\":{\"annotationdefaults\":{\"arrowcolor\":\"#2a3f5f\",\"arrowhead\":0,\"arrowwidth\":1},\"autotypenumbers\":\"strict\",\"coloraxis\":{\"colorbar\":{\"outlinewidth\":0,\"ticks\":\"\"}},\"colorscale\":{\"diverging\":[[0,\"#8e0152\"],[0.1,\"#c51b7d\"],[0.2,\"#de77ae\"],[0.3,\"#f1b6da\"],[0.4,\"#fde0ef\"],[0.5,\"#f7f7f7\"],[0.6,\"#e6f5d0\"],[0.7,\"#b8e186\"],[0.8,\"#7fbc41\"],[0.9,\"#4d9221\"],[1,\"#276419\"]],\"sequential\":[[0.0,\"#0d0887\"],[0.1111111111111111,\"#46039f\"],[0.2222222222222222,\"#7201a8\"],[0.3333333333333333,\"#9c179e\"],[0.4444444444444444,\"#bd3786\"],[0.5555555555555556,\"#d8576b\"],[0.6666666666666666,\"#ed7953\"],[0.7777777777777778,\"#fb9f3a\"],[0.8888888888888888,\"#fdca26\"],[1.0,\"#f0f921\"]],\"sequentialminus\":[[0.0,\"#0d0887\"],[0.1111111111111111,\"#46039f\"],[0.2222222222222222,\"#7201a8\"],[0.3333333333333333,\"#9c179e\"],[0.4444444444444444,\"#bd3786\"],[0.5555555555555556,\"#d8576b\"],[0.6666666666666666,\"#ed7953\"],[0.7777777777777778,\"#fb9f3a\"],[0.8888888888888888,\"#fdca26\"],[1.0,\"#f0f921\"]]},\"colorway\":[\"#636efa\",\"#EF553B\",\"#00cc96\",\"#ab63fa\",\"#FFA15A\",\"#19d3f3\",\"#FF6692\",\"#B6E880\",\"#FF97FF\",\"#FECB52\"],\"font\":{\"color\":\"#2a3f5f\"},\"geo\":{\"bgcolor\":\"white\",\"lakecolor\":\"white\",\"landcolor\":\"#E5ECF6\",\"showlakes\":true,\"showland\":true,\"subunitcolor\":\"white\"},\"hoverlabel\":{\"align\":\"left\"},\"hovermode\":\"closest\",\"mapbox\":{\"style\":\"light\"},\"paper_bgcolor\":\"white\",\"plot_bgcolor\":\"#E5ECF6\",\"polar\":{\"angularaxis\":{\"gridcolor\":\"white\",\"linecolor\":\"white\",\"ticks\":\"\"},\"bgcolor\":\"#E5ECF6\",\"radialaxis\":{\"gridcolor\":\"white\",\"linecolor\":\"white\",\"ticks\":\"\"}},\"scene\":{\"xaxis\":{\"backgroundcolor\":\"#E5ECF6\",\"gridcolor\":\"white\",\"gridwidth\":2,\"linecolor\":\"white\",\"showbackground\":true,\"ticks\":\"\",\"zerolinecolor\":\"white\"},\"yaxis\":{\"backgroundcolor\":\"#E5ECF6\",\"gridcolor\":\"white\",\"gridwidth\":2,\"linecolor\":\"white\",\"showbackground\":true,\"ticks\":\"\",\"zerolinecolor\":\"white\"},\"zaxis\":{\"backgroundcolor\":\"#E5ECF6\",\"gridcolor\":\"white\",\"gridwidth\":2,\"linecolor\":\"white\",\"showbackground\":true,\"ticks\":\"\",\"zerolinecolor\":\"white\"}},\"shapedefaults\":{\"line\":{\"color\":\"#2a3f5f\"}},\"ternary\":{\"aaxis\":{\"gridcolor\":\"white\",\"linecolor\":\"white\",\"ticks\":\"\"},\"baxis\":{\"gridcolor\":\"white\",\"linecolor\":\"white\",\"ticks\":\"\"},\"bgcolor\":\"#E5ECF6\",\"caxis\":{\"gridcolor\":\"white\",\"linecolor\":\"white\",\"ticks\":\"\"}},\"title\":{\"x\":0.05},\"xaxis\":{\"automargin\":true,\"gridcolor\":\"white\",\"linecolor\":\"white\",\"ticks\":\"\",\"title\":{\"standoff\":15},\"zerolinecolor\":\"white\",\"zerolinewidth\":2},\"yaxis\":{\"automargin\":true,\"gridcolor\":\"white\",\"linecolor\":\"white\",\"ticks\":\"\",\"title\":{\"standoff\":15},\"zerolinecolor\":\"white\",\"zerolinewidth\":2}}},\"title\":{\"text\":\"Stock analysis chart\"},\"xaxis\":{\"anchor\":\"y\",\"domain\":[0.0,1.0],\"showgrid\":false,\"title\":{\"text\":\"Date\"}},\"yaxis\":{\"anchor\":\"x\",\"domain\":[0.0,1.0],\"showgrid\":false,\"title\":{\"text\":\"Stock value\"}}},                        {\"responsive\": true}                    ).then(function(){\n",
              "                            \n",
              "var gd = document.getElementById('806d9948-2eca-46e4-b5b5-9b1707b71108');\n",
              "var x = new MutationObserver(function (mutations, observer) {{\n",
              "        var display = window.getComputedStyle(gd).display;\n",
              "        if (!display || display === 'none') {{\n",
              "            console.log([gd, 'removed!']);\n",
              "            Plotly.purge(gd);\n",
              "            observer.disconnect();\n",
              "        }}\n",
              "}});\n",
              "\n",
              "// Listen for the removal of the full notebook cells\n",
              "var notebookContainer = gd.closest('#notebook-container');\n",
              "if (notebookContainer) {{\n",
              "    x.observe(notebookContainer, {childList: true});\n",
              "}}\n",
              "\n",
              "// Listen for the clearing of the current output cell\n",
              "var outputEl = gd.closest('.output');\n",
              "if (outputEl) {{\n",
              "    x.observe(outputEl, {childList: true});\n",
              "}}\n",
              "\n",
              "                        })                };                            </script>        </div>\n",
              "</body>\n",
              "</html>"
            ]
          },
          "metadata": {}
        }
      ]
    },
    {
      "cell_type": "code",
      "metadata": {
        "id": "8T-MJy6g3zAH"
      },
      "source": [
        ""
      ],
      "execution_count": null,
      "outputs": []
    },
    {
      "cell_type": "code",
      "metadata": {
        "colab": {
          "base_uri": "https://localhost:8080/"
        },
        "id": "YovXKwn5lY4L",
        "outputId": "558ffc35-2dff-402b-d1d9-903b3c3bb564"
      },
      "source": [
        "#Make separate dataframe of close price as we are going to predict the closing price for next 30 days\n",
        "closedf = df[['date','close']]\n",
        "print(\"Shape of close dataframe:\", closedf.shape)"
      ],
      "execution_count": null,
      "outputs": [
        {
          "output_type": "stream",
          "name": "stdout",
          "text": [
            "Shape of close dataframe: (1254, 2)\n"
          ]
        }
      ]
    },
    {
      "cell_type": "code",
      "metadata": {
        "id": "ryTPARhznVTC"
      },
      "source": [
        ""
      ],
      "execution_count": null,
      "outputs": []
    },
    {
      "cell_type": "code",
      "metadata": {
        "colab": {
          "base_uri": "https://localhost:8080/",
          "height": 542
        },
        "id": "sc8z4Asrlqo6",
        "outputId": "1dde4d8c-e59a-4974-a959-2612bbd86e0a"
      },
      "source": [
        "#Plotting Stock Close price chart\n",
        "fig = px.line(closedf, x=closedf.date, y=closedf.close,labels={'date':'Date','close':'Close Stock'})\n",
        "fig.update_traces(marker_line_width=2, opacity=0.8)\n",
        "fig.update_layout(title_text='Stock close price chart', plot_bgcolor='white', font_size=15, font_color='black')\n",
        "fig.update_xaxes(showgrid=False)\n",
        "fig.update_yaxes(showgrid=False)\n",
        "fig.show()"
      ],
      "execution_count": null,
      "outputs": [
        {
          "output_type": "display_data",
          "data": {
            "text/html": [
              "<html>\n",
              "<head><meta charset=\"utf-8\" /></head>\n",
              "<body>\n",
              "    <div>            <script src=\"https://cdnjs.cloudflare.com/ajax/libs/mathjax/2.7.5/MathJax.js?config=TeX-AMS-MML_SVG\"></script><script type=\"text/javascript\">if (window.MathJax) {MathJax.Hub.Config({SVG: {font: \"STIX-Web\"}});}</script>                <script type=\"text/javascript\">window.PlotlyConfig = {MathJaxConfig: 'local'};</script>\n",
              "        <script src=\"https://cdn.plot.ly/plotly-2.4.2.min.js\"></script>                <div id=\"3e677ee0-362b-48ef-840f-da69b5259cf2\" class=\"plotly-graph-div\" style=\"height:525px; width:100%;\"></div>            <script type=\"text/javascript\">                                    window.PLOTLYENV=window.PLOTLYENV || {};                                    if (document.getElementById(\"3e677ee0-362b-48ef-840f-da69b5259cf2\")) {                    Plotly.newPlot(                        \"3e677ee0-362b-48ef-840f-da69b5259cf2\",                        [{\"hovertemplate\":\"Date=%{x}<br>Close Stock=%{y}<extra></extra>\",\"legendgroup\":\"\",\"line\":{\"color\":\"#636efa\",\"dash\":\"solid\"},\"marker\":{\"line\":{\"width\":2},\"symbol\":\"circle\"},\"mode\":\"lines\",\"name\":\"\",\"opacity\":0.8,\"showlegend\":false,\"type\":\"scattergl\",\"x\":[\"2016-10-03T00:00:00\",\"2016-10-04T00:00:00\",\"2016-10-05T00:00:00\",\"2016-10-06T00:00:00\",\"2016-10-07T00:00:00\",\"2016-10-10T00:00:00\",\"2016-10-11T00:00:00\",\"2016-10-12T00:00:00\",\"2016-10-13T00:00:00\",\"2016-10-14T00:00:00\",\"2016-10-17T00:00:00\",\"2016-10-18T00:00:00\",\"2016-10-19T00:00:00\",\"2016-10-20T00:00:00\",\"2016-10-21T00:00:00\",\"2016-10-24T00:00:00\",\"2016-10-25T00:00:00\",\"2016-10-26T00:00:00\",\"2016-10-27T00:00:00\",\"2016-10-28T00:00:00\",\"2016-10-31T00:00:00\",\"2016-11-01T00:00:00\",\"2016-11-02T00:00:00\",\"2016-11-03T00:00:00\",\"2016-11-04T00:00:00\",\"2016-11-07T00:00:00\",\"2016-11-08T00:00:00\",\"2016-11-09T00:00:00\",\"2016-11-10T00:00:00\",\"2016-11-11T00:00:00\",\"2016-11-14T00:00:00\",\"2016-11-15T00:00:00\",\"2016-11-16T00:00:00\",\"2016-11-17T00:00:00\",\"2016-11-18T00:00:00\",\"2016-11-21T00:00:00\",\"2016-11-22T00:00:00\",\"2016-11-23T00:00:00\",\"2016-11-25T00:00:00\",\"2016-11-28T00:00:00\",\"2016-11-29T00:00:00\",\"2016-11-30T00:00:00\",\"2016-12-01T00:00:00\",\"2016-12-02T00:00:00\",\"2016-12-05T00:00:00\",\"2016-12-06T00:00:00\",\"2016-12-07T00:00:00\",\"2016-12-08T00:00:00\",\"2016-12-09T00:00:00\",\"2016-12-12T00:00:00\",\"2016-12-13T00:00:00\",\"2016-12-14T00:00:00\",\"2016-12-15T00:00:00\",\"2016-12-16T00:00:00\",\"2016-12-19T00:00:00\",\"2016-12-20T00:00:00\",\"2016-12-21T00:00:00\",\"2016-12-22T00:00:00\",\"2016-12-23T00:00:00\",\"2016-12-27T00:00:00\",\"2016-12-28T00:00:00\",\"2016-12-29T00:00:00\",\"2016-12-30T00:00:00\",\"2017-01-03T00:00:00\",\"2017-01-04T00:00:00\",\"2017-01-05T00:00:00\",\"2017-01-06T00:00:00\",\"2017-01-09T00:00:00\",\"2017-01-10T00:00:00\",\"2017-01-11T00:00:00\",\"2017-01-12T00:00:00\",\"2017-01-13T00:00:00\",\"2017-01-17T00:00:00\",\"2017-01-18T00:00:00\",\"2017-01-19T00:00:00\",\"2017-01-20T00:00:00\",\"2017-01-23T00:00:00\",\"2017-01-24T00:00:00\",\"2017-01-25T00:00:00\",\"2017-01-26T00:00:00\",\"2017-01-27T00:00:00\",\"2017-01-30T00:00:00\",\"2017-01-31T00:00:00\",\"2017-02-01T00:00:00\",\"2017-02-02T00:00:00\",\"2017-02-03T00:00:00\",\"2017-02-06T00:00:00\",\"2017-02-07T00:00:00\",\"2017-02-08T00:00:00\",\"2017-02-09T00:00:00\",\"2017-02-10T00:00:00\",\"2017-02-13T00:00:00\",\"2017-02-14T00:00:00\",\"2017-02-15T00:00:00\",\"2017-02-16T00:00:00\",\"2017-02-17T00:00:00\",\"2017-02-21T00:00:00\",\"2017-02-22T00:00:00\",\"2017-02-23T00:00:00\",\"2017-02-24T00:00:00\",\"2017-02-27T00:00:00\",\"2017-02-28T00:00:00\",\"2017-03-01T00:00:00\",\"2017-03-02T00:00:00\",\"2017-03-03T00:00:00\",\"2017-03-06T00:00:00\",\"2017-03-07T00:00:00\",\"2017-03-08T00:00:00\",\"2017-03-09T00:00:00\",\"2017-03-10T00:00:00\",\"2017-03-13T00:00:00\",\"2017-03-14T00:00:00\",\"2017-03-15T00:00:00\",\"2017-03-16T00:00:00\",\"2017-03-17T00:00:00\",\"2017-03-20T00:00:00\",\"2017-03-21T00:00:00\",\"2017-03-22T00:00:00\",\"2017-03-23T00:00:00\",\"2017-03-24T00:00:00\",\"2017-03-27T00:00:00\",\"2017-03-28T00:00:00\",\"2017-03-29T00:00:00\",\"2017-03-30T00:00:00\",\"2017-03-31T00:00:00\",\"2017-04-03T00:00:00\",\"2017-04-04T00:00:00\",\"2017-04-05T00:00:00\",\"2017-04-06T00:00:00\",\"2017-04-07T00:00:00\",\"2017-04-10T00:00:00\",\"2017-04-11T00:00:00\",\"2017-04-12T00:00:00\",\"2017-04-13T00:00:00\",\"2017-04-17T00:00:00\",\"2017-04-18T00:00:00\",\"2017-04-19T00:00:00\",\"2017-04-20T00:00:00\",\"2017-04-21T00:00:00\",\"2017-04-24T00:00:00\",\"2017-04-25T00:00:00\",\"2017-04-26T00:00:00\",\"2017-04-27T00:00:00\",\"2017-04-28T00:00:00\",\"2017-05-01T00:00:00\",\"2017-05-02T00:00:00\",\"2017-05-03T00:00:00\",\"2017-05-04T00:00:00\",\"2017-05-05T00:00:00\",\"2017-05-08T00:00:00\",\"2017-05-09T00:00:00\",\"2017-05-10T00:00:00\",\"2017-05-11T00:00:00\",\"2017-05-12T00:00:00\",\"2017-05-15T00:00:00\",\"2017-05-16T00:00:00\",\"2017-05-17T00:00:00\",\"2017-05-18T00:00:00\",\"2017-05-19T00:00:00\",\"2017-05-22T00:00:00\",\"2017-05-23T00:00:00\",\"2017-05-24T00:00:00\",\"2017-05-25T00:00:00\",\"2017-05-26T00:00:00\",\"2017-05-30T00:00:00\",\"2017-05-31T00:00:00\",\"2017-06-01T00:00:00\",\"2017-06-02T00:00:00\",\"2017-06-05T00:00:00\",\"2017-06-06T00:00:00\",\"2017-06-07T00:00:00\",\"2017-06-08T00:00:00\",\"2017-06-09T00:00:00\",\"2017-06-12T00:00:00\",\"2017-06-13T00:00:00\",\"2017-06-14T00:00:00\",\"2017-06-15T00:00:00\",\"2017-06-16T00:00:00\",\"2017-06-19T00:00:00\",\"2017-06-20T00:00:00\",\"2017-06-21T00:00:00\",\"2017-06-22T00:00:00\",\"2017-06-23T00:00:00\",\"2017-06-26T00:00:00\",\"2017-06-27T00:00:00\",\"2017-06-28T00:00:00\",\"2017-06-29T00:00:00\",\"2017-06-30T00:00:00\",\"2017-07-03T00:00:00\",\"2017-07-05T00:00:00\",\"2017-07-06T00:00:00\",\"2017-07-07T00:00:00\",\"2017-07-10T00:00:00\",\"2017-07-11T00:00:00\",\"2017-07-12T00:00:00\",\"2017-07-13T00:00:00\",\"2017-07-14T00:00:00\",\"2017-07-17T00:00:00\",\"2017-07-18T00:00:00\",\"2017-07-19T00:00:00\",\"2017-07-20T00:00:00\",\"2017-07-21T00:00:00\",\"2017-07-24T00:00:00\",\"2017-07-25T00:00:00\",\"2017-07-26T00:00:00\",\"2017-07-27T00:00:00\",\"2017-07-28T00:00:00\",\"2017-07-31T00:00:00\",\"2017-08-01T00:00:00\",\"2017-08-02T00:00:00\",\"2017-08-03T00:00:00\",\"2017-08-04T00:00:00\",\"2017-08-07T00:00:00\",\"2017-08-08T00:00:00\",\"2017-08-09T00:00:00\",\"2017-08-10T00:00:00\",\"2017-08-11T00:00:00\",\"2017-08-14T00:00:00\",\"2017-08-15T00:00:00\",\"2017-08-16T00:00:00\",\"2017-08-17T00:00:00\",\"2017-08-18T00:00:00\",\"2017-08-21T00:00:00\",\"2017-08-22T00:00:00\",\"2017-08-23T00:00:00\",\"2017-08-24T00:00:00\",\"2017-08-25T00:00:00\",\"2017-08-28T00:00:00\",\"2017-08-29T00:00:00\",\"2017-08-30T00:00:00\",\"2017-08-31T00:00:00\",\"2017-09-01T00:00:00\",\"2017-09-05T00:00:00\",\"2017-09-06T00:00:00\",\"2017-09-07T00:00:00\",\"2017-09-08T00:00:00\",\"2017-09-11T00:00:00\",\"2017-09-12T00:00:00\",\"2017-09-13T00:00:00\",\"2017-09-14T00:00:00\",\"2017-09-15T00:00:00\",\"2017-09-18T00:00:00\",\"2017-09-19T00:00:00\",\"2017-09-20T00:00:00\",\"2017-09-21T00:00:00\",\"2017-09-22T00:00:00\",\"2017-09-25T00:00:00\",\"2017-09-26T00:00:00\",\"2017-09-27T00:00:00\",\"2017-09-28T00:00:00\",\"2017-09-29T00:00:00\",\"2017-10-02T00:00:00\",\"2017-10-03T00:00:00\",\"2017-10-04T00:00:00\",\"2017-10-05T00:00:00\",\"2017-10-06T00:00:00\",\"2017-10-09T00:00:00\",\"2017-10-10T00:00:00\",\"2017-10-11T00:00:00\",\"2017-10-12T00:00:00\",\"2017-10-13T00:00:00\",\"2017-10-16T00:00:00\",\"2017-10-17T00:00:00\",\"2017-10-18T00:00:00\",\"2017-10-19T00:00:00\",\"2017-10-20T00:00:00\",\"2017-10-23T00:00:00\",\"2017-10-24T00:00:00\",\"2017-10-25T00:00:00\",\"2017-10-26T00:00:00\",\"2017-10-27T00:00:00\",\"2017-10-30T00:00:00\",\"2017-10-31T00:00:00\",\"2017-11-01T00:00:00\",\"2017-11-02T00:00:00\",\"2017-11-03T00:00:00\",\"2017-11-06T00:00:00\",\"2017-11-07T00:00:00\",\"2017-11-08T00:00:00\",\"2017-11-09T00:00:00\",\"2017-11-10T00:00:00\",\"2017-11-13T00:00:00\",\"2017-11-14T00:00:00\",\"2017-11-15T00:00:00\",\"2017-11-16T00:00:00\",\"2017-11-17T00:00:00\",\"2017-11-20T00:00:00\",\"2017-11-21T00:00:00\",\"2017-11-22T00:00:00\",\"2017-11-24T00:00:00\",\"2017-11-27T00:00:00\",\"2017-11-28T00:00:00\",\"2017-11-29T00:00:00\",\"2017-11-30T00:00:00\",\"2017-12-01T00:00:00\",\"2017-12-04T00:00:00\",\"2017-12-05T00:00:00\",\"2017-12-06T00:00:00\",\"2017-12-07T00:00:00\",\"2017-12-08T00:00:00\",\"2017-12-11T00:00:00\",\"2017-12-12T00:00:00\",\"2017-12-13T00:00:00\",\"2017-12-14T00:00:00\",\"2017-12-15T00:00:00\",\"2017-12-18T00:00:00\",\"2017-12-19T00:00:00\",\"2017-12-20T00:00:00\",\"2017-12-21T00:00:00\",\"2017-12-22T00:00:00\",\"2017-12-26T00:00:00\",\"2017-12-27T00:00:00\",\"2017-12-28T00:00:00\",\"2017-12-29T00:00:00\",\"2018-01-02T00:00:00\",\"2018-01-03T00:00:00\",\"2018-01-04T00:00:00\",\"2018-01-05T00:00:00\",\"2018-01-08T00:00:00\",\"2018-01-09T00:00:00\",\"2018-01-10T00:00:00\",\"2018-01-11T00:00:00\",\"2018-01-12T00:00:00\",\"2018-01-16T00:00:00\",\"2018-01-17T00:00:00\",\"2018-01-18T00:00:00\",\"2018-01-19T00:00:00\",\"2018-01-22T00:00:00\",\"2018-01-23T00:00:00\",\"2018-01-24T00:00:00\",\"2018-01-25T00:00:00\",\"2018-01-26T00:00:00\",\"2018-01-29T00:00:00\",\"2018-01-30T00:00:00\",\"2018-01-31T00:00:00\",\"2018-02-01T00:00:00\",\"2018-02-02T00:00:00\",\"2018-02-05T00:00:00\",\"2018-02-06T00:00:00\",\"2018-02-07T00:00:00\",\"2018-02-08T00:00:00\",\"2018-02-09T00:00:00\",\"2018-02-12T00:00:00\",\"2018-02-13T00:00:00\",\"2018-02-14T00:00:00\",\"2018-02-15T00:00:00\",\"2018-02-16T00:00:00\",\"2018-02-20T00:00:00\",\"2018-02-21T00:00:00\",\"2018-02-22T00:00:00\",\"2018-02-23T00:00:00\",\"2018-02-26T00:00:00\",\"2018-02-27T00:00:00\",\"2018-02-28T00:00:00\",\"2018-03-01T00:00:00\",\"2018-03-02T00:00:00\",\"2018-03-05T00:00:00\",\"2018-03-06T00:00:00\",\"2018-03-07T00:00:00\",\"2018-03-08T00:00:00\",\"2018-03-09T00:00:00\",\"2018-03-12T00:00:00\",\"2018-03-13T00:00:00\",\"2018-03-14T00:00:00\",\"2018-03-15T00:00:00\",\"2018-03-16T00:00:00\",\"2018-03-19T00:00:00\",\"2018-03-20T00:00:00\",\"2018-03-21T00:00:00\",\"2018-03-22T00:00:00\",\"2018-03-23T00:00:00\",\"2018-03-26T00:00:00\",\"2018-03-27T00:00:00\",\"2018-03-28T00:00:00\",\"2018-03-29T00:00:00\",\"2018-04-02T00:00:00\",\"2018-04-03T00:00:00\",\"2018-04-04T00:00:00\",\"2018-04-05T00:00:00\",\"2018-04-06T00:00:00\",\"2018-04-09T00:00:00\",\"2018-04-10T00:00:00\",\"2018-04-11T00:00:00\",\"2018-04-12T00:00:00\",\"2018-04-13T00:00:00\",\"2018-04-16T00:00:00\",\"2018-04-17T00:00:00\",\"2018-04-18T00:00:00\",\"2018-04-19T00:00:00\",\"2018-04-20T00:00:00\",\"2018-04-23T00:00:00\",\"2018-04-24T00:00:00\",\"2018-04-25T00:00:00\",\"2018-04-26T00:00:00\",\"2018-04-27T00:00:00\",\"2018-04-30T00:00:00\",\"2018-05-01T00:00:00\",\"2018-05-02T00:00:00\",\"2018-05-03T00:00:00\",\"2018-05-04T00:00:00\",\"2018-05-07T00:00:00\",\"2018-05-08T00:00:00\",\"2018-05-09T00:00:00\",\"2018-05-10T00:00:00\",\"2018-05-11T00:00:00\",\"2018-05-14T00:00:00\",\"2018-05-15T00:00:00\",\"2018-05-16T00:00:00\",\"2018-05-17T00:00:00\",\"2018-05-18T00:00:00\",\"2018-05-21T00:00:00\",\"2018-05-22T00:00:00\",\"2018-05-23T00:00:00\",\"2018-05-24T00:00:00\",\"2018-05-25T00:00:00\",\"2018-05-29T00:00:00\",\"2018-05-30T00:00:00\",\"2018-05-31T00:00:00\",\"2018-06-01T00:00:00\",\"2018-06-04T00:00:00\",\"2018-06-05T00:00:00\",\"2018-06-06T00:00:00\",\"2018-06-07T00:00:00\",\"2018-06-08T00:00:00\",\"2018-06-11T00:00:00\",\"2018-06-12T00:00:00\",\"2018-06-13T00:00:00\",\"2018-06-14T00:00:00\",\"2018-06-15T00:00:00\",\"2018-06-18T00:00:00\",\"2018-06-19T00:00:00\",\"2018-06-20T00:00:00\",\"2018-06-21T00:00:00\",\"2018-06-22T00:00:00\",\"2018-06-25T00:00:00\",\"2018-06-26T00:00:00\",\"2018-06-27T00:00:00\",\"2018-06-28T00:00:00\",\"2018-06-29T00:00:00\",\"2018-07-02T00:00:00\",\"2018-07-03T00:00:00\",\"2018-07-05T00:00:00\",\"2018-07-06T00:00:00\",\"2018-07-09T00:00:00\",\"2018-07-10T00:00:00\",\"2018-07-11T00:00:00\",\"2018-07-12T00:00:00\",\"2018-07-13T00:00:00\",\"2018-07-16T00:00:00\",\"2018-07-17T00:00:00\",\"2018-07-18T00:00:00\",\"2018-07-19T00:00:00\",\"2018-07-20T00:00:00\",\"2018-07-23T00:00:00\",\"2018-07-24T00:00:00\",\"2018-07-25T00:00:00\",\"2018-07-26T00:00:00\",\"2018-07-27T00:00:00\",\"2018-07-30T00:00:00\",\"2018-07-31T00:00:00\",\"2018-08-01T00:00:00\",\"2018-08-02T00:00:00\",\"2018-08-03T00:00:00\",\"2018-08-06T00:00:00\",\"2018-08-07T00:00:00\",\"2018-08-08T00:00:00\",\"2018-08-09T00:00:00\",\"2018-08-10T00:00:00\",\"2018-08-13T00:00:00\",\"2018-08-14T00:00:00\",\"2018-08-15T00:00:00\",\"2018-08-16T00:00:00\",\"2018-08-17T00:00:00\",\"2018-08-20T00:00:00\",\"2018-08-21T00:00:00\",\"2018-08-22T00:00:00\",\"2018-08-23T00:00:00\",\"2018-08-24T00:00:00\",\"2018-08-27T00:00:00\",\"2018-08-28T00:00:00\",\"2018-08-29T00:00:00\",\"2018-08-30T00:00:00\",\"2018-08-31T00:00:00\",\"2018-09-04T00:00:00\",\"2018-09-05T00:00:00\",\"2018-09-06T00:00:00\",\"2018-09-07T00:00:00\",\"2018-09-10T00:00:00\",\"2018-09-11T00:00:00\",\"2018-09-12T00:00:00\",\"2018-09-13T00:00:00\",\"2018-09-14T00:00:00\",\"2018-09-17T00:00:00\",\"2018-09-18T00:00:00\",\"2018-09-19T00:00:00\",\"2018-09-20T00:00:00\",\"2018-09-21T00:00:00\",\"2018-09-24T00:00:00\",\"2018-09-25T00:00:00\",\"2018-09-26T00:00:00\",\"2018-09-27T00:00:00\",\"2018-09-28T00:00:00\",\"2018-10-01T00:00:00\",\"2018-10-02T00:00:00\",\"2018-10-03T00:00:00\",\"2018-10-04T00:00:00\",\"2018-10-05T00:00:00\",\"2018-10-08T00:00:00\",\"2018-10-09T00:00:00\",\"2018-10-10T00:00:00\",\"2018-10-11T00:00:00\",\"2018-10-12T00:00:00\",\"2018-10-15T00:00:00\",\"2018-10-16T00:00:00\",\"2018-10-17T00:00:00\",\"2018-10-18T00:00:00\",\"2018-10-19T00:00:00\",\"2018-10-22T00:00:00\",\"2018-10-23T00:00:00\",\"2018-10-24T00:00:00\",\"2018-10-25T00:00:00\",\"2018-10-26T00:00:00\",\"2018-10-29T00:00:00\",\"2018-10-30T00:00:00\",\"2018-10-31T00:00:00\",\"2018-11-01T00:00:00\",\"2018-11-02T00:00:00\",\"2018-11-05T00:00:00\",\"2018-11-06T00:00:00\",\"2018-11-07T00:00:00\",\"2018-11-08T00:00:00\",\"2018-11-09T00:00:00\",\"2018-11-12T00:00:00\",\"2018-11-13T00:00:00\",\"2018-11-14T00:00:00\",\"2018-11-15T00:00:00\",\"2018-11-16T00:00:00\",\"2018-11-19T00:00:00\",\"2018-11-20T00:00:00\",\"2018-11-21T00:00:00\",\"2018-11-23T00:00:00\",\"2018-11-26T00:00:00\",\"2018-11-27T00:00:00\",\"2018-11-28T00:00:00\",\"2018-11-29T00:00:00\",\"2018-11-30T00:00:00\",\"2018-12-03T00:00:00\",\"2018-12-04T00:00:00\",\"2018-12-06T00:00:00\",\"2018-12-07T00:00:00\",\"2018-12-10T00:00:00\",\"2018-12-11T00:00:00\",\"2018-12-12T00:00:00\",\"2018-12-13T00:00:00\",\"2018-12-14T00:00:00\",\"2018-12-17T00:00:00\",\"2018-12-18T00:00:00\",\"2018-12-19T00:00:00\",\"2018-12-20T00:00:00\",\"2018-12-21T00:00:00\",\"2018-12-24T00:00:00\",\"2018-12-26T00:00:00\",\"2018-12-27T00:00:00\",\"2018-12-28T00:00:00\",\"2018-12-31T00:00:00\",\"2019-01-02T00:00:00\",\"2019-01-03T00:00:00\",\"2019-01-04T00:00:00\",\"2019-01-07T00:00:00\",\"2019-01-08T00:00:00\",\"2019-01-09T00:00:00\",\"2019-01-10T00:00:00\",\"2019-01-11T00:00:00\",\"2019-01-14T00:00:00\",\"2019-01-15T00:00:00\",\"2019-01-16T00:00:00\",\"2019-01-17T00:00:00\",\"2019-01-18T00:00:00\",\"2019-01-22T00:00:00\",\"2019-01-23T00:00:00\",\"2019-01-24T00:00:00\",\"2019-01-25T00:00:00\",\"2019-01-28T00:00:00\",\"2019-01-29T00:00:00\",\"2019-01-30T00:00:00\",\"2019-01-31T00:00:00\",\"2019-02-01T00:00:00\",\"2019-02-04T00:00:00\",\"2019-02-05T00:00:00\",\"2019-02-06T00:00:00\",\"2019-02-07T00:00:00\",\"2019-02-08T00:00:00\",\"2019-02-11T00:00:00\",\"2019-02-12T00:00:00\",\"2019-02-13T00:00:00\",\"2019-02-14T00:00:00\",\"2019-02-15T00:00:00\",\"2019-02-19T00:00:00\",\"2019-02-20T00:00:00\",\"2019-02-21T00:00:00\",\"2019-02-22T00:00:00\",\"2019-02-25T00:00:00\",\"2019-02-26T00:00:00\",\"2019-02-27T00:00:00\",\"2019-02-28T00:00:00\",\"2019-03-01T00:00:00\",\"2019-03-04T00:00:00\",\"2019-03-05T00:00:00\",\"2019-03-06T00:00:00\",\"2019-03-07T00:00:00\",\"2019-03-08T00:00:00\",\"2019-03-11T00:00:00\",\"2019-03-12T00:00:00\",\"2019-03-13T00:00:00\",\"2019-03-14T00:00:00\",\"2019-03-15T00:00:00\",\"2019-03-18T00:00:00\",\"2019-03-19T00:00:00\",\"2019-03-20T00:00:00\",\"2019-03-21T00:00:00\",\"2019-03-22T00:00:00\",\"2019-03-25T00:00:00\",\"2019-03-26T00:00:00\",\"2019-03-27T00:00:00\",\"2019-03-28T00:00:00\",\"2019-03-29T00:00:00\",\"2019-04-01T00:00:00\",\"2019-04-02T00:00:00\",\"2019-04-03T00:00:00\",\"2019-04-04T00:00:00\",\"2019-04-05T00:00:00\",\"2019-04-08T00:00:00\",\"2019-04-09T00:00:00\",\"2019-04-10T00:00:00\",\"2019-04-11T00:00:00\",\"2019-04-12T00:00:00\",\"2019-04-15T00:00:00\",\"2019-04-16T00:00:00\",\"2019-04-17T00:00:00\",\"2019-04-18T00:00:00\",\"2019-04-22T00:00:00\",\"2019-04-23T00:00:00\",\"2019-04-24T00:00:00\",\"2019-04-25T00:00:00\",\"2019-04-26T00:00:00\",\"2019-04-29T00:00:00\",\"2019-04-30T00:00:00\",\"2019-05-01T00:00:00\",\"2019-05-02T00:00:00\",\"2019-05-03T00:00:00\",\"2019-05-06T00:00:00\",\"2019-05-07T00:00:00\",\"2019-05-08T00:00:00\",\"2019-05-09T00:00:00\",\"2019-05-10T00:00:00\",\"2019-05-13T00:00:00\",\"2019-05-14T00:00:00\",\"2019-05-15T00:00:00\",\"2019-05-16T00:00:00\",\"2019-05-17T00:00:00\",\"2019-05-20T00:00:00\",\"2019-05-21T00:00:00\",\"2019-05-22T00:00:00\",\"2019-05-23T00:00:00\",\"2019-05-24T00:00:00\",\"2019-05-28T00:00:00\",\"2019-05-29T00:00:00\",\"2019-05-30T00:00:00\",\"2019-05-31T00:00:00\",\"2019-06-03T00:00:00\",\"2019-06-04T00:00:00\",\"2019-06-05T00:00:00\",\"2019-06-06T00:00:00\",\"2019-06-07T00:00:00\",\"2019-06-10T00:00:00\",\"2019-06-11T00:00:00\",\"2019-06-12T00:00:00\",\"2019-06-13T00:00:00\",\"2019-06-14T00:00:00\",\"2019-06-17T00:00:00\",\"2019-06-18T00:00:00\",\"2019-06-19T00:00:00\",\"2019-06-20T00:00:00\",\"2019-06-21T00:00:00\",\"2019-06-24T00:00:00\",\"2019-06-25T00:00:00\",\"2019-06-26T00:00:00\",\"2019-06-27T00:00:00\",\"2019-06-28T00:00:00\",\"2019-07-01T00:00:00\",\"2019-07-02T00:00:00\",\"2019-07-03T00:00:00\",\"2019-07-05T00:00:00\",\"2019-07-08T00:00:00\",\"2019-07-09T00:00:00\",\"2019-07-10T00:00:00\",\"2019-07-11T00:00:00\",\"2019-07-12T00:00:00\",\"2019-07-15T00:00:00\",\"2019-07-16T00:00:00\",\"2019-07-17T00:00:00\",\"2019-07-18T00:00:00\",\"2019-07-19T00:00:00\",\"2019-07-22T00:00:00\",\"2019-07-23T00:00:00\",\"2019-07-24T00:00:00\",\"2019-07-25T00:00:00\",\"2019-07-26T00:00:00\",\"2019-07-29T00:00:00\",\"2019-07-30T00:00:00\",\"2019-07-31T00:00:00\",\"2019-08-01T00:00:00\",\"2019-08-02T00:00:00\",\"2019-08-05T00:00:00\",\"2019-08-06T00:00:00\",\"2019-08-07T00:00:00\",\"2019-08-08T00:00:00\",\"2019-08-09T00:00:00\",\"2019-08-12T00:00:00\",\"2019-08-13T00:00:00\",\"2019-08-14T00:00:00\",\"2019-08-15T00:00:00\",\"2019-08-16T00:00:00\",\"2019-08-19T00:00:00\",\"2019-08-20T00:00:00\",\"2019-08-21T00:00:00\",\"2019-08-22T00:00:00\",\"2019-08-23T00:00:00\",\"2019-08-26T00:00:00\",\"2019-08-27T00:00:00\",\"2019-08-28T00:00:00\",\"2019-08-29T00:00:00\",\"2019-08-30T00:00:00\",\"2019-09-03T00:00:00\",\"2019-09-04T00:00:00\",\"2019-09-05T00:00:00\",\"2019-09-06T00:00:00\",\"2019-09-09T00:00:00\",\"2019-09-10T00:00:00\",\"2019-09-11T00:00:00\",\"2019-09-12T00:00:00\",\"2019-09-13T00:00:00\",\"2019-09-16T00:00:00\",\"2019-09-17T00:00:00\",\"2019-09-18T00:00:00\",\"2019-09-19T00:00:00\",\"2019-09-20T00:00:00\",\"2019-09-23T00:00:00\",\"2019-09-24T00:00:00\",\"2019-09-25T00:00:00\",\"2019-09-26T00:00:00\",\"2019-09-27T00:00:00\",\"2019-09-30T00:00:00\",\"2019-10-01T00:00:00\",\"2019-10-02T00:00:00\",\"2019-10-03T00:00:00\",\"2019-10-04T00:00:00\",\"2019-10-07T00:00:00\",\"2019-10-08T00:00:00\",\"2019-10-09T00:00:00\",\"2019-10-10T00:00:00\",\"2019-10-11T00:00:00\",\"2019-10-14T00:00:00\",\"2019-10-15T00:00:00\",\"2019-10-16T00:00:00\",\"2019-10-17T00:00:00\",\"2019-10-18T00:00:00\",\"2019-10-21T00:00:00\",\"2019-10-22T00:00:00\",\"2019-10-23T00:00:00\",\"2019-10-24T00:00:00\",\"2019-10-25T00:00:00\",\"2019-10-28T00:00:00\",\"2019-10-29T00:00:00\",\"2019-10-30T00:00:00\",\"2019-10-31T00:00:00\",\"2019-11-01T00:00:00\",\"2019-11-04T00:00:00\",\"2019-11-05T00:00:00\",\"2019-11-06T00:00:00\",\"2019-11-07T00:00:00\",\"2019-11-08T00:00:00\",\"2019-11-11T00:00:00\",\"2019-11-12T00:00:00\",\"2019-11-13T00:00:00\",\"2019-11-14T00:00:00\",\"2019-11-15T00:00:00\",\"2019-11-18T00:00:00\",\"2019-11-19T00:00:00\",\"2019-11-20T00:00:00\",\"2019-11-21T00:00:00\",\"2019-11-22T00:00:00\",\"2019-11-25T00:00:00\",\"2019-11-26T00:00:00\",\"2019-11-27T00:00:00\",\"2019-11-29T00:00:00\",\"2019-12-02T00:00:00\",\"2019-12-03T00:00:00\",\"2019-12-04T00:00:00\",\"2019-12-05T00:00:00\",\"2019-12-06T00:00:00\",\"2019-12-09T00:00:00\",\"2019-12-10T00:00:00\",\"2019-12-11T00:00:00\",\"2019-12-12T00:00:00\",\"2019-12-13T00:00:00\",\"2019-12-16T00:00:00\",\"2019-12-17T00:00:00\",\"2019-12-18T00:00:00\",\"2019-12-19T00:00:00\",\"2019-12-20T00:00:00\",\"2019-12-23T00:00:00\",\"2019-12-24T00:00:00\",\"2019-12-26T00:00:00\",\"2019-12-27T00:00:00\",\"2019-12-30T00:00:00\",\"2019-12-31T00:00:00\",\"2020-01-02T00:00:00\",\"2020-01-03T00:00:00\",\"2020-01-06T00:00:00\",\"2020-01-07T00:00:00\",\"2020-01-08T00:00:00\",\"2020-01-09T00:00:00\",\"2020-01-10T00:00:00\",\"2020-01-13T00:00:00\",\"2020-01-14T00:00:00\",\"2020-01-15T00:00:00\",\"2020-01-16T00:00:00\",\"2020-01-17T00:00:00\",\"2020-01-21T00:00:00\",\"2020-01-22T00:00:00\",\"2020-01-23T00:00:00\",\"2020-01-24T00:00:00\",\"2020-01-27T00:00:00\",\"2020-01-28T00:00:00\",\"2020-01-29T00:00:00\",\"2020-01-30T00:00:00\",\"2020-01-31T00:00:00\",\"2020-02-03T00:00:00\",\"2020-02-04T00:00:00\",\"2020-02-05T00:00:00\",\"2020-02-06T00:00:00\",\"2020-02-07T00:00:00\",\"2020-02-10T00:00:00\",\"2020-02-11T00:00:00\",\"2020-02-12T00:00:00\",\"2020-02-13T00:00:00\",\"2020-02-14T00:00:00\",\"2020-02-18T00:00:00\",\"2020-02-19T00:00:00\",\"2020-02-20T00:00:00\",\"2020-02-21T00:00:00\",\"2020-02-24T00:00:00\",\"2020-02-25T00:00:00\",\"2020-02-26T00:00:00\",\"2020-02-27T00:00:00\",\"2020-02-28T00:00:00\",\"2020-03-02T00:00:00\",\"2020-03-03T00:00:00\",\"2020-03-04T00:00:00\",\"2020-03-05T00:00:00\",\"2020-03-06T00:00:00\",\"2020-03-09T00:00:00\",\"2020-03-10T00:00:00\",\"2020-03-11T00:00:00\",\"2020-03-12T00:00:00\",\"2020-03-13T00:00:00\",\"2020-03-16T00:00:00\",\"2020-03-17T00:00:00\",\"2020-03-18T00:00:00\",\"2020-03-19T00:00:00\",\"2020-03-20T00:00:00\",\"2020-03-23T00:00:00\",\"2020-03-24T00:00:00\",\"2020-03-25T00:00:00\",\"2020-03-26T00:00:00\",\"2020-03-27T00:00:00\",\"2020-03-30T00:00:00\",\"2020-03-31T00:00:00\",\"2020-04-01T00:00:00\",\"2020-04-02T00:00:00\",\"2020-04-03T00:00:00\",\"2020-04-06T00:00:00\",\"2020-04-07T00:00:00\",\"2020-04-08T00:00:00\",\"2020-04-09T00:00:00\",\"2020-04-13T00:00:00\",\"2020-04-14T00:00:00\",\"2020-04-15T00:00:00\",\"2020-04-16T00:00:00\",\"2020-04-17T00:00:00\",\"2020-04-20T00:00:00\",\"2020-04-21T00:00:00\",\"2020-04-22T00:00:00\",\"2020-04-23T00:00:00\",\"2020-04-24T00:00:00\",\"2020-04-27T00:00:00\",\"2020-04-28T00:00:00\",\"2020-04-29T00:00:00\",\"2020-04-30T00:00:00\",\"2020-05-01T00:00:00\",\"2020-05-04T00:00:00\",\"2020-05-05T00:00:00\",\"2020-05-06T00:00:00\",\"2020-05-07T00:00:00\",\"2020-05-08T00:00:00\",\"2020-05-11T00:00:00\",\"2020-05-12T00:00:00\",\"2020-05-13T00:00:00\",\"2020-05-14T00:00:00\",\"2020-05-15T00:00:00\",\"2020-05-18T00:00:00\",\"2020-05-19T00:00:00\",\"2020-05-20T00:00:00\",\"2020-05-21T00:00:00\",\"2020-05-22T00:00:00\",\"2020-05-26T00:00:00\",\"2020-05-27T00:00:00\",\"2020-05-28T00:00:00\",\"2020-05-29T00:00:00\",\"2020-06-01T00:00:00\",\"2020-06-02T00:00:00\",\"2020-06-03T00:00:00\",\"2020-06-04T00:00:00\",\"2020-06-05T00:00:00\",\"2020-06-08T00:00:00\",\"2020-06-09T00:00:00\",\"2020-06-10T00:00:00\",\"2020-06-11T00:00:00\",\"2020-06-12T00:00:00\",\"2020-06-15T00:00:00\",\"2020-06-16T00:00:00\",\"2020-06-17T00:00:00\",\"2020-06-18T00:00:00\",\"2020-06-19T00:00:00\",\"2020-06-22T00:00:00\",\"2020-06-23T00:00:00\",\"2020-06-24T00:00:00\",\"2020-06-25T00:00:00\",\"2020-06-26T00:00:00\",\"2020-06-29T00:00:00\",\"2020-06-30T00:00:00\",\"2020-07-01T00:00:00\",\"2020-07-02T00:00:00\",\"2020-07-06T00:00:00\",\"2020-07-07T00:00:00\",\"2020-07-08T00:00:00\",\"2020-07-09T00:00:00\",\"2020-07-10T00:00:00\",\"2020-07-13T00:00:00\",\"2020-07-14T00:00:00\",\"2020-07-15T00:00:00\",\"2020-07-16T00:00:00\",\"2020-07-17T00:00:00\",\"2020-07-20T00:00:00\",\"2020-07-21T00:00:00\",\"2020-07-22T00:00:00\",\"2020-07-23T00:00:00\",\"2020-07-24T00:00:00\",\"2020-07-27T00:00:00\",\"2020-07-28T00:00:00\",\"2020-07-29T00:00:00\",\"2020-07-30T00:00:00\",\"2020-07-31T00:00:00\",\"2020-08-03T00:00:00\",\"2020-08-04T00:00:00\",\"2020-08-05T00:00:00\",\"2020-08-06T00:00:00\",\"2020-08-07T00:00:00\",\"2020-08-10T00:00:00\",\"2020-08-11T00:00:00\",\"2020-08-12T00:00:00\",\"2020-08-13T00:00:00\",\"2020-08-14T00:00:00\",\"2020-08-17T00:00:00\",\"2020-08-18T00:00:00\",\"2020-08-19T00:00:00\",\"2020-08-20T00:00:00\",\"2020-08-21T00:00:00\",\"2020-08-24T00:00:00\",\"2020-08-25T00:00:00\",\"2020-08-26T00:00:00\",\"2020-08-27T00:00:00\",\"2020-08-28T00:00:00\",\"2020-08-31T00:00:00\",\"2020-09-01T00:00:00\",\"2020-09-02T00:00:00\",\"2020-09-03T00:00:00\",\"2020-09-04T00:00:00\",\"2020-09-08T00:00:00\",\"2020-09-09T00:00:00\",\"2020-09-10T00:00:00\",\"2020-09-11T00:00:00\",\"2020-09-14T00:00:00\",\"2020-09-15T00:00:00\",\"2020-09-16T00:00:00\",\"2020-09-17T00:00:00\",\"2020-09-18T00:00:00\",\"2020-09-21T00:00:00\",\"2020-09-22T00:00:00\",\"2020-09-23T00:00:00\",\"2020-09-24T00:00:00\",\"2020-09-25T00:00:00\",\"2020-09-28T00:00:00\",\"2020-09-29T00:00:00\",\"2020-09-30T00:00:00\",\"2020-10-01T00:00:00\",\"2020-10-02T00:00:00\",\"2020-10-05T00:00:00\",\"2020-10-06T00:00:00\",\"2020-10-07T00:00:00\",\"2020-10-08T00:00:00\",\"2020-10-09T00:00:00\",\"2020-10-12T00:00:00\",\"2020-10-13T00:00:00\",\"2020-10-14T00:00:00\",\"2020-10-15T00:00:00\",\"2020-10-16T00:00:00\",\"2020-10-19T00:00:00\",\"2020-10-20T00:00:00\",\"2020-10-21T00:00:00\",\"2020-10-22T00:00:00\",\"2020-10-23T00:00:00\",\"2020-10-26T00:00:00\",\"2020-10-27T00:00:00\",\"2020-10-28T00:00:00\",\"2020-10-29T00:00:00\",\"2020-10-30T00:00:00\",\"2020-11-02T00:00:00\",\"2020-11-03T00:00:00\",\"2020-11-04T00:00:00\",\"2020-11-05T00:00:00\",\"2020-11-06T00:00:00\",\"2020-11-09T00:00:00\",\"2020-11-10T00:00:00\",\"2020-11-11T00:00:00\",\"2020-11-12T00:00:00\",\"2020-11-13T00:00:00\",\"2020-11-16T00:00:00\",\"2020-11-17T00:00:00\",\"2020-11-18T00:00:00\",\"2020-11-19T00:00:00\",\"2020-11-20T00:00:00\",\"2020-11-23T00:00:00\",\"2020-11-24T00:00:00\",\"2020-11-25T00:00:00\",\"2020-11-27T00:00:00\",\"2020-11-30T00:00:00\",\"2020-12-01T00:00:00\",\"2020-12-02T00:00:00\",\"2020-12-03T00:00:00\",\"2020-12-04T00:00:00\",\"2020-12-07T00:00:00\",\"2020-12-08T00:00:00\",\"2020-12-09T00:00:00\",\"2020-12-10T00:00:00\",\"2020-12-11T00:00:00\",\"2020-12-14T00:00:00\",\"2020-12-15T00:00:00\",\"2020-12-16T00:00:00\",\"2020-12-17T00:00:00\",\"2020-12-18T00:00:00\",\"2020-12-21T00:00:00\",\"2020-12-22T00:00:00\",\"2020-12-23T00:00:00\",\"2020-12-24T00:00:00\",\"2020-12-28T00:00:00\",\"2020-12-29T00:00:00\",\"2020-12-30T00:00:00\",\"2020-12-31T00:00:00\",\"2021-01-04T00:00:00\",\"2021-01-05T00:00:00\",\"2021-01-06T00:00:00\",\"2021-01-07T00:00:00\",\"2021-01-08T00:00:00\",\"2021-01-11T00:00:00\",\"2021-01-12T00:00:00\",\"2021-01-13T00:00:00\",\"2021-01-14T00:00:00\",\"2021-01-15T00:00:00\",\"2021-01-19T00:00:00\",\"2021-01-20T00:00:00\",\"2021-01-21T00:00:00\",\"2021-01-22T00:00:00\",\"2021-01-25T00:00:00\",\"2021-01-26T00:00:00\",\"2021-01-27T00:00:00\",\"2021-01-28T00:00:00\",\"2021-01-29T00:00:00\",\"2021-02-01T00:00:00\",\"2021-02-02T00:00:00\",\"2021-02-03T00:00:00\",\"2021-02-04T00:00:00\",\"2021-02-05T00:00:00\",\"2021-02-08T00:00:00\",\"2021-02-09T00:00:00\",\"2021-02-10T00:00:00\",\"2021-02-11T00:00:00\",\"2021-02-12T00:00:00\",\"2021-02-16T00:00:00\",\"2021-02-17T00:00:00\",\"2021-02-18T00:00:00\",\"2021-02-19T00:00:00\",\"2021-02-22T00:00:00\",\"2021-02-23T00:00:00\",\"2021-02-24T00:00:00\",\"2021-02-25T00:00:00\",\"2021-02-26T00:00:00\",\"2021-03-01T00:00:00\",\"2021-03-02T00:00:00\",\"2021-03-03T00:00:00\",\"2021-03-04T00:00:00\",\"2021-03-05T00:00:00\",\"2021-03-08T00:00:00\",\"2021-03-09T00:00:00\",\"2021-03-10T00:00:00\",\"2021-03-11T00:00:00\",\"2021-03-12T00:00:00\",\"2021-03-15T00:00:00\",\"2021-03-16T00:00:00\",\"2021-03-17T00:00:00\",\"2021-03-18T00:00:00\",\"2021-03-19T00:00:00\",\"2021-03-22T00:00:00\",\"2021-03-23T00:00:00\",\"2021-03-24T00:00:00\",\"2021-03-25T00:00:00\",\"2021-03-26T00:00:00\",\"2021-03-29T00:00:00\",\"2021-03-30T00:00:00\",\"2021-03-31T00:00:00\",\"2021-04-01T00:00:00\",\"2021-04-05T00:00:00\",\"2021-04-06T00:00:00\",\"2021-04-07T00:00:00\",\"2021-04-08T00:00:00\",\"2021-04-09T00:00:00\",\"2021-04-12T00:00:00\",\"2021-04-13T00:00:00\",\"2021-04-14T00:00:00\",\"2021-04-15T00:00:00\",\"2021-04-16T00:00:00\",\"2021-04-19T00:00:00\",\"2021-04-20T00:00:00\",\"2021-04-21T00:00:00\",\"2021-04-22T00:00:00\",\"2021-04-23T00:00:00\",\"2021-04-26T00:00:00\",\"2021-04-27T00:00:00\",\"2021-04-28T00:00:00\",\"2021-04-29T00:00:00\",\"2021-04-30T00:00:00\",\"2021-05-03T00:00:00\",\"2021-05-04T00:00:00\",\"2021-05-05T00:00:00\",\"2021-05-06T00:00:00\",\"2021-05-07T00:00:00\",\"2021-05-10T00:00:00\",\"2021-05-11T00:00:00\",\"2021-05-12T00:00:00\",\"2021-05-13T00:00:00\",\"2021-05-14T00:00:00\",\"2021-05-17T00:00:00\",\"2021-05-18T00:00:00\",\"2021-05-19T00:00:00\",\"2021-05-20T00:00:00\",\"2021-05-21T00:00:00\",\"2021-05-24T00:00:00\",\"2021-05-25T00:00:00\",\"2021-05-26T00:00:00\",\"2021-05-27T00:00:00\",\"2021-05-28T00:00:00\",\"2021-06-01T00:00:00\",\"2021-06-02T00:00:00\",\"2021-06-03T00:00:00\",\"2021-06-04T00:00:00\",\"2021-06-07T00:00:00\",\"2021-06-08T00:00:00\",\"2021-06-09T00:00:00\",\"2021-06-10T00:00:00\",\"2021-06-11T00:00:00\",\"2021-06-14T00:00:00\",\"2021-06-15T00:00:00\",\"2021-06-16T00:00:00\",\"2021-06-17T00:00:00\",\"2021-06-18T00:00:00\",\"2021-06-21T00:00:00\",\"2021-06-22T00:00:00\",\"2021-06-23T00:00:00\",\"2021-06-24T00:00:00\",\"2021-06-25T00:00:00\",\"2021-06-28T00:00:00\",\"2021-06-29T00:00:00\",\"2021-06-30T00:00:00\",\"2021-07-01T00:00:00\",\"2021-07-02T00:00:00\",\"2021-07-06T00:00:00\",\"2021-07-07T00:00:00\",\"2021-07-08T00:00:00\",\"2021-07-09T00:00:00\",\"2021-07-12T00:00:00\",\"2021-07-13T00:00:00\",\"2021-07-14T00:00:00\",\"2021-07-15T00:00:00\",\"2021-07-16T00:00:00\",\"2021-07-19T00:00:00\",\"2021-07-20T00:00:00\",\"2021-07-21T00:00:00\",\"2021-07-22T00:00:00\",\"2021-07-23T00:00:00\",\"2021-07-26T00:00:00\",\"2021-07-27T00:00:00\",\"2021-07-28T00:00:00\",\"2021-07-29T00:00:00\",\"2021-07-30T00:00:00\",\"2021-08-02T00:00:00\",\"2021-08-03T00:00:00\",\"2021-08-04T00:00:00\",\"2021-08-05T00:00:00\",\"2021-08-06T00:00:00\",\"2021-08-09T00:00:00\",\"2021-08-10T00:00:00\",\"2021-08-11T00:00:00\",\"2021-08-12T00:00:00\",\"2021-08-13T00:00:00\",\"2021-08-16T00:00:00\",\"2021-08-17T00:00:00\",\"2021-08-18T00:00:00\",\"2021-08-19T00:00:00\",\"2021-08-20T00:00:00\",\"2021-08-23T00:00:00\",\"2021-08-24T00:00:00\",\"2021-08-25T00:00:00\",\"2021-08-26T00:00:00\",\"2021-08-27T00:00:00\",\"2021-08-30T00:00:00\",\"2021-08-31T00:00:00\",\"2021-09-01T00:00:00\",\"2021-09-02T00:00:00\",\"2021-09-03T00:00:00\",\"2021-09-07T00:00:00\",\"2021-09-08T00:00:00\",\"2021-09-09T00:00:00\",\"2021-09-10T00:00:00\",\"2021-09-13T00:00:00\",\"2021-09-14T00:00:00\",\"2021-09-15T00:00:00\",\"2021-09-16T00:00:00\",\"2021-09-17T00:00:00\",\"2021-09-20T00:00:00\",\"2021-09-21T00:00:00\",\"2021-09-22T00:00:00\",\"2021-09-23T00:00:00\",\"2021-09-24T00:00:00\"],\"xaxis\":\"x\",\"y\":[28.129998999999998,28.25,28.262501,28.4725,28.514999,29.012501,29.075001,29.334999,29.245001000000002,29.407498999999998,29.387501,29.3675,29.280001000000002,29.264999,29.15,29.4125,29.5625,28.897499,28.620001000000002,28.43,28.385,27.872498999999998,27.897499,27.4575,27.209999,27.602501,27.764999,27.719998999999998,26.9475,27.1075,26.4275,26.7775,27.497498999999998,27.487499,27.514999,27.932501000000002,27.950001,27.807501000000002,27.9475,27.8925,27.865,27.629998999999998,27.372498999999998,27.475,27.2775,27.487499,27.7575,28.030001000000002,28.487499,28.325001,28.797501,28.797501,28.955,28.9925,29.16,29.237499,29.264999,29.0725,29.129998999999998,29.315001000000002,29.190001000000002,29.182501000000002,28.955,29.0375,29.004998999999998,29.1525,29.477501,29.747498999999998,29.7775,29.9375,29.8125,29.76,30.0,29.997498999999998,29.945,30.0,30.02,29.9925,30.469998999999998,30.485001,30.487499,30.407498999999998,30.3375,32.1875,32.1325,32.27,32.572497999999996,32.8825,33.009997999999996,33.105,33.029999,33.322497999999996,33.755001,33.877499,33.837502,33.93,34.174999,34.2775,34.1325,34.165001000000004,34.232498,34.247501,34.947497999999996,34.740002000000004,34.945,34.834998999999996,34.880001,34.75,34.669998,34.785,34.799999,34.747501,35.115002000000004,35.172501000000004,34.997501,35.365002000000004,34.959998999999996,35.355,35.23,35.16,35.220001,35.950001,36.029999,35.982498,35.915001000000004,35.924999,36.192501,36.005001,35.915001000000004,35.834998999999996,35.7925,35.407501,35.450001,35.262501,35.4575,35.299999,35.169998,35.610001000000004,35.567501,35.91,36.1325,35.919998,35.947497999999996,35.912498,36.645,36.877499,36.764998999999996,36.6325,37.240002000000004,38.252499,38.497501,38.314999,38.487499,39.025002,38.924999,38.8675,37.5625,38.134997999999996,38.264998999999996,38.497501,38.450001,38.334998999999996,38.467499,38.4025,38.4175,38.189999,38.294998,38.862499,38.482498,38.612499,38.842499,38.747501,37.244999,36.355,36.647498999999996,36.290001000000004,36.072497999999996,35.567501,36.584998999999996,36.252499,36.467499,36.407501,36.57,36.455002,35.932499,36.4575,35.919998,36.005001,35.875,36.022498999999996,35.682499,36.044998,36.264998999999996,36.3825,36.435001,36.942501,37.259997999999996,37.389998999999996,37.52,37.755001,37.584998999999996,37.567501,38.022498999999996,38.185001,38.365002000000004,37.639998999999996,37.375,37.182499,37.512501,39.285,38.892502,39.0975,39.702498999999996,40.02,40.264998999999996,38.830002,39.369999,39.962502,40.400002,40.237499,39.465,39.375,39.302502000000004,39.945,39.994999,39.817501,39.965,40.3675,40.727501000000004,40.837502,41.0,41.012501,40.52,40.477501000000004,40.314999,39.657501,40.375,40.215,39.912498,39.57,39.970001,39.6675,39.682499,39.017502,38.3475,37.9725,37.637501,38.285,38.557499,38.32,38.529999,38.452498999999996,38.619999,38.369999,38.8475,38.825001,38.959998999999996,38.974998,39.137501,39.0,39.247501,39.970001,40.1175,39.939999,38.994999,39.0625,39.0425,39.275002,39.102501000000004,39.352501000000004,40.762501,41.68,42.259997999999996,41.7225,42.0275,43.125,43.5625,43.702498999999996,44.060001,43.970001,43.6675,43.4925,42.834998999999996,42.27,42.775002,42.537498,42.494999,43.285,43.740002000000004,43.7425,43.522498999999996,43.267502,42.369999,42.962502,42.762501,42.450001,42.41,42.252499,42.330002,42.342499,43.1675,42.924999,43.067501,43.055,43.4925,44.105,43.634997999999996,43.587502,43.752499,43.752499,42.642502,42.650002,42.77,42.307499,43.064999,43.057499,43.2575,43.75,43.587502,43.5825,43.572497999999996,43.82,44.272498999999996,44.047501000000004,44.775002,44.814999,44.615002000000004,44.25,44.259997999999996,43.555,42.7775,42.877499,41.990002000000004,41.7425,41.857498,41.945,40.125,39.122501,40.7575,39.884997999999996,38.787498,39.102501000000004,40.677502000000004,41.084998999999996,41.842499,43.247501,43.107498,42.962502,42.767502,43.125,43.875,44.7425,44.5975,44.529999,43.75,44.052502000000004,44.205002,44.1675,43.7575,44.235001000000004,44.994999,45.43,44.9925,44.610001000000004,44.662498,44.505001,43.825001,43.810001,42.817501,42.212502,41.235001000000004,43.192501,42.084998999999996,41.619999,41.945,41.669998,42.0975,42.9025,43.200001,42.095001,42.512501,43.3125,43.110001000000004,43.535,43.682499,43.955002,44.560001,44.459998999999996,43.200001,41.43,41.310001,40.735001000000004,40.912498,41.055,40.580002,41.314999,42.275002,44.142502,44.2225,45.9575,46.290001000000004,46.512501,46.84,47.509997999999996,47.147498999999996,47.037498,46.610001000000004,47.044998,46.747501,46.577498999999996,46.907501,46.790001000000004,47.09,47.037498,47.145,46.974998,46.875,46.717499,47.560001,47.9575,48.327498999999996,48.494999,48.365002000000004,47.924999,47.807499,48.07,47.674999,47.700001,47.209998999999996,47.185001,46.422501000000004,46.625,46.365002000000004,46.23,45.5425,46.107498,46.040001000000004,46.375,46.2775,46.794998,45.98,46.349998,46.9925,47.645,47.587502,46.970001,47.7575,47.8325,47.727501000000004,47.862499,47.599998,47.970001,47.860001000000004,47.9025,48.25,48.705002,48.552502000000004,47.744999,47.477501000000004,47.572497999999996,50.375,51.8475,51.997501,52.267502,51.7775,51.8125,52.220001,51.8825,52.217499,52.4375,52.560001,53.330002,54.395,53.865002000000004,53.759997999999996,53.762501,53.872501,54.040001000000004,54.485001000000004,54.924999,55.744999,56.2575,56.907501,57.09,56.717499,55.775002,55.325001,54.5825,55.962502,55.267502,56.602501000000004,55.959998999999996,54.470001,54.560001,54.592499,55.0075,54.415001000000004,55.197497999999996,55.547501000000004,55.105,56.237499,56.435001,56.814999,57.32,58.017502,56.997501,56.072497999999996,55.942501,56.717499,54.09,53.612499,55.5275,54.34,55.537498,55.297501000000004,54.005001,54.827498999999996,55.162498,55.682499,53.772498999999996,54.950001,54.075001,53.060001,53.325001,54.715,55.555,51.869999,50.397498999999996,50.942501,52.487499,52.122501,51.1175,48.5425,48.057499,46.700001,47.852501000000004,48.3825,46.465,44.244999,44.195,43.072497999999996,43.654999,43.560001,45.235001000000004,44.887501,44.645,46.205002,44.172501000000004,43.68,42.122501,42.400002,42.157501,42.275002,42.737499,41.369999,40.985001000000004,41.517502,40.2225,39.2075,37.682499,36.7075,39.2925,39.037498,39.057499,39.435001,39.48,35.547501000000004,37.064999,36.982498,37.6875,38.327498999999996,38.450001,38.072497999999996,37.5,38.267502,38.735001000000004,38.965,39.205002,38.325001,38.48,38.174999,39.439999,39.075001,38.669998,41.3125,41.610001000000004,41.630001,42.8125,43.544998,43.560001,42.735001000000004,42.602501000000004,42.357498,42.7225,42.544998,42.700001,42.605,42.732498,43.0075,42.764998999999996,43.2425,43.557499,43.5825,43.717499,43.287498,43.7425,43.962502,43.8825,43.630001,43.125,43.227501000000004,44.724998,45.227501000000004,45.427502000000004,45.932499,46.529999,47.005001,46.6325,47.040001000000004,48.772498999999996,47.762501,47.185001,46.697497999999996,47.1175,47.18,47.487499,47.810001,48.505001,48.837502,48.922501000000004,49.25,50.025002,49.875,50.154999,49.737499,49.717499,49.807499,49.8125,50.782501,50.965,51.1325,51.869999,51.790001000000004,51.32,51.075001,51.1525,50.1675,52.630001,52.287498,52.9375,52.119999,50.715,50.724998,50.18,49.294998,46.43,47.165001000000004,47.73,47.52,47.25,45.772498999999996,46.650002,45.695,44.915001000000004,44.7425,44.557499,44.345001,44.575001,43.767502,43.325001,44.91,45.634997999999996,46.305,47.537498,48.145,48.702498999999996,48.547501000000004,48.537498,48.185001,48.4725,49.612499,49.467499,49.865002000000004,49.695,49.645,48.892502,49.950001,49.935001,49.48,50.387501,50.682499,51.102501000000004,51.057499,50.005001,50.310001,50.807499,50.4375,50.825001,51.302502000000004,51.125,50.837502,51.415001000000004,50.647498999999996,51.805,52.209998999999996,52.1675,51.755001,51.935001,52.419998,52.195,53.259997999999996,52.107498,51.005001,48.334998999999996,49.25,49.759997999999996,50.857498,50.247501,50.119999,52.2425,50.6875,50.435001,51.625,52.587502,52.59,53.16,53.115002000000004,50.66,51.622501,51.040001000000004,51.3825,52.252499,52.185001,51.424999,52.297501000000004,53.32,53.314999,53.5425,54.174999,55.897498999999996,55.772498999999996,54.6875,54.974998,55.174999,55.692501,55.240002000000004,54.432499,54.68,54.419998,55.2575,54.9725,54.705002,55.9925,56.147498999999996,54.740002000000004,55.205002,56.752499,56.764998999999996,56.099998,56.7575,57.522498999999996,59.052502000000004,58.967499,58.830002,58.592499,58.82,59.102501000000004,60.127499,59.990002000000004,60.794998,60.895,61.645,62.262501,60.822497999999996,60.814999,62.189999,63.955002,64.375,64.282501,64.309998,64.85749799999999,65.035004,65.550003,65.489998,66.1175,65.660004,66.440002,66.775002,66.572502,65.797501,65.502502,65.445,66.592499,66.072502,66.959999,66.8125,66.040001,64.862503,65.434998,66.394997,67.677498,66.730003,67.120003,67.692497,67.864998,68.787498,69.964996,70.102501,69.934998,70.004997,69.860001,71.0,71.067497,72.477501,72.449997,72.879997,73.412498,75.087502,74.35749799999999,74.949997,74.597504,75.797501,77.407501,77.582497,79.239998,78.16999799999999,77.834999,78.809998,79.682503,79.14250200000001,79.425003,79.807503,79.577499,77.237503,79.422501,81.084999,80.967499,77.377502,77.165001,79.712502,80.362503,81.302498,80.0075,80.387497,79.902496,81.800003,81.217499,81.237503,79.75,80.904999,80.074997,78.262497,74.54499799999999,72.019997,73.162498,68.379997,68.339996,74.702499,72.33000200000001,75.684998,73.230003,72.2575,66.542503,71.334999,68.85749799999999,62.057499,69.4925,60.552502000000004,63.215,61.6675,61.195,57.310001,56.092499,61.720001,61.380001,64.610001,61.935001,63.702498999999996,63.572497999999996,60.227501000000004,61.232498,60.352501000000004,65.6175,64.85749799999999,66.51750200000001,66.997498,68.3125,71.762497,71.10749799999999,71.672501,70.699997,69.23249799999999,67.092499,69.025002,68.7575,70.7425,70.792503,69.644997,71.932503,73.449997,72.26750200000001,73.290001,74.389999,75.157501,75.934998,77.532501,78.752502,77.852501,76.912498,77.385002,76.927498,78.739998,78.285004,79.807503,79.212502,79.722504,79.182503,79.527496,79.5625,79.485001,80.462502,80.834999,81.279999,80.58000200000001,82.875,83.364998,85.997498,88.209999,83.974998,84.699997,85.747498,88.019997,87.897499,87.932503,87.43,89.717499,91.6325,90.014999,91.209999,88.407501,90.445,91.199997,91.027496,91.027496,93.462502,93.172501,95.342499,95.752502,95.91999799999999,95.477501,97.057503,97.724998,96.522499,96.327499,98.35749799999999,97.0,97.272499,92.845001,92.614998,94.809998,93.252502,95.040001,96.190002,106.260002,108.9375,109.665001,110.0625,113.902496,111.112503,112.727501,109.375,113.010002,115.010002,114.907501,114.60749799999999,115.5625,115.707497,118.275002,124.370003,125.85749799999999,124.824997,126.522499,125.010002,124.807503,129.03999299999998,134.179993,131.399994,120.879997,120.959999,112.82,117.32,113.489998,112.0,115.360001,115.540001,112.129997,110.339996,106.839996,110.08000200000001,111.809998,107.120003,108.220001,112.279999,114.959999,114.089996,115.809998,116.790001,113.019997,116.5,113.160004,115.08000200000001,114.970001,116.970001,124.400002,121.099998,121.190002,120.709999,119.019997,115.980003,117.510002,116.870003,115.75,115.040001,115.050003,116.599998,111.199997,115.32,108.860001,108.769997,110.440002,114.949997,119.029999,118.690002,116.32,115.970001,119.489998,119.209999,119.260002,120.300003,119.389999,118.029999,118.639999,117.339996,113.849998,115.16999799999999,116.029999,116.589996,119.050003,122.720001,123.08000200000001,122.940002,122.25,123.75,124.379997,121.779999,123.239998,122.410004,121.779999,127.879997,127.809998,128.699997,126.660004,128.229996,131.880005,130.96000700000002,131.970001,136.690002,134.869995,133.720001,132.690002,129.41000400000001,131.009995,126.599998,130.919998,132.050003,128.979996,128.800003,130.889999,128.91000400000001,127.139999,127.83000200000001,132.029999,136.869995,139.070007,142.919998,143.16000400000001,142.059998,137.08999599999999,131.96000700000002,134.139999,134.990005,133.940002,137.389999,136.759995,136.91000400000001,136.009995,135.389999,135.130005,135.369995,133.190002,130.83999599999999,129.71000700000002,129.869995,126.0,125.860001,125.349998,120.989998,121.260002,127.790001,125.120003,122.059998,120.129997,121.41999799999999,116.360001,121.089996,119.980003,121.959999,121.029999,123.989998,125.57,124.760002,120.529999,119.989998,123.389999,122.540001,120.089996,120.589996,121.209999,121.389999,119.900002,122.150002,123.0,125.900002,126.209999,127.900002,130.360001,133.0,131.240005,134.429993,132.029999,134.5,134.16000400000001,134.83999599999999,133.110001,133.5,131.940002,134.320007,134.720001,134.389999,133.580002,133.479996,131.46000700000002,132.53999299999998,127.849998,128.100006,129.740005,130.21000700000002,126.849998,125.910004,122.769997,124.970001,127.449997,126.269997,124.849998,124.690002,127.309998,125.43,127.099998,126.900002,126.849998,125.279999,124.610001,124.279999,125.059998,123.540001,125.889999,125.900002,126.739998,127.129997,126.110001,127.349998,130.479996,129.639999,130.149994,131.78999299999998,130.46000700000002,132.300003,133.979996,133.699997,133.41000400000001,133.110001,134.779999,136.330002,136.96000700000002,137.270004,139.96000700000002,142.020004,144.570007,143.240005,145.110001,144.5,145.639999,149.149994,148.479996,146.389999,142.449997,146.149994,145.399994,146.800003,148.559998,148.990005,146.770004,144.979996,145.639999,145.860001,145.520004,147.360001,146.949997,147.059998,146.139999,146.08999599999999,145.600006,145.860001,148.889999,149.100006,151.119995,150.190002,146.360001,146.699997,148.190002,149.71000700000002,149.619995,148.360001,147.53999299999998,148.600006,153.119995,151.830002,152.509995,153.649994,154.300003,156.690002,155.110001,154.070007,148.970001,149.550003,148.119995,149.029999,148.78999299999998,146.059998,142.940002,143.429993,145.850006,146.830002,146.919998],\"yaxis\":\"y\"}],                        {\"font\":{\"color\":\"black\",\"size\":15},\"legend\":{\"tracegroupgap\":0},\"margin\":{\"t\":60},\"plot_bgcolor\":\"white\",\"template\":{\"data\":{\"bar\":[{\"error_x\":{\"color\":\"#2a3f5f\"},\"error_y\":{\"color\":\"#2a3f5f\"},\"marker\":{\"line\":{\"color\":\"#E5ECF6\",\"width\":0.5},\"pattern\":{\"fillmode\":\"overlay\",\"size\":10,\"solidity\":0.2}},\"type\":\"bar\"}],\"barpolar\":[{\"marker\":{\"line\":{\"color\":\"#E5ECF6\",\"width\":0.5},\"pattern\":{\"fillmode\":\"overlay\",\"size\":10,\"solidity\":0.2}},\"type\":\"barpolar\"}],\"carpet\":[{\"aaxis\":{\"endlinecolor\":\"#2a3f5f\",\"gridcolor\":\"white\",\"linecolor\":\"white\",\"minorgridcolor\":\"white\",\"startlinecolor\":\"#2a3f5f\"},\"baxis\":{\"endlinecolor\":\"#2a3f5f\",\"gridcolor\":\"white\",\"linecolor\":\"white\",\"minorgridcolor\":\"white\",\"startlinecolor\":\"#2a3f5f\"},\"type\":\"carpet\"}],\"choropleth\":[{\"colorbar\":{\"outlinewidth\":0,\"ticks\":\"\"},\"type\":\"choropleth\"}],\"contour\":[{\"colorbar\":{\"outlinewidth\":0,\"ticks\":\"\"},\"colorscale\":[[0.0,\"#0d0887\"],[0.1111111111111111,\"#46039f\"],[0.2222222222222222,\"#7201a8\"],[0.3333333333333333,\"#9c179e\"],[0.4444444444444444,\"#bd3786\"],[0.5555555555555556,\"#d8576b\"],[0.6666666666666666,\"#ed7953\"],[0.7777777777777778,\"#fb9f3a\"],[0.8888888888888888,\"#fdca26\"],[1.0,\"#f0f921\"]],\"type\":\"contour\"}],\"contourcarpet\":[{\"colorbar\":{\"outlinewidth\":0,\"ticks\":\"\"},\"type\":\"contourcarpet\"}],\"heatmap\":[{\"colorbar\":{\"outlinewidth\":0,\"ticks\":\"\"},\"colorscale\":[[0.0,\"#0d0887\"],[0.1111111111111111,\"#46039f\"],[0.2222222222222222,\"#7201a8\"],[0.3333333333333333,\"#9c179e\"],[0.4444444444444444,\"#bd3786\"],[0.5555555555555556,\"#d8576b\"],[0.6666666666666666,\"#ed7953\"],[0.7777777777777778,\"#fb9f3a\"],[0.8888888888888888,\"#fdca26\"],[1.0,\"#f0f921\"]],\"type\":\"heatmap\"}],\"heatmapgl\":[{\"colorbar\":{\"outlinewidth\":0,\"ticks\":\"\"},\"colorscale\":[[0.0,\"#0d0887\"],[0.1111111111111111,\"#46039f\"],[0.2222222222222222,\"#7201a8\"],[0.3333333333333333,\"#9c179e\"],[0.4444444444444444,\"#bd3786\"],[0.5555555555555556,\"#d8576b\"],[0.6666666666666666,\"#ed7953\"],[0.7777777777777778,\"#fb9f3a\"],[0.8888888888888888,\"#fdca26\"],[1.0,\"#f0f921\"]],\"type\":\"heatmapgl\"}],\"histogram\":[{\"marker\":{\"pattern\":{\"fillmode\":\"overlay\",\"size\":10,\"solidity\":0.2}},\"type\":\"histogram\"}],\"histogram2d\":[{\"colorbar\":{\"outlinewidth\":0,\"ticks\":\"\"},\"colorscale\":[[0.0,\"#0d0887\"],[0.1111111111111111,\"#46039f\"],[0.2222222222222222,\"#7201a8\"],[0.3333333333333333,\"#9c179e\"],[0.4444444444444444,\"#bd3786\"],[0.5555555555555556,\"#d8576b\"],[0.6666666666666666,\"#ed7953\"],[0.7777777777777778,\"#fb9f3a\"],[0.8888888888888888,\"#fdca26\"],[1.0,\"#f0f921\"]],\"type\":\"histogram2d\"}],\"histogram2dcontour\":[{\"colorbar\":{\"outlinewidth\":0,\"ticks\":\"\"},\"colorscale\":[[0.0,\"#0d0887\"],[0.1111111111111111,\"#46039f\"],[0.2222222222222222,\"#7201a8\"],[0.3333333333333333,\"#9c179e\"],[0.4444444444444444,\"#bd3786\"],[0.5555555555555556,\"#d8576b\"],[0.6666666666666666,\"#ed7953\"],[0.7777777777777778,\"#fb9f3a\"],[0.8888888888888888,\"#fdca26\"],[1.0,\"#f0f921\"]],\"type\":\"histogram2dcontour\"}],\"mesh3d\":[{\"colorbar\":{\"outlinewidth\":0,\"ticks\":\"\"},\"type\":\"mesh3d\"}],\"parcoords\":[{\"line\":{\"colorbar\":{\"outlinewidth\":0,\"ticks\":\"\"}},\"type\":\"parcoords\"}],\"pie\":[{\"automargin\":true,\"type\":\"pie\"}],\"scatter\":[{\"marker\":{\"colorbar\":{\"outlinewidth\":0,\"ticks\":\"\"}},\"type\":\"scatter\"}],\"scatter3d\":[{\"line\":{\"colorbar\":{\"outlinewidth\":0,\"ticks\":\"\"}},\"marker\":{\"colorbar\":{\"outlinewidth\":0,\"ticks\":\"\"}},\"type\":\"scatter3d\"}],\"scattercarpet\":[{\"marker\":{\"colorbar\":{\"outlinewidth\":0,\"ticks\":\"\"}},\"type\":\"scattercarpet\"}],\"scattergeo\":[{\"marker\":{\"colorbar\":{\"outlinewidth\":0,\"ticks\":\"\"}},\"type\":\"scattergeo\"}],\"scattergl\":[{\"marker\":{\"colorbar\":{\"outlinewidth\":0,\"ticks\":\"\"}},\"type\":\"scattergl\"}],\"scattermapbox\":[{\"marker\":{\"colorbar\":{\"outlinewidth\":0,\"ticks\":\"\"}},\"type\":\"scattermapbox\"}],\"scatterpolar\":[{\"marker\":{\"colorbar\":{\"outlinewidth\":0,\"ticks\":\"\"}},\"type\":\"scatterpolar\"}],\"scatterpolargl\":[{\"marker\":{\"colorbar\":{\"outlinewidth\":0,\"ticks\":\"\"}},\"type\":\"scatterpolargl\"}],\"scatterternary\":[{\"marker\":{\"colorbar\":{\"outlinewidth\":0,\"ticks\":\"\"}},\"type\":\"scatterternary\"}],\"surface\":[{\"colorbar\":{\"outlinewidth\":0,\"ticks\":\"\"},\"colorscale\":[[0.0,\"#0d0887\"],[0.1111111111111111,\"#46039f\"],[0.2222222222222222,\"#7201a8\"],[0.3333333333333333,\"#9c179e\"],[0.4444444444444444,\"#bd3786\"],[0.5555555555555556,\"#d8576b\"],[0.6666666666666666,\"#ed7953\"],[0.7777777777777778,\"#fb9f3a\"],[0.8888888888888888,\"#fdca26\"],[1.0,\"#f0f921\"]],\"type\":\"surface\"}],\"table\":[{\"cells\":{\"fill\":{\"color\":\"#EBF0F8\"},\"line\":{\"color\":\"white\"}},\"header\":{\"fill\":{\"color\":\"#C8D4E3\"},\"line\":{\"color\":\"white\"}},\"type\":\"table\"}]},\"layout\":{\"annotationdefaults\":{\"arrowcolor\":\"#2a3f5f\",\"arrowhead\":0,\"arrowwidth\":1},\"autotypenumbers\":\"strict\",\"coloraxis\":{\"colorbar\":{\"outlinewidth\":0,\"ticks\":\"\"}},\"colorscale\":{\"diverging\":[[0,\"#8e0152\"],[0.1,\"#c51b7d\"],[0.2,\"#de77ae\"],[0.3,\"#f1b6da\"],[0.4,\"#fde0ef\"],[0.5,\"#f7f7f7\"],[0.6,\"#e6f5d0\"],[0.7,\"#b8e186\"],[0.8,\"#7fbc41\"],[0.9,\"#4d9221\"],[1,\"#276419\"]],\"sequential\":[[0.0,\"#0d0887\"],[0.1111111111111111,\"#46039f\"],[0.2222222222222222,\"#7201a8\"],[0.3333333333333333,\"#9c179e\"],[0.4444444444444444,\"#bd3786\"],[0.5555555555555556,\"#d8576b\"],[0.6666666666666666,\"#ed7953\"],[0.7777777777777778,\"#fb9f3a\"],[0.8888888888888888,\"#fdca26\"],[1.0,\"#f0f921\"]],\"sequentialminus\":[[0.0,\"#0d0887\"],[0.1111111111111111,\"#46039f\"],[0.2222222222222222,\"#7201a8\"],[0.3333333333333333,\"#9c179e\"],[0.4444444444444444,\"#bd3786\"],[0.5555555555555556,\"#d8576b\"],[0.6666666666666666,\"#ed7953\"],[0.7777777777777778,\"#fb9f3a\"],[0.8888888888888888,\"#fdca26\"],[1.0,\"#f0f921\"]]},\"colorway\":[\"#636efa\",\"#EF553B\",\"#00cc96\",\"#ab63fa\",\"#FFA15A\",\"#19d3f3\",\"#FF6692\",\"#B6E880\",\"#FF97FF\",\"#FECB52\"],\"font\":{\"color\":\"#2a3f5f\"},\"geo\":{\"bgcolor\":\"white\",\"lakecolor\":\"white\",\"landcolor\":\"#E5ECF6\",\"showlakes\":true,\"showland\":true,\"subunitcolor\":\"white\"},\"hoverlabel\":{\"align\":\"left\"},\"hovermode\":\"closest\",\"mapbox\":{\"style\":\"light\"},\"paper_bgcolor\":\"white\",\"plot_bgcolor\":\"#E5ECF6\",\"polar\":{\"angularaxis\":{\"gridcolor\":\"white\",\"linecolor\":\"white\",\"ticks\":\"\"},\"bgcolor\":\"#E5ECF6\",\"radialaxis\":{\"gridcolor\":\"white\",\"linecolor\":\"white\",\"ticks\":\"\"}},\"scene\":{\"xaxis\":{\"backgroundcolor\":\"#E5ECF6\",\"gridcolor\":\"white\",\"gridwidth\":2,\"linecolor\":\"white\",\"showbackground\":true,\"ticks\":\"\",\"zerolinecolor\":\"white\"},\"yaxis\":{\"backgroundcolor\":\"#E5ECF6\",\"gridcolor\":\"white\",\"gridwidth\":2,\"linecolor\":\"white\",\"showbackground\":true,\"ticks\":\"\",\"zerolinecolor\":\"white\"},\"zaxis\":{\"backgroundcolor\":\"#E5ECF6\",\"gridcolor\":\"white\",\"gridwidth\":2,\"linecolor\":\"white\",\"showbackground\":true,\"ticks\":\"\",\"zerolinecolor\":\"white\"}},\"shapedefaults\":{\"line\":{\"color\":\"#2a3f5f\"}},\"ternary\":{\"aaxis\":{\"gridcolor\":\"white\",\"linecolor\":\"white\",\"ticks\":\"\"},\"baxis\":{\"gridcolor\":\"white\",\"linecolor\":\"white\",\"ticks\":\"\"},\"bgcolor\":\"#E5ECF6\",\"caxis\":{\"gridcolor\":\"white\",\"linecolor\":\"white\",\"ticks\":\"\"}},\"title\":{\"x\":0.05},\"xaxis\":{\"automargin\":true,\"gridcolor\":\"white\",\"linecolor\":\"white\",\"ticks\":\"\",\"title\":{\"standoff\":15},\"zerolinecolor\":\"white\",\"zerolinewidth\":2},\"yaxis\":{\"automargin\":true,\"gridcolor\":\"white\",\"linecolor\":\"white\",\"ticks\":\"\",\"title\":{\"standoff\":15},\"zerolinecolor\":\"white\",\"zerolinewidth\":2}}},\"title\":{\"text\":\"Stock close price chart\"},\"xaxis\":{\"anchor\":\"y\",\"domain\":[0.0,1.0],\"showgrid\":false,\"title\":{\"text\":\"Date\"}},\"yaxis\":{\"anchor\":\"x\",\"domain\":[0.0,1.0],\"showgrid\":false,\"title\":{\"text\":\"Close Stock\"}}},                        {\"responsive\": true}                    ).then(function(){\n",
              "                            \n",
              "var gd = document.getElementById('3e677ee0-362b-48ef-840f-da69b5259cf2');\n",
              "var x = new MutationObserver(function (mutations, observer) {{\n",
              "        var display = window.getComputedStyle(gd).display;\n",
              "        if (!display || display === 'none') {{\n",
              "            console.log([gd, 'removed!']);\n",
              "            Plotly.purge(gd);\n",
              "            observer.disconnect();\n",
              "        }}\n",
              "}});\n",
              "\n",
              "// Listen for the removal of the full notebook cells\n",
              "var notebookContainer = gd.closest('#notebook-container');\n",
              "if (notebookContainer) {{\n",
              "    x.observe(notebookContainer, {childList: true});\n",
              "}}\n",
              "\n",
              "// Listen for the clearing of the current output cell\n",
              "var outputEl = gd.closest('.output');\n",
              "if (outputEl) {{\n",
              "    x.observe(outputEl, {childList: true});\n",
              "}}\n",
              "\n",
              "                        })                };                            </script>        </div>\n",
              "</body>\n",
              "</html>"
            ]
          },
          "metadata": {}
        }
      ]
    },
    {
      "cell_type": "code",
      "metadata": {
        "colab": {
          "base_uri": "https://localhost:8080/"
        },
        "id": "91Re8tEQl5P7",
        "outputId": "4c17b409-0589-4b08-e2a6-95b3e780b5bf"
      },
      "source": [
        "closedf = closedf[closedf['date'] > '2020-09-24']\n",
        "close_stock = closedf.copy()\n",
        "print(\"Total data for prediction: \",closedf.shape[0])"
      ],
      "execution_count": null,
      "outputs": [
        {
          "output_type": "stream",
          "name": "stdout",
          "text": [
            "Total data for prediction:  252\n"
          ]
        }
      ]
    },
    {
      "cell_type": "code",
      "metadata": {
        "colab": {
          "base_uri": "https://localhost:8080/",
          "height": 542
        },
        "id": "POUOauywmTvu",
        "outputId": "1775961f-b3d1-4947-c02b-e4d5111f2b7d"
      },
      "source": [
        "fig = px.line(closedf, x=closedf.date, y=closedf.close,labels={'date':'Date','close':'Close Stock'})\n",
        "fig.update_traces(marker_line_width=2, opacity=0.8, marker_line_color='orange')\n",
        "fig.update_layout(title_text='Considered period to predict Stock close price', plot_bgcolor='white', font_size=15, font_color='black')\n",
        "fig.update_xaxes(showgrid=False)\n",
        "fig.update_yaxes(showgrid=False)\n",
        "fig.show()"
      ],
      "execution_count": null,
      "outputs": [
        {
          "output_type": "display_data",
          "data": {
            "text/html": [
              "<html>\n",
              "<head><meta charset=\"utf-8\" /></head>\n",
              "<body>\n",
              "    <div>            <script src=\"https://cdnjs.cloudflare.com/ajax/libs/mathjax/2.7.5/MathJax.js?config=TeX-AMS-MML_SVG\"></script><script type=\"text/javascript\">if (window.MathJax) {MathJax.Hub.Config({SVG: {font: \"STIX-Web\"}});}</script>                <script type=\"text/javascript\">window.PlotlyConfig = {MathJaxConfig: 'local'};</script>\n",
              "        <script src=\"https://cdn.plot.ly/plotly-2.4.2.min.js\"></script>                <div id=\"39b18a67-850f-43f2-9a4f-670783686d9f\" class=\"plotly-graph-div\" style=\"height:525px; width:100%;\"></div>            <script type=\"text/javascript\">                                    window.PLOTLYENV=window.PLOTLYENV || {};                                    if (document.getElementById(\"39b18a67-850f-43f2-9a4f-670783686d9f\")) {                    Plotly.newPlot(                        \"39b18a67-850f-43f2-9a4f-670783686d9f\",                        [{\"hovertemplate\":\"Date=%{x}<br>Close Stock=%{y}<extra></extra>\",\"legendgroup\":\"\",\"line\":{\"color\":\"#636efa\",\"dash\":\"solid\"},\"marker\":{\"line\":{\"color\":\"orange\",\"width\":2},\"symbol\":\"circle\"},\"mode\":\"lines\",\"name\":\"\",\"opacity\":0.8,\"orientation\":\"v\",\"showlegend\":false,\"type\":\"scatter\",\"x\":[\"2020-09-25T00:00:00\",\"2020-09-28T00:00:00\",\"2020-09-29T00:00:00\",\"2020-09-30T00:00:00\",\"2020-10-01T00:00:00\",\"2020-10-02T00:00:00\",\"2020-10-05T00:00:00\",\"2020-10-06T00:00:00\",\"2020-10-07T00:00:00\",\"2020-10-08T00:00:00\",\"2020-10-09T00:00:00\",\"2020-10-12T00:00:00\",\"2020-10-13T00:00:00\",\"2020-10-14T00:00:00\",\"2020-10-15T00:00:00\",\"2020-10-16T00:00:00\",\"2020-10-19T00:00:00\",\"2020-10-20T00:00:00\",\"2020-10-21T00:00:00\",\"2020-10-22T00:00:00\",\"2020-10-23T00:00:00\",\"2020-10-26T00:00:00\",\"2020-10-27T00:00:00\",\"2020-10-28T00:00:00\",\"2020-10-29T00:00:00\",\"2020-10-30T00:00:00\",\"2020-11-02T00:00:00\",\"2020-11-03T00:00:00\",\"2020-11-04T00:00:00\",\"2020-11-05T00:00:00\",\"2020-11-06T00:00:00\",\"2020-11-09T00:00:00\",\"2020-11-10T00:00:00\",\"2020-11-11T00:00:00\",\"2020-11-12T00:00:00\",\"2020-11-13T00:00:00\",\"2020-11-16T00:00:00\",\"2020-11-17T00:00:00\",\"2020-11-18T00:00:00\",\"2020-11-19T00:00:00\",\"2020-11-20T00:00:00\",\"2020-11-23T00:00:00\",\"2020-11-24T00:00:00\",\"2020-11-25T00:00:00\",\"2020-11-27T00:00:00\",\"2020-11-30T00:00:00\",\"2020-12-01T00:00:00\",\"2020-12-02T00:00:00\",\"2020-12-03T00:00:00\",\"2020-12-04T00:00:00\",\"2020-12-07T00:00:00\",\"2020-12-08T00:00:00\",\"2020-12-09T00:00:00\",\"2020-12-10T00:00:00\",\"2020-12-11T00:00:00\",\"2020-12-14T00:00:00\",\"2020-12-15T00:00:00\",\"2020-12-16T00:00:00\",\"2020-12-17T00:00:00\",\"2020-12-18T00:00:00\",\"2020-12-21T00:00:00\",\"2020-12-22T00:00:00\",\"2020-12-23T00:00:00\",\"2020-12-24T00:00:00\",\"2020-12-28T00:00:00\",\"2020-12-29T00:00:00\",\"2020-12-30T00:00:00\",\"2020-12-31T00:00:00\",\"2021-01-04T00:00:00\",\"2021-01-05T00:00:00\",\"2021-01-06T00:00:00\",\"2021-01-07T00:00:00\",\"2021-01-08T00:00:00\",\"2021-01-11T00:00:00\",\"2021-01-12T00:00:00\",\"2021-01-13T00:00:00\",\"2021-01-14T00:00:00\",\"2021-01-15T00:00:00\",\"2021-01-19T00:00:00\",\"2021-01-20T00:00:00\",\"2021-01-21T00:00:00\",\"2021-01-22T00:00:00\",\"2021-01-25T00:00:00\",\"2021-01-26T00:00:00\",\"2021-01-27T00:00:00\",\"2021-01-28T00:00:00\",\"2021-01-29T00:00:00\",\"2021-02-01T00:00:00\",\"2021-02-02T00:00:00\",\"2021-02-03T00:00:00\",\"2021-02-04T00:00:00\",\"2021-02-05T00:00:00\",\"2021-02-08T00:00:00\",\"2021-02-09T00:00:00\",\"2021-02-10T00:00:00\",\"2021-02-11T00:00:00\",\"2021-02-12T00:00:00\",\"2021-02-16T00:00:00\",\"2021-02-17T00:00:00\",\"2021-02-18T00:00:00\",\"2021-02-19T00:00:00\",\"2021-02-22T00:00:00\",\"2021-02-23T00:00:00\",\"2021-02-24T00:00:00\",\"2021-02-25T00:00:00\",\"2021-02-26T00:00:00\",\"2021-03-01T00:00:00\",\"2021-03-02T00:00:00\",\"2021-03-03T00:00:00\",\"2021-03-04T00:00:00\",\"2021-03-05T00:00:00\",\"2021-03-08T00:00:00\",\"2021-03-09T00:00:00\",\"2021-03-10T00:00:00\",\"2021-03-11T00:00:00\",\"2021-03-12T00:00:00\",\"2021-03-15T00:00:00\",\"2021-03-16T00:00:00\",\"2021-03-17T00:00:00\",\"2021-03-18T00:00:00\",\"2021-03-19T00:00:00\",\"2021-03-22T00:00:00\",\"2021-03-23T00:00:00\",\"2021-03-24T00:00:00\",\"2021-03-25T00:00:00\",\"2021-03-26T00:00:00\",\"2021-03-29T00:00:00\",\"2021-03-30T00:00:00\",\"2021-03-31T00:00:00\",\"2021-04-01T00:00:00\",\"2021-04-05T00:00:00\",\"2021-04-06T00:00:00\",\"2021-04-07T00:00:00\",\"2021-04-08T00:00:00\",\"2021-04-09T00:00:00\",\"2021-04-12T00:00:00\",\"2021-04-13T00:00:00\",\"2021-04-14T00:00:00\",\"2021-04-15T00:00:00\",\"2021-04-16T00:00:00\",\"2021-04-19T00:00:00\",\"2021-04-20T00:00:00\",\"2021-04-21T00:00:00\",\"2021-04-22T00:00:00\",\"2021-04-23T00:00:00\",\"2021-04-26T00:00:00\",\"2021-04-27T00:00:00\",\"2021-04-28T00:00:00\",\"2021-04-29T00:00:00\",\"2021-04-30T00:00:00\",\"2021-05-03T00:00:00\",\"2021-05-04T00:00:00\",\"2021-05-05T00:00:00\",\"2021-05-06T00:00:00\",\"2021-05-07T00:00:00\",\"2021-05-10T00:00:00\",\"2021-05-11T00:00:00\",\"2021-05-12T00:00:00\",\"2021-05-13T00:00:00\",\"2021-05-14T00:00:00\",\"2021-05-17T00:00:00\",\"2021-05-18T00:00:00\",\"2021-05-19T00:00:00\",\"2021-05-20T00:00:00\",\"2021-05-21T00:00:00\",\"2021-05-24T00:00:00\",\"2021-05-25T00:00:00\",\"2021-05-26T00:00:00\",\"2021-05-27T00:00:00\",\"2021-05-28T00:00:00\",\"2021-06-01T00:00:00\",\"2021-06-02T00:00:00\",\"2021-06-03T00:00:00\",\"2021-06-04T00:00:00\",\"2021-06-07T00:00:00\",\"2021-06-08T00:00:00\",\"2021-06-09T00:00:00\",\"2021-06-10T00:00:00\",\"2021-06-11T00:00:00\",\"2021-06-14T00:00:00\",\"2021-06-15T00:00:00\",\"2021-06-16T00:00:00\",\"2021-06-17T00:00:00\",\"2021-06-18T00:00:00\",\"2021-06-21T00:00:00\",\"2021-06-22T00:00:00\",\"2021-06-23T00:00:00\",\"2021-06-24T00:00:00\",\"2021-06-25T00:00:00\",\"2021-06-28T00:00:00\",\"2021-06-29T00:00:00\",\"2021-06-30T00:00:00\",\"2021-07-01T00:00:00\",\"2021-07-02T00:00:00\",\"2021-07-06T00:00:00\",\"2021-07-07T00:00:00\",\"2021-07-08T00:00:00\",\"2021-07-09T00:00:00\",\"2021-07-12T00:00:00\",\"2021-07-13T00:00:00\",\"2021-07-14T00:00:00\",\"2021-07-15T00:00:00\",\"2021-07-16T00:00:00\",\"2021-07-19T00:00:00\",\"2021-07-20T00:00:00\",\"2021-07-21T00:00:00\",\"2021-07-22T00:00:00\",\"2021-07-23T00:00:00\",\"2021-07-26T00:00:00\",\"2021-07-27T00:00:00\",\"2021-07-28T00:00:00\",\"2021-07-29T00:00:00\",\"2021-07-30T00:00:00\",\"2021-08-02T00:00:00\",\"2021-08-03T00:00:00\",\"2021-08-04T00:00:00\",\"2021-08-05T00:00:00\",\"2021-08-06T00:00:00\",\"2021-08-09T00:00:00\",\"2021-08-10T00:00:00\",\"2021-08-11T00:00:00\",\"2021-08-12T00:00:00\",\"2021-08-13T00:00:00\",\"2021-08-16T00:00:00\",\"2021-08-17T00:00:00\",\"2021-08-18T00:00:00\",\"2021-08-19T00:00:00\",\"2021-08-20T00:00:00\",\"2021-08-23T00:00:00\",\"2021-08-24T00:00:00\",\"2021-08-25T00:00:00\",\"2021-08-26T00:00:00\",\"2021-08-27T00:00:00\",\"2021-08-30T00:00:00\",\"2021-08-31T00:00:00\",\"2021-09-01T00:00:00\",\"2021-09-02T00:00:00\",\"2021-09-03T00:00:00\",\"2021-09-07T00:00:00\",\"2021-09-08T00:00:00\",\"2021-09-09T00:00:00\",\"2021-09-10T00:00:00\",\"2021-09-13T00:00:00\",\"2021-09-14T00:00:00\",\"2021-09-15T00:00:00\",\"2021-09-16T00:00:00\",\"2021-09-17T00:00:00\",\"2021-09-20T00:00:00\",\"2021-09-21T00:00:00\",\"2021-09-22T00:00:00\",\"2021-09-23T00:00:00\",\"2021-09-24T00:00:00\"],\"xaxis\":\"x\",\"y\":[112.279999,114.959999,114.089996,115.809998,116.790001,113.019997,116.5,113.160004,115.08000200000001,114.970001,116.970001,124.400002,121.099998,121.190002,120.709999,119.019997,115.980003,117.510002,116.870003,115.75,115.040001,115.050003,116.599998,111.199997,115.32,108.860001,108.769997,110.440002,114.949997,119.029999,118.690002,116.32,115.970001,119.489998,119.209999,119.260002,120.300003,119.389999,118.029999,118.639999,117.339996,113.849998,115.16999799999999,116.029999,116.589996,119.050003,122.720001,123.08000200000001,122.940002,122.25,123.75,124.379997,121.779999,123.239998,122.410004,121.779999,127.879997,127.809998,128.699997,126.660004,128.229996,131.880005,130.96000700000002,131.970001,136.690002,134.869995,133.720001,132.690002,129.41000400000001,131.009995,126.599998,130.919998,132.050003,128.979996,128.800003,130.889999,128.91000400000001,127.139999,127.83000200000001,132.029999,136.869995,139.070007,142.919998,143.16000400000001,142.059998,137.08999599999999,131.96000700000002,134.139999,134.990005,133.940002,137.389999,136.759995,136.91000400000001,136.009995,135.389999,135.130005,135.369995,133.190002,130.83999599999999,129.71000700000002,129.869995,126.0,125.860001,125.349998,120.989998,121.260002,127.790001,125.120003,122.059998,120.129997,121.41999799999999,116.360001,121.089996,119.980003,121.959999,121.029999,123.989998,125.57,124.760002,120.529999,119.989998,123.389999,122.540001,120.089996,120.589996,121.209999,121.389999,119.900002,122.150002,123.0,125.900002,126.209999,127.900002,130.360001,133.0,131.240005,134.429993,132.029999,134.5,134.16000400000001,134.83999599999999,133.110001,133.5,131.940002,134.320007,134.720001,134.389999,133.580002,133.479996,131.46000700000002,132.53999299999998,127.849998,128.100006,129.740005,130.21000700000002,126.849998,125.910004,122.769997,124.970001,127.449997,126.269997,124.849998,124.690002,127.309998,125.43,127.099998,126.900002,126.849998,125.279999,124.610001,124.279999,125.059998,123.540001,125.889999,125.900002,126.739998,127.129997,126.110001,127.349998,130.479996,129.639999,130.149994,131.78999299999998,130.46000700000002,132.300003,133.979996,133.699997,133.41000400000001,133.110001,134.779999,136.330002,136.96000700000002,137.270004,139.96000700000002,142.020004,144.570007,143.240005,145.110001,144.5,145.639999,149.149994,148.479996,146.389999,142.449997,146.149994,145.399994,146.800003,148.559998,148.990005,146.770004,144.979996,145.639999,145.860001,145.520004,147.360001,146.949997,147.059998,146.139999,146.08999599999999,145.600006,145.860001,148.889999,149.100006,151.119995,150.190002,146.360001,146.699997,148.190002,149.71000700000002,149.619995,148.360001,147.53999299999998,148.600006,153.119995,151.830002,152.509995,153.649994,154.300003,156.690002,155.110001,154.070007,148.970001,149.550003,148.119995,149.029999,148.78999299999998,146.059998,142.940002,143.429993,145.850006,146.830002,146.919998],\"yaxis\":\"y\"}],                        {\"font\":{\"color\":\"black\",\"size\":15},\"legend\":{\"tracegroupgap\":0},\"margin\":{\"t\":60},\"plot_bgcolor\":\"white\",\"template\":{\"data\":{\"bar\":[{\"error_x\":{\"color\":\"#2a3f5f\"},\"error_y\":{\"color\":\"#2a3f5f\"},\"marker\":{\"line\":{\"color\":\"#E5ECF6\",\"width\":0.5},\"pattern\":{\"fillmode\":\"overlay\",\"size\":10,\"solidity\":0.2}},\"type\":\"bar\"}],\"barpolar\":[{\"marker\":{\"line\":{\"color\":\"#E5ECF6\",\"width\":0.5},\"pattern\":{\"fillmode\":\"overlay\",\"size\":10,\"solidity\":0.2}},\"type\":\"barpolar\"}],\"carpet\":[{\"aaxis\":{\"endlinecolor\":\"#2a3f5f\",\"gridcolor\":\"white\",\"linecolor\":\"white\",\"minorgridcolor\":\"white\",\"startlinecolor\":\"#2a3f5f\"},\"baxis\":{\"endlinecolor\":\"#2a3f5f\",\"gridcolor\":\"white\",\"linecolor\":\"white\",\"minorgridcolor\":\"white\",\"startlinecolor\":\"#2a3f5f\"},\"type\":\"carpet\"}],\"choropleth\":[{\"colorbar\":{\"outlinewidth\":0,\"ticks\":\"\"},\"type\":\"choropleth\"}],\"contour\":[{\"colorbar\":{\"outlinewidth\":0,\"ticks\":\"\"},\"colorscale\":[[0.0,\"#0d0887\"],[0.1111111111111111,\"#46039f\"],[0.2222222222222222,\"#7201a8\"],[0.3333333333333333,\"#9c179e\"],[0.4444444444444444,\"#bd3786\"],[0.5555555555555556,\"#d8576b\"],[0.6666666666666666,\"#ed7953\"],[0.7777777777777778,\"#fb9f3a\"],[0.8888888888888888,\"#fdca26\"],[1.0,\"#f0f921\"]],\"type\":\"contour\"}],\"contourcarpet\":[{\"colorbar\":{\"outlinewidth\":0,\"ticks\":\"\"},\"type\":\"contourcarpet\"}],\"heatmap\":[{\"colorbar\":{\"outlinewidth\":0,\"ticks\":\"\"},\"colorscale\":[[0.0,\"#0d0887\"],[0.1111111111111111,\"#46039f\"],[0.2222222222222222,\"#7201a8\"],[0.3333333333333333,\"#9c179e\"],[0.4444444444444444,\"#bd3786\"],[0.5555555555555556,\"#d8576b\"],[0.6666666666666666,\"#ed7953\"],[0.7777777777777778,\"#fb9f3a\"],[0.8888888888888888,\"#fdca26\"],[1.0,\"#f0f921\"]],\"type\":\"heatmap\"}],\"heatmapgl\":[{\"colorbar\":{\"outlinewidth\":0,\"ticks\":\"\"},\"colorscale\":[[0.0,\"#0d0887\"],[0.1111111111111111,\"#46039f\"],[0.2222222222222222,\"#7201a8\"],[0.3333333333333333,\"#9c179e\"],[0.4444444444444444,\"#bd3786\"],[0.5555555555555556,\"#d8576b\"],[0.6666666666666666,\"#ed7953\"],[0.7777777777777778,\"#fb9f3a\"],[0.8888888888888888,\"#fdca26\"],[1.0,\"#f0f921\"]],\"type\":\"heatmapgl\"}],\"histogram\":[{\"marker\":{\"pattern\":{\"fillmode\":\"overlay\",\"size\":10,\"solidity\":0.2}},\"type\":\"histogram\"}],\"histogram2d\":[{\"colorbar\":{\"outlinewidth\":0,\"ticks\":\"\"},\"colorscale\":[[0.0,\"#0d0887\"],[0.1111111111111111,\"#46039f\"],[0.2222222222222222,\"#7201a8\"],[0.3333333333333333,\"#9c179e\"],[0.4444444444444444,\"#bd3786\"],[0.5555555555555556,\"#d8576b\"],[0.6666666666666666,\"#ed7953\"],[0.7777777777777778,\"#fb9f3a\"],[0.8888888888888888,\"#fdca26\"],[1.0,\"#f0f921\"]],\"type\":\"histogram2d\"}],\"histogram2dcontour\":[{\"colorbar\":{\"outlinewidth\":0,\"ticks\":\"\"},\"colorscale\":[[0.0,\"#0d0887\"],[0.1111111111111111,\"#46039f\"],[0.2222222222222222,\"#7201a8\"],[0.3333333333333333,\"#9c179e\"],[0.4444444444444444,\"#bd3786\"],[0.5555555555555556,\"#d8576b\"],[0.6666666666666666,\"#ed7953\"],[0.7777777777777778,\"#fb9f3a\"],[0.8888888888888888,\"#fdca26\"],[1.0,\"#f0f921\"]],\"type\":\"histogram2dcontour\"}],\"mesh3d\":[{\"colorbar\":{\"outlinewidth\":0,\"ticks\":\"\"},\"type\":\"mesh3d\"}],\"parcoords\":[{\"line\":{\"colorbar\":{\"outlinewidth\":0,\"ticks\":\"\"}},\"type\":\"parcoords\"}],\"pie\":[{\"automargin\":true,\"type\":\"pie\"}],\"scatter\":[{\"marker\":{\"colorbar\":{\"outlinewidth\":0,\"ticks\":\"\"}},\"type\":\"scatter\"}],\"scatter3d\":[{\"line\":{\"colorbar\":{\"outlinewidth\":0,\"ticks\":\"\"}},\"marker\":{\"colorbar\":{\"outlinewidth\":0,\"ticks\":\"\"}},\"type\":\"scatter3d\"}],\"scattercarpet\":[{\"marker\":{\"colorbar\":{\"outlinewidth\":0,\"ticks\":\"\"}},\"type\":\"scattercarpet\"}],\"scattergeo\":[{\"marker\":{\"colorbar\":{\"outlinewidth\":0,\"ticks\":\"\"}},\"type\":\"scattergeo\"}],\"scattergl\":[{\"marker\":{\"colorbar\":{\"outlinewidth\":0,\"ticks\":\"\"}},\"type\":\"scattergl\"}],\"scattermapbox\":[{\"marker\":{\"colorbar\":{\"outlinewidth\":0,\"ticks\":\"\"}},\"type\":\"scattermapbox\"}],\"scatterpolar\":[{\"marker\":{\"colorbar\":{\"outlinewidth\":0,\"ticks\":\"\"}},\"type\":\"scatterpolar\"}],\"scatterpolargl\":[{\"marker\":{\"colorbar\":{\"outlinewidth\":0,\"ticks\":\"\"}},\"type\":\"scatterpolargl\"}],\"scatterternary\":[{\"marker\":{\"colorbar\":{\"outlinewidth\":0,\"ticks\":\"\"}},\"type\":\"scatterternary\"}],\"surface\":[{\"colorbar\":{\"outlinewidth\":0,\"ticks\":\"\"},\"colorscale\":[[0.0,\"#0d0887\"],[0.1111111111111111,\"#46039f\"],[0.2222222222222222,\"#7201a8\"],[0.3333333333333333,\"#9c179e\"],[0.4444444444444444,\"#bd3786\"],[0.5555555555555556,\"#d8576b\"],[0.6666666666666666,\"#ed7953\"],[0.7777777777777778,\"#fb9f3a\"],[0.8888888888888888,\"#fdca26\"],[1.0,\"#f0f921\"]],\"type\":\"surface\"}],\"table\":[{\"cells\":{\"fill\":{\"color\":\"#EBF0F8\"},\"line\":{\"color\":\"white\"}},\"header\":{\"fill\":{\"color\":\"#C8D4E3\"},\"line\":{\"color\":\"white\"}},\"type\":\"table\"}]},\"layout\":{\"annotationdefaults\":{\"arrowcolor\":\"#2a3f5f\",\"arrowhead\":0,\"arrowwidth\":1},\"autotypenumbers\":\"strict\",\"coloraxis\":{\"colorbar\":{\"outlinewidth\":0,\"ticks\":\"\"}},\"colorscale\":{\"diverging\":[[0,\"#8e0152\"],[0.1,\"#c51b7d\"],[0.2,\"#de77ae\"],[0.3,\"#f1b6da\"],[0.4,\"#fde0ef\"],[0.5,\"#f7f7f7\"],[0.6,\"#e6f5d0\"],[0.7,\"#b8e186\"],[0.8,\"#7fbc41\"],[0.9,\"#4d9221\"],[1,\"#276419\"]],\"sequential\":[[0.0,\"#0d0887\"],[0.1111111111111111,\"#46039f\"],[0.2222222222222222,\"#7201a8\"],[0.3333333333333333,\"#9c179e\"],[0.4444444444444444,\"#bd3786\"],[0.5555555555555556,\"#d8576b\"],[0.6666666666666666,\"#ed7953\"],[0.7777777777777778,\"#fb9f3a\"],[0.8888888888888888,\"#fdca26\"],[1.0,\"#f0f921\"]],\"sequentialminus\":[[0.0,\"#0d0887\"],[0.1111111111111111,\"#46039f\"],[0.2222222222222222,\"#7201a8\"],[0.3333333333333333,\"#9c179e\"],[0.4444444444444444,\"#bd3786\"],[0.5555555555555556,\"#d8576b\"],[0.6666666666666666,\"#ed7953\"],[0.7777777777777778,\"#fb9f3a\"],[0.8888888888888888,\"#fdca26\"],[1.0,\"#f0f921\"]]},\"colorway\":[\"#636efa\",\"#EF553B\",\"#00cc96\",\"#ab63fa\",\"#FFA15A\",\"#19d3f3\",\"#FF6692\",\"#B6E880\",\"#FF97FF\",\"#FECB52\"],\"font\":{\"color\":\"#2a3f5f\"},\"geo\":{\"bgcolor\":\"white\",\"lakecolor\":\"white\",\"landcolor\":\"#E5ECF6\",\"showlakes\":true,\"showland\":true,\"subunitcolor\":\"white\"},\"hoverlabel\":{\"align\":\"left\"},\"hovermode\":\"closest\",\"mapbox\":{\"style\":\"light\"},\"paper_bgcolor\":\"white\",\"plot_bgcolor\":\"#E5ECF6\",\"polar\":{\"angularaxis\":{\"gridcolor\":\"white\",\"linecolor\":\"white\",\"ticks\":\"\"},\"bgcolor\":\"#E5ECF6\",\"radialaxis\":{\"gridcolor\":\"white\",\"linecolor\":\"white\",\"ticks\":\"\"}},\"scene\":{\"xaxis\":{\"backgroundcolor\":\"#E5ECF6\",\"gridcolor\":\"white\",\"gridwidth\":2,\"linecolor\":\"white\",\"showbackground\":true,\"ticks\":\"\",\"zerolinecolor\":\"white\"},\"yaxis\":{\"backgroundcolor\":\"#E5ECF6\",\"gridcolor\":\"white\",\"gridwidth\":2,\"linecolor\":\"white\",\"showbackground\":true,\"ticks\":\"\",\"zerolinecolor\":\"white\"},\"zaxis\":{\"backgroundcolor\":\"#E5ECF6\",\"gridcolor\":\"white\",\"gridwidth\":2,\"linecolor\":\"white\",\"showbackground\":true,\"ticks\":\"\",\"zerolinecolor\":\"white\"}},\"shapedefaults\":{\"line\":{\"color\":\"#2a3f5f\"}},\"ternary\":{\"aaxis\":{\"gridcolor\":\"white\",\"linecolor\":\"white\",\"ticks\":\"\"},\"baxis\":{\"gridcolor\":\"white\",\"linecolor\":\"white\",\"ticks\":\"\"},\"bgcolor\":\"#E5ECF6\",\"caxis\":{\"gridcolor\":\"white\",\"linecolor\":\"white\",\"ticks\":\"\"}},\"title\":{\"x\":0.05},\"xaxis\":{\"automargin\":true,\"gridcolor\":\"white\",\"linecolor\":\"white\",\"ticks\":\"\",\"title\":{\"standoff\":15},\"zerolinecolor\":\"white\",\"zerolinewidth\":2},\"yaxis\":{\"automargin\":true,\"gridcolor\":\"white\",\"linecolor\":\"white\",\"ticks\":\"\",\"title\":{\"standoff\":15},\"zerolinecolor\":\"white\",\"zerolinewidth\":2}}},\"title\":{\"text\":\"Considered period to predict Stock close price\"},\"xaxis\":{\"anchor\":\"y\",\"domain\":[0.0,1.0],\"showgrid\":false,\"title\":{\"text\":\"Date\"}},\"yaxis\":{\"anchor\":\"x\",\"domain\":[0.0,1.0],\"showgrid\":false,\"title\":{\"text\":\"Close Stock\"}}},                        {\"responsive\": true}                    ).then(function(){\n",
              "                            \n",
              "var gd = document.getElementById('39b18a67-850f-43f2-9a4f-670783686d9f');\n",
              "var x = new MutationObserver(function (mutations, observer) {{\n",
              "        var display = window.getComputedStyle(gd).display;\n",
              "        if (!display || display === 'none') {{\n",
              "            console.log([gd, 'removed!']);\n",
              "            Plotly.purge(gd);\n",
              "            observer.disconnect();\n",
              "        }}\n",
              "}});\n",
              "\n",
              "// Listen for the removal of the full notebook cells\n",
              "var notebookContainer = gd.closest('#notebook-container');\n",
              "if (notebookContainer) {{\n",
              "    x.observe(notebookContainer, {childList: true});\n",
              "}}\n",
              "\n",
              "// Listen for the clearing of the current output cell\n",
              "var outputEl = gd.closest('.output');\n",
              "if (outputEl) {{\n",
              "    x.observe(outputEl, {childList: true});\n",
              "}}\n",
              "\n",
              "                        })                };                            </script>        </div>\n",
              "</body>\n",
              "</html>"
            ]
          },
          "metadata": {}
        }
      ]
    },
    {
      "cell_type": "code",
      "metadata": {
        "colab": {
          "base_uri": "https://localhost:8080/"
        },
        "id": "tNrWNIFLmaJF",
        "outputId": "ca361072-f86f-4169-f510-4a64ae2c3e73"
      },
      "source": [
        "#Normalizing close price\n",
        "del closedf['date']\n",
        "scaler=MinMaxScaler(feature_range=(0,1))\n",
        "closedf=scaler.fit_transform(np.array(closedf).reshape(-1,1))\n",
        "print(closedf.shape)"
      ],
      "execution_count": null,
      "outputs": [
        {
          "output_type": "stream",
          "name": "stdout",
          "text": [
            "(252, 1)\n"
          ]
        }
      ]
    },
    {
      "cell_type": "code",
      "metadata": {
        "colab": {
          "base_uri": "https://localhost:8080/"
        },
        "id": "1gI5DWgAnXco",
        "outputId": "36015ad5-0274-4274-ccec-cf1cf229f4f0"
      },
      "source": [
        "#prepare data for training and testing\n",
        "training_size=int(len(closedf)*0.60)\n",
        "test_size=len(closedf)-training_size\n",
        "train_data,test_data=closedf[0:training_size,:],closedf[training_size:len(closedf),:1]\n",
        "print(\"train_data: \", train_data.shape)\n",
        "print(\"test_data: \", test_data.shape)"
      ],
      "execution_count": null,
      "outputs": [
        {
          "output_type": "stream",
          "name": "stdout",
          "text": [
            "train_data:  (151, 1)\n",
            "test_data:  (101, 1)\n"
          ]
        }
      ]
    },
    {
      "cell_type": "markdown",
      "metadata": {
        "id": "m-YvZiEYnuDH"
      },
      "source": [
        "Transform Close price base on Time-series-analysis forecasting requirement"
      ]
    },
    {
      "cell_type": "code",
      "metadata": {
        "id": "qphKn7lOnnuz"
      },
      "source": [
        "# convert an array of values into a dataset matrix\n",
        "def create_dataset(dataset, time_step=1):\n",
        "    dataX, dataY = [], []\n",
        "    for i in range(len(dataset)-time_step-1):\n",
        "        a = dataset[i:(i+time_step), 0]   ###i=0, 0,1,2,3-----99   100 \n",
        "        dataX.append(a)\n",
        "        dataY.append(dataset[i + time_step, 0])\n",
        "    return np.array(dataX), np.array(dataY)"
      ],
      "execution_count": null,
      "outputs": []
    },
    {
      "cell_type": "code",
      "metadata": {
        "colab": {
          "base_uri": "https://localhost:8080/"
        },
        "id": "MXYLrat_n0Li",
        "outputId": "7b6a843b-8930-4fd3-9505-3be923508480"
      },
      "source": [
        "time_step = 15\n",
        "X_train, y_train = create_dataset(train_data, time_step)\n",
        "X_test, y_test = create_dataset(test_data, time_step)\n",
        "\n",
        "print(\"X_train: \", X_train.shape)\n",
        "print(\"y_train: \", y_train.shape)\n",
        "print(\"X_test: \", X_test.shape)\n",
        "print(\"y_test\", y_test.shape)"
      ],
      "execution_count": null,
      "outputs": [
        {
          "output_type": "stream",
          "name": "stdout",
          "text": [
            "X_train:  (135, 15)\n",
            "y_train:  (135,)\n",
            "X_test:  (85, 15)\n",
            "y_test (85,)\n"
          ]
        }
      ]
    },
    {
      "cell_type": "code",
      "metadata": {
        "colab": {
          "base_uri": "https://localhost:8080/"
        },
        "id": "DCmd4rgnn49P",
        "outputId": "74100bb9-a28a-4291-c7c8-c4667aed313f"
      },
      "source": [
        "# reshape input to be [samples, time steps, features] which is required for LSTM\n",
        "X_train =X_train.reshape(X_train.shape[0],X_train.shape[1] , 1)\n",
        "X_test = X_test.reshape(X_test.shape[0],X_test.shape[1] , 1)\n",
        "\n",
        "print(\"X_train: \", X_train.shape)\n",
        "print(\"X_test: \", X_test.shape)"
      ],
      "execution_count": null,
      "outputs": [
        {
          "output_type": "stream",
          "name": "stdout",
          "text": [
            "X_train:  (135, 15, 1)\n",
            "X_test:  (85, 15, 1)\n"
          ]
        }
      ]
    },
    {
      "cell_type": "code",
      "metadata": {
        "id": "br3aSWI6n_9W"
      },
      "source": [
        "tf.keras.backend.clear_session()\n",
        "model=Sequential()\n",
        "model.add(GRU(32,return_sequences=True,input_shape=(time_step,1)))\n",
        "model.add(GRU(32,return_sequences=True))\n",
        "model.add(GRU(32))\n",
        "model.add(Dropout(0.20))\n",
        "model.add(Dense(1))\n",
        "model.compile(loss='mean_squared_error',optimizer='adam')"
      ],
      "execution_count": null,
      "outputs": []
    },
    {
      "cell_type": "code",
      "metadata": {
        "colab": {
          "base_uri": "https://localhost:8080/"
        },
        "id": "xRN670bwoaju",
        "outputId": "d2a6f12c-e5b1-4a01-f4a2-13e35c5ca013"
      },
      "source": [
        "model.summary()"
      ],
      "execution_count": null,
      "outputs": [
        {
          "output_type": "stream",
          "name": "stdout",
          "text": [
            "Model: \"sequential\"\n",
            "_________________________________________________________________\n",
            "Layer (type)                 Output Shape              Param #   \n",
            "=================================================================\n",
            "gru (GRU)                    (None, 15, 32)            3360      \n",
            "_________________________________________________________________\n",
            "gru_1 (GRU)                  (None, 15, 32)            6336      \n",
            "_________________________________________________________________\n",
            "gru_2 (GRU)                  (None, 32)                6336      \n",
            "_________________________________________________________________\n",
            "dropout (Dropout)            (None, 32)                0         \n",
            "_________________________________________________________________\n",
            "dense (Dense)                (None, 1)                 33        \n",
            "=================================================================\n",
            "Total params: 16,065\n",
            "Trainable params: 16,065\n",
            "Non-trainable params: 0\n",
            "_________________________________________________________________\n"
          ]
        }
      ]
    },
    {
      "cell_type": "code",
      "metadata": {
        "colab": {
          "base_uri": "https://localhost:8080/"
        },
        "id": "0RRtWtkVoiRB",
        "outputId": "59d4b3ae-788c-4b71-f85f-0488dacc3f3d"
      },
      "source": [
        "history = model.fit(X_train,y_train,validation_data=(X_test,y_test),epochs=200,batch_size=32,verbose=1)"
      ],
      "execution_count": null,
      "outputs": [
        {
          "output_type": "stream",
          "name": "stdout",
          "text": [
            "Epoch 1/200\n",
            "5/5 [==============================] - 6s 276ms/step - loss: 0.0681 - val_loss: 0.0598\n",
            "Epoch 2/200\n",
            "5/5 [==============================] - 0s 30ms/step - loss: 0.0195 - val_loss: 0.0055\n",
            "Epoch 3/200\n",
            "5/5 [==============================] - 0s 32ms/step - loss: 0.0201 - val_loss: 0.0214\n",
            "Epoch 4/200\n",
            "5/5 [==============================] - 0s 30ms/step - loss: 0.0122 - val_loss: 0.0577\n",
            "Epoch 5/200\n",
            "5/5 [==============================] - 0s 32ms/step - loss: 0.0143 - val_loss: 0.0449\n",
            "Epoch 6/200\n",
            "5/5 [==============================] - 0s 31ms/step - loss: 0.0120 - val_loss: 0.0195\n",
            "Epoch 7/200\n",
            "5/5 [==============================] - 0s 30ms/step - loss: 0.0107 - val_loss: 0.0121\n",
            "Epoch 8/200\n",
            "5/5 [==============================] - 0s 31ms/step - loss: 0.0096 - val_loss: 0.0138\n",
            "Epoch 9/200\n",
            "5/5 [==============================] - 0s 29ms/step - loss: 0.0110 - val_loss: 0.0213\n",
            "Epoch 10/200\n",
            "5/5 [==============================] - 0s 31ms/step - loss: 0.0090 - val_loss: 0.0134\n",
            "Epoch 11/200\n",
            "5/5 [==============================] - 0s 29ms/step - loss: 0.0082 - val_loss: 0.0108\n",
            "Epoch 12/200\n",
            "5/5 [==============================] - 0s 31ms/step - loss: 0.0079 - val_loss: 0.0103\n",
            "Epoch 13/200\n",
            "5/5 [==============================] - 0s 31ms/step - loss: 0.0074 - val_loss: 0.0088\n",
            "Epoch 14/200\n",
            "5/5 [==============================] - 0s 32ms/step - loss: 0.0084 - val_loss: 0.0072\n",
            "Epoch 15/200\n",
            "5/5 [==============================] - 0s 28ms/step - loss: 0.0072 - val_loss: 0.0052\n",
            "Epoch 16/200\n",
            "5/5 [==============================] - 0s 29ms/step - loss: 0.0084 - val_loss: 0.0067\n",
            "Epoch 17/200\n",
            "5/5 [==============================] - 0s 31ms/step - loss: 0.0080 - val_loss: 0.0078\n",
            "Epoch 18/200\n",
            "5/5 [==============================] - 0s 34ms/step - loss: 0.0080 - val_loss: 0.0052\n",
            "Epoch 19/200\n",
            "5/5 [==============================] - 0s 29ms/step - loss: 0.0074 - val_loss: 0.0030\n",
            "Epoch 20/200\n",
            "5/5 [==============================] - 0s 31ms/step - loss: 0.0064 - val_loss: 0.0081\n",
            "Epoch 21/200\n",
            "5/5 [==============================] - 0s 31ms/step - loss: 0.0072 - val_loss: 0.0068\n",
            "Epoch 22/200\n",
            "5/5 [==============================] - 0s 30ms/step - loss: 0.0062 - val_loss: 0.0047\n",
            "Epoch 23/200\n",
            "5/5 [==============================] - 0s 30ms/step - loss: 0.0062 - val_loss: 0.0067\n",
            "Epoch 24/200\n",
            "5/5 [==============================] - 0s 32ms/step - loss: 0.0075 - val_loss: 0.0065\n",
            "Epoch 25/200\n",
            "5/5 [==============================] - 0s 31ms/step - loss: 0.0069 - val_loss: 0.0036\n",
            "Epoch 26/200\n",
            "5/5 [==============================] - 0s 31ms/step - loss: 0.0062 - val_loss: 0.0062\n",
            "Epoch 27/200\n",
            "5/5 [==============================] - 0s 30ms/step - loss: 0.0062 - val_loss: 0.0073\n",
            "Epoch 28/200\n",
            "5/5 [==============================] - 0s 31ms/step - loss: 0.0064 - val_loss: 0.0051\n",
            "Epoch 29/200\n",
            "5/5 [==============================] - 0s 31ms/step - loss: 0.0064 - val_loss: 0.0035\n",
            "Epoch 30/200\n",
            "5/5 [==============================] - 0s 29ms/step - loss: 0.0059 - val_loss: 0.0059\n",
            "Epoch 31/200\n",
            "5/5 [==============================] - 0s 30ms/step - loss: 0.0062 - val_loss: 0.0053\n",
            "Epoch 32/200\n",
            "5/5 [==============================] - 0s 30ms/step - loss: 0.0056 - val_loss: 0.0052\n",
            "Epoch 33/200\n",
            "5/5 [==============================] - 0s 35ms/step - loss: 0.0061 - val_loss: 0.0023\n",
            "Epoch 34/200\n",
            "5/5 [==============================] - 0s 36ms/step - loss: 0.0057 - val_loss: 0.0050\n",
            "Epoch 35/200\n",
            "5/5 [==============================] - 0s 31ms/step - loss: 0.0068 - val_loss: 0.0054\n",
            "Epoch 36/200\n",
            "5/5 [==============================] - 0s 32ms/step - loss: 0.0056 - val_loss: 0.0048\n",
            "Epoch 37/200\n",
            "5/5 [==============================] - 0s 29ms/step - loss: 0.0064 - val_loss: 0.0031\n",
            "Epoch 38/200\n",
            "5/5 [==============================] - 0s 30ms/step - loss: 0.0056 - val_loss: 0.0043\n",
            "Epoch 39/200\n",
            "5/5 [==============================] - 0s 34ms/step - loss: 0.0056 - val_loss: 0.0036\n",
            "Epoch 40/200\n",
            "5/5 [==============================] - 0s 33ms/step - loss: 0.0058 - val_loss: 0.0039\n",
            "Epoch 41/200\n",
            "5/5 [==============================] - 0s 29ms/step - loss: 0.0060 - val_loss: 0.0077\n",
            "Epoch 42/200\n",
            "5/5 [==============================] - 0s 31ms/step - loss: 0.0051 - val_loss: 0.0064\n",
            "Epoch 43/200\n",
            "5/5 [==============================] - 0s 29ms/step - loss: 0.0060 - val_loss: 0.0069\n",
            "Epoch 44/200\n",
            "5/5 [==============================] - 0s 32ms/step - loss: 0.0051 - val_loss: 0.0036\n",
            "Epoch 45/200\n",
            "5/5 [==============================] - 0s 29ms/step - loss: 0.0059 - val_loss: 0.0057\n",
            "Epoch 46/200\n",
            "5/5 [==============================] - 0s 30ms/step - loss: 0.0059 - val_loss: 0.0032\n",
            "Epoch 47/200\n",
            "5/5 [==============================] - 0s 30ms/step - loss: 0.0044 - val_loss: 0.0034\n",
            "Epoch 48/200\n",
            "5/5 [==============================] - 0s 30ms/step - loss: 0.0050 - val_loss: 0.0043\n",
            "Epoch 49/200\n",
            "5/5 [==============================] - 0s 31ms/step - loss: 0.0052 - val_loss: 0.0017\n",
            "Epoch 50/200\n",
            "5/5 [==============================] - 0s 32ms/step - loss: 0.0056 - val_loss: 0.0037\n",
            "Epoch 51/200\n",
            "5/5 [==============================] - 0s 31ms/step - loss: 0.0043 - val_loss: 0.0033\n",
            "Epoch 52/200\n",
            "5/5 [==============================] - 0s 32ms/step - loss: 0.0047 - val_loss: 0.0031\n",
            "Epoch 53/200\n",
            "5/5 [==============================] - 0s 30ms/step - loss: 0.0041 - val_loss: 0.0018\n",
            "Epoch 54/200\n",
            "5/5 [==============================] - 0s 30ms/step - loss: 0.0050 - val_loss: 0.0059\n",
            "Epoch 55/200\n",
            "5/5 [==============================] - 0s 30ms/step - loss: 0.0052 - val_loss: 0.0039\n",
            "Epoch 56/200\n",
            "5/5 [==============================] - 0s 30ms/step - loss: 0.0044 - val_loss: 0.0029\n",
            "Epoch 57/200\n",
            "5/5 [==============================] - 0s 30ms/step - loss: 0.0044 - val_loss: 0.0045\n",
            "Epoch 58/200\n",
            "5/5 [==============================] - 0s 30ms/step - loss: 0.0042 - val_loss: 0.0023\n",
            "Epoch 59/200\n",
            "5/5 [==============================] - 0s 30ms/step - loss: 0.0048 - val_loss: 0.0060\n",
            "Epoch 60/200\n",
            "5/5 [==============================] - 0s 35ms/step - loss: 0.0047 - val_loss: 0.0016\n",
            "Epoch 61/200\n",
            "5/5 [==============================] - 0s 30ms/step - loss: 0.0051 - val_loss: 0.0033\n",
            "Epoch 62/200\n",
            "5/5 [==============================] - 0s 32ms/step - loss: 0.0041 - val_loss: 0.0048\n",
            "Epoch 63/200\n",
            "5/5 [==============================] - 0s 32ms/step - loss: 0.0036 - val_loss: 0.0046\n",
            "Epoch 64/200\n",
            "5/5 [==============================] - 0s 29ms/step - loss: 0.0042 - val_loss: 0.0028\n",
            "Epoch 65/200\n",
            "5/5 [==============================] - 0s 29ms/step - loss: 0.0045 - val_loss: 0.0050\n",
            "Epoch 66/200\n",
            "5/5 [==============================] - 0s 30ms/step - loss: 0.0039 - val_loss: 0.0016\n",
            "Epoch 67/200\n",
            "5/5 [==============================] - 0s 33ms/step - loss: 0.0044 - val_loss: 0.0042\n",
            "Epoch 68/200\n",
            "5/5 [==============================] - 0s 29ms/step - loss: 0.0047 - val_loss: 0.0016\n",
            "Epoch 69/200\n",
            "5/5 [==============================] - 0s 30ms/step - loss: 0.0040 - val_loss: 0.0064\n",
            "Epoch 70/200\n",
            "5/5 [==============================] - 0s 32ms/step - loss: 0.0043 - val_loss: 0.0028\n",
            "Epoch 71/200\n",
            "5/5 [==============================] - 0s 31ms/step - loss: 0.0041 - val_loss: 0.0034\n",
            "Epoch 72/200\n",
            "5/5 [==============================] - 0s 36ms/step - loss: 0.0039 - val_loss: 0.0022\n",
            "Epoch 73/200\n",
            "5/5 [==============================] - 0s 33ms/step - loss: 0.0041 - val_loss: 0.0074\n",
            "Epoch 74/200\n",
            "5/5 [==============================] - 0s 32ms/step - loss: 0.0050 - val_loss: 0.0016\n",
            "Epoch 75/200\n",
            "5/5 [==============================] - 0s 31ms/step - loss: 0.0042 - val_loss: 0.0079\n",
            "Epoch 76/200\n",
            "5/5 [==============================] - 0s 30ms/step - loss: 0.0064 - val_loss: 0.0028\n",
            "Epoch 77/200\n",
            "5/5 [==============================] - 0s 29ms/step - loss: 0.0051 - val_loss: 0.0014\n",
            "Epoch 78/200\n",
            "5/5 [==============================] - 0s 31ms/step - loss: 0.0042 - val_loss: 0.0088\n",
            "Epoch 79/200\n",
            "5/5 [==============================] - 0s 33ms/step - loss: 0.0047 - val_loss: 0.0024\n",
            "Epoch 80/200\n",
            "5/5 [==============================] - 0s 33ms/step - loss: 0.0046 - val_loss: 0.0020\n",
            "Epoch 81/200\n",
            "5/5 [==============================] - 0s 29ms/step - loss: 0.0049 - val_loss: 0.0036\n",
            "Epoch 82/200\n",
            "5/5 [==============================] - 0s 30ms/step - loss: 0.0038 - val_loss: 0.0025\n",
            "Epoch 83/200\n",
            "5/5 [==============================] - 0s 29ms/step - loss: 0.0041 - val_loss: 0.0051\n",
            "Epoch 84/200\n",
            "5/5 [==============================] - 0s 30ms/step - loss: 0.0038 - val_loss: 0.0017\n",
            "Epoch 85/200\n",
            "5/5 [==============================] - 0s 31ms/step - loss: 0.0041 - val_loss: 0.0037\n",
            "Epoch 86/200\n",
            "5/5 [==============================] - 0s 33ms/step - loss: 0.0036 - val_loss: 0.0018\n",
            "Epoch 87/200\n",
            "5/5 [==============================] - 0s 31ms/step - loss: 0.0049 - val_loss: 0.0031\n",
            "Epoch 88/200\n",
            "5/5 [==============================] - 0s 30ms/step - loss: 0.0038 - val_loss: 0.0061\n",
            "Epoch 89/200\n",
            "5/5 [==============================] - 0s 30ms/step - loss: 0.0041 - val_loss: 0.0027\n",
            "Epoch 90/200\n",
            "5/5 [==============================] - 0s 30ms/step - loss: 0.0039 - val_loss: 0.0052\n",
            "Epoch 91/200\n",
            "5/5 [==============================] - 0s 32ms/step - loss: 0.0033 - val_loss: 0.0037\n",
            "Epoch 92/200\n",
            "5/5 [==============================] - 0s 30ms/step - loss: 0.0034 - val_loss: 0.0025\n",
            "Epoch 93/200\n",
            "5/5 [==============================] - 0s 32ms/step - loss: 0.0039 - val_loss: 0.0071\n",
            "Epoch 94/200\n",
            "5/5 [==============================] - 0s 31ms/step - loss: 0.0039 - val_loss: 0.0049\n",
            "Epoch 95/200\n",
            "5/5 [==============================] - 0s 35ms/step - loss: 0.0041 - val_loss: 0.0046\n",
            "Epoch 96/200\n",
            "5/5 [==============================] - 0s 31ms/step - loss: 0.0045 - val_loss: 0.0019\n",
            "Epoch 97/200\n",
            "5/5 [==============================] - 0s 31ms/step - loss: 0.0034 - val_loss: 0.0104\n",
            "Epoch 98/200\n",
            "5/5 [==============================] - 0s 33ms/step - loss: 0.0043 - val_loss: 0.0018\n",
            "Epoch 99/200\n",
            "5/5 [==============================] - 0s 36ms/step - loss: 0.0042 - val_loss: 0.0047\n",
            "Epoch 100/200\n",
            "5/5 [==============================] - 0s 34ms/step - loss: 0.0044 - val_loss: 0.0041\n",
            "Epoch 101/200\n",
            "5/5 [==============================] - 0s 33ms/step - loss: 0.0036 - val_loss: 0.0015\n",
            "Epoch 102/200\n",
            "5/5 [==============================] - 0s 32ms/step - loss: 0.0037 - val_loss: 0.0071\n",
            "Epoch 103/200\n",
            "5/5 [==============================] - 0s 29ms/step - loss: 0.0041 - val_loss: 0.0015\n",
            "Epoch 104/200\n",
            "5/5 [==============================] - 0s 30ms/step - loss: 0.0038 - val_loss: 0.0029\n",
            "Epoch 105/200\n",
            "5/5 [==============================] - 0s 30ms/step - loss: 0.0041 - val_loss: 0.0040\n",
            "Epoch 106/200\n",
            "5/5 [==============================] - 0s 32ms/step - loss: 0.0040 - val_loss: 0.0023\n",
            "Epoch 107/200\n",
            "5/5 [==============================] - 0s 31ms/step - loss: 0.0036 - val_loss: 0.0070\n",
            "Epoch 108/200\n",
            "5/5 [==============================] - 0s 31ms/step - loss: 0.0044 - val_loss: 0.0025\n",
            "Epoch 109/200\n",
            "5/5 [==============================] - 0s 30ms/step - loss: 0.0035 - val_loss: 0.0023\n",
            "Epoch 110/200\n",
            "5/5 [==============================] - 0s 29ms/step - loss: 0.0030 - val_loss: 0.0052\n",
            "Epoch 111/200\n",
            "5/5 [==============================] - 0s 30ms/step - loss: 0.0041 - val_loss: 0.0032\n",
            "Epoch 112/200\n",
            "5/5 [==============================] - 0s 31ms/step - loss: 0.0034 - val_loss: 0.0026\n",
            "Epoch 113/200\n",
            "5/5 [==============================] - 0s 31ms/step - loss: 0.0036 - val_loss: 0.0038\n",
            "Epoch 114/200\n",
            "5/5 [==============================] - 0s 30ms/step - loss: 0.0038 - val_loss: 0.0023\n",
            "Epoch 115/200\n",
            "5/5 [==============================] - 0s 32ms/step - loss: 0.0039 - val_loss: 0.0025\n",
            "Epoch 116/200\n",
            "5/5 [==============================] - 0s 32ms/step - loss: 0.0035 - val_loss: 0.0040\n",
            "Epoch 117/200\n",
            "5/5 [==============================] - 0s 29ms/step - loss: 0.0048 - val_loss: 0.0013\n",
            "Epoch 118/200\n",
            "5/5 [==============================] - 0s 31ms/step - loss: 0.0040 - val_loss: 0.0066\n",
            "Epoch 119/200\n",
            "5/5 [==============================] - 0s 30ms/step - loss: 0.0039 - val_loss: 0.0022\n",
            "Epoch 120/200\n",
            "5/5 [==============================] - 0s 31ms/step - loss: 0.0040 - val_loss: 0.0052\n",
            "Epoch 121/200\n",
            "5/5 [==============================] - 0s 30ms/step - loss: 0.0034 - val_loss: 0.0038\n",
            "Epoch 122/200\n",
            "5/5 [==============================] - 0s 31ms/step - loss: 0.0033 - val_loss: 0.0053\n",
            "Epoch 123/200\n",
            "5/5 [==============================] - 0s 29ms/step - loss: 0.0036 - val_loss: 0.0033\n",
            "Epoch 124/200\n",
            "5/5 [==============================] - 0s 30ms/step - loss: 0.0034 - val_loss: 0.0028\n",
            "Epoch 125/200\n",
            "5/5 [==============================] - 0s 31ms/step - loss: 0.0035 - val_loss: 0.0045\n",
            "Epoch 126/200\n",
            "5/5 [==============================] - 0s 30ms/step - loss: 0.0041 - val_loss: 0.0029\n",
            "Epoch 127/200\n",
            "5/5 [==============================] - 0s 30ms/step - loss: 0.0036 - val_loss: 0.0028\n",
            "Epoch 128/200\n",
            "5/5 [==============================] - 0s 32ms/step - loss: 0.0032 - val_loss: 0.0023\n",
            "Epoch 129/200\n",
            "5/5 [==============================] - 0s 34ms/step - loss: 0.0039 - val_loss: 0.0025\n",
            "Epoch 130/200\n",
            "5/5 [==============================] - 0s 33ms/step - loss: 0.0033 - val_loss: 0.0020\n",
            "Epoch 131/200\n",
            "5/5 [==============================] - 0s 34ms/step - loss: 0.0037 - val_loss: 0.0033\n",
            "Epoch 132/200\n",
            "5/5 [==============================] - 0s 31ms/step - loss: 0.0034 - val_loss: 0.0034\n",
            "Epoch 133/200\n",
            "5/5 [==============================] - 0s 31ms/step - loss: 0.0033 - val_loss: 0.0021\n",
            "Epoch 134/200\n",
            "5/5 [==============================] - 0s 31ms/step - loss: 0.0037 - val_loss: 0.0031\n",
            "Epoch 135/200\n",
            "5/5 [==============================] - 0s 32ms/step - loss: 0.0032 - val_loss: 0.0019\n",
            "Epoch 136/200\n",
            "5/5 [==============================] - 0s 31ms/step - loss: 0.0034 - val_loss: 0.0039\n",
            "Epoch 137/200\n",
            "5/5 [==============================] - 0s 33ms/step - loss: 0.0034 - val_loss: 0.0027\n",
            "Epoch 138/200\n",
            "5/5 [==============================] - 0s 30ms/step - loss: 0.0036 - val_loss: 0.0024\n",
            "Epoch 139/200\n",
            "5/5 [==============================] - 0s 32ms/step - loss: 0.0040 - val_loss: 0.0028\n",
            "Epoch 140/200\n",
            "5/5 [==============================] - 0s 31ms/step - loss: 0.0035 - val_loss: 0.0052\n",
            "Epoch 141/200\n",
            "5/5 [==============================] - 0s 30ms/step - loss: 0.0041 - val_loss: 0.0015\n",
            "Epoch 142/200\n",
            "5/5 [==============================] - 0s 31ms/step - loss: 0.0041 - val_loss: 0.0043\n",
            "Epoch 143/200\n",
            "5/5 [==============================] - 0s 29ms/step - loss: 0.0039 - val_loss: 0.0027\n",
            "Epoch 144/200\n",
            "5/5 [==============================] - 0s 30ms/step - loss: 0.0033 - val_loss: 0.0018\n",
            "Epoch 145/200\n",
            "5/5 [==============================] - 0s 29ms/step - loss: 0.0033 - val_loss: 0.0036\n",
            "Epoch 146/200\n",
            "5/5 [==============================] - 0s 32ms/step - loss: 0.0039 - val_loss: 0.0015\n",
            "Epoch 147/200\n",
            "5/5 [==============================] - 0s 29ms/step - loss: 0.0039 - val_loss: 0.0027\n",
            "Epoch 148/200\n",
            "5/5 [==============================] - 0s 30ms/step - loss: 0.0034 - val_loss: 0.0023\n",
            "Epoch 149/200\n",
            "5/5 [==============================] - 0s 31ms/step - loss: 0.0036 - val_loss: 0.0033\n",
            "Epoch 150/200\n",
            "5/5 [==============================] - 0s 30ms/step - loss: 0.0033 - val_loss: 0.0019\n",
            "Epoch 151/200\n",
            "5/5 [==============================] - 0s 29ms/step - loss: 0.0033 - val_loss: 0.0064\n",
            "Epoch 152/200\n",
            "5/5 [==============================] - 0s 31ms/step - loss: 0.0036 - val_loss: 0.0027\n",
            "Epoch 153/200\n",
            "5/5 [==============================] - 0s 34ms/step - loss: 0.0040 - val_loss: 0.0043\n",
            "Epoch 154/200\n",
            "5/5 [==============================] - 0s 30ms/step - loss: 0.0043 - val_loss: 0.0067\n",
            "Epoch 155/200\n",
            "5/5 [==============================] - 0s 31ms/step - loss: 0.0032 - val_loss: 0.0013\n",
            "Epoch 156/200\n",
            "5/5 [==============================] - 0s 29ms/step - loss: 0.0040 - val_loss: 0.0037\n",
            "Epoch 157/200\n",
            "5/5 [==============================] - 0s 31ms/step - loss: 0.0043 - val_loss: 0.0027\n",
            "Epoch 158/200\n",
            "5/5 [==============================] - 0s 30ms/step - loss: 0.0041 - val_loss: 0.0014\n",
            "Epoch 159/200\n",
            "5/5 [==============================] - 0s 33ms/step - loss: 0.0035 - val_loss: 0.0041\n",
            "Epoch 160/200\n",
            "5/5 [==============================] - 0s 30ms/step - loss: 0.0036 - val_loss: 0.0019\n",
            "Epoch 161/200\n",
            "5/5 [==============================] - 0s 31ms/step - loss: 0.0037 - val_loss: 0.0037\n",
            "Epoch 162/200\n",
            "5/5 [==============================] - 0s 31ms/step - loss: 0.0038 - val_loss: 0.0049\n",
            "Epoch 163/200\n",
            "5/5 [==============================] - 0s 30ms/step - loss: 0.0038 - val_loss: 0.0019\n",
            "Epoch 164/200\n",
            "5/5 [==============================] - 0s 31ms/step - loss: 0.0043 - val_loss: 0.0029\n",
            "Epoch 165/200\n",
            "5/5 [==============================] - 0s 31ms/step - loss: 0.0036 - val_loss: 0.0035\n",
            "Epoch 166/200\n",
            "5/5 [==============================] - 0s 32ms/step - loss: 0.0035 - val_loss: 0.0030\n",
            "Epoch 167/200\n",
            "5/5 [==============================] - 0s 29ms/step - loss: 0.0035 - val_loss: 0.0039\n",
            "Epoch 168/200\n",
            "5/5 [==============================] - 0s 31ms/step - loss: 0.0040 - val_loss: 0.0041\n",
            "Epoch 169/200\n",
            "5/5 [==============================] - 0s 33ms/step - loss: 0.0047 - val_loss: 0.0018\n",
            "Epoch 170/200\n",
            "5/5 [==============================] - 0s 30ms/step - loss: 0.0032 - val_loss: 0.0068\n",
            "Epoch 171/200\n",
            "5/5 [==============================] - 0s 29ms/step - loss: 0.0040 - val_loss: 0.0018\n",
            "Epoch 172/200\n",
            "5/5 [==============================] - 0s 32ms/step - loss: 0.0038 - val_loss: 0.0027\n",
            "Epoch 173/200\n",
            "5/5 [==============================] - 0s 34ms/step - loss: 0.0040 - val_loss: 0.0022\n",
            "Epoch 174/200\n",
            "5/5 [==============================] - 0s 32ms/step - loss: 0.0032 - val_loss: 0.0018\n",
            "Epoch 175/200\n",
            "5/5 [==============================] - 0s 30ms/step - loss: 0.0034 - val_loss: 0.0024\n",
            "Epoch 176/200\n",
            "5/5 [==============================] - 0s 32ms/step - loss: 0.0035 - val_loss: 0.0017\n",
            "Epoch 177/200\n",
            "5/5 [==============================] - 0s 31ms/step - loss: 0.0035 - val_loss: 0.0025\n",
            "Epoch 178/200\n",
            "5/5 [==============================] - 0s 34ms/step - loss: 0.0037 - val_loss: 0.0013\n",
            "Epoch 179/200\n",
            "5/5 [==============================] - 0s 34ms/step - loss: 0.0040 - val_loss: 0.0031\n",
            "Epoch 180/200\n",
            "5/5 [==============================] - 0s 31ms/step - loss: 0.0037 - val_loss: 0.0029\n",
            "Epoch 181/200\n",
            "5/5 [==============================] - 0s 38ms/step - loss: 0.0041 - val_loss: 0.0019\n",
            "Epoch 182/200\n",
            "5/5 [==============================] - 0s 29ms/step - loss: 0.0032 - val_loss: 0.0051\n",
            "Epoch 183/200\n",
            "5/5 [==============================] - 0s 30ms/step - loss: 0.0040 - val_loss: 0.0022\n",
            "Epoch 184/200\n",
            "5/5 [==============================] - 0s 36ms/step - loss: 0.0037 - val_loss: 0.0021\n",
            "Epoch 185/200\n",
            "5/5 [==============================] - 0s 34ms/step - loss: 0.0029 - val_loss: 0.0048\n",
            "Epoch 186/200\n",
            "5/5 [==============================] - 0s 29ms/step - loss: 0.0035 - val_loss: 0.0019\n",
            "Epoch 187/200\n",
            "5/5 [==============================] - 0s 31ms/step - loss: 0.0041 - val_loss: 0.0034\n",
            "Epoch 188/200\n",
            "5/5 [==============================] - 0s 34ms/step - loss: 0.0035 - val_loss: 0.0055\n",
            "Epoch 189/200\n",
            "5/5 [==============================] - 0s 30ms/step - loss: 0.0038 - val_loss: 0.0018\n",
            "Epoch 190/200\n",
            "5/5 [==============================] - 0s 31ms/step - loss: 0.0038 - val_loss: 0.0042\n",
            "Epoch 191/200\n",
            "5/5 [==============================] - 0s 30ms/step - loss: 0.0037 - val_loss: 0.0016\n",
            "Epoch 192/200\n",
            "5/5 [==============================] - 0s 33ms/step - loss: 0.0038 - val_loss: 0.0022\n",
            "Epoch 193/200\n",
            "5/5 [==============================] - 0s 32ms/step - loss: 0.0041 - val_loss: 0.0030\n",
            "Epoch 194/200\n",
            "5/5 [==============================] - 0s 32ms/step - loss: 0.0034 - val_loss: 0.0016\n",
            "Epoch 195/200\n",
            "5/5 [==============================] - 0s 36ms/step - loss: 0.0031 - val_loss: 0.0039\n",
            "Epoch 196/200\n",
            "5/5 [==============================] - 0s 32ms/step - loss: 0.0031 - val_loss: 0.0027\n",
            "Epoch 197/200\n",
            "5/5 [==============================] - 0s 29ms/step - loss: 0.0032 - val_loss: 0.0026\n",
            "Epoch 198/200\n",
            "5/5 [==============================] - 0s 36ms/step - loss: 0.0034 - val_loss: 0.0044\n",
            "Epoch 199/200\n",
            "5/5 [==============================] - 0s 30ms/step - loss: 0.0029 - val_loss: 0.0024\n",
            "Epoch 200/200\n",
            "5/5 [==============================] - 0s 34ms/step - loss: 0.0034 - val_loss: 0.0030\n"
          ]
        }
      ]
    },
    {
      "cell_type": "markdown",
      "metadata": {
        "id": "y66h3HT4phS1"
      },
      "source": [
        "Plot the loss chart"
      ]
    },
    {
      "cell_type": "code",
      "metadata": {
        "colab": {
          "base_uri": "https://localhost:8080/",
          "height": 298
        },
        "id": "7GGSPiTYpbKw",
        "outputId": "2d4a04d1-9d87-4332-db5e-b462643d60b1"
      },
      "source": [
        "\n",
        "import matplotlib.pyplot as plt\n",
        "\n",
        "loss = history.history['loss']\n",
        "val_loss = history.history['val_loss']\n",
        "\n",
        "epochs = range(len(loss))\n",
        "\n",
        "plt.plot(epochs, loss, 'r', label='Training loss')\n",
        "plt.plot(epochs, val_loss, 'b', label='Validation loss')\n",
        "plt.title('Training and validation loss')\n",
        "plt.legend(loc=0)\n",
        "plt.figure()\n",
        "\n",
        "\n",
        "plt.show()"
      ],
      "execution_count": null,
      "outputs": [
        {
          "output_type": "display_data",
          "data": {
            "image/png": "[encoded data removed]",
            "text/plain": [
              "<Figure size 432x288 with 1 Axes>"
            ]
          },
          "metadata": {
            "needs_background": "light"
          }
        },
        {
          "output_type": "display_data",
          "data": {
            "text/plain": [
              "<Figure size 432x288 with 0 Axes>"
            ]
          },
          "metadata": {}
        }
      ]
    },
    {
      "cell_type": "code",
      "metadata": {
        "colab": {
          "base_uri": "https://localhost:8080/"
        },
        "id": "lMgRXvHNpj1T",
        "outputId": "8cf205f1-acc9-4736-ab58-3970325b5b60"
      },
      "source": [
        "### Lets Do the prediction and check performance metrics\n",
        "train_predict=model.predict(X_train)\n",
        "test_predict=model.predict(X_test)\n",
        "train_predict.shape, test_predict.shape"
      ],
      "execution_count": null,
      "outputs": [
        {
          "output_type": "execute_result",
          "data": {
            "text/plain": [
              "((135, 1), (85, 1))"
            ]
          },
          "metadata": {},
          "execution_count": 33
        }
      ]
    },
    {
      "cell_type": "code",
      "metadata": {
        "id": "o8EHo1ixpt6M"
      },
      "source": [
        "# Transform back to original form\n",
        "\n",
        "train_predict = scaler.inverse_transform(train_predict)\n",
        "test_predict = scaler.inverse_transform(test_predict)\n",
        "original_ytrain = scaler.inverse_transform(y_train.reshape(-1,1)) \n",
        "original_ytest = scaler.inverse_transform(y_test.reshape(-1,1)) "
      ],
      "execution_count": null,
      "outputs": []
    },
    {
      "cell_type": "code",
      "metadata": {
        "colab": {
          "base_uri": "https://localhost:8080/"
        },
        "id": "OF5MytnIpy0B",
        "outputId": "2e2bb4e3-faf5-41e1-856a-a4e19608bdf8"
      },
      "source": [
        "import math\n",
        "# Evaluation metrices RMSE and MAE\n",
        "print(\"Train data RMSE: \", math.sqrt(mean_squared_error(original_ytrain,train_predict)))\n",
        "print(\"Train data MSE: \", mean_squared_error(original_ytrain,train_predict))\n",
        "print(\"Train data MAE: \", mean_absolute_error(original_ytrain,train_predict))\n",
        "print(\"-------------------------------------------------------------------------------------\")\n",
        "print(\"Test data RMSE: \", math.sqrt(mean_squared_error(original_ytest,test_predict)))\n",
        "print(\"Test data MSE: \", mean_squared_error(original_ytest,test_predict))\n",
        "print(\"Test data MAE: \", mean_absolute_error(original_ytest,test_predict))"
      ],
      "execution_count": null,
      "outputs": [
        {
          "output_type": "stream",
          "name": "stdout",
          "text": [
            "Train data RMSE:  2.3978698444827606\n",
            "Train data MSE:  5.74977979107978\n",
            "Train data MAE:  1.8568620416738997\n",
            "-------------------------------------------------------------------------------------\n",
            "Test data RMSE:  2.6029019350325258\n",
            "Test data MSE:  6.775098483396066\n",
            "Test data MAE:  2.0748404954848345\n"
          ]
        }
      ]
    },
    {
      "cell_type": "code",
      "metadata": {
        "colab": {
          "base_uri": "https://localhost:8080/"
        },
        "id": "qX8xAG7Gp8MD",
        "outputId": "fe52c5a6-52ee-4b99-93c1-41b349730d88"
      },
      "source": [
        "print(\"Train data explained variance regression score:\", explained_variance_score(original_ytrain, train_predict))\n",
        "print(\"Test data explained variance regression score:\", explained_variance_score(original_ytest, test_predict))"
      ],
      "execution_count": null,
      "outputs": [
        {
          "output_type": "stream",
          "name": "stdout",
          "text": [
            "Train data explained variance regression score: 0.8999835302358671\n",
            "Test data explained variance regression score: 0.9581069927313809\n"
          ]
        }
      ]
    },
    {
      "cell_type": "code",
      "metadata": {
        "colab": {
          "base_uri": "https://localhost:8080/"
        },
        "id": "Ha3H4FEiqM6q",
        "outputId": "8489d10c-96dc-4d32-f5e5-145860b23404"
      },
      "source": [
        "print(\"Train data R2 score:\", r2_score(original_ytrain, train_predict))\n",
        "print(\"Test data R2 score:\", r2_score(original_ytest, test_predict))"
      ],
      "execution_count": null,
      "outputs": [
        {
          "output_type": "stream",
          "name": "stdout",
          "text": [
            "Train data R2 score: 0.8999445181282838\n",
            "Test data R2 score: 0.9190485027602817\n"
          ]
        }
      ]
    },
    {
      "cell_type": "code",
      "metadata": {
        "colab": {
          "base_uri": "https://localhost:8080/"
        },
        "id": "tO8sYWKdqQmA",
        "outputId": "1b8a75a0-bdc8-443b-ce6d-583852751935"
      },
      "source": [
        "print(\"Train data MGD: \", mean_gamma_deviance(original_ytrain, train_predict))\n",
        "print(\"Test data MGD: \", mean_gamma_deviance(original_ytest, test_predict))\n",
        "print(\"----------------------------------------------------------------------\")\n",
        "print(\"Train data MPD: \", mean_poisson_deviance(original_ytrain, train_predict))\n",
        "print(\"Test data MPD: \", mean_poisson_deviance(original_ytest, test_predict))"
      ],
      "execution_count": null,
      "outputs": [
        {
          "output_type": "stream",
          "name": "stdout",
          "text": [
            "Train data MGD:  0.00037385379456815585\n",
            "Test data MGD:  0.0003253576006547612\n",
            "----------------------------------------------------------------------\n",
            "Train data MPD:  0.04628078289517753\n",
            "Test data MPD:  0.046907257880382545\n"
          ]
        }
      ]
    },
    {
      "cell_type": "markdown",
      "metadata": {
        "id": "1iCTIZNXqhaY"
      },
      "source": [
        "Comparision of original stock close price and predicted close price"
      ]
    },
    {
      "cell_type": "code",
      "metadata": {
        "colab": {
          "base_uri": "https://localhost:8080/",
          "height": 576
        },
        "id": "8TlUH1q2qZKh",
        "outputId": "2d7a8e72-660d-4c88-ac9c-2efc3923b449"
      },
      "source": [
        "# shift train predictions for plotting\n",
        "\n",
        "look_back=time_step\n",
        "trainPredictPlot = np.empty_like(closedf)\n",
        "trainPredictPlot[:, :] = np.nan\n",
        "trainPredictPlot[look_back:len(train_predict)+look_back, :] = train_predict\n",
        "print(\"Train predicted data: \", trainPredictPlot.shape)\n",
        "\n",
        "# shift test predictions for plotting\n",
        "testPredictPlot = np.empty_like(closedf)\n",
        "testPredictPlot[:, :] = np.nan\n",
        "testPredictPlot[len(train_predict)+(look_back*2)+1:len(closedf)-1, :] = test_predict\n",
        "print(\"Test predicted data: \", testPredictPlot.shape)\n",
        "\n",
        "names = cycle(['Original close price','Train predicted close price','Test predicted close price'])\n",
        "\n",
        "\n",
        "plotdf = pd.DataFrame({'date': close_stock['date'],\n",
        "                       'original_close': close_stock['close'],\n",
        "                      'train_predicted_close': trainPredictPlot.reshape(1,-1)[0].tolist(),\n",
        "                      'test_predicted_close': testPredictPlot.reshape(1,-1)[0].tolist()})\n",
        "\n",
        "fig = px.line(plotdf,x=plotdf['date'], y=[plotdf['original_close'],plotdf['train_predicted_close'],\n",
        "                                          plotdf['test_predicted_close']],\n",
        "              labels={'value':'Stock price','date': 'Date'})\n",
        "fig.update_layout(title_text='Comparision between original close price vs predicted close price',\n",
        "                  plot_bgcolor='white', font_size=15, font_color='black', legend_title_text='Close Price')\n",
        "fig.for_each_trace(lambda t:  t.update(name = next(names)))\n",
        "\n",
        "fig.update_xaxes(showgrid=False)\n",
        "fig.update_yaxes(showgrid=False)\n",
        "fig.show()"
      ],
      "execution_count": null,
      "outputs": [
        {
          "output_type": "stream",
          "name": "stdout",
          "text": [
            "Train predicted data:  (252, 1)\n",
            "Test predicted data:  (252, 1)\n"
          ]
        },
        {
          "output_type": "display_data",
          "data": {
            "text/html": [
              "<html>\n",
              "<head><meta charset=\"utf-8\" /></head>\n",
              "<body>\n",
              "    <div>            <script src=\"https://cdnjs.cloudflare.com/ajax/libs/mathjax/2.7.5/MathJax.js?config=TeX-AMS-MML_SVG\"></script><script type=\"text/javascript\">if (window.MathJax) {MathJax.Hub.Config({SVG: {font: \"STIX-Web\"}});}</script>                <script type=\"text/javascript\">window.PlotlyConfig = {MathJaxConfig: 'local'};</script>\n",
              "        <script src=\"https://cdn.plot.ly/plotly-2.4.2.min.js\"></script>                <div id=\"2d618f14-2f6d-4915-92ad-fac6d8b21ca9\" class=\"plotly-graph-div\" style=\"height:525px; width:100%;\"></div>            <script type=\"text/javascript\">                                    window.PLOTLYENV=window.PLOTLYENV || {};                                    if (document.getElementById(\"2d618f14-2f6d-4915-92ad-fac6d8b21ca9\")) {                    Plotly.newPlot(                        \"2d618f14-2f6d-4915-92ad-fac6d8b21ca9\",                        [{\"hovertemplate\":\"variable=original_close<br>Date=%{x}<br>Stock price=%{y}<extra></extra>\",\"legendgroup\":\"original_close\",\"line\":{\"color\":\"#636efa\",\"dash\":\"solid\"},\"marker\":{\"symbol\":\"circle\"},\"mode\":\"lines\",\"name\":\"Original close price\",\"orientation\":\"v\",\"showlegend\":true,\"type\":\"scatter\",\"x\":[\"2020-09-25T00:00:00\",\"2020-09-28T00:00:00\",\"2020-09-29T00:00:00\",\"2020-09-30T00:00:00\",\"2020-10-01T00:00:00\",\"2020-10-02T00:00:00\",\"2020-10-05T00:00:00\",\"2020-10-06T00:00:00\",\"2020-10-07T00:00:00\",\"2020-10-08T00:00:00\",\"2020-10-09T00:00:00\",\"2020-10-12T00:00:00\",\"2020-10-13T00:00:00\",\"2020-10-14T00:00:00\",\"2020-10-15T00:00:00\",\"2020-10-16T00:00:00\",\"2020-10-19T00:00:00\",\"2020-10-20T00:00:00\",\"2020-10-21T00:00:00\",\"2020-10-22T00:00:00\",\"2020-10-23T00:00:00\",\"2020-10-26T00:00:00\",\"2020-10-27T00:00:00\",\"2020-10-28T00:00:00\",\"2020-10-29T00:00:00\",\"2020-10-30T00:00:00\",\"2020-11-02T00:00:00\",\"2020-11-03T00:00:00\",\"2020-11-04T00:00:00\",\"2020-11-05T00:00:00\",\"2020-11-06T00:00:00\",\"2020-11-09T00:00:00\",\"2020-11-10T00:00:00\",\"2020-11-11T00:00:00\",\"2020-11-12T00:00:00\",\"2020-11-13T00:00:00\",\"2020-11-16T00:00:00\",\"2020-11-17T00:00:00\",\"2020-11-18T00:00:00\",\"2020-11-19T00:00:00\",\"2020-11-20T00:00:00\",\"2020-11-23T00:00:00\",\"2020-11-24T00:00:00\",\"2020-11-25T00:00:00\",\"2020-11-27T00:00:00\",\"2020-11-30T00:00:00\",\"2020-12-01T00:00:00\",\"2020-12-02T00:00:00\",\"2020-12-03T00:00:00\",\"2020-12-04T00:00:00\",\"2020-12-07T00:00:00\",\"2020-12-08T00:00:00\",\"2020-12-09T00:00:00\",\"2020-12-10T00:00:00\",\"2020-12-11T00:00:00\",\"2020-12-14T00:00:00\",\"2020-12-15T00:00:00\",\"2020-12-16T00:00:00\",\"2020-12-17T00:00:00\",\"2020-12-18T00:00:00\",\"2020-12-21T00:00:00\",\"2020-12-22T00:00:00\",\"2020-12-23T00:00:00\",\"2020-12-24T00:00:00\",\"2020-12-28T00:00:00\",\"2020-12-29T00:00:00\",\"2020-12-30T00:00:00\",\"2020-12-31T00:00:00\",\"2021-01-04T00:00:00\",\"2021-01-05T00:00:00\",\"2021-01-06T00:00:00\",\"2021-01-07T00:00:00\",\"2021-01-08T00:00:00\",\"2021-01-11T00:00:00\",\"2021-01-12T00:00:00\",\"2021-01-13T00:00:00\",\"2021-01-14T00:00:00\",\"2021-01-15T00:00:00\",\"2021-01-19T00:00:00\",\"2021-01-20T00:00:00\",\"2021-01-21T00:00:00\",\"2021-01-22T00:00:00\",\"2021-01-25T00:00:00\",\"2021-01-26T00:00:00\",\"2021-01-27T00:00:00\",\"2021-01-28T00:00:00\",\"2021-01-29T00:00:00\",\"2021-02-01T00:00:00\",\"2021-02-02T00:00:00\",\"2021-02-03T00:00:00\",\"2021-02-04T00:00:00\",\"2021-02-05T00:00:00\",\"2021-02-08T00:00:00\",\"2021-02-09T00:00:00\",\"2021-02-10T00:00:00\",\"2021-02-11T00:00:00\",\"2021-02-12T00:00:00\",\"2021-02-16T00:00:00\",\"2021-02-17T00:00:00\",\"2021-02-18T00:00:00\",\"2021-02-19T00:00:00\",\"2021-02-22T00:00:00\",\"2021-02-23T00:00:00\",\"2021-02-24T00:00:00\",\"2021-02-25T00:00:00\",\"2021-02-26T00:00:00\",\"2021-03-01T00:00:00\",\"2021-03-02T00:00:00\",\"2021-03-03T00:00:00\",\"2021-03-04T00:00:00\",\"2021-03-05T00:00:00\",\"2021-03-08T00:00:00\",\"2021-03-09T00:00:00\",\"2021-03-10T00:00:00\",\"2021-03-11T00:00:00\",\"2021-03-12T00:00:00\",\"2021-03-15T00:00:00\",\"2021-03-16T00:00:00\",\"2021-03-17T00:00:00\",\"2021-03-18T00:00:00\",\"2021-03-19T00:00:00\",\"2021-03-22T00:00:00\",\"2021-03-23T00:00:00\",\"2021-03-24T00:00:00\",\"2021-03-25T00:00:00\",\"2021-03-26T00:00:00\",\"2021-03-29T00:00:00\",\"2021-03-30T00:00:00\",\"2021-03-31T00:00:00\",\"2021-04-01T00:00:00\",\"2021-04-05T00:00:00\",\"2021-04-06T00:00:00\",\"2021-04-07T00:00:00\",\"2021-04-08T00:00:00\",\"2021-04-09T00:00:00\",\"2021-04-12T00:00:00\",\"2021-04-13T00:00:00\",\"2021-04-14T00:00:00\",\"2021-04-15T00:00:00\",\"2021-04-16T00:00:00\",\"2021-04-19T00:00:00\",\"2021-04-20T00:00:00\",\"2021-04-21T00:00:00\",\"2021-04-22T00:00:00\",\"2021-04-23T00:00:00\",\"2021-04-26T00:00:00\",\"2021-04-27T00:00:00\",\"2021-04-28T00:00:00\",\"2021-04-29T00:00:00\",\"2021-04-30T00:00:00\",\"2021-05-03T00:00:00\",\"2021-05-04T00:00:00\",\"2021-05-05T00:00:00\",\"2021-05-06T00:00:00\",\"2021-05-07T00:00:00\",\"2021-05-10T00:00:00\",\"2021-05-11T00:00:00\",\"2021-05-12T00:00:00\",\"2021-05-13T00:00:00\",\"2021-05-14T00:00:00\",\"2021-05-17T00:00:00\",\"2021-05-18T00:00:00\",\"2021-05-19T00:00:00\",\"2021-05-20T00:00:00\",\"2021-05-21T00:00:00\",\"2021-05-24T00:00:00\",\"2021-05-25T00:00:00\",\"2021-05-26T00:00:00\",\"2021-05-27T00:00:00\",\"2021-05-28T00:00:00\",\"2021-06-01T00:00:00\",\"2021-06-02T00:00:00\",\"2021-06-03T00:00:00\",\"2021-06-04T00:00:00\",\"2021-06-07T00:00:00\",\"2021-06-08T00:00:00\",\"2021-06-09T00:00:00\",\"2021-06-10T00:00:00\",\"2021-06-11T00:00:00\",\"2021-06-14T00:00:00\",\"2021-06-15T00:00:00\",\"2021-06-16T00:00:00\",\"2021-06-17T00:00:00\",\"2021-06-18T00:00:00\",\"2021-06-21T00:00:00\",\"2021-06-22T00:00:00\",\"2021-06-23T00:00:00\",\"2021-06-24T00:00:00\",\"2021-06-25T00:00:00\",\"2021-06-28T00:00:00\",\"2021-06-29T00:00:00\",\"2021-06-30T00:00:00\",\"2021-07-01T00:00:00\",\"2021-07-02T00:00:00\",\"2021-07-06T00:00:00\",\"2021-07-07T00:00:00\",\"2021-07-08T00:00:00\",\"2021-07-09T00:00:00\",\"2021-07-12T00:00:00\",\"2021-07-13T00:00:00\",\"2021-07-14T00:00:00\",\"2021-07-15T00:00:00\",\"2021-07-16T00:00:00\",\"2021-07-19T00:00:00\",\"2021-07-20T00:00:00\",\"2021-07-21T00:00:00\",\"2021-07-22T00:00:00\",\"2021-07-23T00:00:00\",\"2021-07-26T00:00:00\",\"2021-07-27T00:00:00\",\"2021-07-28T00:00:00\",\"2021-07-29T00:00:00\",\"2021-07-30T00:00:00\",\"2021-08-02T00:00:00\",\"2021-08-03T00:00:00\",\"2021-08-04T00:00:00\",\"2021-08-05T00:00:00\",\"2021-08-06T00:00:00\",\"2021-08-09T00:00:00\",\"2021-08-10T00:00:00\",\"2021-08-11T00:00:00\",\"2021-08-12T00:00:00\",\"2021-08-13T00:00:00\",\"2021-08-16T00:00:00\",\"2021-08-17T00:00:00\",\"2021-08-18T00:00:00\",\"2021-08-19T00:00:00\",\"2021-08-20T00:00:00\",\"2021-08-23T00:00:00\",\"2021-08-24T00:00:00\",\"2021-08-25T00:00:00\",\"2021-08-26T00:00:00\",\"2021-08-27T00:00:00\",\"2021-08-30T00:00:00\",\"2021-08-31T00:00:00\",\"2021-09-01T00:00:00\",\"2021-09-02T00:00:00\",\"2021-09-03T00:00:00\",\"2021-09-07T00:00:00\",\"2021-09-08T00:00:00\",\"2021-09-09T00:00:00\",\"2021-09-10T00:00:00\",\"2021-09-13T00:00:00\",\"2021-09-14T00:00:00\",\"2021-09-15T00:00:00\",\"2021-09-16T00:00:00\",\"2021-09-17T00:00:00\",\"2021-09-20T00:00:00\",\"2021-09-21T00:00:00\",\"2021-09-22T00:00:00\",\"2021-09-23T00:00:00\",\"2021-09-24T00:00:00\"],\"xaxis\":\"x\",\"y\":[112.279999,114.959999,114.089996,115.809998,116.790001,113.019997,116.5,113.160004,115.08000200000001,114.970001,116.970001,124.400002,121.099998,121.190002,120.709999,119.019997,115.980003,117.510002,116.870003,115.75,115.040001,115.050003,116.599998,111.199997,115.32,108.860001,108.769997,110.440002,114.949997,119.029999,118.690002,116.32,115.970001,119.489998,119.209999,119.260002,120.300003,119.389999,118.029999,118.639999,117.339996,113.849998,115.16999799999999,116.029999,116.589996,119.050003,122.720001,123.08000200000001,122.940002,122.25,123.75,124.379997,121.779999,123.239998,122.410004,121.779999,127.879997,127.809998,128.699997,126.660004,128.229996,131.880005,130.96000700000002,131.970001,136.690002,134.869995,133.720001,132.690002,129.41000400000001,131.009995,126.599998,130.919998,132.050003,128.979996,128.800003,130.889999,128.91000400000001,127.139999,127.83000200000001,132.029999,136.869995,139.070007,142.919998,143.16000400000001,142.059998,137.08999599999999,131.96000700000002,134.139999,134.990005,133.940002,137.389999,136.759995,136.91000400000001,136.009995,135.389999,135.130005,135.369995,133.190002,130.83999599999999,129.71000700000002,129.869995,126.0,125.860001,125.349998,120.989998,121.260002,127.790001,125.120003,122.059998,120.129997,121.41999799999999,116.360001,121.089996,119.980003,121.959999,121.029999,123.989998,125.57,124.760002,120.529999,119.989998,123.389999,122.540001,120.089996,120.589996,121.209999,121.389999,119.900002,122.150002,123.0,125.900002,126.209999,127.900002,130.360001,133.0,131.240005,134.429993,132.029999,134.5,134.16000400000001,134.83999599999999,133.110001,133.5,131.940002,134.320007,134.720001,134.389999,133.580002,133.479996,131.46000700000002,132.53999299999998,127.849998,128.100006,129.740005,130.21000700000002,126.849998,125.910004,122.769997,124.970001,127.449997,126.269997,124.849998,124.690002,127.309998,125.43,127.099998,126.900002,126.849998,125.279999,124.610001,124.279999,125.059998,123.540001,125.889999,125.900002,126.739998,127.129997,126.110001,127.349998,130.479996,129.639999,130.149994,131.78999299999998,130.46000700000002,132.300003,133.979996,133.699997,133.41000400000001,133.110001,134.779999,136.330002,136.96000700000002,137.270004,139.96000700000002,142.020004,144.570007,143.240005,145.110001,144.5,145.639999,149.149994,148.479996,146.389999,142.449997,146.149994,145.399994,146.800003,148.559998,148.990005,146.770004,144.979996,145.639999,145.860001,145.520004,147.360001,146.949997,147.059998,146.139999,146.08999599999999,145.600006,145.860001,148.889999,149.100006,151.119995,150.190002,146.360001,146.699997,148.190002,149.71000700000002,149.619995,148.360001,147.53999299999998,148.600006,153.119995,151.830002,152.509995,153.649994,154.300003,156.690002,155.110001,154.070007,148.970001,149.550003,148.119995,149.029999,148.78999299999998,146.059998,142.940002,143.429993,145.850006,146.830002,146.919998],\"yaxis\":\"y\"},{\"hovertemplate\":\"variable=train_predicted_close<br>Date=%{x}<br>Stock price=%{y}<extra></extra>\",\"legendgroup\":\"train_predicted_close\",\"line\":{\"color\":\"#EF553B\",\"dash\":\"solid\"},\"marker\":{\"symbol\":\"circle\"},\"mode\":\"lines\",\"name\":\"Train predicted close price\",\"orientation\":\"v\",\"showlegend\":true,\"type\":\"scatter\",\"x\":[\"2020-09-25T00:00:00\",\"2020-09-28T00:00:00\",\"2020-09-29T00:00:00\",\"2020-09-30T00:00:00\",\"2020-10-01T00:00:00\",\"2020-10-02T00:00:00\",\"2020-10-05T00:00:00\",\"2020-10-06T00:00:00\",\"2020-10-07T00:00:00\",\"2020-10-08T00:00:00\",\"2020-10-09T00:00:00\",\"2020-10-12T00:00:00\",\"2020-10-13T00:00:00\",\"2020-10-14T00:00:00\",\"2020-10-15T00:00:00\",\"2020-10-16T00:00:00\",\"2020-10-19T00:00:00\",\"2020-10-20T00:00:00\",\"2020-10-21T00:00:00\",\"2020-10-22T00:00:00\",\"2020-10-23T00:00:00\",\"2020-10-26T00:00:00\",\"2020-10-27T00:00:00\",\"2020-10-28T00:00:00\",\"2020-10-29T00:00:00\",\"2020-10-30T00:00:00\",\"2020-11-02T00:00:00\",\"2020-11-03T00:00:00\",\"2020-11-04T00:00:00\",\"2020-11-05T00:00:00\",\"2020-11-06T00:00:00\",\"2020-11-09T00:00:00\",\"2020-11-10T00:00:00\",\"2020-11-11T00:00:00\",\"2020-11-12T00:00:00\",\"2020-11-13T00:00:00\",\"2020-11-16T00:00:00\",\"2020-11-17T00:00:00\",\"2020-11-18T00:00:00\",\"2020-11-19T00:00:00\",\"2020-11-20T00:00:00\",\"2020-11-23T00:00:00\",\"2020-11-24T00:00:00\",\"2020-11-25T00:00:00\",\"2020-11-27T00:00:00\",\"2020-11-30T00:00:00\",\"2020-12-01T00:00:00\",\"2020-12-02T00:00:00\",\"2020-12-03T00:00:00\",\"2020-12-04T00:00:00\",\"2020-12-07T00:00:00\",\"2020-12-08T00:00:00\",\"2020-12-09T00:00:00\",\"2020-12-10T00:00:00\",\"2020-12-11T00:00:00\",\"2020-12-14T00:00:00\",\"2020-12-15T00:00:00\",\"2020-12-16T00:00:00\",\"2020-12-17T00:00:00\",\"2020-12-18T00:00:00\",\"2020-12-21T00:00:00\",\"2020-12-22T00:00:00\",\"2020-12-23T00:00:00\",\"2020-12-24T00:00:00\",\"2020-12-28T00:00:00\",\"2020-12-29T00:00:00\",\"2020-12-30T00:00:00\",\"2020-12-31T00:00:00\",\"2021-01-04T00:00:00\",\"2021-01-05T00:00:00\",\"2021-01-06T00:00:00\",\"2021-01-07T00:00:00\",\"2021-01-08T00:00:00\",\"2021-01-11T00:00:00\",\"2021-01-12T00:00:00\",\"2021-01-13T00:00:00\",\"2021-01-14T00:00:00\",\"2021-01-15T00:00:00\",\"2021-01-19T00:00:00\",\"2021-01-20T00:00:00\",\"2021-01-21T00:00:00\",\"2021-01-22T00:00:00\",\"2021-01-25T00:00:00\",\"2021-01-26T00:00:00\",\"2021-01-27T00:00:00\",\"2021-01-28T00:00:00\",\"2021-01-29T00:00:00\",\"2021-02-01T00:00:00\",\"2021-02-02T00:00:00\",\"2021-02-03T00:00:00\",\"2021-02-04T00:00:00\",\"2021-02-05T00:00:00\",\"2021-02-08T00:00:00\",\"2021-02-09T00:00:00\",\"2021-02-10T00:00:00\",\"2021-02-11T00:00:00\",\"2021-02-12T00:00:00\",\"2021-02-16T00:00:00\",\"2021-02-17T00:00:00\",\"2021-02-18T00:00:00\",\"2021-02-19T00:00:00\",\"2021-02-22T00:00:00\",\"2021-02-23T00:00:00\",\"2021-02-24T00:00:00\",\"2021-02-25T00:00:00\",\"2021-02-26T00:00:00\",\"2021-03-01T00:00:00\",\"2021-03-02T00:00:00\",\"2021-03-03T00:00:00\",\"2021-03-04T00:00:00\",\"2021-03-05T00:00:00\",\"2021-03-08T00:00:00\",\"2021-03-09T00:00:00\",\"2021-03-10T00:00:00\",\"2021-03-11T00:00:00\",\"2021-03-12T00:00:00\",\"2021-03-15T00:00:00\",\"2021-03-16T00:00:00\",\"2021-03-17T00:00:00\",\"2021-03-18T00:00:00\",\"2021-03-19T00:00:00\",\"2021-03-22T00:00:00\",\"2021-03-23T00:00:00\",\"2021-03-24T00:00:00\",\"2021-03-25T00:00:00\",\"2021-03-26T00:00:00\",\"2021-03-29T00:00:00\",\"2021-03-30T00:00:00\",\"2021-03-31T00:00:00\",\"2021-04-01T00:00:00\",\"2021-04-05T00:00:00\",\"2021-04-06T00:00:00\",\"2021-04-07T00:00:00\",\"2021-04-08T00:00:00\",\"2021-04-09T00:00:00\",\"2021-04-12T00:00:00\",\"2021-04-13T00:00:00\",\"2021-04-14T00:00:00\",\"2021-04-15T00:00:00\",\"2021-04-16T00:00:00\",\"2021-04-19T00:00:00\",\"2021-04-20T00:00:00\",\"2021-04-21T00:00:00\",\"2021-04-22T00:00:00\",\"2021-04-23T00:00:00\",\"2021-04-26T00:00:00\",\"2021-04-27T00:00:00\",\"2021-04-28T00:00:00\",\"2021-04-29T00:00:00\",\"2021-04-30T00:00:00\",\"2021-05-03T00:00:00\",\"2021-05-04T00:00:00\",\"2021-05-05T00:00:00\",\"2021-05-06T00:00:00\",\"2021-05-07T00:00:00\",\"2021-05-10T00:00:00\",\"2021-05-11T00:00:00\",\"2021-05-12T00:00:00\",\"2021-05-13T00:00:00\",\"2021-05-14T00:00:00\",\"2021-05-17T00:00:00\",\"2021-05-18T00:00:00\",\"2021-05-19T00:00:00\",\"2021-05-20T00:00:00\",\"2021-05-21T00:00:00\",\"2021-05-24T00:00:00\",\"2021-05-25T00:00:00\",\"2021-05-26T00:00:00\",\"2021-05-27T00:00:00\",\"2021-05-28T00:00:00\",\"2021-06-01T00:00:00\",\"2021-06-02T00:00:00\",\"2021-06-03T00:00:00\",\"2021-06-04T00:00:00\",\"2021-06-07T00:00:00\",\"2021-06-08T00:00:00\",\"2021-06-09T00:00:00\",\"2021-06-10T00:00:00\",\"2021-06-11T00:00:00\",\"2021-06-14T00:00:00\",\"2021-06-15T00:00:00\",\"2021-06-16T00:00:00\",\"2021-06-17T00:00:00\",\"2021-06-18T00:00:00\",\"2021-06-21T00:00:00\",\"2021-06-22T00:00:00\",\"2021-06-23T00:00:00\",\"2021-06-24T00:00:00\",\"2021-06-25T00:00:00\",\"2021-06-28T00:00:00\",\"2021-06-29T00:00:00\",\"2021-06-30T00:00:00\",\"2021-07-01T00:00:00\",\"2021-07-02T00:00:00\",\"2021-07-06T00:00:00\",\"2021-07-07T00:00:00\",\"2021-07-08T00:00:00\",\"2021-07-09T00:00:00\",\"2021-07-12T00:00:00\",\"2021-07-13T00:00:00\",\"2021-07-14T00:00:00\",\"2021-07-15T00:00:00\",\"2021-07-16T00:00:00\",\"2021-07-19T00:00:00\",\"2021-07-20T00:00:00\",\"2021-07-21T00:00:00\",\"2021-07-22T00:00:00\",\"2021-07-23T00:00:00\",\"2021-07-26T00:00:00\",\"2021-07-27T00:00:00\",\"2021-07-28T00:00:00\",\"2021-07-29T00:00:00\",\"2021-07-30T00:00:00\",\"2021-08-02T00:00:00\",\"2021-08-03T00:00:00\",\"2021-08-04T00:00:00\",\"2021-08-05T00:00:00\",\"2021-08-06T00:00:00\",\"2021-08-09T00:00:00\",\"2021-08-10T00:00:00\",\"2021-08-11T00:00:00\",\"2021-08-12T00:00:00\",\"2021-08-13T00:00:00\",\"2021-08-16T00:00:00\",\"2021-08-17T00:00:00\",\"2021-08-18T00:00:00\",\"2021-08-19T00:00:00\",\"2021-08-20T00:00:00\",\"2021-08-23T00:00:00\",\"2021-08-24T00:00:00\",\"2021-08-25T00:00:00\",\"2021-08-26T00:00:00\",\"2021-08-27T00:00:00\",\"2021-08-30T00:00:00\",\"2021-08-31T00:00:00\",\"2021-09-01T00:00:00\",\"2021-09-02T00:00:00\",\"2021-09-03T00:00:00\",\"2021-09-07T00:00:00\",\"2021-09-08T00:00:00\",\"2021-09-09T00:00:00\",\"2021-09-10T00:00:00\",\"2021-09-13T00:00:00\",\"2021-09-14T00:00:00\",\"2021-09-15T00:00:00\",\"2021-09-16T00:00:00\",\"2021-09-17T00:00:00\",\"2021-09-20T00:00:00\",\"2021-09-21T00:00:00\",\"2021-09-22T00:00:00\",\"2021-09-23T00:00:00\",\"2021-09-24T00:00:00\"],\"xaxis\":\"x\",\"y\":[null,null,null,null,null,null,null,null,null,null,null,null,null,null,null,121.06068420410156,119.78527069091797,117.38874053955078,117.8300552368164,117.74523162841797,116.93739318847656,116.18138122558594,115.95223999023438,116.90498352050781,113.8975830078125,115.07925415039062,112.05138397216797,110.54195404052734,110.96599578857422,113.87133026123047,117.88294982910156,119.11991882324219,117.56279754638672,116.70804595947266,118.91602325439453,119.63594055175781,119.7481689453125,120.48514556884766,120.05142211914062,118.92325592041016,119.06492614746094,118.30508422851562,115.74188995361328,115.75469970703125,116.51920318603516,117.17459106445312,118.98250579833984,122.18170928955078,123.29312896728516,123.20288848876953,122.56700134277344,123.63536071777344,124.45410919189453,122.51238250732422,123.24592590332031,122.89073944091797,122.30669403076172,127.07003021240234,128.01626586914062,128.58108520507812,126.73528289794922,127.88655853271484,131.4391326904297,130.84217834472656,131.523193359375,136.1068572998047,134.24169921875,132.8330535888672,131.95843505859375,129.01974487304688,130.6187744140625,126.88719177246094,130.49404907226562,132.0463409423828,129.0157470703125,128.5599822998047,130.58973693847656,128.97268676757812,127.17969512939453,127.72676086425781,131.68807983398438,136.60951232910156,138.56207275390625,141.99961853027344,141.54144287109375,139.997314453125,134.8420867919922,130.50424194335938,133.51048278808594,134.81106567382812,133.6131591796875,136.91351318359375,136.1163787841797,136.0266876220703,135.08090209960938,134.53390502929688,134.40493774414062,134.7376251220703,132.57574462890625,130.35557556152344,129.45716857910156,129.7678680419922,126.38240051269531,126.00228881835938,125.70357513427734,122.12809753417969,121.75213623046875,127.0452651977539,125.9233169555664,122.8634033203125,120.86136627197266,121.59762573242188,118.22989654541016,120.64043426513672,120.7981948852539,122.10749816894531,121.71249389648438,123.75627136230469,125.5231704711914,125.06424713134766,121.4825210571289,120.45733642578125,123.0429458618164,123.14013671875,121.11210632324219,120.99398040771484,121.55343627929688,121.84857940673828,120.76383972167969,122.13309478759766,123.21066284179688,125.66920471191406,126.33853149414062,127.69916534423828,129.99078369140625,132.5677032470703,130.88014221191406,133.70281982421875,131.5279541015625,133.80609130859375,133.6269073486328,134.2060089111328,132.47996520996094,132.8861541748047,131.50401306152344,133.83865356445312,134.33172607421875,133.83314514160156,132.95530700683594,132.89952087402344,null,null,null,null,null,null,null,null,null,null,null,null,null,null,null,null,null,null,null,null,null,null,null,null,null,null,null,null,null,null,null,null,null,null,null,null,null,null,null,null,null,null,null,null,null,null,null,null,null,null,null,null,null,null,null,null,null,null,null,null,null,null,null,null,null,null,null,null,null,null,null,null,null,null,null,null,null,null,null,null,null,null,null,null,null,null,null,null,null,null,null,null,null,null,null,null,null,null,null,null,null,null],\"yaxis\":\"y\"},{\"hovertemplate\":\"variable=test_predicted_close<br>Date=%{x}<br>Stock price=%{y}<extra></extra>\",\"legendgroup\":\"test_predicted_close\",\"line\":{\"color\":\"#00cc96\",\"dash\":\"solid\"},\"marker\":{\"symbol\":\"circle\"},\"mode\":\"lines\",\"name\":\"Test predicted close price\",\"orientation\":\"v\",\"showlegend\":true,\"type\":\"scatter\",\"x\":[\"2020-09-25T00:00:00\",\"2020-09-28T00:00:00\",\"2020-09-29T00:00:00\",\"2020-09-30T00:00:00\",\"2020-10-01T00:00:00\",\"2020-10-02T00:00:00\",\"2020-10-05T00:00:00\",\"2020-10-06T00:00:00\",\"2020-10-07T00:00:00\",\"2020-10-08T00:00:00\",\"2020-10-09T00:00:00\",\"2020-10-12T00:00:00\",\"2020-10-13T00:00:00\",\"2020-10-14T00:00:00\",\"2020-10-15T00:00:00\",\"2020-10-16T00:00:00\",\"2020-10-19T00:00:00\",\"2020-10-20T00:00:00\",\"2020-10-21T00:00:00\",\"2020-10-22T00:00:00\",\"2020-10-23T00:00:00\",\"2020-10-26T00:00:00\",\"2020-10-27T00:00:00\",\"2020-10-28T00:00:00\",\"2020-10-29T00:00:00\",\"2020-10-30T00:00:00\",\"2020-11-02T00:00:00\",\"2020-11-03T00:00:00\",\"2020-11-04T00:00:00\",\"2020-11-05T00:00:00\",\"2020-11-06T00:00:00\",\"2020-11-09T00:00:00\",\"2020-11-10T00:00:00\",\"2020-11-11T00:00:00\",\"2020-11-12T00:00:00\",\"2020-11-13T00:00:00\",\"2020-11-16T00:00:00\",\"2020-11-17T00:00:00\",\"2020-11-18T00:00:00\",\"2020-11-19T00:00:00\",\"2020-11-20T00:00:00\",\"2020-11-23T00:00:00\",\"2020-11-24T00:00:00\",\"2020-11-25T00:00:00\",\"2020-11-27T00:00:00\",\"2020-11-30T00:00:00\",\"2020-12-01T00:00:00\",\"2020-12-02T00:00:00\",\"2020-12-03T00:00:00\",\"2020-12-04T00:00:00\",\"2020-12-07T00:00:00\",\"2020-12-08T00:00:00\",\"2020-12-09T00:00:00\",\"2020-12-10T00:00:00\",\"2020-12-11T00:00:00\",\"2020-12-14T00:00:00\",\"2020-12-15T00:00:00\",\"2020-12-16T00:00:00\",\"2020-12-17T00:00:00\",\"2020-12-18T00:00:00\",\"2020-12-21T00:00:00\",\"2020-12-22T00:00:00\",\"2020-12-23T00:00:00\",\"2020-12-24T00:00:00\",\"2020-12-28T00:00:00\",\"2020-12-29T00:00:00\",\"2020-12-30T00:00:00\",\"2020-12-31T00:00:00\",\"2021-01-04T00:00:00\",\"2021-01-05T00:00:00\",\"2021-01-06T00:00:00\",\"2021-01-07T00:00:00\",\"2021-01-08T00:00:00\",\"2021-01-11T00:00:00\",\"2021-01-12T00:00:00\",\"2021-01-13T00:00:00\",\"2021-01-14T00:00:00\",\"2021-01-15T00:00:00\",\"2021-01-19T00:00:00\",\"2021-01-20T00:00:00\",\"2021-01-21T00:00:00\",\"2021-01-22T00:00:00\",\"2021-01-25T00:00:00\",\"2021-01-26T00:00:00\",\"2021-01-27T00:00:00\",\"2021-01-28T00:00:00\",\"2021-01-29T00:00:00\",\"2021-02-01T00:00:00\",\"2021-02-02T00:00:00\",\"2021-02-03T00:00:00\",\"2021-02-04T00:00:00\",\"2021-02-05T00:00:00\",\"2021-02-08T00:00:00\",\"2021-02-09T00:00:00\",\"2021-02-10T00:00:00\",\"2021-02-11T00:00:00\",\"2021-02-12T00:00:00\",\"2021-02-16T00:00:00\",\"2021-02-17T00:00:00\",\"2021-02-18T00:00:00\",\"2021-02-19T00:00:00\",\"2021-02-22T00:00:00\",\"2021-02-23T00:00:00\",\"2021-02-24T00:00:00\",\"2021-02-25T00:00:00\",\"2021-02-26T00:00:00\",\"2021-03-01T00:00:00\",\"2021-03-02T00:00:00\",\"2021-03-03T00:00:00\",\"2021-03-04T00:00:00\",\"2021-03-05T00:00:00\",\"2021-03-08T00:00:00\",\"2021-03-09T00:00:00\",\"2021-03-10T00:00:00\",\"2021-03-11T00:00:00\",\"2021-03-12T00:00:00\",\"2021-03-15T00:00:00\",\"2021-03-16T00:00:00\",\"2021-03-17T00:00:00\",\"2021-03-18T00:00:00\",\"2021-03-19T00:00:00\",\"2021-03-22T00:00:00\",\"2021-03-23T00:00:00\",\"2021-03-24T00:00:00\",\"2021-03-25T00:00:00\",\"2021-03-26T00:00:00\",\"2021-03-29T00:00:00\",\"2021-03-30T00:00:00\",\"2021-03-31T00:00:00\",\"2021-04-01T00:00:00\",\"2021-04-05T00:00:00\",\"2021-04-06T00:00:00\",\"2021-04-07T00:00:00\",\"2021-04-08T00:00:00\",\"2021-04-09T00:00:00\",\"2021-04-12T00:00:00\",\"2021-04-13T00:00:00\",\"2021-04-14T00:00:00\",\"2021-04-15T00:00:00\",\"2021-04-16T00:00:00\",\"2021-04-19T00:00:00\",\"2021-04-20T00:00:00\",\"2021-04-21T00:00:00\",\"2021-04-22T00:00:00\",\"2021-04-23T00:00:00\",\"2021-04-26T00:00:00\",\"2021-04-27T00:00:00\",\"2021-04-28T00:00:00\",\"2021-04-29T00:00:00\",\"2021-04-30T00:00:00\",\"2021-05-03T00:00:00\",\"2021-05-04T00:00:00\",\"2021-05-05T00:00:00\",\"2021-05-06T00:00:00\",\"2021-05-07T00:00:00\",\"2021-05-10T00:00:00\",\"2021-05-11T00:00:00\",\"2021-05-12T00:00:00\",\"2021-05-13T00:00:00\",\"2021-05-14T00:00:00\",\"2021-05-17T00:00:00\",\"2021-05-18T00:00:00\",\"2021-05-19T00:00:00\",\"2021-05-20T00:00:00\",\"2021-05-21T00:00:00\",\"2021-05-24T00:00:00\",\"2021-05-25T00:00:00\",\"2021-05-26T00:00:00\",\"2021-05-27T00:00:00\",\"2021-05-28T00:00:00\",\"2021-06-01T00:00:00\",\"2021-06-02T00:00:00\",\"2021-06-03T00:00:00\",\"2021-06-04T00:00:00\",\"2021-06-07T00:00:00\",\"2021-06-08T00:00:00\",\"2021-06-09T00:00:00\",\"2021-06-10T00:00:00\",\"2021-06-11T00:00:00\",\"2021-06-14T00:00:00\",\"2021-06-15T00:00:00\",\"2021-06-16T00:00:00\",\"2021-06-17T00:00:00\",\"2021-06-18T00:00:00\",\"2021-06-21T00:00:00\",\"2021-06-22T00:00:00\",\"2021-06-23T00:00:00\",\"2021-06-24T00:00:00\",\"2021-06-25T00:00:00\",\"2021-06-28T00:00:00\",\"2021-06-29T00:00:00\",\"2021-06-30T00:00:00\",\"2021-07-01T00:00:00\",\"2021-07-02T00:00:00\",\"2021-07-06T00:00:00\",\"2021-07-07T00:00:00\",\"2021-07-08T00:00:00\",\"2021-07-09T00:00:00\",\"2021-07-12T00:00:00\",\"2021-07-13T00:00:00\",\"2021-07-14T00:00:00\",\"2021-07-15T00:00:00\",\"2021-07-16T00:00:00\",\"2021-07-19T00:00:00\",\"2021-07-20T00:00:00\",\"2021-07-21T00:00:00\",\"2021-07-22T00:00:00\",\"2021-07-23T00:00:00\",\"2021-07-26T00:00:00\",\"2021-07-27T00:00:00\",\"2021-07-28T00:00:00\",\"2021-07-29T00:00:00\",\"2021-07-30T00:00:00\",\"2021-08-02T00:00:00\",\"2021-08-03T00:00:00\",\"2021-08-04T00:00:00\",\"2021-08-05T00:00:00\",\"2021-08-06T00:00:00\",\"2021-08-09T00:00:00\",\"2021-08-10T00:00:00\",\"2021-08-11T00:00:00\",\"2021-08-12T00:00:00\",\"2021-08-13T00:00:00\",\"2021-08-16T00:00:00\",\"2021-08-17T00:00:00\",\"2021-08-18T00:00:00\",\"2021-08-19T00:00:00\",\"2021-08-20T00:00:00\",\"2021-08-23T00:00:00\",\"2021-08-24T00:00:00\",\"2021-08-25T00:00:00\",\"2021-08-26T00:00:00\",\"2021-08-27T00:00:00\",\"2021-08-30T00:00:00\",\"2021-08-31T00:00:00\",\"2021-09-01T00:00:00\",\"2021-09-02T00:00:00\",\"2021-09-03T00:00:00\",\"2021-09-07T00:00:00\",\"2021-09-08T00:00:00\",\"2021-09-09T00:00:00\",\"2021-09-10T00:00:00\",\"2021-09-13T00:00:00\",\"2021-09-14T00:00:00\",\"2021-09-15T00:00:00\",\"2021-09-16T00:00:00\",\"2021-09-17T00:00:00\",\"2021-09-20T00:00:00\",\"2021-09-21T00:00:00\",\"2021-09-22T00:00:00\",\"2021-09-23T00:00:00\",\"2021-09-24T00:00:00\"],\"xaxis\":\"x\",\"y\":[null,null,null,null,null,null,null,null,null,null,null,null,null,null,null,null,null,null,null,null,null,null,null,null,null,null,null,null,null,null,null,null,null,null,null,null,null,null,null,null,null,null,null,null,null,null,null,null,null,null,null,null,null,null,null,null,null,null,null,null,null,null,null,null,null,null,null,null,null,null,null,null,null,null,null,null,null,null,null,null,null,null,null,null,null,null,null,null,null,null,null,null,null,null,null,null,null,null,null,null,null,null,null,null,null,null,null,null,null,null,null,null,null,null,null,null,null,null,null,null,null,null,null,null,null,null,null,null,null,null,null,null,null,null,null,null,null,null,null,null,null,null,null,null,null,null,null,null,null,null,null,null,null,null,null,null,null,null,null,null,null,null,null,null,null,null,126.98665618896484,127.01839447021484,126.91609954833984,125.55584716796875,124.83870697021484,124.55915832519531,125.21897888183594,124.10809326171875,125.78926086425781,126.14229583740234,126.7886734008789,127.16438293457031,126.28557586669922,127.21561431884766,130.15223693847656,129.63772583007812,129.8628387451172,131.39552307128906,130.22657775878906,131.82765197753906,133.5706787109375,133.22862243652344,132.8075714111328,132.5269317626953,134.22377014160156,135.79959106445312,136.2654266357422,136.39329528808594,139.11485290527344,141.06320190429688,143.38223266601562,141.25018310546875,143.4266357421875,142.5226593017578,143.8688201904297,147.73683166503906,145.98976135253906,143.44065856933594,139.57322692871094,144.92393493652344,143.6548309326172,145.10385131835938,146.7958984375,146.7152557373047,143.83114624023438,142.37472534179688,143.81753540039062,144.0972900390625,143.5782928466797,145.7185516357422,144.79774475097656,144.8704071044922,143.80528259277344,144.00088500976562,143.5391082763672,143.96836853027344,147.44203186035156,146.86843872070312,148.92620849609375,147.1788787841797,142.80816650390625,144.46578979492188,146.47972106933594,147.8384246826172,147.10577392578125,145.4839630126953,144.92221069335938,146.5382080078125,151.6807403564453,148.59280395507812,149.4818878173828,150.772705078125,151.17132568359375,153.8098907470703,150.8850555419922,150.11233520507812,144.4420166015625,147.07110595703125,145.58096313476562,146.98983764648438,146.46865844726562,143.2003173828125,140.35867309570312,141.87130737304688,144.77255249023438,null],\"yaxis\":\"y\"}],                        {\"font\":{\"color\":\"black\",\"size\":15},\"legend\":{\"title\":{\"text\":\"Close Price\"},\"tracegroupgap\":0},\"margin\":{\"t\":60},\"plot_bgcolor\":\"white\",\"template\":{\"data\":{\"bar\":[{\"error_x\":{\"color\":\"#2a3f5f\"},\"error_y\":{\"color\":\"#2a3f5f\"},\"marker\":{\"line\":{\"color\":\"#E5ECF6\",\"width\":0.5},\"pattern\":{\"fillmode\":\"overlay\",\"size\":10,\"solidity\":0.2}},\"type\":\"bar\"}],\"barpolar\":[{\"marker\":{\"line\":{\"color\":\"#E5ECF6\",\"width\":0.5},\"pattern\":{\"fillmode\":\"overlay\",\"size\":10,\"solidity\":0.2}},\"type\":\"barpolar\"}],\"carpet\":[{\"aaxis\":{\"endlinecolor\":\"#2a3f5f\",\"gridcolor\":\"white\",\"linecolor\":\"white\",\"minorgridcolor\":\"white\",\"startlinecolor\":\"#2a3f5f\"},\"baxis\":{\"endlinecolor\":\"#2a3f5f\",\"gridcolor\":\"white\",\"linecolor\":\"white\",\"minorgridcolor\":\"white\",\"startlinecolor\":\"#2a3f5f\"},\"type\":\"carpet\"}],\"choropleth\":[{\"colorbar\":{\"outlinewidth\":0,\"ticks\":\"\"},\"type\":\"choropleth\"}],\"contour\":[{\"colorbar\":{\"outlinewidth\":0,\"ticks\":\"\"},\"colorscale\":[[0.0,\"#0d0887\"],[0.1111111111111111,\"#46039f\"],[0.2222222222222222,\"#7201a8\"],[0.3333333333333333,\"#9c179e\"],[0.4444444444444444,\"#bd3786\"],[0.5555555555555556,\"#d8576b\"],[0.6666666666666666,\"#ed7953\"],[0.7777777777777778,\"#fb9f3a\"],[0.8888888888888888,\"#fdca26\"],[1.0,\"#f0f921\"]],\"type\":\"contour\"}],\"contourcarpet\":[{\"colorbar\":{\"outlinewidth\":0,\"ticks\":\"\"},\"type\":\"contourcarpet\"}],\"heatmap\":[{\"colorbar\":{\"outlinewidth\":0,\"ticks\":\"\"},\"colorscale\":[[0.0,\"#0d0887\"],[0.1111111111111111,\"#46039f\"],[0.2222222222222222,\"#7201a8\"],[0.3333333333333333,\"#9c179e\"],[0.4444444444444444,\"#bd3786\"],[0.5555555555555556,\"#d8576b\"],[0.6666666666666666,\"#ed7953\"],[0.7777777777777778,\"#fb9f3a\"],[0.8888888888888888,\"#fdca26\"],[1.0,\"#f0f921\"]],\"type\":\"heatmap\"}],\"heatmapgl\":[{\"colorbar\":{\"outlinewidth\":0,\"ticks\":\"\"},\"colorscale\":[[0.0,\"#0d0887\"],[0.1111111111111111,\"#46039f\"],[0.2222222222222222,\"#7201a8\"],[0.3333333333333333,\"#9c179e\"],[0.4444444444444444,\"#bd3786\"],[0.5555555555555556,\"#d8576b\"],[0.6666666666666666,\"#ed7953\"],[0.7777777777777778,\"#fb9f3a\"],[0.8888888888888888,\"#fdca26\"],[1.0,\"#f0f921\"]],\"type\":\"heatmapgl\"}],\"histogram\":[{\"marker\":{\"pattern\":{\"fillmode\":\"overlay\",\"size\":10,\"solidity\":0.2}},\"type\":\"histogram\"}],\"histogram2d\":[{\"colorbar\":{\"outlinewidth\":0,\"ticks\":\"\"},\"colorscale\":[[0.0,\"#0d0887\"],[0.1111111111111111,\"#46039f\"],[0.2222222222222222,\"#7201a8\"],[0.3333333333333333,\"#9c179e\"],[0.4444444444444444,\"#bd3786\"],[0.5555555555555556,\"#d8576b\"],[0.6666666666666666,\"#ed7953\"],[0.7777777777777778,\"#fb9f3a\"],[0.8888888888888888,\"#fdca26\"],[1.0,\"#f0f921\"]],\"type\":\"histogram2d\"}],\"histogram2dcontour\":[{\"colorbar\":{\"outlinewidth\":0,\"ticks\":\"\"},\"colorscale\":[[0.0,\"#0d0887\"],[0.1111111111111111,\"#46039f\"],[0.2222222222222222,\"#7201a8\"],[0.3333333333333333,\"#9c179e\"],[0.4444444444444444,\"#bd3786\"],[0.5555555555555556,\"#d8576b\"],[0.6666666666666666,\"#ed7953\"],[0.7777777777777778,\"#fb9f3a\"],[0.8888888888888888,\"#fdca26\"],[1.0,\"#f0f921\"]],\"type\":\"histogram2dcontour\"}],\"mesh3d\":[{\"colorbar\":{\"outlinewidth\":0,\"ticks\":\"\"},\"type\":\"mesh3d\"}],\"parcoords\":[{\"line\":{\"colorbar\":{\"outlinewidth\":0,\"ticks\":\"\"}},\"type\":\"parcoords\"}],\"pie\":[{\"automargin\":true,\"type\":\"pie\"}],\"scatter\":[{\"marker\":{\"colorbar\":{\"outlinewidth\":0,\"ticks\":\"\"}},\"type\":\"scatter\"}],\"scatter3d\":[{\"line\":{\"colorbar\":{\"outlinewidth\":0,\"ticks\":\"\"}},\"marker\":{\"colorbar\":{\"outlinewidth\":0,\"ticks\":\"\"}},\"type\":\"scatter3d\"}],\"scattercarpet\":[{\"marker\":{\"colorbar\":{\"outlinewidth\":0,\"ticks\":\"\"}},\"type\":\"scattercarpet\"}],\"scattergeo\":[{\"marker\":{\"colorbar\":{\"outlinewidth\":0,\"ticks\":\"\"}},\"type\":\"scattergeo\"}],\"scattergl\":[{\"marker\":{\"colorbar\":{\"outlinewidth\":0,\"ticks\":\"\"}},\"type\":\"scattergl\"}],\"scattermapbox\":[{\"marker\":{\"colorbar\":{\"outlinewidth\":0,\"ticks\":\"\"}},\"type\":\"scattermapbox\"}],\"scatterpolar\":[{\"marker\":{\"colorbar\":{\"outlinewidth\":0,\"ticks\":\"\"}},\"type\":\"scatterpolar\"}],\"scatterpolargl\":[{\"marker\":{\"colorbar\":{\"outlinewidth\":0,\"ticks\":\"\"}},\"type\":\"scatterpolargl\"}],\"scatterternary\":[{\"marker\":{\"colorbar\":{\"outlinewidth\":0,\"ticks\":\"\"}},\"type\":\"scatterternary\"}],\"surface\":[{\"colorbar\":{\"outlinewidth\":0,\"ticks\":\"\"},\"colorscale\":[[0.0,\"#0d0887\"],[0.1111111111111111,\"#46039f\"],[0.2222222222222222,\"#7201a8\"],[0.3333333333333333,\"#9c179e\"],[0.4444444444444444,\"#bd3786\"],[0.5555555555555556,\"#d8576b\"],[0.6666666666666666,\"#ed7953\"],[0.7777777777777778,\"#fb9f3a\"],[0.8888888888888888,\"#fdca26\"],[1.0,\"#f0f921\"]],\"type\":\"surface\"}],\"table\":[{\"cells\":{\"fill\":{\"color\":\"#EBF0F8\"},\"line\":{\"color\":\"white\"}},\"header\":{\"fill\":{\"color\":\"#C8D4E3\"},\"line\":{\"color\":\"white\"}},\"type\":\"table\"}]},\"layout\":{\"annotationdefaults\":{\"arrowcolor\":\"#2a3f5f\",\"arrowhead\":0,\"arrowwidth\":1},\"autotypenumbers\":\"strict\",\"coloraxis\":{\"colorbar\":{\"outlinewidth\":0,\"ticks\":\"\"}},\"colorscale\":{\"diverging\":[[0,\"#8e0152\"],[0.1,\"#c51b7d\"],[0.2,\"#de77ae\"],[0.3,\"#f1b6da\"],[0.4,\"#fde0ef\"],[0.5,\"#f7f7f7\"],[0.6,\"#e6f5d0\"],[0.7,\"#b8e186\"],[0.8,\"#7fbc41\"],[0.9,\"#4d9221\"],[1,\"#276419\"]],\"sequential\":[[0.0,\"#0d0887\"],[0.1111111111111111,\"#46039f\"],[0.2222222222222222,\"#7201a8\"],[0.3333333333333333,\"#9c179e\"],[0.4444444444444444,\"#bd3786\"],[0.5555555555555556,\"#d8576b\"],[0.6666666666666666,\"#ed7953\"],[0.7777777777777778,\"#fb9f3a\"],[0.8888888888888888,\"#fdca26\"],[1.0,\"#f0f921\"]],\"sequentialminus\":[[0.0,\"#0d0887\"],[0.1111111111111111,\"#46039f\"],[0.2222222222222222,\"#7201a8\"],[0.3333333333333333,\"#9c179e\"],[0.4444444444444444,\"#bd3786\"],[0.5555555555555556,\"#d8576b\"],[0.6666666666666666,\"#ed7953\"],[0.7777777777777778,\"#fb9f3a\"],[0.8888888888888888,\"#fdca26\"],[1.0,\"#f0f921\"]]},\"colorway\":[\"#636efa\",\"#EF553B\",\"#00cc96\",\"#ab63fa\",\"#FFA15A\",\"#19d3f3\",\"#FF6692\",\"#B6E880\",\"#FF97FF\",\"#FECB52\"],\"font\":{\"color\":\"#2a3f5f\"},\"geo\":{\"bgcolor\":\"white\",\"lakecolor\":\"white\",\"landcolor\":\"#E5ECF6\",\"showlakes\":true,\"showland\":true,\"subunitcolor\":\"white\"},\"hoverlabel\":{\"align\":\"left\"},\"hovermode\":\"closest\",\"mapbox\":{\"style\":\"light\"},\"paper_bgcolor\":\"white\",\"plot_bgcolor\":\"#E5ECF6\",\"polar\":{\"angularaxis\":{\"gridcolor\":\"white\",\"linecolor\":\"white\",\"ticks\":\"\"},\"bgcolor\":\"#E5ECF6\",\"radialaxis\":{\"gridcolor\":\"white\",\"linecolor\":\"white\",\"ticks\":\"\"}},\"scene\":{\"xaxis\":{\"backgroundcolor\":\"#E5ECF6\",\"gridcolor\":\"white\",\"gridwidth\":2,\"linecolor\":\"white\",\"showbackground\":true,\"ticks\":\"\",\"zerolinecolor\":\"white\"},\"yaxis\":{\"backgroundcolor\":\"#E5ECF6\",\"gridcolor\":\"white\",\"gridwidth\":2,\"linecolor\":\"white\",\"showbackground\":true,\"ticks\":\"\",\"zerolinecolor\":\"white\"},\"zaxis\":{\"backgroundcolor\":\"#E5ECF6\",\"gridcolor\":\"white\",\"gridwidth\":2,\"linecolor\":\"white\",\"showbackground\":true,\"ticks\":\"\",\"zerolinecolor\":\"white\"}},\"shapedefaults\":{\"line\":{\"color\":\"#2a3f5f\"}},\"ternary\":{\"aaxis\":{\"gridcolor\":\"white\",\"linecolor\":\"white\",\"ticks\":\"\"},\"baxis\":{\"gridcolor\":\"white\",\"linecolor\":\"white\",\"ticks\":\"\"},\"bgcolor\":\"#E5ECF6\",\"caxis\":{\"gridcolor\":\"white\",\"linecolor\":\"white\",\"ticks\":\"\"}},\"title\":{\"x\":0.05},\"xaxis\":{\"automargin\":true,\"gridcolor\":\"white\",\"linecolor\":\"white\",\"ticks\":\"\",\"title\":{\"standoff\":15},\"zerolinecolor\":\"white\",\"zerolinewidth\":2},\"yaxis\":{\"automargin\":true,\"gridcolor\":\"white\",\"linecolor\":\"white\",\"ticks\":\"\",\"title\":{\"standoff\":15},\"zerolinecolor\":\"white\",\"zerolinewidth\":2}}},\"title\":{\"text\":\"Comparision between original close price vs predicted close price\"},\"xaxis\":{\"anchor\":\"y\",\"domain\":[0.0,1.0],\"showgrid\":false,\"title\":{\"text\":\"Date\"}},\"yaxis\":{\"anchor\":\"x\",\"domain\":[0.0,1.0],\"showgrid\":false,\"title\":{\"text\":\"Stock price\"}}},                        {\"responsive\": true}                    ).then(function(){\n",
              "                            \n",
              "var gd = document.getElementById('2d618f14-2f6d-4915-92ad-fac6d8b21ca9');\n",
              "var x = new MutationObserver(function (mutations, observer) {{\n",
              "        var display = window.getComputedStyle(gd).display;\n",
              "        if (!display || display === 'none') {{\n",
              "            console.log([gd, 'removed!']);\n",
              "            Plotly.purge(gd);\n",
              "            observer.disconnect();\n",
              "        }}\n",
              "}});\n",
              "\n",
              "// Listen for the removal of the full notebook cells\n",
              "var notebookContainer = gd.closest('#notebook-container');\n",
              "if (notebookContainer) {{\n",
              "    x.observe(notebookContainer, {childList: true});\n",
              "}}\n",
              "\n",
              "// Listen for the clearing of the current output cell\n",
              "var outputEl = gd.closest('.output');\n",
              "if (outputEl) {{\n",
              "    x.observe(outputEl, {childList: true});\n",
              "}}\n",
              "\n",
              "                        })                };                            </script>        </div>\n",
              "</body>\n",
              "</html>"
            ]
          },
          "metadata": {}
        }
      ]
    },
    {
      "cell_type": "code",
      "metadata": {
        "colab": {
          "base_uri": "https://localhost:8080/"
        },
        "id": "zOsUFVVp188f",
        "outputId": "a6b30ecb-75b8-4c77-b9fe-2a820b4457bc"
      },
      "source": [
        "x_input=test_data[len(test_data)-time_step:].reshape(1,-1)\n",
        "temp_input=list(x_input)\n",
        "temp_input=temp_input[0].tolist()\n",
        "\n",
        "from numpy import array\n",
        "\n",
        "lst_output=[]\n",
        "n_steps=time_step\n",
        "i=0\n",
        "pred_days = 30\n",
        "while(i<pred_days):\n",
        "    \n",
        "    if(len(temp_input)>time_step):\n",
        "        \n",
        "        x_input=np.array(temp_input[1:])\n",
        "        #print(\"{} day input {}\".format(i,x_input))\n",
        "        x_input = x_input.reshape(1,-1)\n",
        "        x_input = x_input.reshape((1, n_steps, 1))\n",
        "        \n",
        "        yhat = model.predict(x_input, verbose=0)\n",
        "        #print(\"{} day output {}\".format(i,yhat))\n",
        "        temp_input.extend(yhat[0].tolist())\n",
        "        temp_input=temp_input[1:]\n",
        "        #print(temp_input)\n",
        "       \n",
        "        lst_output.extend(yhat.tolist())\n",
        "        i=i+1\n",
        "        \n",
        "    else:\n",
        "        \n",
        "        x_input = x_input.reshape((1, n_steps,1))\n",
        "        yhat = model.predict(x_input, verbose=0)\n",
        "        temp_input.extend(yhat[0].tolist())\n",
        "        \n",
        "        lst_output.extend(yhat.tolist())\n",
        "        i=i+1\n",
        "               \n",
        "print(\"Output of predicted next days: \", len(lst_output))"
      ],
      "execution_count": null,
      "outputs": [
        {
          "output_type": "stream",
          "name": "stdout",
          "text": [
            "Output of predicted next days:  30\n"
          ]
        }
      ]
    },
    {
      "cell_type": "code",
      "metadata": {
        "colab": {
          "base_uri": "https://localhost:8080/"
        },
        "id": "9xoTa4Ew2CsO",
        "outputId": "c285928d-80ec-4822-ce25-df9e055b8383"
      },
      "source": [
        "last_days=np.arange(1,time_step+1)\n",
        "day_pred=np.arange(time_step+1,time_step+pred_days+1)\n",
        "print(last_days)\n",
        "print(day_pred)"
      ],
      "execution_count": null,
      "outputs": [
        {
          "output_type": "stream",
          "name": "stdout",
          "text": [
            "[ 1  2  3  4  5  6  7  8  9 10 11 12 13 14 15]\n",
            "[16 17 18 19 20 21 22 23 24 25 26 27 28 29 30 31 32 33 34 35 36 37 38 39\n",
            " 40 41 42 43 44 45]\n"
          ]
        }
      ]
    },
    {
      "cell_type": "code",
      "metadata": {
        "colab": {
          "base_uri": "https://localhost:8080/",
          "height": 542
        },
        "id": "szoI99xy2LYw",
        "outputId": "46832c71-5f0e-4a9c-c631-72df9af95ddd"
      },
      "source": [
        "temp_mat = np.empty((len(last_days)+pred_days+1,1))\n",
        "temp_mat[:] = np.nan\n",
        "temp_mat = temp_mat.reshape(1,-1).tolist()[0]\n",
        "\n",
        "last_original_days_value = temp_mat\n",
        "next_predicted_days_value = temp_mat\n",
        "\n",
        "last_original_days_value[0:time_step+1] = scaler.inverse_transform(closedf[len(closedf)-time_step:]).reshape(1,-1).tolist()[0]\n",
        "next_predicted_days_value[time_step+1:] = scaler.inverse_transform(np.array(lst_output).reshape(-1,1)).reshape(1,-1).tolist()[0]\n",
        "\n",
        "new_pred_plot = pd.DataFrame({\n",
        "    'last_original_days_value':last_original_days_value,\n",
        "    'next_predicted_days_value':next_predicted_days_value\n",
        "})\n",
        "\n",
        "names = cycle(['Last 15 days close price','Predicted next 30 days close price'])\n",
        "\n",
        "fig = px.line(new_pred_plot,x=new_pred_plot.index, y=[new_pred_plot['last_original_days_value'],\n",
        "                                                      new_pred_plot['next_predicted_days_value']],\n",
        "              labels={'value': 'Stock price','index': 'Timestamp'})\n",
        "fig.update_layout(title_text='Compare last 15 days vs next 30 days',\n",
        "                  plot_bgcolor='white', font_size=15, font_color='black',legend_title_text='Close Price')\n",
        "\n",
        "fig.for_each_trace(lambda t:  t.update(name = next(names)))\n",
        "fig.update_xaxes(showgrid=False)\n",
        "fig.update_yaxes(showgrid=False)\n",
        "fig.show()"
      ],
      "execution_count": null,
      "outputs": [
        {
          "output_type": "display_data",
          "data": {
            "text/html": [
              "<html>\n",
              "<head><meta charset=\"utf-8\" /></head>\n",
              "<body>\n",
              "    <div>            <script src=\"https://cdnjs.cloudflare.com/ajax/libs/mathjax/2.7.5/MathJax.js?config=TeX-AMS-MML_SVG\"></script><script type=\"text/javascript\">if (window.MathJax) {MathJax.Hub.Config({SVG: {font: \"STIX-Web\"}});}</script>                <script type=\"text/javascript\">window.PlotlyConfig = {MathJaxConfig: 'local'};</script>\n",
              "        <script src=\"https://cdn.plot.ly/plotly-2.4.2.min.js\"></script>                <div id=\"fe1e50f7-df30-4c73-b029-0dc675580412\" class=\"plotly-graph-div\" style=\"height:525px; width:100%;\"></div>            <script type=\"text/javascript\">                                    window.PLOTLYENV=window.PLOTLYENV || {};                                    if (document.getElementById(\"fe1e50f7-df30-4c73-b029-0dc675580412\")) {                    Plotly.newPlot(                        \"fe1e50f7-df30-4c73-b029-0dc675580412\",                        [{\"hovertemplate\":\"variable=last_original_days_value<br>Timestamp=%{x}<br>Stock price=%{y}<extra></extra>\",\"legendgroup\":\"last_original_days_value\",\"line\":{\"color\":\"#636efa\",\"dash\":\"solid\"},\"marker\":{\"symbol\":\"circle\"},\"mode\":\"lines\",\"name\":\"Last 15 days close price\",\"orientation\":\"v\",\"showlegend\":true,\"type\":\"scatter\",\"x\":[0,1,2,3,4,5,6,7,8,9,10,11,12,13,14,15,16,17,18,19,20,21,22,23,24,25,26,27,28,29,30,31,32,33,34,35,36,37,38,39,40,41,42,43,44,45],\"xaxis\":\"x\",\"y\":[154.300003,156.690002,155.110001,154.070007,148.970001,149.550003,148.119995,149.029999,148.78999299999998,146.059998,142.940002,143.429993,145.850006,146.830002,146.919998,null,144.86510681476784,142.33752404390495,139.98720045062555,138.13550755226444,136.7910826635657,135.82482020789456,135.09507564971221,134.4982097808553,133.97378424815489,133.4933964531274,133.04720945398105,132.6336237479855,132.2530506358428,131.90528018281964,131.58889140211534,131.30150360529106,131.04032194695097,130.80252301915047,130.58550477369783,130.38697649418276,130.2049787897606,130.03782932630955,129.8840971201369,129.74253970037174,129.6120659776516,129.49170054093642,129.38057651687143,129.277915576003,129.18301079524946,129.09521523288143],\"yaxis\":\"y\"},{\"hovertemplate\":\"variable=next_predicted_days_value<br>Timestamp=%{x}<br>Stock price=%{y}<extra></extra>\",\"legendgroup\":\"next_predicted_days_value\",\"line\":{\"color\":\"#EF553B\",\"dash\":\"solid\"},\"marker\":{\"symbol\":\"circle\"},\"mode\":\"lines\",\"name\":\"Predicted next 30 days close price\",\"orientation\":\"v\",\"showlegend\":true,\"type\":\"scatter\",\"x\":[0,1,2,3,4,5,6,7,8,9,10,11,12,13,14,15,16,17,18,19,20,21,22,23,24,25,26,27,28,29,30,31,32,33,34,35,36,37,38,39,40,41,42,43,44,45],\"xaxis\":\"x\",\"y\":[154.300003,156.690002,155.110001,154.070007,148.970001,149.550003,148.119995,149.029999,148.78999299999998,146.059998,142.940002,143.429993,145.850006,146.830002,146.919998,null,144.86510681476784,142.33752404390495,139.98720045062555,138.13550755226444,136.7910826635657,135.82482020789456,135.09507564971221,134.4982097808553,133.97378424815489,133.4933964531274,133.04720945398105,132.6336237479855,132.2530506358428,131.90528018281964,131.58889140211534,131.30150360529106,131.04032194695097,130.80252301915047,130.58550477369783,130.38697649418276,130.2049787897606,130.03782932630955,129.8840971201369,129.74253970037174,129.6120659776516,129.49170054093642,129.38057651687143,129.277915576003,129.18301079524946,129.09521523288143],\"yaxis\":\"y\"}],                        {\"font\":{\"color\":\"black\",\"size\":15},\"legend\":{\"title\":{\"text\":\"Close Price\"},\"tracegroupgap\":0},\"margin\":{\"t\":60},\"plot_bgcolor\":\"white\",\"template\":{\"data\":{\"bar\":[{\"error_x\":{\"color\":\"#2a3f5f\"},\"error_y\":{\"color\":\"#2a3f5f\"},\"marker\":{\"line\":{\"color\":\"#E5ECF6\",\"width\":0.5},\"pattern\":{\"fillmode\":\"overlay\",\"size\":10,\"solidity\":0.2}},\"type\":\"bar\"}],\"barpolar\":[{\"marker\":{\"line\":{\"color\":\"#E5ECF6\",\"width\":0.5},\"pattern\":{\"fillmode\":\"overlay\",\"size\":10,\"solidity\":0.2}},\"type\":\"barpolar\"}],\"carpet\":[{\"aaxis\":{\"endlinecolor\":\"#2a3f5f\",\"gridcolor\":\"white\",\"linecolor\":\"white\",\"minorgridcolor\":\"white\",\"startlinecolor\":\"#2a3f5f\"},\"baxis\":{\"endlinecolor\":\"#2a3f5f\",\"gridcolor\":\"white\",\"linecolor\":\"white\",\"minorgridcolor\":\"white\",\"startlinecolor\":\"#2a3f5f\"},\"type\":\"carpet\"}],\"choropleth\":[{\"colorbar\":{\"outlinewidth\":0,\"ticks\":\"\"},\"type\":\"choropleth\"}],\"contour\":[{\"colorbar\":{\"outlinewidth\":0,\"ticks\":\"\"},\"colorscale\":[[0.0,\"#0d0887\"],[0.1111111111111111,\"#46039f\"],[0.2222222222222222,\"#7201a8\"],[0.3333333333333333,\"#9c179e\"],[0.4444444444444444,\"#bd3786\"],[0.5555555555555556,\"#d8576b\"],[0.6666666666666666,\"#ed7953\"],[0.7777777777777778,\"#fb9f3a\"],[0.8888888888888888,\"#fdca26\"],[1.0,\"#f0f921\"]],\"type\":\"contour\"}],\"contourcarpet\":[{\"colorbar\":{\"outlinewidth\":0,\"ticks\":\"\"},\"type\":\"contourcarpet\"}],\"heatmap\":[{\"colorbar\":{\"outlinewidth\":0,\"ticks\":\"\"},\"colorscale\":[[0.0,\"#0d0887\"],[0.1111111111111111,\"#46039f\"],[0.2222222222222222,\"#7201a8\"],[0.3333333333333333,\"#9c179e\"],[0.4444444444444444,\"#bd3786\"],[0.5555555555555556,\"#d8576b\"],[0.6666666666666666,\"#ed7953\"],[0.7777777777777778,\"#fb9f3a\"],[0.8888888888888888,\"#fdca26\"],[1.0,\"#f0f921\"]],\"type\":\"heatmap\"}],\"heatmapgl\":[{\"colorbar\":{\"outlinewidth\":0,\"ticks\":\"\"},\"colorscale\":[[0.0,\"#0d0887\"],[0.1111111111111111,\"#46039f\"],[0.2222222222222222,\"#7201a8\"],[0.3333333333333333,\"#9c179e\"],[0.4444444444444444,\"#bd3786\"],[0.5555555555555556,\"#d8576b\"],[0.6666666666666666,\"#ed7953\"],[0.7777777777777778,\"#fb9f3a\"],[0.8888888888888888,\"#fdca26\"],[1.0,\"#f0f921\"]],\"type\":\"heatmapgl\"}],\"histogram\":[{\"marker\":{\"pattern\":{\"fillmode\":\"overlay\",\"size\":10,\"solidity\":0.2}},\"type\":\"histogram\"}],\"histogram2d\":[{\"colorbar\":{\"outlinewidth\":0,\"ticks\":\"\"},\"colorscale\":[[0.0,\"#0d0887\"],[0.1111111111111111,\"#46039f\"],[0.2222222222222222,\"#7201a8\"],[0.3333333333333333,\"#9c179e\"],[0.4444444444444444,\"#bd3786\"],[0.5555555555555556,\"#d8576b\"],[0.6666666666666666,\"#ed7953\"],[0.7777777777777778,\"#fb9f3a\"],[0.8888888888888888,\"#fdca26\"],[1.0,\"#f0f921\"]],\"type\":\"histogram2d\"}],\"histogram2dcontour\":[{\"colorbar\":{\"outlinewidth\":0,\"ticks\":\"\"},\"colorscale\":[[0.0,\"#0d0887\"],[0.1111111111111111,\"#46039f\"],[0.2222222222222222,\"#7201a8\"],[0.3333333333333333,\"#9c179e\"],[0.4444444444444444,\"#bd3786\"],[0.5555555555555556,\"#d8576b\"],[0.6666666666666666,\"#ed7953\"],[0.7777777777777778,\"#fb9f3a\"],[0.8888888888888888,\"#fdca26\"],[1.0,\"#f0f921\"]],\"type\":\"histogram2dcontour\"}],\"mesh3d\":[{\"colorbar\":{\"outlinewidth\":0,\"ticks\":\"\"},\"type\":\"mesh3d\"}],\"parcoords\":[{\"line\":{\"colorbar\":{\"outlinewidth\":0,\"ticks\":\"\"}},\"type\":\"parcoords\"}],\"pie\":[{\"automargin\":true,\"type\":\"pie\"}],\"scatter\":[{\"marker\":{\"colorbar\":{\"outlinewidth\":0,\"ticks\":\"\"}},\"type\":\"scatter\"}],\"scatter3d\":[{\"line\":{\"colorbar\":{\"outlinewidth\":0,\"ticks\":\"\"}},\"marker\":{\"colorbar\":{\"outlinewidth\":0,\"ticks\":\"\"}},\"type\":\"scatter3d\"}],\"scattercarpet\":[{\"marker\":{\"colorbar\":{\"outlinewidth\":0,\"ticks\":\"\"}},\"type\":\"scattercarpet\"}],\"scattergeo\":[{\"marker\":{\"colorbar\":{\"outlinewidth\":0,\"ticks\":\"\"}},\"type\":\"scattergeo\"}],\"scattergl\":[{\"marker\":{\"colorbar\":{\"outlinewidth\":0,\"ticks\":\"\"}},\"type\":\"scattergl\"}],\"scattermapbox\":[{\"marker\":{\"colorbar\":{\"outlinewidth\":0,\"ticks\":\"\"}},\"type\":\"scattermapbox\"}],\"scatterpolar\":[{\"marker\":{\"colorbar\":{\"outlinewidth\":0,\"ticks\":\"\"}},\"type\":\"scatterpolar\"}],\"scatterpolargl\":[{\"marker\":{\"colorbar\":{\"outlinewidth\":0,\"ticks\":\"\"}},\"type\":\"scatterpolargl\"}],\"scatterternary\":[{\"marker\":{\"colorbar\":{\"outlinewidth\":0,\"ticks\":\"\"}},\"type\":\"scatterternary\"}],\"surface\":[{\"colorbar\":{\"outlinewidth\":0,\"ticks\":\"\"},\"colorscale\":[[0.0,\"#0d0887\"],[0.1111111111111111,\"#46039f\"],[0.2222222222222222,\"#7201a8\"],[0.3333333333333333,\"#9c179e\"],[0.4444444444444444,\"#bd3786\"],[0.5555555555555556,\"#d8576b\"],[0.6666666666666666,\"#ed7953\"],[0.7777777777777778,\"#fb9f3a\"],[0.8888888888888888,\"#fdca26\"],[1.0,\"#f0f921\"]],\"type\":\"surface\"}],\"table\":[{\"cells\":{\"fill\":{\"color\":\"#EBF0F8\"},\"line\":{\"color\":\"white\"}},\"header\":{\"fill\":{\"color\":\"#C8D4E3\"},\"line\":{\"color\":\"white\"}},\"type\":\"table\"}]},\"layout\":{\"annotationdefaults\":{\"arrowcolor\":\"#2a3f5f\",\"arrowhead\":0,\"arrowwidth\":1},\"autotypenumbers\":\"strict\",\"coloraxis\":{\"colorbar\":{\"outlinewidth\":0,\"ticks\":\"\"}},\"colorscale\":{\"diverging\":[[0,\"#8e0152\"],[0.1,\"#c51b7d\"],[0.2,\"#de77ae\"],[0.3,\"#f1b6da\"],[0.4,\"#fde0ef\"],[0.5,\"#f7f7f7\"],[0.6,\"#e6f5d0\"],[0.7,\"#b8e186\"],[0.8,\"#7fbc41\"],[0.9,\"#4d9221\"],[1,\"#276419\"]],\"sequential\":[[0.0,\"#0d0887\"],[0.1111111111111111,\"#46039f\"],[0.2222222222222222,\"#7201a8\"],[0.3333333333333333,\"#9c179e\"],[0.4444444444444444,\"#bd3786\"],[0.5555555555555556,\"#d8576b\"],[0.6666666666666666,\"#ed7953\"],[0.7777777777777778,\"#fb9f3a\"],[0.8888888888888888,\"#fdca26\"],[1.0,\"#f0f921\"]],\"sequentialminus\":[[0.0,\"#0d0887\"],[0.1111111111111111,\"#46039f\"],[0.2222222222222222,\"#7201a8\"],[0.3333333333333333,\"#9c179e\"],[0.4444444444444444,\"#bd3786\"],[0.5555555555555556,\"#d8576b\"],[0.6666666666666666,\"#ed7953\"],[0.7777777777777778,\"#fb9f3a\"],[0.8888888888888888,\"#fdca26\"],[1.0,\"#f0f921\"]]},\"colorway\":[\"#636efa\",\"#EF553B\",\"#00cc96\",\"#ab63fa\",\"#FFA15A\",\"#19d3f3\",\"#FF6692\",\"#B6E880\",\"#FF97FF\",\"#FECB52\"],\"font\":{\"color\":\"#2a3f5f\"},\"geo\":{\"bgcolor\":\"white\",\"lakecolor\":\"white\",\"landcolor\":\"#E5ECF6\",\"showlakes\":true,\"showland\":true,\"subunitcolor\":\"white\"},\"hoverlabel\":{\"align\":\"left\"},\"hovermode\":\"closest\",\"mapbox\":{\"style\":\"light\"},\"paper_bgcolor\":\"white\",\"plot_bgcolor\":\"#E5ECF6\",\"polar\":{\"angularaxis\":{\"gridcolor\":\"white\",\"linecolor\":\"white\",\"ticks\":\"\"},\"bgcolor\":\"#E5ECF6\",\"radialaxis\":{\"gridcolor\":\"white\",\"linecolor\":\"white\",\"ticks\":\"\"}},\"scene\":{\"xaxis\":{\"backgroundcolor\":\"#E5ECF6\",\"gridcolor\":\"white\",\"gridwidth\":2,\"linecolor\":\"white\",\"showbackground\":true,\"ticks\":\"\",\"zerolinecolor\":\"white\"},\"yaxis\":{\"backgroundcolor\":\"#E5ECF6\",\"gridcolor\":\"white\",\"gridwidth\":2,\"linecolor\":\"white\",\"showbackground\":true,\"ticks\":\"\",\"zerolinecolor\":\"white\"},\"zaxis\":{\"backgroundcolor\":\"#E5ECF6\",\"gridcolor\":\"white\",\"gridwidth\":2,\"linecolor\":\"white\",\"showbackground\":true,\"ticks\":\"\",\"zerolinecolor\":\"white\"}},\"shapedefaults\":{\"line\":{\"color\":\"#2a3f5f\"}},\"ternary\":{\"aaxis\":{\"gridcolor\":\"white\",\"linecolor\":\"white\",\"ticks\":\"\"},\"baxis\":{\"gridcolor\":\"white\",\"linecolor\":\"white\",\"ticks\":\"\"},\"bgcolor\":\"#E5ECF6\",\"caxis\":{\"gridcolor\":\"white\",\"linecolor\":\"white\",\"ticks\":\"\"}},\"title\":{\"x\":0.05},\"xaxis\":{\"automargin\":true,\"gridcolor\":\"white\",\"linecolor\":\"white\",\"ticks\":\"\",\"title\":{\"standoff\":15},\"zerolinecolor\":\"white\",\"zerolinewidth\":2},\"yaxis\":{\"automargin\":true,\"gridcolor\":\"white\",\"linecolor\":\"white\",\"ticks\":\"\",\"title\":{\"standoff\":15},\"zerolinecolor\":\"white\",\"zerolinewidth\":2}}},\"title\":{\"text\":\"Compare last 15 days vs next 30 days\"},\"xaxis\":{\"anchor\":\"y\",\"domain\":[0.0,1.0],\"showgrid\":false,\"title\":{\"text\":\"Timestamp\"}},\"yaxis\":{\"anchor\":\"x\",\"domain\":[0.0,1.0],\"showgrid\":false,\"title\":{\"text\":\"Stock price\"}}},                        {\"responsive\": true}                    ).then(function(){\n",
              "                            \n",
              "var gd = document.getElementById('fe1e50f7-df30-4c73-b029-0dc675580412');\n",
              "var x = new MutationObserver(function (mutations, observer) {{\n",
              "        var display = window.getComputedStyle(gd).display;\n",
              "        if (!display || display === 'none') {{\n",
              "            console.log([gd, 'removed!']);\n",
              "            Plotly.purge(gd);\n",
              "            observer.disconnect();\n",
              "        }}\n",
              "}});\n",
              "\n",
              "// Listen for the removal of the full notebook cells\n",
              "var notebookContainer = gd.closest('#notebook-container');\n",
              "if (notebookContainer) {{\n",
              "    x.observe(notebookContainer, {childList: true});\n",
              "}}\n",
              "\n",
              "// Listen for the clearing of the current output cell\n",
              "var outputEl = gd.closest('.output');\n",
              "if (outputEl) {{\n",
              "    x.observe(outputEl, {childList: true});\n",
              "}}\n",
              "\n",
              "                        })                };                            </script>        </div>\n",
              "</body>\n",
              "</html>"
            ]
          },
          "metadata": {}
        }
      ]
    },
    {
      "cell_type": "code",
      "metadata": {
        "colab": {
          "base_uri": "https://localhost:8080/",
          "height": 542
        },
        "id": "QnIBjWKp2OVE",
        "outputId": "613a2d7c-3b39-40ba-86e7-f8de96f43dae"
      },
      "source": [
        "lstmdf=closedf.tolist()\n",
        "lstmdf.extend((np.array(lst_output).reshape(-1,1)).tolist())\n",
        "lstmdf=scaler.inverse_transform(lstmdf).reshape(1,-1).tolist()[0]\n",
        "\n",
        "names = cycle(['Close price'])\n",
        "\n",
        "fig = px.line(lstmdf,labels={'value': 'Stock price','index': 'Timestamp'})\n",
        "fig.update_layout(title_text='Plotting whole closing stock price with prediction',\n",
        "                  plot_bgcolor='white', font_size=15, font_color='black',legend_title_text='Stock')\n",
        "\n",
        "fig.for_each_trace(lambda t:  t.update(name = next(names)))\n",
        "\n",
        "fig.update_xaxes(showgrid=False)\n",
        "fig.update_yaxes(showgrid=False)\n",
        "fig.show()"
      ],
      "execution_count": null,
      "outputs": [
        {
          "output_type": "display_data",
          "data": {
            "text/html": [
              "<html>\n",
              "<head><meta charset=\"utf-8\" /></head>\n",
              "<body>\n",
              "    <div>            <script src=\"https://cdnjs.cloudflare.com/ajax/libs/mathjax/2.7.5/MathJax.js?config=TeX-AMS-MML_SVG\"></script><script type=\"text/javascript\">if (window.MathJax) {MathJax.Hub.Config({SVG: {font: \"STIX-Web\"}});}</script>                <script type=\"text/javascript\">window.PlotlyConfig = {MathJaxConfig: 'local'};</script>\n",
              "        <script src=\"https://cdn.plot.ly/plotly-2.4.2.min.js\"></script>                <div id=\"e4e6a924-f198-4040-8508-df24cad12556\" class=\"plotly-graph-div\" style=\"height:525px; width:100%;\"></div>            <script type=\"text/javascript\">                                    window.PLOTLYENV=window.PLOTLYENV || {};                                    if (document.getElementById(\"e4e6a924-f198-4040-8508-df24cad12556\")) {                    Plotly.newPlot(                        \"e4e6a924-f198-4040-8508-df24cad12556\",                        [{\"hovertemplate\":\"variable=0<br>Timestamp=%{x}<br>Stock price=%{y}<extra></extra>\",\"legendgroup\":\"0\",\"line\":{\"color\":\"#636efa\",\"dash\":\"solid\"},\"marker\":{\"symbol\":\"circle\"},\"mode\":\"lines\",\"name\":\"Close price\",\"orientation\":\"v\",\"showlegend\":true,\"type\":\"scatter\",\"x\":[0,1,2,3,4,5,6,7,8,9,10,11,12,13,14,15,16,17,18,19,20,21,22,23,24,25,26,27,28,29,30,31,32,33,34,35,36,37,38,39,40,41,42,43,44,45,46,47,48,49,50,51,52,53,54,55,56,57,58,59,60,61,62,63,64,65,66,67,68,69,70,71,72,73,74,75,76,77,78,79,80,81,82,83,84,85,86,87,88,89,90,91,92,93,94,95,96,97,98,99,100,101,102,103,104,105,106,107,108,109,110,111,112,113,114,115,116,117,118,119,120,121,122,123,124,125,126,127,128,129,130,131,132,133,134,135,136,137,138,139,140,141,142,143,144,145,146,147,148,149,150,151,152,153,154,155,156,157,158,159,160,161,162,163,164,165,166,167,168,169,170,171,172,173,174,175,176,177,178,179,180,181,182,183,184,185,186,187,188,189,190,191,192,193,194,195,196,197,198,199,200,201,202,203,204,205,206,207,208,209,210,211,212,213,214,215,216,217,218,219,220,221,222,223,224,225,226,227,228,229,230,231,232,233,234,235,236,237,238,239,240,241,242,243,244,245,246,247,248,249,250,251,252,253,254,255,256,257,258,259,260,261,262,263,264,265,266,267,268,269,270,271,272,273,274,275,276,277,278,279,280,281],\"xaxis\":\"x\",\"y\":[112.279999,114.959999,114.089996,115.809998,116.790001,113.019997,116.50000000000001,113.16000400000001,115.08000200000001,114.970001,116.970001,124.40000200000001,121.099998,121.190002,120.709999,119.019997,115.98000299999998,117.510002,116.870003,115.75,115.040001,115.050003,116.59999800000001,111.199997,115.32000000000001,108.860001,108.76999700000002,110.44000200000002,114.949997,119.029999,118.690002,116.32000000000001,115.970001,119.48999799999999,119.209999,119.26000199999999,120.30000299999999,119.389999,118.029999,118.63999900000002,117.339996,113.849998,115.16999799999999,116.029999,116.58999599999999,119.050003,122.720001,123.08000200000001,122.940002,122.25,123.75,124.379997,121.779999,123.239998,122.410004,121.779999,127.87999700000002,127.809998,128.699997,126.660004,128.229996,131.880005,130.96000700000002,131.970001,136.690002,134.869995,133.720001,132.690002,129.41000400000001,131.009995,126.59999800000001,130.919998,132.050003,128.979996,128.800003,130.889999,128.91000400000001,127.139999,127.83000200000001,132.029999,136.869995,139.070007,142.919998,143.16000400000001,142.059998,137.08999599999999,131.96000700000002,134.139999,134.990005,133.940002,137.389999,136.759995,136.91000400000001,136.009995,135.389999,135.130005,135.369995,133.190002,130.83999599999999,129.71000700000002,129.869995,126.0,125.860001,125.349998,120.989998,121.26000199999999,127.790001,125.12000299999998,122.059998,120.129997,121.419998,116.36000100000001,121.089996,119.980003,121.959999,121.029999,123.989998,125.57,124.760002,120.52999899999999,119.989998,123.389999,122.54000100000002,120.089996,120.58999599999999,121.209999,121.389999,119.900002,122.150002,123.0,125.900002,126.209999,127.900002,130.360001,133.0,131.240005,134.429993,132.029999,134.5,134.16000400000001,134.83999599999999,133.110001,133.5,131.940002,134.320007,134.720001,134.389999,133.580002,133.479996,131.46000700000002,132.53999299999998,127.849998,128.100006,129.740005,130.21000700000002,126.849998,125.910004,122.76999700000002,124.970001,127.44999699999998,126.269997,124.849998,124.690002,127.30999799999998,125.43,127.099998,126.900002,126.849998,125.279999,124.610001,124.279999,125.059998,123.54000100000002,125.889999,125.900002,126.73999800000001,127.129997,126.110001,127.349998,130.479996,129.639999,130.149994,131.78999299999998,130.46000700000002,132.300003,133.979996,133.699997,133.41000400000001,133.110001,134.779999,136.330002,136.96000700000002,137.270004,139.96000700000002,142.020004,144.570007,143.240005,145.110001,144.5,145.639999,149.149994,148.479996,146.389999,142.449997,146.149994,145.399994,146.800003,148.559998,148.990005,146.770004,144.979996,145.639999,145.860001,145.520004,147.360001,146.949997,147.059998,146.139999,146.08999599999999,145.600006,145.860001,148.889999,149.100006,151.119995,150.190002,146.360001,146.699997,148.190002,149.71000700000002,149.619995,148.360001,147.53999299999998,148.600006,153.119995,151.830002,152.509995,153.649994,154.300003,156.690002,155.110001,154.070007,148.970001,149.550003,148.119995,149.029999,148.78999299999998,146.059998,142.940002,143.429993,145.850006,146.830002,146.919998,144.86510681476784,142.33752404390495,139.98720045062555,138.13550755226444,136.7910826635657,135.82482020789456,135.09507564971221,134.4982097808553,133.97378424815489,133.4933964531274,133.04720945398105,132.6336237479855,132.2530506358428,131.90528018281964,131.58889140211534,131.30150360529106,131.04032194695097,130.80252301915047,130.58550477369783,130.38697649418276,130.2049787897606,130.03782932630955,129.8840971201369,129.74253970037174,129.6120659776516,129.49170054093642,129.38057651687143,129.277915576003,129.18301079524946,129.09521523288143],\"yaxis\":\"y\"}],                        {\"font\":{\"color\":\"black\",\"size\":15},\"legend\":{\"title\":{\"text\":\"Stock\"},\"tracegroupgap\":0},\"margin\":{\"t\":60},\"plot_bgcolor\":\"white\",\"template\":{\"data\":{\"bar\":[{\"error_x\":{\"color\":\"#2a3f5f\"},\"error_y\":{\"color\":\"#2a3f5f\"},\"marker\":{\"line\":{\"color\":\"#E5ECF6\",\"width\":0.5},\"pattern\":{\"fillmode\":\"overlay\",\"size\":10,\"solidity\":0.2}},\"type\":\"bar\"}],\"barpolar\":[{\"marker\":{\"line\":{\"color\":\"#E5ECF6\",\"width\":0.5},\"pattern\":{\"fillmode\":\"overlay\",\"size\":10,\"solidity\":0.2}},\"type\":\"barpolar\"}],\"carpet\":[{\"aaxis\":{\"endlinecolor\":\"#2a3f5f\",\"gridcolor\":\"white\",\"linecolor\":\"white\",\"minorgridcolor\":\"white\",\"startlinecolor\":\"#2a3f5f\"},\"baxis\":{\"endlinecolor\":\"#2a3f5f\",\"gridcolor\":\"white\",\"linecolor\":\"white\",\"minorgridcolor\":\"white\",\"startlinecolor\":\"#2a3f5f\"},\"type\":\"carpet\"}],\"choropleth\":[{\"colorbar\":{\"outlinewidth\":0,\"ticks\":\"\"},\"type\":\"choropleth\"}],\"contour\":[{\"colorbar\":{\"outlinewidth\":0,\"ticks\":\"\"},\"colorscale\":[[0.0,\"#0d0887\"],[0.1111111111111111,\"#46039f\"],[0.2222222222222222,\"#7201a8\"],[0.3333333333333333,\"#9c179e\"],[0.4444444444444444,\"#bd3786\"],[0.5555555555555556,\"#d8576b\"],[0.6666666666666666,\"#ed7953\"],[0.7777777777777778,\"#fb9f3a\"],[0.8888888888888888,\"#fdca26\"],[1.0,\"#f0f921\"]],\"type\":\"contour\"}],\"contourcarpet\":[{\"colorbar\":{\"outlinewidth\":0,\"ticks\":\"\"},\"type\":\"contourcarpet\"}],\"heatmap\":[{\"colorbar\":{\"outlinewidth\":0,\"ticks\":\"\"},\"colorscale\":[[0.0,\"#0d0887\"],[0.1111111111111111,\"#46039f\"],[0.2222222222222222,\"#7201a8\"],[0.3333333333333333,\"#9c179e\"],[0.4444444444444444,\"#bd3786\"],[0.5555555555555556,\"#d8576b\"],[0.6666666666666666,\"#ed7953\"],[0.7777777777777778,\"#fb9f3a\"],[0.8888888888888888,\"#fdca26\"],[1.0,\"#f0f921\"]],\"type\":\"heatmap\"}],\"heatmapgl\":[{\"colorbar\":{\"outlinewidth\":0,\"ticks\":\"\"},\"colorscale\":[[0.0,\"#0d0887\"],[0.1111111111111111,\"#46039f\"],[0.2222222222222222,\"#7201a8\"],[0.3333333333333333,\"#9c179e\"],[0.4444444444444444,\"#bd3786\"],[0.5555555555555556,\"#d8576b\"],[0.6666666666666666,\"#ed7953\"],[0.7777777777777778,\"#fb9f3a\"],[0.8888888888888888,\"#fdca26\"],[1.0,\"#f0f921\"]],\"type\":\"heatmapgl\"}],\"histogram\":[{\"marker\":{\"pattern\":{\"fillmode\":\"overlay\",\"size\":10,\"solidity\":0.2}},\"type\":\"histogram\"}],\"histogram2d\":[{\"colorbar\":{\"outlinewidth\":0,\"ticks\":\"\"},\"colorscale\":[[0.0,\"#0d0887\"],[0.1111111111111111,\"#46039f\"],[0.2222222222222222,\"#7201a8\"],[0.3333333333333333,\"#9c179e\"],[0.4444444444444444,\"#bd3786\"],[0.5555555555555556,\"#d8576b\"],[0.6666666666666666,\"#ed7953\"],[0.7777777777777778,\"#fb9f3a\"],[0.8888888888888888,\"#fdca26\"],[1.0,\"#f0f921\"]],\"type\":\"histogram2d\"}],\"histogram2dcontour\":[{\"colorbar\":{\"outlinewidth\":0,\"ticks\":\"\"},\"colorscale\":[[0.0,\"#0d0887\"],[0.1111111111111111,\"#46039f\"],[0.2222222222222222,\"#7201a8\"],[0.3333333333333333,\"#9c179e\"],[0.4444444444444444,\"#bd3786\"],[0.5555555555555556,\"#d8576b\"],[0.6666666666666666,\"#ed7953\"],[0.7777777777777778,\"#fb9f3a\"],[0.8888888888888888,\"#fdca26\"],[1.0,\"#f0f921\"]],\"type\":\"histogram2dcontour\"}],\"mesh3d\":[{\"colorbar\":{\"outlinewidth\":0,\"ticks\":\"\"},\"type\":\"mesh3d\"}],\"parcoords\":[{\"line\":{\"colorbar\":{\"outlinewidth\":0,\"ticks\":\"\"}},\"type\":\"parcoords\"}],\"pie\":[{\"automargin\":true,\"type\":\"pie\"}],\"scatter\":[{\"marker\":{\"colorbar\":{\"outlinewidth\":0,\"ticks\":\"\"}},\"type\":\"scatter\"}],\"scatter3d\":[{\"line\":{\"colorbar\":{\"outlinewidth\":0,\"ticks\":\"\"}},\"marker\":{\"colorbar\":{\"outlinewidth\":0,\"ticks\":\"\"}},\"type\":\"scatter3d\"}],\"scattercarpet\":[{\"marker\":{\"colorbar\":{\"outlinewidth\":0,\"ticks\":\"\"}},\"type\":\"scattercarpet\"}],\"scattergeo\":[{\"marker\":{\"colorbar\":{\"outlinewidth\":0,\"ticks\":\"\"}},\"type\":\"scattergeo\"}],\"scattergl\":[{\"marker\":{\"colorbar\":{\"outlinewidth\":0,\"ticks\":\"\"}},\"type\":\"scattergl\"}],\"scattermapbox\":[{\"marker\":{\"colorbar\":{\"outlinewidth\":0,\"ticks\":\"\"}},\"type\":\"scattermapbox\"}],\"scatterpolar\":[{\"marker\":{\"colorbar\":{\"outlinewidth\":0,\"ticks\":\"\"}},\"type\":\"scatterpolar\"}],\"scatterpolargl\":[{\"marker\":{\"colorbar\":{\"outlinewidth\":0,\"ticks\":\"\"}},\"type\":\"scatterpolargl\"}],\"scatterternary\":[{\"marker\":{\"colorbar\":{\"outlinewidth\":0,\"ticks\":\"\"}},\"type\":\"scatterternary\"}],\"surface\":[{\"colorbar\":{\"outlinewidth\":0,\"ticks\":\"\"},\"colorscale\":[[0.0,\"#0d0887\"],[0.1111111111111111,\"#46039f\"],[0.2222222222222222,\"#7201a8\"],[0.3333333333333333,\"#9c179e\"],[0.4444444444444444,\"#bd3786\"],[0.5555555555555556,\"#d8576b\"],[0.6666666666666666,\"#ed7953\"],[0.7777777777777778,\"#fb9f3a\"],[0.8888888888888888,\"#fdca26\"],[1.0,\"#f0f921\"]],\"type\":\"surface\"}],\"table\":[{\"cells\":{\"fill\":{\"color\":\"#EBF0F8\"},\"line\":{\"color\":\"white\"}},\"header\":{\"fill\":{\"color\":\"#C8D4E3\"},\"line\":{\"color\":\"white\"}},\"type\":\"table\"}]},\"layout\":{\"annotationdefaults\":{\"arrowcolor\":\"#2a3f5f\",\"arrowhead\":0,\"arrowwidth\":1},\"autotypenumbers\":\"strict\",\"coloraxis\":{\"colorbar\":{\"outlinewidth\":0,\"ticks\":\"\"}},\"colorscale\":{\"diverging\":[[0,\"#8e0152\"],[0.1,\"#c51b7d\"],[0.2,\"#de77ae\"],[0.3,\"#f1b6da\"],[0.4,\"#fde0ef\"],[0.5,\"#f7f7f7\"],[0.6,\"#e6f5d0\"],[0.7,\"#b8e186\"],[0.8,\"#7fbc41\"],[0.9,\"#4d9221\"],[1,\"#276419\"]],\"sequential\":[[0.0,\"#0d0887\"],[0.1111111111111111,\"#46039f\"],[0.2222222222222222,\"#7201a8\"],[0.3333333333333333,\"#9c179e\"],[0.4444444444444444,\"#bd3786\"],[0.5555555555555556,\"#d8576b\"],[0.6666666666666666,\"#ed7953\"],[0.7777777777777778,\"#fb9f3a\"],[0.8888888888888888,\"#fdca26\"],[1.0,\"#f0f921\"]],\"sequentialminus\":[[0.0,\"#0d0887\"],[0.1111111111111111,\"#46039f\"],[0.2222222222222222,\"#7201a8\"],[0.3333333333333333,\"#9c179e\"],[0.4444444444444444,\"#bd3786\"],[0.5555555555555556,\"#d8576b\"],[0.6666666666666666,\"#ed7953\"],[0.7777777777777778,\"#fb9f3a\"],[0.8888888888888888,\"#fdca26\"],[1.0,\"#f0f921\"]]},\"colorway\":[\"#636efa\",\"#EF553B\",\"#00cc96\",\"#ab63fa\",\"#FFA15A\",\"#19d3f3\",\"#FF6692\",\"#B6E880\",\"#FF97FF\",\"#FECB52\"],\"font\":{\"color\":\"#2a3f5f\"},\"geo\":{\"bgcolor\":\"white\",\"lakecolor\":\"white\",\"landcolor\":\"#E5ECF6\",\"showlakes\":true,\"showland\":true,\"subunitcolor\":\"white\"},\"hoverlabel\":{\"align\":\"left\"},\"hovermode\":\"closest\",\"mapbox\":{\"style\":\"light\"},\"paper_bgcolor\":\"white\",\"plot_bgcolor\":\"#E5ECF6\",\"polar\":{\"angularaxis\":{\"gridcolor\":\"white\",\"linecolor\":\"white\",\"ticks\":\"\"},\"bgcolor\":\"#E5ECF6\",\"radialaxis\":{\"gridcolor\":\"white\",\"linecolor\":\"white\",\"ticks\":\"\"}},\"scene\":{\"xaxis\":{\"backgroundcolor\":\"#E5ECF6\",\"gridcolor\":\"white\",\"gridwidth\":2,\"linecolor\":\"white\",\"showbackground\":true,\"ticks\":\"\",\"zerolinecolor\":\"white\"},\"yaxis\":{\"backgroundcolor\":\"#E5ECF6\",\"gridcolor\":\"white\",\"gridwidth\":2,\"linecolor\":\"white\",\"showbackground\":true,\"ticks\":\"\",\"zerolinecolor\":\"white\"},\"zaxis\":{\"backgroundcolor\":\"#E5ECF6\",\"gridcolor\":\"white\",\"gridwidth\":2,\"linecolor\":\"white\",\"showbackground\":true,\"ticks\":\"\",\"zerolinecolor\":\"white\"}},\"shapedefaults\":{\"line\":{\"color\":\"#2a3f5f\"}},\"ternary\":{\"aaxis\":{\"gridcolor\":\"white\",\"linecolor\":\"white\",\"ticks\":\"\"},\"baxis\":{\"gridcolor\":\"white\",\"linecolor\":\"white\",\"ticks\":\"\"},\"bgcolor\":\"#E5ECF6\",\"caxis\":{\"gridcolor\":\"white\",\"linecolor\":\"white\",\"ticks\":\"\"}},\"title\":{\"x\":0.05},\"xaxis\":{\"automargin\":true,\"gridcolor\":\"white\",\"linecolor\":\"white\",\"ticks\":\"\",\"title\":{\"standoff\":15},\"zerolinecolor\":\"white\",\"zerolinewidth\":2},\"yaxis\":{\"automargin\":true,\"gridcolor\":\"white\",\"linecolor\":\"white\",\"ticks\":\"\",\"title\":{\"standoff\":15},\"zerolinecolor\":\"white\",\"zerolinewidth\":2}}},\"title\":{\"text\":\"Plotting whole closing stock price with prediction\"},\"xaxis\":{\"anchor\":\"y\",\"domain\":[0.0,1.0],\"showgrid\":false,\"title\":{\"text\":\"Timestamp\"}},\"yaxis\":{\"anchor\":\"x\",\"domain\":[0.0,1.0],\"showgrid\":false,\"title\":{\"text\":\"Stock price\"}}},                        {\"responsive\": true}                    ).then(function(){\n",
              "                            \n",
              "var gd = document.getElementById('e4e6a924-f198-4040-8508-df24cad12556');\n",
              "var x = new MutationObserver(function (mutations, observer) {{\n",
              "        var display = window.getComputedStyle(gd).display;\n",
              "        if (!display || display === 'none') {{\n",
              "            console.log([gd, 'removed!']);\n",
              "            Plotly.purge(gd);\n",
              "            observer.disconnect();\n",
              "        }}\n",
              "}});\n",
              "\n",
              "// Listen for the removal of the full notebook cells\n",
              "var notebookContainer = gd.closest('#notebook-container');\n",
              "if (notebookContainer) {{\n",
              "    x.observe(notebookContainer, {childList: true});\n",
              "}}\n",
              "\n",
              "// Listen for the clearing of the current output cell\n",
              "var outputEl = gd.closest('.output');\n",
              "if (outputEl) {{\n",
              "    x.observe(outputEl, {childList: true});\n",
              "}}\n",
              "\n",
              "                        })                };                            </script>        </div>\n",
              "</body>\n",
              "</html>"
            ]
          },
          "metadata": {}
        }
      ]
    }
  ]
}